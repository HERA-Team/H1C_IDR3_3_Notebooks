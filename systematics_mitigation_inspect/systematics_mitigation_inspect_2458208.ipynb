{
 "cells": [
  {
   "cell_type": "markdown",
   "id": "63495cff",
   "metadata": {},
   "source": [
    "# H1C Systematics Mitigation (Reflections & Cross-Talk) Nightly Notebook\n",
    "\n",
    "**Josh Dillon**, Last Revised 4/27/22"
   ]
  },
  {
   "cell_type": "code",
   "execution_count": 1,
   "id": "4c36ee8b",
   "metadata": {
    "ExecuteTime": {
     "end_time": "2022-04-28T00:14:47.968264Z",
     "start_time": "2022-04-28T00:14:45.444669Z"
    },
    "execution": {
     "iopub.execute_input": "2022-04-29T09:01:33.797443Z",
     "iopub.status.busy": "2022-04-29T09:01:33.796537Z",
     "iopub.status.idle": "2022-04-29T09:02:04.874323Z",
     "shell.execute_reply": "2022-04-29T09:02:04.875357Z"
    }
   },
   "outputs": [
    {
     "data": {
      "text/html": [
       "<style>.container { width:100% !important; }</style>"
      ],
      "text/plain": [
       "<IPython.core.display.HTML object>"
      ]
     },
     "metadata": {},
     "output_type": "display_data"
    }
   ],
   "source": [
    "import numpy as np\n",
    "import matplotlib.pyplot as plt\n",
    "import matplotlib\n",
    "from hera_cal import io, redcal, apply_cal, abscal, utils, datacontainer\n",
    "from hera_cal.smooth_cal import build_time_blacklist\n",
    "from hera_qm.metrics_io import load_metric_file\n",
    "from hera_cal.frf import FRFilter\n",
    "import pyuvdata\n",
    "import glob\n",
    "import os\n",
    "from copy import deepcopy\n",
    "import inspect\n",
    "import h5py\n",
    "import matplotlib.cm as cm\n",
    "from IPython.display import display, HTML\n",
    "import contextlib\n",
    "\n",
    "%matplotlib inline\n",
    "%config InlineBackend.figure_format = 'retina'\n",
    "display(HTML(\"<style>.container { width:100% !important; }</style>\"))"
   ]
  },
  {
   "cell_type": "code",
   "execution_count": 2,
   "id": "613628bb",
   "metadata": {
    "ExecuteTime": {
     "end_time": "2022-04-28T00:14:47.973291Z",
     "start_time": "2022-04-28T00:14:47.970499Z"
    },
    "execution": {
     "iopub.execute_input": "2022-04-29T09:02:04.881896Z",
     "iopub.status.busy": "2022-04-29T09:02:04.880560Z",
     "iopub.status.idle": "2022-04-29T09:02:04.885398Z",
     "shell.execute_reply": "2022-04-29T09:02:04.886265Z"
    }
   },
   "outputs": [],
   "source": [
    "# If you want to run this notebook locally, copy the output of the next cell into the first few lines of this cell.\n",
    "# JD = '2458187'\n",
    "# data_path = '/lustre/aoc/projects/hera/H1C_IDR3/IDR3_3/2458187'\n",
    "# os.environ[\"JULIANDATE\"] = JD\n",
    "# os.environ[\"DATA_PATH\"] = data_path"
   ]
  },
  {
   "cell_type": "code",
   "execution_count": 3,
   "id": "d7f706b0",
   "metadata": {
    "ExecuteTime": {
     "end_time": "2022-04-28T00:14:47.982901Z",
     "start_time": "2022-04-28T00:14:47.974866Z"
    },
    "execution": {
     "iopub.execute_input": "2022-04-29T09:02:04.890336Z",
     "iopub.status.busy": "2022-04-29T09:02:04.889115Z",
     "iopub.status.idle": "2022-04-29T09:02:04.896683Z",
     "shell.execute_reply": "2022-04-29T09:02:04.897493Z"
    }
   },
   "outputs": [
    {
     "name": "stdout",
     "output_type": "stream",
     "text": [
      "JD = \"2458208\"\n",
      "data_path = \"/lustre/aoc/projects/hera/H1C_IDR3/IDR3_3/2458208\"\n"
     ]
    }
   ],
   "source": [
    "# Use environment variables to figure out path to data\n",
    "JD = os.environ['JULIANDATE']\n",
    "data_path = os.environ['DATA_PATH']\n",
    "print(f'JD = \"{JD}\"')\n",
    "print(f'data_path = \"{data_path}\"')"
   ]
  },
  {
   "cell_type": "code",
   "execution_count": 4,
   "id": "cdeff34a",
   "metadata": {
    "ExecuteTime": {
     "end_time": "2022-04-28T00:14:48.019072Z",
     "start_time": "2022-04-28T00:14:47.984818Z"
    },
    "execution": {
     "iopub.execute_input": "2022-04-29T09:02:04.901417Z",
     "iopub.status.busy": "2022-04-29T09:02:04.900228Z",
     "iopub.status.idle": "2022-04-29T09:02:04.937080Z",
     "shell.execute_reply": "2022-04-29T09:02:04.937793Z"
    }
   },
   "outputs": [
    {
     "name": "stdout",
     "output_type": "stream",
     "text": [
      "Looking for data in /lustre/aoc/projects/hera/H1C_IDR3/IDR3_3/2458208 on 2458208...\n",
      "...found 0 smoothed calibration files.\n",
      "...found 0 total thresholding and apriori flags files.\n",
      "...found 0 time-averaged reflection calibration files.\n",
      "...found 0 CLEAN-inpainted autocorrelation files.\n",
      "...found 0 smooth-calibrated and reflection-calibrated data files.\n",
      "...found 0 DPSS inpainted files.\n",
      "...found 0 DPSS delay-filtered files.\n",
      "...found 0 DPSS delay-filtered, DPSS cross-talk-filtered files.\n"
     ]
    }
   ],
   "source": [
    "print(f'Looking for data in {data_path} on {JD}...')\n",
    "\n",
    "smooth_cal_files = sorted(glob.glob(os.path.join(data_path, f'*.smooth_abs.calfits')))\n",
    "print(f'...found {len(smooth_cal_files)} smoothed calibration files.')\n",
    "\n",
    "total_flags_files = sorted(glob.glob(os.path.join(data_path, '*.total_threshold_and_a_priori_flags.h5')))\n",
    "print(f'...found {len(total_flags_files)} total thresholding and apriori flags files.')\n",
    "\n",
    "ref_cal_files = sorted(glob.glob(os.path.join(data_path, '*.time_avg_ref_cal.calfits')))\n",
    "print(f'...found {len(ref_cal_files)} time-averaged reflection calibration files.')\n",
    "\n",
    "inpainted_autos_files = sorted(glob.glob(os.path.join(data_path, '*.autos.inpainted.uvh5')))\n",
    "print(f'...found {len(inpainted_autos_files)} CLEAN-inpainted autocorrelation files.')\n",
    "\n",
    "final_cal_files = sorted(glob.glob(os.path.join(data_path, '*.final_calibrated.uvh5')))\n",
    "print(f'...found {len(final_cal_files)} smooth-calibrated and reflection-calibrated data files.')\n",
    "\n",
    "dpss_filled_files = sorted(glob.glob(os.path.join(data_path, '*.dpss_filled.uvh5')))\n",
    "print(f'...found {len(dpss_filled_files)} DPSS inpainted files.')\n",
    "\n",
    "dpss_res_files = sorted(glob.glob(os.path.join(data_path, '*.dpss_res.uvh5')))\n",
    "print(f'...found {len(dpss_res_files)} DPSS delay-filtered files.')\n",
    "\n",
    "dpss_res_xtalk_filt_files = sorted(glob.glob(os.path.join(data_path, '*.dpss_res.xtalk_filt.uvh5')))\n",
    "print(f'...found {len(dpss_res_xtalk_filt_files)} DPSS delay-filtered, DPSS cross-talk-filtered files.')"
   ]
  },
  {
   "cell_type": "code",
   "execution_count": 5,
   "id": "7afa33b5",
   "metadata": {
    "ExecuteTime": {
     "end_time": "2022-04-28T00:14:49.066302Z",
     "start_time": "2022-04-28T00:14:48.020621Z"
    },
    "execution": {
     "iopub.execute_input": "2022-04-29T09:02:04.941131Z",
     "iopub.status.busy": "2022-04-29T09:02:04.940129Z",
     "iopub.status.idle": "2022-04-29T09:02:04.999958Z",
     "shell.execute_reply": "2022-04-29T09:02:05.000655Z"
    }
   },
   "outputs": [
    {
     "ename": "IndexError",
     "evalue": "list index out of range",
     "output_type": "error",
     "traceback": [
      "\u001b[0;31m---------------------------------------------------------------------------\u001b[0m",
      "\u001b[0;31mIndexError\u001b[0m                                Traceback (most recent call last)",
      "\u001b[0;32m/tmp/ipykernel_111934/3571252560.py\u001b[0m in \u001b[0;36m<module>\u001b[0;34m\u001b[0m\n\u001b[1;32m      1\u001b[0m \u001b[0;31m# Load information about antenna positions and antenna flags\u001b[0m\u001b[0;34m\u001b[0m\u001b[0;34m\u001b[0m\u001b[0m\n\u001b[0;32m----> 2\u001b[0;31m \u001b[0mhc\u001b[0m \u001b[0;34m=\u001b[0m \u001b[0mio\u001b[0m\u001b[0;34m.\u001b[0m\u001b[0mHERACal\u001b[0m\u001b[0;34m(\u001b[0m\u001b[0msmooth_cal_files\u001b[0m\u001b[0;34m[\u001b[0m\u001b[0mlen\u001b[0m\u001b[0;34m(\u001b[0m\u001b[0msmooth_cal_files\u001b[0m\u001b[0;34m)\u001b[0m \u001b[0;34m//\u001b[0m \u001b[0;36m2\u001b[0m\u001b[0;34m]\u001b[0m\u001b[0;34m)\u001b[0m\u001b[0;34m\u001b[0m\u001b[0;34m\u001b[0m\u001b[0m\n\u001b[0m\u001b[1;32m      3\u001b[0m \u001b[0m_\u001b[0m\u001b[0;34m,\u001b[0m \u001b[0msc_flags\u001b[0m\u001b[0;34m,\u001b[0m \u001b[0m_\u001b[0m\u001b[0;34m,\u001b[0m \u001b[0m_\u001b[0m \u001b[0;34m=\u001b[0m \u001b[0mhc\u001b[0m\u001b[0;34m.\u001b[0m\u001b[0mread\u001b[0m\u001b[0;34m(\u001b[0m\u001b[0;34m)\u001b[0m\u001b[0;34m\u001b[0m\u001b[0;34m\u001b[0m\u001b[0m\n\u001b[1;32m      4\u001b[0m \u001b[0mex_ants\u001b[0m \u001b[0;34m=\u001b[0m \u001b[0mset\u001b[0m\u001b[0;34m(\u001b[0m\u001b[0;34m[\u001b[0m\u001b[0mant\u001b[0m\u001b[0;34m[\u001b[0m\u001b[0;36m0\u001b[0m\u001b[0;34m]\u001b[0m \u001b[0;32mfor\u001b[0m \u001b[0mant\u001b[0m \u001b[0;32min\u001b[0m \u001b[0msc_flags\u001b[0m \u001b[0;32mif\u001b[0m \u001b[0mnp\u001b[0m\u001b[0;34m.\u001b[0m\u001b[0mall\u001b[0m\u001b[0;34m(\u001b[0m\u001b[0msc_flags\u001b[0m\u001b[0;34m[\u001b[0m\u001b[0mant\u001b[0m\u001b[0;34m]\u001b[0m\u001b[0;34m)\u001b[0m\u001b[0;34m]\u001b[0m\u001b[0;34m)\u001b[0m\u001b[0;34m\u001b[0m\u001b[0;34m\u001b[0m\u001b[0m\n\u001b[1;32m      5\u001b[0m \u001b[0mhd\u001b[0m \u001b[0;34m=\u001b[0m \u001b[0mio\u001b[0m\u001b[0;34m.\u001b[0m\u001b[0mHERAData\u001b[0m\u001b[0;34m(\u001b[0m\u001b[0mfinal_cal_files\u001b[0m\u001b[0;34m[\u001b[0m\u001b[0mlen\u001b[0m\u001b[0;34m(\u001b[0m\u001b[0mfinal_cal_files\u001b[0m\u001b[0;34m)\u001b[0m \u001b[0;34m//\u001b[0m \u001b[0;36m2\u001b[0m\u001b[0;34m]\u001b[0m\u001b[0;34m)\u001b[0m\u001b[0;34m\u001b[0m\u001b[0;34m\u001b[0m\u001b[0m\n",
      "\u001b[0;31mIndexError\u001b[0m: list index out of range"
     ]
    }
   ],
   "source": [
    "# Load information about antenna positions and antenna flags\n",
    "hc = io.HERACal(smooth_cal_files[len(smooth_cal_files) // 2])\n",
    "_, sc_flags, _, _ = hc.read()\n",
    "ex_ants = set([ant[0] for ant in sc_flags if np.all(sc_flags[ant])])\n",
    "hd = io.HERAData(final_cal_files[len(final_cal_files) // 2])"
   ]
  },
  {
   "cell_type": "code",
   "execution_count": 6,
   "id": "05ee9d19",
   "metadata": {
    "ExecuteTime": {
     "end_time": "2022-04-28T00:14:49.081438Z",
     "start_time": "2022-04-28T00:14:49.069062Z"
    },
    "execution": {
     "iopub.execute_input": "2022-04-29T09:02:05.003672Z",
     "iopub.status.busy": "2022-04-29T09:02:05.002783Z",
     "iopub.status.idle": "2022-04-29T09:02:05.015122Z",
     "shell.execute_reply": "2022-04-29T09:02:05.015722Z"
    }
   },
   "outputs": [
    {
     "ename": "NameError",
     "evalue": "name 'hd' is not defined",
     "output_type": "error",
     "traceback": [
      "\u001b[0;31m---------------------------------------------------------------------------\u001b[0m",
      "\u001b[0;31mNameError\u001b[0m                                 Traceback (most recent call last)",
      "\u001b[0;32m/tmp/ipykernel_111934/1920335869.py\u001b[0m in \u001b[0;36m<module>\u001b[0;34m\u001b[0m\n\u001b[1;32m      1\u001b[0m \u001b[0;31m# Pick group of 4 antennas in a row as close as possible to the emitter\u001b[0m\u001b[0;34m\u001b[0m\u001b[0;34m\u001b[0m\u001b[0m\n\u001b[1;32m      2\u001b[0m \u001b[0mcandidates\u001b[0m \u001b[0;34m=\u001b[0m \u001b[0;34m[\u001b[0m\u001b[0;34m]\u001b[0m\u001b[0;34m\u001b[0m\u001b[0;34m\u001b[0m\u001b[0m\n\u001b[0;32m----> 3\u001b[0;31m \u001b[0;32mfor\u001b[0m \u001b[0mi\u001b[0m\u001b[0;34m,\u001b[0m \u001b[0mant\u001b[0m \u001b[0;32min\u001b[0m \u001b[0menumerate\u001b[0m\u001b[0;34m(\u001b[0m\u001b[0mhd\u001b[0m\u001b[0;34m.\u001b[0m\u001b[0mdata_ants\u001b[0m\u001b[0;34m)\u001b[0m\u001b[0;34m:\u001b[0m\u001b[0;34m\u001b[0m\u001b[0;34m\u001b[0m\u001b[0m\n\u001b[0m\u001b[1;32m      4\u001b[0m     \u001b[0;32mif\u001b[0m \u001b[0mnp\u001b[0m\u001b[0;34m.\u001b[0m\u001b[0mall\u001b[0m\u001b[0;34m(\u001b[0m\u001b[0;34m[\u001b[0m\u001b[0;34m(\u001b[0m\u001b[0;34m(\u001b[0m\u001b[0mant\u001b[0m \u001b[0;34m+\u001b[0m \u001b[0mn\u001b[0m\u001b[0;34m)\u001b[0m \u001b[0;32min\u001b[0m \u001b[0mhd\u001b[0m\u001b[0;34m.\u001b[0m\u001b[0mdata_ants\u001b[0m\u001b[0;34m)\u001b[0m \u001b[0;32mand\u001b[0m \u001b[0;34m(\u001b[0m\u001b[0;34m(\u001b[0m\u001b[0mant\u001b[0m \u001b[0;34m+\u001b[0m \u001b[0mn\u001b[0m\u001b[0;34m)\u001b[0m \u001b[0;32mnot\u001b[0m \u001b[0;32min\u001b[0m \u001b[0mex_ants\u001b[0m\u001b[0;34m)\u001b[0m \u001b[0;32mfor\u001b[0m \u001b[0mn\u001b[0m \u001b[0;32min\u001b[0m \u001b[0mrange\u001b[0m\u001b[0;34m(\u001b[0m\u001b[0;36m4\u001b[0m\u001b[0;34m)\u001b[0m\u001b[0;34m]\u001b[0m\u001b[0;34m)\u001b[0m\u001b[0;34m:\u001b[0m\u001b[0;34m\u001b[0m\u001b[0;34m\u001b[0m\u001b[0m\n\u001b[1;32m      5\u001b[0m         \u001b[0my_positions\u001b[0m \u001b[0;34m=\u001b[0m \u001b[0;34m[\u001b[0m\u001b[0mhd\u001b[0m\u001b[0;34m.\u001b[0m\u001b[0mantpos\u001b[0m\u001b[0;34m[\u001b[0m\u001b[0mant\u001b[0m \u001b[0;34m+\u001b[0m \u001b[0mn\u001b[0m\u001b[0;34m]\u001b[0m\u001b[0;34m[\u001b[0m\u001b[0;36m1\u001b[0m\u001b[0;34m]\u001b[0m \u001b[0;32mfor\u001b[0m \u001b[0mn\u001b[0m \u001b[0;32min\u001b[0m \u001b[0mrange\u001b[0m\u001b[0;34m(\u001b[0m\u001b[0;36m4\u001b[0m\u001b[0;34m)\u001b[0m\u001b[0;34m]\u001b[0m\u001b[0;34m\u001b[0m\u001b[0;34m\u001b[0m\u001b[0m\n",
      "\u001b[0;31mNameError\u001b[0m: name 'hd' is not defined"
     ]
    }
   ],
   "source": [
    "# Pick group of 4 antennas in a row as close as possible to the emitter\n",
    "candidates = []\n",
    "for i, ant in enumerate(hd.data_ants):\n",
    "    if np.all([((ant + n) in hd.data_ants) and ((ant + n) not in ex_ants) for n in range(4)]):\n",
    "        y_positions = [hd.antpos[ant + n][1] for n in range(4)]\n",
    "        if np.max(y_positions) - np.min(y_positions) < 5:\n",
    "            candidates.append(ant)\n",
    "westernmost_ant = sorted(candidates, key=lambda ant: np.linalg.norm(hd.antpos[ant] - np.array([-180, -10, 0])))[0]\n",
    "ants_to_load = [westernmost_ant + n for n in range(4)]"
   ]
  },
  {
   "cell_type": "code",
   "execution_count": 7,
   "id": "36e7e79d",
   "metadata": {
    "ExecuteTime": {
     "end_time": "2022-04-28T00:14:50.730401Z",
     "start_time": "2022-04-28T00:14:49.083594Z"
    },
    "execution": {
     "iopub.execute_input": "2022-04-29T09:02:05.018501Z",
     "iopub.status.busy": "2022-04-29T09:02:05.017669Z",
     "iopub.status.idle": "2022-04-29T09:02:05.062910Z",
     "shell.execute_reply": "2022-04-29T09:02:05.063504Z"
    }
   },
   "outputs": [
    {
     "ename": "NameError",
     "evalue": "name 'hd' is not defined",
     "output_type": "error",
     "traceback": [
      "\u001b[0;31m---------------------------------------------------------------------------\u001b[0m",
      "\u001b[0;31mNameError\u001b[0m                                 Traceback (most recent call last)",
      "\u001b[0;32m/tmp/ipykernel_111934/81896878.py\u001b[0m in \u001b[0;36m<module>\u001b[0;34m\u001b[0m\n\u001b[1;32m      1\u001b[0m \u001b[0mplt\u001b[0m\u001b[0;34m.\u001b[0m\u001b[0mfigure\u001b[0m\u001b[0;34m(\u001b[0m\u001b[0mfigsize\u001b[0m\u001b[0;34m=\u001b[0m\u001b[0;34m(\u001b[0m\u001b[0;36m10\u001b[0m\u001b[0;34m,\u001b[0m\u001b[0;36m8\u001b[0m\u001b[0;34m)\u001b[0m\u001b[0;34m)\u001b[0m\u001b[0;34m\u001b[0m\u001b[0;34m\u001b[0m\u001b[0m\n\u001b[0;32m----> 2\u001b[0;31m \u001b[0mxpos\u001b[0m \u001b[0;34m=\u001b[0m \u001b[0mnp\u001b[0m\u001b[0;34m.\u001b[0m\u001b[0marray\u001b[0m\u001b[0;34m(\u001b[0m\u001b[0;34m[\u001b[0m\u001b[0mhd\u001b[0m\u001b[0;34m.\u001b[0m\u001b[0mantpos\u001b[0m\u001b[0;34m[\u001b[0m\u001b[0mant\u001b[0m\u001b[0;34m]\u001b[0m\u001b[0;34m[\u001b[0m\u001b[0;36m0\u001b[0m\u001b[0;34m]\u001b[0m \u001b[0;32mfor\u001b[0m \u001b[0mant\u001b[0m \u001b[0;32min\u001b[0m \u001b[0mhd\u001b[0m\u001b[0;34m.\u001b[0m\u001b[0mdata_ants\u001b[0m\u001b[0;34m]\u001b[0m\u001b[0;34m)\u001b[0m\u001b[0;34m\u001b[0m\u001b[0;34m\u001b[0m\u001b[0m\n\u001b[0m\u001b[1;32m      3\u001b[0m \u001b[0mypos\u001b[0m \u001b[0;34m=\u001b[0m \u001b[0mnp\u001b[0m\u001b[0;34m.\u001b[0m\u001b[0marray\u001b[0m\u001b[0;34m(\u001b[0m\u001b[0;34m[\u001b[0m\u001b[0mhd\u001b[0m\u001b[0;34m.\u001b[0m\u001b[0mantpos\u001b[0m\u001b[0;34m[\u001b[0m\u001b[0mant\u001b[0m\u001b[0;34m]\u001b[0m\u001b[0;34m[\u001b[0m\u001b[0;36m1\u001b[0m\u001b[0;34m]\u001b[0m \u001b[0;32mfor\u001b[0m \u001b[0mant\u001b[0m \u001b[0;32min\u001b[0m \u001b[0mhd\u001b[0m\u001b[0;34m.\u001b[0m\u001b[0mdata_ants\u001b[0m\u001b[0;34m]\u001b[0m\u001b[0;34m)\u001b[0m\u001b[0;34m\u001b[0m\u001b[0;34m\u001b[0m\u001b[0m\n\u001b[1;32m      4\u001b[0m \u001b[0mplt\u001b[0m\u001b[0;34m.\u001b[0m\u001b[0mscatter\u001b[0m\u001b[0;34m(\u001b[0m\u001b[0mxpos\u001b[0m\u001b[0;34m,\u001b[0m \u001b[0mypos\u001b[0m\u001b[0;34m,\u001b[0m \u001b[0mc\u001b[0m\u001b[0;34m=\u001b[0m\u001b[0;34m'w'\u001b[0m\u001b[0;34m,\u001b[0m \u001b[0ms\u001b[0m\u001b[0;34m=\u001b[0m\u001b[0;36m0\u001b[0m\u001b[0;34m)\u001b[0m\u001b[0;34m\u001b[0m\u001b[0;34m\u001b[0m\u001b[0m\n\u001b[1;32m      5\u001b[0m \u001b[0;32mfor\u001b[0m \u001b[0mant\u001b[0m \u001b[0;32min\u001b[0m \u001b[0mhd\u001b[0m\u001b[0;34m.\u001b[0m\u001b[0mdata_ants\u001b[0m\u001b[0;34m:\u001b[0m\u001b[0;34m\u001b[0m\u001b[0;34m\u001b[0m\u001b[0m\n",
      "\u001b[0;31mNameError\u001b[0m: name 'hd' is not defined"
     ]
    },
    {
     "data": {
      "text/plain": [
       "<Figure size 720x576 with 0 Axes>"
      ]
     },
     "metadata": {},
     "output_type": "display_data"
    }
   ],
   "source": [
    "plt.figure(figsize=(10,8))\n",
    "xpos = np.array([hd.antpos[ant][0] for ant in hd.data_ants])\n",
    "ypos = np.array([hd.antpos[ant][1] for ant in hd.data_ants])\n",
    "plt.scatter(xpos, ypos, c='w', s=0)\n",
    "for ant in hd.data_ants:\n",
    "    pos = hd.antpos[ant]\n",
    "    bad = ant in [ant[0] for ant in ex_ants]\n",
    "    plt.gca().add_artist(plt.Circle(tuple(pos[0:2]), radius=7, \n",
    "                                    fill=(~bad), color=['grey','r'][bad]))\n",
    "    if ant in ants_to_load:\n",
    "        plt.gca().add_artist(plt.Circle(tuple(hd.antpos[ant][0:2]), radius=7, fill=True, lw=0, color='b'))\n",
    "        plt.gca().add_artist(plt.Circle(tuple(hd.antpos[ant][0:2]), radius=6, fill=True, color='grey'))        \n",
    "    plt.text(pos[0],pos[1],str(ant), va='center', ha='center', color='w', size=14)        \n",
    "        \n",
    "legend_objs = []\n",
    "legend_labels = []\n",
    "legend_objs.append(matplotlib.lines.Line2D([0], [0], marker='o', color='w', markeredgecolor='grey', markerfacecolor='grey', markersize=13))\n",
    "legend_labels.append(f'{len(hd.data_ants) - len(ex_ants)} Unflagged Antennas')\n",
    "legend_objs.append(matplotlib.lines.Line2D([0], [0], marker='o', color='w', markeredgecolor='r', markerfacecolor='r', markersize=13))\n",
    "legend_labels.append(f'{len(ex_ants)} Flagged Antennas')\n",
    "legend_objs.append(matplotlib.lines.Line2D([0], [0], marker='o', color='w', markeredgewidth=2, markeredgecolor='b', markersize=15))\n",
    "legend_labels.append('Antennas Inspected\\nIn This Notebook')\n",
    "plt.legend(legend_objs, legend_labels, ncol=1, fontsize='large', framealpha=1)\n",
    "\n",
    "\n",
    "plt.xlabel(\"Antenna East-West Position (meters)\", size=14)\n",
    "plt.ylabel(\"Antenna North-South Position (meters)\", size=14)\n",
    "plt.axis('equal')\n",
    "plt.ylim([np.min(ypos)-10, np.max(ypos)+10])\n",
    "plt.tight_layout()\n",
    "plt.show()"
   ]
  },
  {
   "cell_type": "markdown",
   "id": "91923a21",
   "metadata": {},
   "source": [
    "### Figure 1: Array and Flagged Antennas\n",
    "This figure also shows which antennas are examined in the rest of this notebook. They were chosen to be 4 neighboring, unflagged antennas in a line, as close as possible to the receiverators (the likely cross-talk emitter).\n"
   ]
  },
  {
   "cell_type": "code",
   "execution_count": 8,
   "id": "93703975",
   "metadata": {
    "ExecuteTime": {
     "end_time": "2022-04-28T00:14:50.842623Z",
     "start_time": "2022-04-28T00:14:50.731902Z"
    },
    "execution": {
     "iopub.execute_input": "2022-04-29T09:02:05.066206Z",
     "iopub.status.busy": "2022-04-29T09:02:05.065433Z",
     "iopub.status.idle": "2022-04-29T09:02:05.076458Z",
     "shell.execute_reply": "2022-04-29T09:02:05.077012Z"
    }
   },
   "outputs": [
    {
     "ename": "IndexError",
     "evalue": "list index out of range",
     "output_type": "error",
     "traceback": [
      "\u001b[0;31m---------------------------------------------------------------------------\u001b[0m",
      "\u001b[0;31mIndexError\u001b[0m                                Traceback (most recent call last)",
      "\u001b[0;32m/tmp/ipykernel_111934/2855030021.py\u001b[0m in \u001b[0;36m<module>\u001b[0;34m\u001b[0m\n\u001b[1;32m      1\u001b[0m \u001b[0;31m# Figure out baselines to load\u001b[0m\u001b[0;34m\u001b[0m\u001b[0;34m\u001b[0m\u001b[0m\n\u001b[0;32m----> 2\u001b[0;31m \u001b[0mhd_final_cal\u001b[0m \u001b[0;34m=\u001b[0m \u001b[0mio\u001b[0m\u001b[0;34m.\u001b[0m\u001b[0mHERAData\u001b[0m\u001b[0;34m(\u001b[0m\u001b[0mfinal_cal_files\u001b[0m\u001b[0;34m[\u001b[0m\u001b[0mlen\u001b[0m\u001b[0;34m(\u001b[0m\u001b[0mfinal_cal_files\u001b[0m\u001b[0;34m)\u001b[0m \u001b[0;34m//\u001b[0m \u001b[0;36m2\u001b[0m\u001b[0;34m]\u001b[0m\u001b[0;34m)\u001b[0m\u001b[0;34m\u001b[0m\u001b[0;34m\u001b[0m\u001b[0m\n\u001b[0m\u001b[1;32m      3\u001b[0m \u001b[0mbls\u001b[0m \u001b[0;34m=\u001b[0m \u001b[0mhd_final_cal\u001b[0m\u001b[0;34m.\u001b[0m\u001b[0mbls\u001b[0m\u001b[0;34m\u001b[0m\u001b[0;34m\u001b[0m\u001b[0m\n\u001b[1;32m      4\u001b[0m \u001b[0mbls_to_load\u001b[0m \u001b[0;34m=\u001b[0m \u001b[0;34m[\u001b[0m\u001b[0mbl\u001b[0m \u001b[0;32mfor\u001b[0m \u001b[0mbl\u001b[0m \u001b[0;32min\u001b[0m \u001b[0mbls\u001b[0m \u001b[0;32mif\u001b[0m \u001b[0mbl\u001b[0m\u001b[0;34m[\u001b[0m\u001b[0;36m0\u001b[0m\u001b[0;34m]\u001b[0m \u001b[0;32min\u001b[0m \u001b[0mants_to_load\u001b[0m \u001b[0;32mand\u001b[0m \u001b[0mbl\u001b[0m\u001b[0;34m[\u001b[0m\u001b[0;36m1\u001b[0m\u001b[0;34m]\u001b[0m \u001b[0;32min\u001b[0m \u001b[0mants_to_load\u001b[0m \u001b[0;32mand\u001b[0m \u001b[0mbl\u001b[0m\u001b[0;34m[\u001b[0m\u001b[0;36m2\u001b[0m\u001b[0;34m]\u001b[0m \u001b[0;32min\u001b[0m \u001b[0;34m[\u001b[0m\u001b[0;34m'ee'\u001b[0m\u001b[0;34m,\u001b[0m \u001b[0;34m'nn'\u001b[0m\u001b[0;34m]\u001b[0m\u001b[0;34m]\u001b[0m\u001b[0;34m\u001b[0m\u001b[0;34m\u001b[0m\u001b[0m\n\u001b[1;32m      5\u001b[0m \u001b[0mauto_bls\u001b[0m \u001b[0;34m=\u001b[0m \u001b[0;34m[\u001b[0m\u001b[0mbl\u001b[0m \u001b[0;32mfor\u001b[0m \u001b[0mbl\u001b[0m \u001b[0;32min\u001b[0m \u001b[0mbls_to_load\u001b[0m \u001b[0;32mif\u001b[0m \u001b[0mutils\u001b[0m\u001b[0;34m.\u001b[0m\u001b[0msplit_bl\u001b[0m\u001b[0;34m(\u001b[0m\u001b[0mbl\u001b[0m\u001b[0;34m)\u001b[0m\u001b[0;34m[\u001b[0m\u001b[0;36m0\u001b[0m\u001b[0;34m]\u001b[0m \u001b[0;34m==\u001b[0m \u001b[0mutils\u001b[0m\u001b[0;34m.\u001b[0m\u001b[0msplit_bl\u001b[0m\u001b[0;34m(\u001b[0m\u001b[0mbl\u001b[0m\u001b[0;34m)\u001b[0m\u001b[0;34m[\u001b[0m\u001b[0;36m1\u001b[0m\u001b[0;34m]\u001b[0m\u001b[0;34m]\u001b[0m\u001b[0;34m\u001b[0m\u001b[0;34m\u001b[0m\u001b[0m\n",
      "\u001b[0;31mIndexError\u001b[0m: list index out of range"
     ]
    }
   ],
   "source": [
    "# Figure out baselines to load\n",
    "hd_final_cal = io.HERAData(final_cal_files[len(final_cal_files) // 2])\n",
    "bls = hd_final_cal.bls\n",
    "bls_to_load = [bl for bl in bls if bl[0] in ants_to_load and bl[1] in ants_to_load and bl[2] in ['ee', 'nn']]\n",
    "auto_bls = [bl for bl in bls_to_load if utils.split_bl(bl)[0] == utils.split_bl(bl)[1]]\n",
    "example_bl = sorted(bls_to_load, key=lambda bl: np.linalg.norm(hd_final_cal.antpos[bl[0]] - hd_final_cal.antpos[bl[1]]))[-1]  #i.e. the longest baseline"
   ]
  },
  {
   "cell_type": "code",
   "execution_count": 9,
   "id": "63a4c711",
   "metadata": {
    "ExecuteTime": {
     "end_time": "2022-04-28T00:14:51.019458Z",
     "start_time": "2022-04-28T00:14:50.843822Z"
    },
    "execution": {
     "iopub.execute_input": "2022-04-29T09:02:05.079562Z",
     "iopub.status.busy": "2022-04-29T09:02:05.078814Z",
     "iopub.status.idle": "2022-04-29T09:02:05.112825Z",
     "shell.execute_reply": "2022-04-29T09:02:05.113368Z"
    }
   },
   "outputs": [
    {
     "ename": "IndexError",
     "evalue": "list index out of range",
     "output_type": "error",
     "traceback": [
      "\u001b[0;31m---------------------------------------------------------------------------\u001b[0m",
      "\u001b[0;31mIndexError\u001b[0m                                Traceback (most recent call last)",
      "\u001b[0;32m/tmp/ipykernel_111934/1351640183.py\u001b[0m in \u001b[0;36m<module>\u001b[0;34m\u001b[0m\n\u001b[1;32m      1\u001b[0m \u001b[0;31m# Figure out how many channels/integrations are completely flagged on both ends\u001b[0m\u001b[0;34m\u001b[0m\u001b[0;34m\u001b[0m\u001b[0m\n\u001b[0;32m----> 2\u001b[0;31m \u001b[0mfinal_flag_waterfall\u001b[0m \u001b[0;34m=\u001b[0m \u001b[0mnp\u001b[0m\u001b[0;34m.\u001b[0m\u001b[0msqueeze\u001b[0m\u001b[0;34m(\u001b[0m\u001b[0mpyuvdata\u001b[0m\u001b[0;34m.\u001b[0m\u001b[0mUVFlag\u001b[0m\u001b[0;34m(\u001b[0m\u001b[0mtotal_flags_files\u001b[0m\u001b[0;34m)\u001b[0m\u001b[0;34m.\u001b[0m\u001b[0mflag_array\u001b[0m\u001b[0;34m)\u001b[0m\u001b[0;34m\u001b[0m\u001b[0;34m\u001b[0m\u001b[0m\n\u001b[0m\u001b[1;32m      3\u001b[0m \u001b[0;34m\u001b[0m\u001b[0m\n\u001b[1;32m      4\u001b[0m \u001b[0;32mdef\u001b[0m \u001b[0mcount_edge_flags\u001b[0m\u001b[0;34m(\u001b[0m\u001b[0mflag_wf\u001b[0m\u001b[0;34m)\u001b[0m\u001b[0;34m:\u001b[0m\u001b[0;34m\u001b[0m\u001b[0;34m\u001b[0m\u001b[0m\n\u001b[1;32m      5\u001b[0m     \u001b[0munflagged_channels\u001b[0m \u001b[0;34m=\u001b[0m \u001b[0mnp\u001b[0m\u001b[0;34m.\u001b[0m\u001b[0marange\u001b[0m\u001b[0;34m(\u001b[0m\u001b[0mflag_wf\u001b[0m\u001b[0;34m.\u001b[0m\u001b[0mshape\u001b[0m\u001b[0;34m[\u001b[0m\u001b[0;36m1\u001b[0m\u001b[0;34m]\u001b[0m\u001b[0;34m)\u001b[0m\u001b[0;34m[\u001b[0m\u001b[0;34m~\u001b[0m\u001b[0mnp\u001b[0m\u001b[0;34m.\u001b[0m\u001b[0mall\u001b[0m\u001b[0;34m(\u001b[0m\u001b[0mflag_wf\u001b[0m\u001b[0;34m,\u001b[0m \u001b[0maxis\u001b[0m\u001b[0;34m=\u001b[0m\u001b[0;36m0\u001b[0m\u001b[0;34m)\u001b[0m\u001b[0;34m]\u001b[0m\u001b[0;34m\u001b[0m\u001b[0;34m\u001b[0m\u001b[0m\n",
      "\u001b[0;32m/lustre/aoc/projects/hera/heramgr/anaconda3/envs/h1c_idr3_3/lib/python3.9/site-packages/pyuvdata/uvflag/uvflag.py\u001b[0m in \u001b[0;36m__init__\u001b[0;34m(self, indata, mode, copy_flags, waterfall, history, label, run_check, check_extra, run_check_acceptability)\u001b[0m\n\u001b[1;32m    462\u001b[0m         \u001b[0;32mif\u001b[0m \u001b[0misinstance\u001b[0m\u001b[0;34m(\u001b[0m\u001b[0mindata\u001b[0m\u001b[0;34m,\u001b[0m \u001b[0;34m(\u001b[0m\u001b[0mlist\u001b[0m\u001b[0;34m,\u001b[0m \u001b[0mtuple\u001b[0m\u001b[0;34m)\u001b[0m\u001b[0;34m)\u001b[0m\u001b[0;34m:\u001b[0m\u001b[0;34m\u001b[0m\u001b[0;34m\u001b[0m\u001b[0m\n\u001b[1;32m    463\u001b[0m             self.__init__(\n\u001b[0;32m--> 464\u001b[0;31m                 \u001b[0mindata\u001b[0m\u001b[0;34m[\u001b[0m\u001b[0;36m0\u001b[0m\u001b[0;34m]\u001b[0m\u001b[0;34m,\u001b[0m\u001b[0;34m\u001b[0m\u001b[0;34m\u001b[0m\u001b[0m\n\u001b[0m\u001b[1;32m    465\u001b[0m                 \u001b[0mmode\u001b[0m\u001b[0;34m=\u001b[0m\u001b[0mmode\u001b[0m\u001b[0;34m,\u001b[0m\u001b[0;34m\u001b[0m\u001b[0;34m\u001b[0m\u001b[0m\n\u001b[1;32m    466\u001b[0m                 \u001b[0mcopy_flags\u001b[0m\u001b[0;34m=\u001b[0m\u001b[0mcopy_flags\u001b[0m\u001b[0;34m,\u001b[0m\u001b[0;34m\u001b[0m\u001b[0;34m\u001b[0m\u001b[0m\n",
      "\u001b[0;31mIndexError\u001b[0m: list index out of range"
     ]
    }
   ],
   "source": [
    "# Figure out how many channels/integrations are completely flagged on both ends\n",
    "final_flag_waterfall = np.squeeze(pyuvdata.UVFlag(total_flags_files).flag_array)\n",
    "\n",
    "def count_edge_flags(flag_wf):\n",
    "    unflagged_channels = np.arange(flag_wf.shape[1])[~np.all(flag_wf, axis=0)]\n",
    "    ecf_low = unflagged_channels[0]\n",
    "    ecf_high = flag_wf.shape[1] - unflagged_channels[-1] - 1\n",
    "\n",
    "    unflagged_ints = np.arange(flag_wf.shape[0])[~np.all(flag_wf, axis=1)]\n",
    "    ect_low = unflagged_ints[0]\n",
    "    ect_high = flag_wf.shape[0] - unflagged_ints[-1] - 1\n",
    "    return ect_low, ect_high, ecf_low, ecf_high\n",
    "\n",
    "ect_low, ect_high, ecf_low, ecf_high = count_edge_flags(final_flag_waterfall)\n",
    "\n",
    "print(f'There are {ect_low} edge integrations flagged at the start of the night and {ect_high} at the end of the night.')\n",
    "print(f'There are {ecf_low} edge channels flagged at the low end and {ecf_high} at the high end.')"
   ]
  },
  {
   "cell_type": "markdown",
   "id": "3542e4d8",
   "metadata": {},
   "source": [
    "## Examine Reflection Calibration"
   ]
  },
  {
   "cell_type": "code",
   "execution_count": 10,
   "id": "3aa8da4f",
   "metadata": {
    "ExecuteTime": {
     "end_time": "2022-04-28T00:14:51.145219Z",
     "start_time": "2022-04-28T00:14:51.023158Z"
    },
    "execution": {
     "iopub.execute_input": "2022-04-29T09:02:05.115866Z",
     "iopub.status.busy": "2022-04-29T09:02:05.115157Z",
     "iopub.status.idle": "2022-04-29T09:02:05.141508Z",
     "shell.execute_reply": "2022-04-29T09:02:05.142030Z"
    }
   },
   "outputs": [
    {
     "ename": "IndexError",
     "evalue": "list index out of range",
     "output_type": "error",
     "traceback": [
      "\u001b[0;31m---------------------------------------------------------------------------\u001b[0m",
      "\u001b[0;31mIndexError\u001b[0m                                Traceback (most recent call last)",
      "\u001b[0;32m/tmp/ipykernel_111934/1236362276.py\u001b[0m in \u001b[0;36m<module>\u001b[0;34m\u001b[0m\n\u001b[1;32m      1\u001b[0m \u001b[0;31m# Load reflection calibration\u001b[0m\u001b[0;34m\u001b[0m\u001b[0;34m\u001b[0m\u001b[0m\n\u001b[1;32m      2\u001b[0m \u001b[0mhcr\u001b[0m \u001b[0;34m=\u001b[0m \u001b[0mio\u001b[0m\u001b[0;34m.\u001b[0m\u001b[0mHERACal\u001b[0m\u001b[0;34m(\u001b[0m\u001b[0mref_cal_files\u001b[0m\u001b[0;34m)\u001b[0m\u001b[0;34m\u001b[0m\u001b[0;34m\u001b[0m\u001b[0m\n\u001b[0;32m----> 3\u001b[0;31m \u001b[0mref_cal_gains\u001b[0m\u001b[0;34m,\u001b[0m \u001b[0mref_cal_flags\u001b[0m\u001b[0;34m,\u001b[0m \u001b[0m_\u001b[0m\u001b[0;34m,\u001b[0m \u001b[0m_\u001b[0m \u001b[0;34m=\u001b[0m \u001b[0mhcr\u001b[0m\u001b[0;34m.\u001b[0m\u001b[0mread\u001b[0m\u001b[0;34m(\u001b[0m\u001b[0;34m)\u001b[0m\u001b[0;34m\u001b[0m\u001b[0;34m\u001b[0m\u001b[0m\n\u001b[0m",
      "\u001b[0;32m/lustre/aoc/projects/hera/heramgr/anaconda3/envs/h1c_idr3_3/lib/python3.9/site-packages/hera_cal/io.py\u001b[0m in \u001b[0;36mread\u001b[0;34m(self, antenna_nums, frequencies, freq_chans, times, pols)\u001b[0m\n\u001b[1;32m    136\u001b[0m         \u001b[0;32mif\u001b[0m \u001b[0mself\u001b[0m\u001b[0;34m.\u001b[0m\u001b[0mfilepaths\u001b[0m \u001b[0;32mis\u001b[0m \u001b[0;32mnot\u001b[0m \u001b[0;32mNone\u001b[0m\u001b[0;34m:\u001b[0m\u001b[0;34m\u001b[0m\u001b[0;34m\u001b[0m\u001b[0m\n\u001b[1;32m    137\u001b[0m             \u001b[0;31m# load data\u001b[0m\u001b[0;34m\u001b[0m\u001b[0;34m\u001b[0m\u001b[0m\n\u001b[0;32m--> 138\u001b[0;31m             \u001b[0mself\u001b[0m\u001b[0;34m.\u001b[0m\u001b[0mread_calfits\u001b[0m\u001b[0;34m(\u001b[0m\u001b[0mself\u001b[0m\u001b[0;34m.\u001b[0m\u001b[0mfilepaths\u001b[0m\u001b[0;34m[\u001b[0m\u001b[0;36m0\u001b[0m\u001b[0;34m]\u001b[0m\u001b[0;34m)\u001b[0m\u001b[0;34m\u001b[0m\u001b[0;34m\u001b[0m\u001b[0m\n\u001b[0m\u001b[1;32m    139\u001b[0m \u001b[0;34m\u001b[0m\u001b[0m\n\u001b[1;32m    140\u001b[0m             \u001b[0;32mif\u001b[0m \u001b[0mpols\u001b[0m \u001b[0;32mis\u001b[0m \u001b[0;32mnot\u001b[0m \u001b[0;32mNone\u001b[0m\u001b[0;34m:\u001b[0m\u001b[0;34m\u001b[0m\u001b[0;34m\u001b[0m\u001b[0m\n",
      "\u001b[0;31mIndexError\u001b[0m: list index out of range"
     ]
    }
   ],
   "source": [
    "# Load reflection calibration\n",
    "hcr = io.HERACal(ref_cal_files)\n",
    "ref_cal_gains, ref_cal_flags, _, _ = hcr.read()"
   ]
  },
  {
   "cell_type": "code",
   "execution_count": 11,
   "id": "5acc94e9",
   "metadata": {
    "ExecuteTime": {
     "end_time": "2022-04-28T00:15:56.377434Z",
     "start_time": "2022-04-28T00:14:51.147147Z"
    },
    "execution": {
     "iopub.execute_input": "2022-04-29T09:02:05.144361Z",
     "iopub.status.busy": "2022-04-29T09:02:05.143695Z",
     "iopub.status.idle": "2022-04-29T09:02:05.153346Z",
     "shell.execute_reply": "2022-04-29T09:02:05.153851Z"
    }
   },
   "outputs": [
    {
     "ename": "IndexError",
     "evalue": "list index out of range",
     "output_type": "error",
     "traceback": [
      "\u001b[0;31m---------------------------------------------------------------------------\u001b[0m",
      "\u001b[0;31mIndexError\u001b[0m                                Traceback (most recent call last)",
      "\u001b[0;32m/tmp/ipykernel_111934/693105534.py\u001b[0m in \u001b[0;36m<module>\u001b[0;34m\u001b[0m\n\u001b[1;32m      1\u001b[0m \u001b[0;31m# Load inpainted autocorrelations\u001b[0m\u001b[0;34m\u001b[0m\u001b[0;34m\u001b[0m\u001b[0m\n\u001b[0;32m----> 2\u001b[0;31m \u001b[0mhd_ip_autos\u001b[0m \u001b[0;34m=\u001b[0m \u001b[0mio\u001b[0m\u001b[0;34m.\u001b[0m\u001b[0mHERAData\u001b[0m\u001b[0;34m(\u001b[0m\u001b[0minpainted_autos_files\u001b[0m\u001b[0;34m)\u001b[0m\u001b[0;34m\u001b[0m\u001b[0;34m\u001b[0m\u001b[0m\n\u001b[0m\u001b[1;32m      3\u001b[0m \u001b[0mhd_ip_autos\u001b[0m\u001b[0;34m.\u001b[0m\u001b[0mread\u001b[0m\u001b[0;34m(\u001b[0m\u001b[0mbls\u001b[0m\u001b[0;34m=\u001b[0m\u001b[0mauto_bls\u001b[0m\u001b[0;34m,\u001b[0m \u001b[0mreturn_data\u001b[0m\u001b[0;34m=\u001b[0m\u001b[0;32mFalse\u001b[0m\u001b[0;34m)\u001b[0m\u001b[0;34m\u001b[0m\u001b[0;34m\u001b[0m\u001b[0m\n",
      "\u001b[0;32m/lustre/aoc/projects/hera/heramgr/anaconda3/envs/h1c_idr3_3/lib/python3.9/site-packages/hera_cal/io.py\u001b[0m in \u001b[0;36m__init__\u001b[0;34m(self, input_data, upsample, downsample, filetype, **read_kwargs)\u001b[0m\n\u001b[1;32m    301\u001b[0m             \u001b[0;31m# read all UVData metadata from first file\u001b[0m\u001b[0;34m\u001b[0m\u001b[0;34m\u001b[0m\u001b[0m\n\u001b[1;32m    302\u001b[0m             \u001b[0mtemp_paths\u001b[0m \u001b[0;34m=\u001b[0m \u001b[0mcopy\u001b[0m\u001b[0;34m.\u001b[0m\u001b[0mdeepcopy\u001b[0m\u001b[0;34m(\u001b[0m\u001b[0mself\u001b[0m\u001b[0;34m.\u001b[0m\u001b[0mfilepaths\u001b[0m\u001b[0;34m)\u001b[0m\u001b[0;34m\u001b[0m\u001b[0;34m\u001b[0m\u001b[0m\n\u001b[0;32m--> 303\u001b[0;31m             \u001b[0mself\u001b[0m\u001b[0;34m.\u001b[0m\u001b[0mfilepaths\u001b[0m \u001b[0;34m=\u001b[0m \u001b[0mself\u001b[0m\u001b[0;34m.\u001b[0m\u001b[0mfilepaths\u001b[0m\u001b[0;34m[\u001b[0m\u001b[0;36m0\u001b[0m\u001b[0;34m]\u001b[0m\u001b[0;34m\u001b[0m\u001b[0;34m\u001b[0m\u001b[0m\n\u001b[0m\u001b[1;32m    304\u001b[0m             \u001b[0mself\u001b[0m\u001b[0;34m.\u001b[0m\u001b[0mread\u001b[0m\u001b[0;34m(\u001b[0m\u001b[0mread_data\u001b[0m\u001b[0;34m=\u001b[0m\u001b[0;32mFalse\u001b[0m\u001b[0;34m,\u001b[0m \u001b[0;34m**\u001b[0m\u001b[0mread_kwargs\u001b[0m\u001b[0;34m)\u001b[0m\u001b[0;34m\u001b[0m\u001b[0;34m\u001b[0m\u001b[0m\n\u001b[1;32m    305\u001b[0m             \u001b[0mself\u001b[0m\u001b[0;34m.\u001b[0m\u001b[0mfilepaths\u001b[0m \u001b[0;34m=\u001b[0m \u001b[0mtemp_paths\u001b[0m\u001b[0;34m\u001b[0m\u001b[0;34m\u001b[0m\u001b[0m\n",
      "\u001b[0;31mIndexError\u001b[0m: list index out of range"
     ]
    }
   ],
   "source": [
    "# Load inpainted autocorrelations\n",
    "hd_ip_autos = io.HERAData(inpainted_autos_files)\n",
    "hd_ip_autos.read(bls=auto_bls, return_data=False)"
   ]
  },
  {
   "cell_type": "code",
   "execution_count": 12,
   "id": "9debf91b",
   "metadata": {
    "ExecuteTime": {
     "end_time": "2022-04-28T00:16:00.169980Z",
     "start_time": "2022-04-28T00:15:56.379236Z"
    },
    "execution": {
     "iopub.execute_input": "2022-04-29T09:02:05.156146Z",
     "iopub.status.busy": "2022-04-29T09:02:05.155465Z",
     "iopub.status.idle": "2022-04-29T09:02:05.164940Z",
     "shell.execute_reply": "2022-04-29T09:02:05.165433Z"
    }
   },
   "outputs": [
    {
     "ename": "NameError",
     "evalue": "name 'hd_ip_autos' is not defined",
     "output_type": "error",
     "traceback": [
      "\u001b[0;31m---------------------------------------------------------------------------\u001b[0m",
      "\u001b[0;31mNameError\u001b[0m                                 Traceback (most recent call last)",
      "\u001b[0;32m/tmp/ipykernel_111934/3678811108.py\u001b[0m in \u001b[0;36m<module>\u001b[0;34m\u001b[0m\n\u001b[1;32m      1\u001b[0m \u001b[0;31m# Time-average autocorrelations (and FT them)\u001b[0m\u001b[0;34m\u001b[0m\u001b[0;34m\u001b[0m\u001b[0m\n\u001b[0;32m----> 2\u001b[0;31m \u001b[0mF\u001b[0m \u001b[0;34m=\u001b[0m \u001b[0mFRFilter\u001b[0m\u001b[0;34m(\u001b[0m\u001b[0mhd_ip_autos\u001b[0m\u001b[0;34m)\u001b[0m\u001b[0;34m\u001b[0m\u001b[0;34m\u001b[0m\u001b[0m\n\u001b[0m\u001b[1;32m      3\u001b[0m \u001b[0mF\u001b[0m\u001b[0;34m.\u001b[0m\u001b[0mtimeavg_data\u001b[0m\u001b[0;34m(\u001b[0m\u001b[0mF\u001b[0m\u001b[0;34m.\u001b[0m\u001b[0mdata\u001b[0m\u001b[0;34m,\u001b[0m \u001b[0mF\u001b[0m\u001b[0;34m.\u001b[0m\u001b[0mtimes\u001b[0m\u001b[0;34m,\u001b[0m \u001b[0mF\u001b[0m\u001b[0;34m.\u001b[0m\u001b[0mlsts\u001b[0m\u001b[0;34m,\u001b[0m \u001b[0mflags\u001b[0m\u001b[0;34m=\u001b[0m\u001b[0mF\u001b[0m\u001b[0;34m.\u001b[0m\u001b[0mflags\u001b[0m\u001b[0;34m,\u001b[0m \u001b[0mt_avg\u001b[0m\u001b[0;34m=\u001b[0m\u001b[0;36m1e10\u001b[0m\u001b[0;34m,\u001b[0m \u001b[0moverwrite\u001b[0m\u001b[0;34m=\u001b[0m\u001b[0;32mTrue\u001b[0m\u001b[0;34m)\u001b[0m\u001b[0;34m\u001b[0m\u001b[0;34m\u001b[0m\u001b[0m\n\u001b[1;32m      4\u001b[0m \u001b[0mF\u001b[0m\u001b[0;34m.\u001b[0m\u001b[0mfft_data\u001b[0m\u001b[0;34m(\u001b[0m\u001b[0mdata\u001b[0m\u001b[0;34m=\u001b[0m\u001b[0mF\u001b[0m\u001b[0;34m.\u001b[0m\u001b[0mavg_data\u001b[0m\u001b[0;34m,\u001b[0m \u001b[0mflags\u001b[0m\u001b[0;34m=\u001b[0m\u001b[0mF\u001b[0m\u001b[0;34m.\u001b[0m\u001b[0mavg_flags\u001b[0m\u001b[0;34m,\u001b[0m \u001b[0massign\u001b[0m\u001b[0;34m=\u001b[0m\u001b[0;34m'avg_fft'\u001b[0m\u001b[0;34m,\u001b[0m \u001b[0max\u001b[0m\u001b[0;34m=\u001b[0m\u001b[0;34m'freq'\u001b[0m\u001b[0;34m,\u001b[0m \u001b[0mwindow\u001b[0m\u001b[0;34m=\u001b[0m\u001b[0;34m'bh'\u001b[0m\u001b[0;34m,\u001b[0m \u001b[0medgecut_low\u001b[0m\u001b[0;34m=\u001b[0m\u001b[0mecf_low\u001b[0m\u001b[0;34m,\u001b[0m \u001b[0medgecut_hi\u001b[0m\u001b[0;34m=\u001b[0m\u001b[0mecf_high\u001b[0m\u001b[0;34m,\u001b[0m \u001b[0moverwrite\u001b[0m\u001b[0;34m=\u001b[0m\u001b[0;32mTrue\u001b[0m\u001b[0;34m)\u001b[0m\u001b[0;34m\u001b[0m\u001b[0;34m\u001b[0m\u001b[0m\n\u001b[1;32m      5\u001b[0m \u001b[0mavg_data\u001b[0m\u001b[0;34m,\u001b[0m \u001b[0mavg_flags\u001b[0m \u001b[0;34m=\u001b[0m \u001b[0mdeepcopy\u001b[0m\u001b[0;34m(\u001b[0m\u001b[0mF\u001b[0m\u001b[0;34m.\u001b[0m\u001b[0mavg_data\u001b[0m\u001b[0;34m)\u001b[0m\u001b[0;34m,\u001b[0m \u001b[0mdeepcopy\u001b[0m\u001b[0;34m(\u001b[0m\u001b[0mF\u001b[0m\u001b[0;34m.\u001b[0m\u001b[0mavg_flags\u001b[0m\u001b[0;34m)\u001b[0m\u001b[0;34m\u001b[0m\u001b[0;34m\u001b[0m\u001b[0m\n",
      "\u001b[0;31mNameError\u001b[0m: name 'hd_ip_autos' is not defined"
     ]
    }
   ],
   "source": [
    "# Time-average autocorrelations (and FT them)\n",
    "F = FRFilter(hd_ip_autos)\n",
    "F.timeavg_data(F.data, F.times, F.lsts, flags=F.flags, t_avg=1e10, overwrite=True)\n",
    "F.fft_data(data=F.avg_data, flags=F.avg_flags, assign='avg_fft', ax='freq', window='bh', edgecut_low=ecf_low, edgecut_hi=ecf_high, overwrite=True)\n",
    "avg_data, avg_flags = deepcopy(F.avg_data), deepcopy(F.avg_flags)\n",
    "\n",
    "# Time-average autocorrelations with reflection calibration (and FT them)\n",
    "apply_cal.calibrate_in_place(F.data, ref_cal_gains, data_flags=F.flags, cal_flags=ref_cal_flags)\n",
    "F.timeavg_data(F.data, F.times, F.lsts, flags=F.flags, t_avg=1e10, overwrite=True)\n",
    "F.fft_data(data=F.avg_data, flags=F.avg_flags, assign='avg_ref_cal_fft', ax='freq', window='bh', edgecut_low=ecf_low, edgecut_hi=ecf_high, overwrite=True)"
   ]
  },
  {
   "cell_type": "code",
   "execution_count": 13,
   "id": "b15e3723",
   "metadata": {
    "ExecuteTime": {
     "end_time": "2022-04-28T00:16:01.219032Z",
     "start_time": "2022-04-28T00:16:00.171216Z"
    },
    "execution": {
     "iopub.execute_input": "2022-04-29T09:02:05.167697Z",
     "iopub.status.busy": "2022-04-29T09:02:05.167025Z",
     "iopub.status.idle": "2022-04-29T09:02:06.816414Z",
     "shell.execute_reply": "2022-04-29T09:02:06.817583Z"
    }
   },
   "outputs": [
    {
     "ename": "NameError",
     "evalue": "name 'F' is not defined",
     "output_type": "error",
     "traceback": [
      "\u001b[0;31m---------------------------------------------------------------------------\u001b[0m",
      "\u001b[0;31mNameError\u001b[0m                                 Traceback (most recent call last)",
      "\u001b[0;32m/tmp/ipykernel_111934/2333038267.py\u001b[0m in \u001b[0;36m<module>\u001b[0;34m\u001b[0m\n\u001b[1;32m      1\u001b[0m \u001b[0mfig\u001b[0m\u001b[0;34m,\u001b[0m \u001b[0maxes\u001b[0m \u001b[0;34m=\u001b[0m \u001b[0mplt\u001b[0m\u001b[0;34m.\u001b[0m\u001b[0msubplots\u001b[0m\u001b[0;34m(\u001b[0m\u001b[0;36m2\u001b[0m\u001b[0;34m,\u001b[0m \u001b[0;36m1\u001b[0m\u001b[0;34m,\u001b[0m \u001b[0mfigsize\u001b[0m\u001b[0;34m=\u001b[0m\u001b[0;34m(\u001b[0m\u001b[0;36m14\u001b[0m\u001b[0;34m,\u001b[0m\u001b[0;36m10\u001b[0m\u001b[0;34m)\u001b[0m\u001b[0;34m,\u001b[0m \u001b[0msharex\u001b[0m\u001b[0;34m=\u001b[0m\u001b[0;32mTrue\u001b[0m\u001b[0;34m,\u001b[0m \u001b[0mgridspec_kw\u001b[0m\u001b[0;34m=\u001b[0m\u001b[0;34m{\u001b[0m\u001b[0;34m'hspace'\u001b[0m\u001b[0;34m:\u001b[0m \u001b[0;36m0\u001b[0m\u001b[0;34m}\u001b[0m\u001b[0;34m)\u001b[0m\u001b[0;34m\u001b[0m\u001b[0;34m\u001b[0m\u001b[0m\n\u001b[0;32m----> 2\u001b[0;31m \u001b[0;32mfor\u001b[0m \u001b[0mi\u001b[0m\u001b[0;34m,\u001b[0m \u001b[0;34m(\u001b[0m\u001b[0mpol\u001b[0m\u001b[0;34m,\u001b[0m \u001b[0max\u001b[0m\u001b[0;34m)\u001b[0m \u001b[0;32min\u001b[0m \u001b[0menumerate\u001b[0m\u001b[0;34m(\u001b[0m\u001b[0mzip\u001b[0m\u001b[0;34m(\u001b[0m\u001b[0mF\u001b[0m\u001b[0;34m.\u001b[0m\u001b[0mpols\u001b[0m\u001b[0;34m,\u001b[0m \u001b[0maxes\u001b[0m\u001b[0;34m)\u001b[0m\u001b[0;34m)\u001b[0m\u001b[0;34m:\u001b[0m\u001b[0;34m\u001b[0m\u001b[0;34m\u001b[0m\u001b[0m\n\u001b[0m\u001b[1;32m      3\u001b[0m     \u001b[0mabl\u001b[0m \u001b[0;34m=\u001b[0m \u001b[0;34m(\u001b[0m\u001b[0mants_to_load\u001b[0m\u001b[0;34m[\u001b[0m\u001b[0;36m0\u001b[0m\u001b[0;34m]\u001b[0m\u001b[0;34m,\u001b[0m \u001b[0mants_to_load\u001b[0m\u001b[0;34m[\u001b[0m\u001b[0;36m0\u001b[0m\u001b[0;34m]\u001b[0m\u001b[0;34m,\u001b[0m \u001b[0mpol\u001b[0m\u001b[0;34m)\u001b[0m\u001b[0;34m\u001b[0m\u001b[0;34m\u001b[0m\u001b[0m\n\u001b[1;32m      4\u001b[0m     ax.semilogy(F.freqs / 1e6, np.where(np.all(final_flag_waterfall, axis=0), np.nan, np.squeeze(np.abs(avg_data[abl]))),\n\u001b[1;32m      5\u001b[0m                 c='C1', lw=2, label=f'{abl} Smooth Calibrated')\n",
      "\u001b[0;31mNameError\u001b[0m: name 'F' is not defined"
     ]
    },
    {
     "data": {
      "image/png": "[encoded data removed]",
      "text/plain": [
       "<Figure size 1008x720 with 2 Axes>"
      ]
     },
     "metadata": {
      "image/png": {
       "height": 578,
       "width": 826
      },
      "needs_background": "light"
     },
     "output_type": "display_data"
    }
   ],
   "source": [
    "fig, axes = plt.subplots(2, 1, figsize=(14,10), sharex=True, gridspec_kw={'hspace': 0})\n",
    "for i, (pol, ax) in enumerate(zip(F.pols, axes)):\n",
    "    abl = (ants_to_load[0], ants_to_load[0], pol)\n",
    "    ax.semilogy(F.freqs / 1e6, np.where(np.all(final_flag_waterfall, axis=0), np.nan, np.squeeze(np.abs(avg_data[abl]))),\n",
    "                c='C1', lw=2, label=f'{abl} Smooth Calibrated')\n",
    "    ax.semilogy(F.freqs / 1e6, np.where(np.all(final_flag_waterfall, axis=0), np.nan, np.squeeze(np.abs(F.avg_data[abl]))),\n",
    "                c='C0', lw=1, label=f'{abl} Reflection Calibrated')\n",
    "    ax.legend()\n",
    "    ax.set_ylabel('Time-Averaged $|V_{ii}|$ (Jy)')\n",
    "    ax.set_xlabel('Frequency (MHz)') "
   ]
  },
  {
   "cell_type": "markdown",
   "id": "b2575ab7",
   "metadata": {},
   "source": [
    "### Figure 2: Demonstration of Reflection Calibration\n",
    "\n",
    "This figure shows how reflection calibration works on a single example antenna's autocorrelations (both polarizations). The autocorrelations are inpainted in frequency with CLEAN before being fit with a single time-independent reflection solution."
   ]
  },
  {
   "cell_type": "code",
   "execution_count": 14,
   "id": "e557427b",
   "metadata": {
    "ExecuteTime": {
     "end_time": "2022-04-28T00:16:02.372328Z",
     "start_time": "2022-04-28T00:16:01.220248Z"
    },
    "execution": {
     "iopub.execute_input": "2022-04-29T09:02:06.822531Z",
     "iopub.status.busy": "2022-04-29T09:02:06.821090Z",
     "iopub.status.idle": "2022-04-29T09:02:07.385243Z",
     "shell.execute_reply": "2022-04-29T09:02:07.385829Z"
    }
   },
   "outputs": [
    {
     "ename": "NameError",
     "evalue": "name 'F' is not defined",
     "output_type": "error",
     "traceback": [
      "\u001b[0;31m---------------------------------------------------------------------------\u001b[0m",
      "\u001b[0;31mNameError\u001b[0m                                 Traceback (most recent call last)",
      "\u001b[0;32m/tmp/ipykernel_111934/1812930550.py\u001b[0m in \u001b[0;36m<module>\u001b[0;34m\u001b[0m\n\u001b[1;32m      1\u001b[0m \u001b[0;31m# Plot delay spectra of autocorrelations with and without reflection calibration\u001b[0m\u001b[0;34m\u001b[0m\u001b[0;34m\u001b[0m\u001b[0m\n\u001b[1;32m      2\u001b[0m \u001b[0mfig\u001b[0m\u001b[0;34m,\u001b[0m \u001b[0maxes\u001b[0m \u001b[0;34m=\u001b[0m \u001b[0mplt\u001b[0m\u001b[0;34m.\u001b[0m\u001b[0msubplots\u001b[0m\u001b[0;34m(\u001b[0m\u001b[0;36m4\u001b[0m\u001b[0;34m,\u001b[0m \u001b[0;36m2\u001b[0m\u001b[0;34m,\u001b[0m \u001b[0mfigsize\u001b[0m\u001b[0;34m=\u001b[0m\u001b[0;34m(\u001b[0m\u001b[0;36m14\u001b[0m\u001b[0;34m,\u001b[0m\u001b[0;36m12\u001b[0m\u001b[0;34m)\u001b[0m\u001b[0;34m,\u001b[0m \u001b[0msharex\u001b[0m\u001b[0;34m=\u001b[0m\u001b[0;32mTrue\u001b[0m\u001b[0;34m,\u001b[0m \u001b[0msharey\u001b[0m\u001b[0;34m=\u001b[0m\u001b[0;32mTrue\u001b[0m\u001b[0;34m,\u001b[0m \u001b[0mgridspec_kw\u001b[0m\u001b[0;34m=\u001b[0m\u001b[0;34m{\u001b[0m\u001b[0;34m'hspace'\u001b[0m\u001b[0;34m:\u001b[0m \u001b[0;36m0\u001b[0m\u001b[0;34m,\u001b[0m \u001b[0;34m'wspace'\u001b[0m\u001b[0;34m:\u001b[0m \u001b[0;36m0\u001b[0m\u001b[0;34m}\u001b[0m\u001b[0;34m)\u001b[0m\u001b[0;34m\u001b[0m\u001b[0;34m\u001b[0m\u001b[0m\n\u001b[0;32m----> 3\u001b[0;31m \u001b[0;32mfor\u001b[0m \u001b[0mi\u001b[0m\u001b[0;34m,\u001b[0m \u001b[0;34m(\u001b[0m\u001b[0mabl\u001b[0m\u001b[0;34m,\u001b[0m \u001b[0max\u001b[0m\u001b[0;34m)\u001b[0m \u001b[0;32min\u001b[0m \u001b[0menumerate\u001b[0m\u001b[0;34m(\u001b[0m\u001b[0mzip\u001b[0m\u001b[0;34m(\u001b[0m\u001b[0mF\u001b[0m\u001b[0;34m.\u001b[0m\u001b[0mdata\u001b[0m\u001b[0;34m,\u001b[0m \u001b[0maxes\u001b[0m\u001b[0;34m.\u001b[0m\u001b[0mflatten\u001b[0m\u001b[0;34m(\u001b[0m\u001b[0;34m)\u001b[0m\u001b[0;34m)\u001b[0m\u001b[0;34m)\u001b[0m\u001b[0;34m:\u001b[0m\u001b[0;34m\u001b[0m\u001b[0;34m\u001b[0m\u001b[0m\n\u001b[0m\u001b[1;32m      4\u001b[0m     \u001b[0max\u001b[0m\u001b[0;34m.\u001b[0m\u001b[0msemilogy\u001b[0m\u001b[0;34m(\u001b[0m\u001b[0mF\u001b[0m\u001b[0;34m.\u001b[0m\u001b[0mdelays\u001b[0m\u001b[0;34m,\u001b[0m \u001b[0mnp\u001b[0m\u001b[0;34m.\u001b[0m\u001b[0mabs\u001b[0m\u001b[0;34m(\u001b[0m\u001b[0mnp\u001b[0m\u001b[0;34m.\u001b[0m\u001b[0msqueeze\u001b[0m\u001b[0;34m(\u001b[0m\u001b[0mF\u001b[0m\u001b[0;34m.\u001b[0m\u001b[0mavg_fft\u001b[0m\u001b[0;34m[\u001b[0m\u001b[0mabl\u001b[0m\u001b[0;34m]\u001b[0m\u001b[0;34m)\u001b[0m\u001b[0;34m)\u001b[0m\u001b[0;34m,\u001b[0m \u001b[0mc\u001b[0m\u001b[0;34m=\u001b[0m\u001b[0;34m'C1'\u001b[0m\u001b[0;34m,\u001b[0m \u001b[0mlabel\u001b[0m\u001b[0;34m=\u001b[0m\u001b[0;34mf'{abl} Inpainted'\u001b[0m\u001b[0;34m)\u001b[0m\u001b[0;34m\u001b[0m\u001b[0;34m\u001b[0m\u001b[0m\n\u001b[1;32m      5\u001b[0m     \u001b[0max\u001b[0m\u001b[0;34m.\u001b[0m\u001b[0msemilogy\u001b[0m\u001b[0;34m(\u001b[0m\u001b[0mF\u001b[0m\u001b[0;34m.\u001b[0m\u001b[0mdelays\u001b[0m\u001b[0;34m,\u001b[0m \u001b[0mnp\u001b[0m\u001b[0;34m.\u001b[0m\u001b[0mabs\u001b[0m\u001b[0;34m(\u001b[0m\u001b[0mnp\u001b[0m\u001b[0;34m.\u001b[0m\u001b[0msqueeze\u001b[0m\u001b[0;34m(\u001b[0m\u001b[0mF\u001b[0m\u001b[0;34m.\u001b[0m\u001b[0mavg_ref_cal_fft\u001b[0m\u001b[0;34m[\u001b[0m\u001b[0mabl\u001b[0m\u001b[0;34m]\u001b[0m\u001b[0;34m)\u001b[0m\u001b[0;34m)\u001b[0m\u001b[0;34m,\u001b[0m \u001b[0mc\u001b[0m\u001b[0;34m=\u001b[0m\u001b[0;34m'C0'\u001b[0m\u001b[0;34m,\u001b[0m \u001b[0mlw\u001b[0m\u001b[0;34m=\u001b[0m\u001b[0;36m.5\u001b[0m\u001b[0;34m,\u001b[0m \u001b[0mlabel\u001b[0m\u001b[0;34m=\u001b[0m\u001b[0;34mf'{abl} Ref Cal'\u001b[0m\u001b[0;34m)\u001b[0m\u001b[0;34m\u001b[0m\u001b[0;34m\u001b[0m\u001b[0m\n",
      "\u001b[0;31mNameError\u001b[0m: name 'F' is not defined"
     ]
    },
    {
     "data": {
      "image/png": "[encoded data removed]",
      "text/plain": [
       "<Figure size 1008x864 with 8 Axes>"
      ]
     },
     "metadata": {
      "image/png": {
       "height": 686,
       "width": 826
      },
      "needs_background": "light"
     },
     "output_type": "display_data"
    }
   ],
   "source": [
    "# Plot delay spectra of autocorrelations with and without reflection calibration\n",
    "fig, axes = plt.subplots(4, 2, figsize=(14,12), sharex=True, sharey=True, gridspec_kw={'hspace': 0, 'wspace': 0})\n",
    "for i, (abl, ax) in enumerate(zip(F.data, axes.flatten())):\n",
    "    ax.semilogy(F.delays, np.abs(np.squeeze(F.avg_fft[abl])), c='C1', label=f'{abl} Inpainted')\n",
    "    ax.semilogy(F.delays, np.abs(np.squeeze(F.avg_ref_cal_fft[abl])), c='C0', lw=.5, label=f'{abl} Ref Cal')\n",
    "    ax.legend()\n",
    "    ax.set_xlim([-3999, 3999])\n",
    "    if i >= 6:\n",
    "        ax.set_xlabel('Delay (ns)')\n",
    "    if i % 2 == 0:\n",
    "        ax.set_ylabel('$|\\\\widetilde{V}_{ii}|$  [Jy Hz]')\n",
    "    \n",
    "plt.tight_layout()"
   ]
  },
  {
   "cell_type": "markdown",
   "id": "97860455",
   "metadata": {},
   "source": [
    "### Figure 3: Autocorrelation Delay Spectra, Before and After Reflection Calibration\n",
    "\n",
    "These delay spectra and time-averaged, delay-inpainted autocorrleations before and after reflection calibration. Ideally they the same power at 0 and high delay, but reduced power at low to medium delay."
   ]
  },
  {
   "cell_type": "markdown",
   "id": "7eddde22",
   "metadata": {},
   "source": [
    "## Load Waterfalls"
   ]
  },
  {
   "cell_type": "code",
   "execution_count": 15,
   "id": "2ea4398c",
   "metadata": {
    "ExecuteTime": {
     "end_time": "2022-04-28T00:31:04.798083Z",
     "start_time": "2022-04-28T00:16:02.373399Z"
    },
    "execution": {
     "iopub.execute_input": "2022-04-29T09:02:07.388377Z",
     "iopub.status.busy": "2022-04-29T09:02:07.387683Z",
     "iopub.status.idle": "2022-04-29T09:02:07.398237Z",
     "shell.execute_reply": "2022-04-29T09:02:07.398741Z"
    }
   },
   "outputs": [
    {
     "ename": "IndexError",
     "evalue": "list index out of range",
     "output_type": "error",
     "traceback": [
      "\u001b[0;31m---------------------------------------------------------------------------\u001b[0m",
      "\u001b[0;31mIndexError\u001b[0m                                Traceback (most recent call last)",
      "\u001b[0;32m/tmp/ipykernel_111934/3803909609.py\u001b[0m in \u001b[0;36m<module>\u001b[0;34m\u001b[0m\n\u001b[1;32m      1\u001b[0m \u001b[0;31m# load dpss residual data\u001b[0m\u001b[0;34m\u001b[0m\u001b[0;34m\u001b[0m\u001b[0m\n\u001b[0;32m----> 2\u001b[0;31m \u001b[0mhd_dpss_res\u001b[0m \u001b[0;34m=\u001b[0m \u001b[0mio\u001b[0m\u001b[0;34m.\u001b[0m\u001b[0mHERAData\u001b[0m\u001b[0;34m(\u001b[0m\u001b[0mdpss_res_files\u001b[0m\u001b[0;34m)\u001b[0m\u001b[0;34m\u001b[0m\u001b[0;34m\u001b[0m\u001b[0m\n\u001b[0m\u001b[1;32m      3\u001b[0m \u001b[0mhd_dpss_res\u001b[0m\u001b[0;34m.\u001b[0m\u001b[0mread\u001b[0m\u001b[0;34m(\u001b[0m\u001b[0mbls\u001b[0m\u001b[0;34m=\u001b[0m\u001b[0mbls_to_load\u001b[0m\u001b[0;34m,\u001b[0m \u001b[0maxis\u001b[0m\u001b[0;34m=\u001b[0m\u001b[0;34m'blt'\u001b[0m\u001b[0;34m,\u001b[0m \u001b[0mreturn_data\u001b[0m\u001b[0;34m=\u001b[0m\u001b[0;32mFalse\u001b[0m\u001b[0;34m)\u001b[0m\u001b[0;34m\u001b[0m\u001b[0;34m\u001b[0m\u001b[0m\n",
      "\u001b[0;32m/lustre/aoc/projects/hera/heramgr/anaconda3/envs/h1c_idr3_3/lib/python3.9/site-packages/hera_cal/io.py\u001b[0m in \u001b[0;36m__init__\u001b[0;34m(self, input_data, upsample, downsample, filetype, **read_kwargs)\u001b[0m\n\u001b[1;32m    301\u001b[0m             \u001b[0;31m# read all UVData metadata from first file\u001b[0m\u001b[0;34m\u001b[0m\u001b[0;34m\u001b[0m\u001b[0m\n\u001b[1;32m    302\u001b[0m             \u001b[0mtemp_paths\u001b[0m \u001b[0;34m=\u001b[0m \u001b[0mcopy\u001b[0m\u001b[0;34m.\u001b[0m\u001b[0mdeepcopy\u001b[0m\u001b[0;34m(\u001b[0m\u001b[0mself\u001b[0m\u001b[0;34m.\u001b[0m\u001b[0mfilepaths\u001b[0m\u001b[0;34m)\u001b[0m\u001b[0;34m\u001b[0m\u001b[0;34m\u001b[0m\u001b[0m\n\u001b[0;32m--> 303\u001b[0;31m             \u001b[0mself\u001b[0m\u001b[0;34m.\u001b[0m\u001b[0mfilepaths\u001b[0m \u001b[0;34m=\u001b[0m \u001b[0mself\u001b[0m\u001b[0;34m.\u001b[0m\u001b[0mfilepaths\u001b[0m\u001b[0;34m[\u001b[0m\u001b[0;36m0\u001b[0m\u001b[0;34m]\u001b[0m\u001b[0;34m\u001b[0m\u001b[0;34m\u001b[0m\u001b[0m\n\u001b[0m\u001b[1;32m    304\u001b[0m             \u001b[0mself\u001b[0m\u001b[0;34m.\u001b[0m\u001b[0mread\u001b[0m\u001b[0;34m(\u001b[0m\u001b[0mread_data\u001b[0m\u001b[0;34m=\u001b[0m\u001b[0;32mFalse\u001b[0m\u001b[0;34m,\u001b[0m \u001b[0;34m**\u001b[0m\u001b[0mread_kwargs\u001b[0m\u001b[0;34m)\u001b[0m\u001b[0;34m\u001b[0m\u001b[0;34m\u001b[0m\u001b[0m\n\u001b[1;32m    305\u001b[0m             \u001b[0mself\u001b[0m\u001b[0;34m.\u001b[0m\u001b[0mfilepaths\u001b[0m \u001b[0;34m=\u001b[0m \u001b[0mtemp_paths\u001b[0m\u001b[0;34m\u001b[0m\u001b[0;34m\u001b[0m\u001b[0m\n",
      "\u001b[0;31mIndexError\u001b[0m: list index out of range"
     ]
    }
   ],
   "source": [
    "# load dpss residual data\n",
    "hd_dpss_res = io.HERAData(dpss_res_files)\n",
    "hd_dpss_res.read(bls=bls_to_load, axis='blt', return_data=False)"
   ]
  },
  {
   "cell_type": "code",
   "execution_count": 16,
   "id": "43d0ad01",
   "metadata": {
    "ExecuteTime": {
     "end_time": "2022-04-28T00:47:09.138966Z",
     "start_time": "2022-04-28T00:31:04.825863Z"
    },
    "execution": {
     "iopub.execute_input": "2022-04-29T09:02:07.401050Z",
     "iopub.status.busy": "2022-04-29T09:02:07.400383Z",
     "iopub.status.idle": "2022-04-29T09:02:07.409770Z",
     "shell.execute_reply": "2022-04-29T09:02:07.410264Z"
    }
   },
   "outputs": [
    {
     "ename": "IndexError",
     "evalue": "list index out of range",
     "output_type": "error",
     "traceback": [
      "\u001b[0;31m---------------------------------------------------------------------------\u001b[0m",
      "\u001b[0;31mIndexError\u001b[0m                                Traceback (most recent call last)",
      "\u001b[0;32m/tmp/ipykernel_111934/4241559415.py\u001b[0m in \u001b[0;36m<module>\u001b[0;34m\u001b[0m\n\u001b[1;32m      1\u001b[0m \u001b[0;31m# load dpss filled data\u001b[0m\u001b[0;34m\u001b[0m\u001b[0;34m\u001b[0m\u001b[0m\n\u001b[0;32m----> 2\u001b[0;31m \u001b[0mhd_dpss_filled\u001b[0m \u001b[0;34m=\u001b[0m \u001b[0mio\u001b[0m\u001b[0;34m.\u001b[0m\u001b[0mHERAData\u001b[0m\u001b[0;34m(\u001b[0m\u001b[0mdpss_filled_files\u001b[0m\u001b[0;34m)\u001b[0m\u001b[0;34m\u001b[0m\u001b[0;34m\u001b[0m\u001b[0m\n\u001b[0m\u001b[1;32m      3\u001b[0m \u001b[0mhd_dpss_filled\u001b[0m\u001b[0;34m.\u001b[0m\u001b[0mread\u001b[0m\u001b[0;34m(\u001b[0m\u001b[0mbls\u001b[0m\u001b[0;34m=\u001b[0m\u001b[0mbls_to_load\u001b[0m\u001b[0;34m,\u001b[0m \u001b[0maxis\u001b[0m\u001b[0;34m=\u001b[0m\u001b[0;34m'blt'\u001b[0m\u001b[0;34m,\u001b[0m \u001b[0mreturn_data\u001b[0m\u001b[0;34m=\u001b[0m\u001b[0;32mFalse\u001b[0m\u001b[0;34m)\u001b[0m\u001b[0;34m\u001b[0m\u001b[0;34m\u001b[0m\u001b[0m\n",
      "\u001b[0;32m/lustre/aoc/projects/hera/heramgr/anaconda3/envs/h1c_idr3_3/lib/python3.9/site-packages/hera_cal/io.py\u001b[0m in \u001b[0;36m__init__\u001b[0;34m(self, input_data, upsample, downsample, filetype, **read_kwargs)\u001b[0m\n\u001b[1;32m    301\u001b[0m             \u001b[0;31m# read all UVData metadata from first file\u001b[0m\u001b[0;34m\u001b[0m\u001b[0;34m\u001b[0m\u001b[0m\n\u001b[1;32m    302\u001b[0m             \u001b[0mtemp_paths\u001b[0m \u001b[0;34m=\u001b[0m \u001b[0mcopy\u001b[0m\u001b[0;34m.\u001b[0m\u001b[0mdeepcopy\u001b[0m\u001b[0;34m(\u001b[0m\u001b[0mself\u001b[0m\u001b[0;34m.\u001b[0m\u001b[0mfilepaths\u001b[0m\u001b[0;34m)\u001b[0m\u001b[0;34m\u001b[0m\u001b[0;34m\u001b[0m\u001b[0m\n\u001b[0;32m--> 303\u001b[0;31m             \u001b[0mself\u001b[0m\u001b[0;34m.\u001b[0m\u001b[0mfilepaths\u001b[0m \u001b[0;34m=\u001b[0m \u001b[0mself\u001b[0m\u001b[0;34m.\u001b[0m\u001b[0mfilepaths\u001b[0m\u001b[0;34m[\u001b[0m\u001b[0;36m0\u001b[0m\u001b[0;34m]\u001b[0m\u001b[0;34m\u001b[0m\u001b[0;34m\u001b[0m\u001b[0m\n\u001b[0m\u001b[1;32m    304\u001b[0m             \u001b[0mself\u001b[0m\u001b[0;34m.\u001b[0m\u001b[0mread\u001b[0m\u001b[0;34m(\u001b[0m\u001b[0mread_data\u001b[0m\u001b[0;34m=\u001b[0m\u001b[0;32mFalse\u001b[0m\u001b[0;34m,\u001b[0m \u001b[0;34m**\u001b[0m\u001b[0mread_kwargs\u001b[0m\u001b[0;34m)\u001b[0m\u001b[0;34m\u001b[0m\u001b[0;34m\u001b[0m\u001b[0m\n\u001b[1;32m    305\u001b[0m             \u001b[0mself\u001b[0m\u001b[0;34m.\u001b[0m\u001b[0mfilepaths\u001b[0m \u001b[0;34m=\u001b[0m \u001b[0mtemp_paths\u001b[0m\u001b[0;34m\u001b[0m\u001b[0;34m\u001b[0m\u001b[0m\n",
      "\u001b[0;31mIndexError\u001b[0m: list index out of range"
     ]
    }
   ],
   "source": [
    "# load dpss filled data\n",
    "hd_dpss_filled = io.HERAData(dpss_filled_files)\n",
    "hd_dpss_filled.read(bls=bls_to_load, axis='blt', return_data=False)"
   ]
  },
  {
   "cell_type": "code",
   "execution_count": 17,
   "id": "f1e0187b",
   "metadata": {
    "ExecuteTime": {
     "end_time": "2022-04-28T01:00:47.903554Z",
     "start_time": "2022-04-28T00:47:09.297526Z"
    },
    "execution": {
     "iopub.execute_input": "2022-04-29T09:02:07.412521Z",
     "iopub.status.busy": "2022-04-29T09:02:07.411859Z",
     "iopub.status.idle": "2022-04-29T09:02:07.420643Z",
     "shell.execute_reply": "2022-04-29T09:02:07.421130Z"
    }
   },
   "outputs": [
    {
     "ename": "IndexError",
     "evalue": "list index out of range",
     "output_type": "error",
     "traceback": [
      "\u001b[0;31m---------------------------------------------------------------------------\u001b[0m",
      "\u001b[0;31mIndexError\u001b[0m                                Traceback (most recent call last)",
      "\u001b[0;32m/tmp/ipykernel_111934/4113124008.py\u001b[0m in \u001b[0;36m<module>\u001b[0;34m\u001b[0m\n\u001b[1;32m      1\u001b[0m \u001b[0;31m# load dpss filled, dpss cross-talk filtered data\u001b[0m\u001b[0;34m\u001b[0m\u001b[0;34m\u001b[0m\u001b[0m\n\u001b[0;32m----> 2\u001b[0;31m \u001b[0mhd_dpss_res_xtalk_filt\u001b[0m \u001b[0;34m=\u001b[0m \u001b[0mio\u001b[0m\u001b[0;34m.\u001b[0m\u001b[0mHERAData\u001b[0m\u001b[0;34m(\u001b[0m\u001b[0mdpss_res_xtalk_filt_files\u001b[0m\u001b[0;34m)\u001b[0m\u001b[0;34m\u001b[0m\u001b[0;34m\u001b[0m\u001b[0m\n\u001b[0m\u001b[1;32m      3\u001b[0m \u001b[0mhd_dpss_res_xtalk_filt\u001b[0m\u001b[0;34m.\u001b[0m\u001b[0mread\u001b[0m\u001b[0;34m(\u001b[0m\u001b[0mbls\u001b[0m\u001b[0;34m=\u001b[0m\u001b[0mbls_to_load\u001b[0m\u001b[0;34m,\u001b[0m \u001b[0maxis\u001b[0m\u001b[0;34m=\u001b[0m\u001b[0;34m'blt'\u001b[0m\u001b[0;34m,\u001b[0m \u001b[0mreturn_data\u001b[0m\u001b[0;34m=\u001b[0m\u001b[0;32mFalse\u001b[0m\u001b[0;34m)\u001b[0m\u001b[0;34m\u001b[0m\u001b[0;34m\u001b[0m\u001b[0m\n",
      "\u001b[0;32m/lustre/aoc/projects/hera/heramgr/anaconda3/envs/h1c_idr3_3/lib/python3.9/site-packages/hera_cal/io.py\u001b[0m in \u001b[0;36m__init__\u001b[0;34m(self, input_data, upsample, downsample, filetype, **read_kwargs)\u001b[0m\n\u001b[1;32m    301\u001b[0m             \u001b[0;31m# read all UVData metadata from first file\u001b[0m\u001b[0;34m\u001b[0m\u001b[0;34m\u001b[0m\u001b[0m\n\u001b[1;32m    302\u001b[0m             \u001b[0mtemp_paths\u001b[0m \u001b[0;34m=\u001b[0m \u001b[0mcopy\u001b[0m\u001b[0;34m.\u001b[0m\u001b[0mdeepcopy\u001b[0m\u001b[0;34m(\u001b[0m\u001b[0mself\u001b[0m\u001b[0;34m.\u001b[0m\u001b[0mfilepaths\u001b[0m\u001b[0;34m)\u001b[0m\u001b[0;34m\u001b[0m\u001b[0;34m\u001b[0m\u001b[0m\n\u001b[0;32m--> 303\u001b[0;31m             \u001b[0mself\u001b[0m\u001b[0;34m.\u001b[0m\u001b[0mfilepaths\u001b[0m \u001b[0;34m=\u001b[0m \u001b[0mself\u001b[0m\u001b[0;34m.\u001b[0m\u001b[0mfilepaths\u001b[0m\u001b[0;34m[\u001b[0m\u001b[0;36m0\u001b[0m\u001b[0;34m]\u001b[0m\u001b[0;34m\u001b[0m\u001b[0;34m\u001b[0m\u001b[0m\n\u001b[0m\u001b[1;32m    304\u001b[0m             \u001b[0mself\u001b[0m\u001b[0;34m.\u001b[0m\u001b[0mread\u001b[0m\u001b[0;34m(\u001b[0m\u001b[0mread_data\u001b[0m\u001b[0;34m=\u001b[0m\u001b[0;32mFalse\u001b[0m\u001b[0;34m,\u001b[0m \u001b[0;34m**\u001b[0m\u001b[0mread_kwargs\u001b[0m\u001b[0;34m)\u001b[0m\u001b[0;34m\u001b[0m\u001b[0;34m\u001b[0m\u001b[0m\n\u001b[1;32m    305\u001b[0m             \u001b[0mself\u001b[0m\u001b[0;34m.\u001b[0m\u001b[0mfilepaths\u001b[0m \u001b[0;34m=\u001b[0m \u001b[0mtemp_paths\u001b[0m\u001b[0;34m\u001b[0m\u001b[0;34m\u001b[0m\u001b[0m\n",
      "\u001b[0;31mIndexError\u001b[0m: list index out of range"
     ]
    }
   ],
   "source": [
    "# load dpss filled, dpss cross-talk filtered data\n",
    "hd_dpss_res_xtalk_filt = io.HERAData(dpss_res_xtalk_filt_files)\n",
    "hd_dpss_res_xtalk_filt.read(bls=bls_to_load, axis='blt', return_data=False)"
   ]
  },
  {
   "cell_type": "code",
   "execution_count": 18,
   "id": "3c14a5c8",
   "metadata": {
    "ExecuteTime": {
     "end_time": "2022-04-28T01:00:54.958352Z",
     "start_time": "2022-04-28T01:00:49.533473Z"
    },
    "execution": {
     "iopub.execute_input": "2022-04-29T09:02:07.423370Z",
     "iopub.status.busy": "2022-04-29T09:02:07.422700Z",
     "iopub.status.idle": "2022-04-29T09:02:07.700981Z",
     "shell.execute_reply": "2022-04-29T09:02:07.701597Z"
    }
   },
   "outputs": [
    {
     "ename": "NameError",
     "evalue": "name 'hd_dpss_filled' is not defined",
     "output_type": "error",
     "traceback": [
      "\u001b[0;31m---------------------------------------------------------------------------\u001b[0m",
      "\u001b[0;31mNameError\u001b[0m                                 Traceback (most recent call last)",
      "\u001b[0;32m/tmp/ipykernel_111934/1015287854.py\u001b[0m in \u001b[0;36m<module>\u001b[0;34m\u001b[0m\n\u001b[1;32m      2\u001b[0m \u001b[0mfig\u001b[0m\u001b[0;34m,\u001b[0m \u001b[0maxes\u001b[0m \u001b[0;34m=\u001b[0m \u001b[0mplt\u001b[0m\u001b[0;34m.\u001b[0m\u001b[0msubplots\u001b[0m\u001b[0;34m(\u001b[0m\u001b[0;36m1\u001b[0m\u001b[0;34m,\u001b[0m \u001b[0;36m2\u001b[0m\u001b[0;34m,\u001b[0m \u001b[0mfigsize\u001b[0m\u001b[0;34m=\u001b[0m\u001b[0;34m(\u001b[0m\u001b[0;36m14\u001b[0m\u001b[0;34m,\u001b[0m\u001b[0;36m12\u001b[0m\u001b[0;34m)\u001b[0m\u001b[0;34m)\u001b[0m\u001b[0;34m\u001b[0m\u001b[0;34m\u001b[0m\u001b[0m\n\u001b[1;32m      3\u001b[0m \u001b[0;34m\u001b[0m\u001b[0m\n\u001b[0;32m----> 4\u001b[0;31m \u001b[0md\u001b[0m\u001b[0;34m,\u001b[0m \u001b[0mf\u001b[0m\u001b[0;34m,\u001b[0m \u001b[0mn\u001b[0m \u001b[0;34m=\u001b[0m \u001b[0mhd_dpss_filled\u001b[0m\u001b[0;34m.\u001b[0m\u001b[0mbuild_datacontainers\u001b[0m\u001b[0;34m(\u001b[0m\u001b[0;34m)\u001b[0m\u001b[0;34m\u001b[0m\u001b[0;34m\u001b[0m\u001b[0m\n\u001b[0m\u001b[1;32m      5\u001b[0m \u001b[0mlsts_unwrapped\u001b[0m \u001b[0;34m=\u001b[0m \u001b[0mnp\u001b[0m\u001b[0;34m.\u001b[0m\u001b[0mwhere\u001b[0m\u001b[0;34m(\u001b[0m\u001b[0md\u001b[0m\u001b[0;34m.\u001b[0m\u001b[0mlsts\u001b[0m \u001b[0;34m>\u001b[0m \u001b[0md\u001b[0m\u001b[0;34m.\u001b[0m\u001b[0mlsts\u001b[0m\u001b[0;34m[\u001b[0m\u001b[0;34m-\u001b[0m\u001b[0;36m1\u001b[0m\u001b[0;34m]\u001b[0m\u001b[0;34m,\u001b[0m \u001b[0md\u001b[0m\u001b[0;34m.\u001b[0m\u001b[0mlsts\u001b[0m \u001b[0;34m-\u001b[0m \u001b[0;36m2\u001b[0m \u001b[0;34m*\u001b[0m \u001b[0mnp\u001b[0m\u001b[0;34m.\u001b[0m\u001b[0mpi\u001b[0m\u001b[0;34m,\u001b[0m \u001b[0md\u001b[0m\u001b[0;34m.\u001b[0m\u001b[0mlsts\u001b[0m\u001b[0;34m)\u001b[0m \u001b[0;34m*\u001b[0m \u001b[0;36m12\u001b[0m \u001b[0;34m/\u001b[0m \u001b[0mnp\u001b[0m\u001b[0;34m.\u001b[0m\u001b[0mpi\u001b[0m  \u001b[0;31m# in hours\u001b[0m\u001b[0;34m\u001b[0m\u001b[0;34m\u001b[0m\u001b[0m\n\u001b[1;32m      6\u001b[0m \u001b[0mextent\u001b[0m \u001b[0;34m=\u001b[0m \u001b[0;34m[\u001b[0m\u001b[0md\u001b[0m\u001b[0;34m.\u001b[0m\u001b[0mfreqs\u001b[0m\u001b[0;34m[\u001b[0m\u001b[0;36m0\u001b[0m\u001b[0;34m]\u001b[0m \u001b[0;34m/\u001b[0m \u001b[0;36m1e6\u001b[0m\u001b[0;34m,\u001b[0m \u001b[0md\u001b[0m\u001b[0;34m.\u001b[0m\u001b[0mfreqs\u001b[0m\u001b[0;34m[\u001b[0m\u001b[0;34m-\u001b[0m\u001b[0;36m1\u001b[0m\u001b[0;34m]\u001b[0m \u001b[0;34m/\u001b[0m \u001b[0;36m1e6\u001b[0m\u001b[0;34m,\u001b[0m \u001b[0mlsts_unwrapped\u001b[0m\u001b[0;34m[\u001b[0m\u001b[0;34m-\u001b[0m\u001b[0;36m1\u001b[0m\u001b[0;34m]\u001b[0m\u001b[0;34m,\u001b[0m \u001b[0mlsts_unwrapped\u001b[0m\u001b[0;34m[\u001b[0m\u001b[0;36m0\u001b[0m\u001b[0;34m]\u001b[0m\u001b[0;34m]\u001b[0m\u001b[0;34m\u001b[0m\u001b[0;34m\u001b[0m\u001b[0m\n",
      "\u001b[0;31mNameError\u001b[0m: name 'hd_dpss_filled' is not defined"
     ]
    },
    {
     "data": {
      "image/png": "[encoded data removed]",
      "text/plain": [
       "<Figure size 1008x864 with 2 Axes>"
      ]
     },
     "metadata": {
      "image/png": {
       "height": 686,
       "width": 826
      },
      "needs_background": "light"
     },
     "output_type": "display_data"
    }
   ],
   "source": [
    "# plot example waterfall of final calibrated data, both abs and angle\n",
    "fig, axes = plt.subplots(1, 2, figsize=(14,12))\n",
    "\n",
    "d, f, n = hd_dpss_filled.build_datacontainers()\n",
    "lsts_unwrapped = np.where(d.lsts > d.lsts[-1], d.lsts - 2 * np.pi, d.lsts) * 12 / np.pi  # in hours\n",
    "extent = [d.freqs[0] / 1e6, d.freqs[-1] / 1e6, lsts_unwrapped[-1], lsts_unwrapped[0]]\n",
    "\n",
    "im = axes[0].imshow(np.where(final_flag_waterfall, np.nan, np.abs(d[example_bl])), aspect='auto', interpolation='none', \n",
    "                   norm=matplotlib.colors.LogNorm(), cmap='inferno', extent=extent)\n",
    "plt.colorbar(im, ax=axes[0], label='$|V_{ij}|$ (Jy)')\n",
    "axes[0].set_title(f'Final Calibrated Amplitude of {example_bl}')\n",
    "\n",
    "im = axes[1].imshow(np.where(final_flag_waterfall, np.nan, np.angle(d[example_bl])), aspect='auto', interpolation='none', \n",
    "                    cmap='twilight', extent=extent)\n",
    "plt.colorbar(im, ax=axes[1], label='Angle($V_{ij})$ (radians)')\n",
    "axes[1].set_title(f'Final Calibrated Phase of {example_bl}')\n",
    "\n",
    "for ax in axes:\n",
    "    ax.set_xlabel('Frequency (MHz)')\n",
    "    ax.set_ylabel('LST (hours)')\n",
    "plt.tight_layout()"
   ]
  },
  {
   "cell_type": "markdown",
   "id": "cb7bf4db",
   "metadata": {},
   "source": [
    "### Figure 4: Full-Day, Final Calibrated Amplitude and Phase of an Example Baseline\n",
    "This is after reflection calibration but before any delay or cross-talk filtering."
   ]
  },
  {
   "cell_type": "markdown",
   "id": "477dbaf5",
   "metadata": {},
   "source": [
    "## Examine DPSS-Inpainted Visibilities"
   ]
  },
  {
   "cell_type": "code",
   "execution_count": 19,
   "id": "ecd08b90",
   "metadata": {
    "ExecuteTime": {
     "end_time": "2022-04-28T01:01:12.613840Z",
     "start_time": "2022-04-28T01:00:54.959551Z"
    },
    "execution": {
     "iopub.execute_input": "2022-04-29T09:02:07.704338Z",
     "iopub.status.busy": "2022-04-29T09:02:07.703573Z",
     "iopub.status.idle": "2022-04-29T09:02:07.714462Z",
     "shell.execute_reply": "2022-04-29T09:02:07.714948Z"
    }
   },
   "outputs": [
    {
     "ename": "NameError",
     "evalue": "name 'hd_dpss_filled' is not defined",
     "output_type": "error",
     "traceback": [
      "\u001b[0;31m---------------------------------------------------------------------------\u001b[0m",
      "\u001b[0;31mNameError\u001b[0m                                 Traceback (most recent call last)",
      "\u001b[0;32m/tmp/ipykernel_111934/1945499977.py\u001b[0m in \u001b[0;36m<module>\u001b[0;34m\u001b[0m\n\u001b[1;32m      1\u001b[0m \u001b[0;31m# FFT visibilities in 1D and 2D\u001b[0m\u001b[0;34m\u001b[0m\u001b[0;34m\u001b[0m\u001b[0m\n\u001b[0;32m----> 2\u001b[0;31m \u001b[0mF_filled\u001b[0m \u001b[0;34m=\u001b[0m \u001b[0mFRFilter\u001b[0m\u001b[0;34m(\u001b[0m\u001b[0mhd_dpss_filled\u001b[0m\u001b[0;34m)\u001b[0m\u001b[0;34m\u001b[0m\u001b[0;34m\u001b[0m\u001b[0m\n\u001b[0m\u001b[1;32m      3\u001b[0m F_filled.fft_data(data=F_filled.data, assign='dfft', ax='freq', window='bh', \n\u001b[1;32m      4\u001b[0m                   edgecut_low=ecf_low, edgecut_hi=ecf_high, overwrite=True)\n\u001b[1;32m      5\u001b[0m F_filled.vis_clean(data=F_filled.data, flags=F_filled.flags, keys=[example_bl], ax='time', max_frate=5, tol=1e-6, gain=0.9,\n",
      "\u001b[0;31mNameError\u001b[0m: name 'hd_dpss_filled' is not defined"
     ]
    }
   ],
   "source": [
    "# FFT visibilities in 1D and 2D\n",
    "F_filled = FRFilter(hd_dpss_filled)\n",
    "F_filled.fft_data(data=F_filled.data, assign='dfft', ax='freq', window='bh', \n",
    "                  edgecut_low=ecf_low, edgecut_hi=ecf_high, overwrite=True)\n",
    "F_filled.vis_clean(data=F_filled.data, flags=F_filled.flags, keys=[example_bl], ax='time', max_frate=5, tol=1e-6, gain=0.9,\n",
    "                   window='bh', alpha=0.1, overwrite=True, verbose=True, x=F_filled.times*24*3600, output_prefix='xclean')\n",
    "F_filled.fft_data(data=F_filled.xclean_data, keys=[example_bl], assign='xdfft2', ax='both', window=('bh','bh'), \n",
    "                  edgecut_low=(ect_low, ecf_low), edgecut_hi=(ect_high, ecf_high), overwrite=True)"
   ]
  },
  {
   "cell_type": "code",
   "execution_count": 20,
   "id": "8b6e9736",
   "metadata": {
    "ExecuteTime": {
     "end_time": "2022-04-28T01:01:13.510159Z",
     "start_time": "2022-04-28T01:01:12.615527Z"
    },
    "execution": {
     "iopub.execute_input": "2022-04-29T09:02:07.717260Z",
     "iopub.status.busy": "2022-04-29T09:02:07.716577Z",
     "iopub.status.idle": "2022-04-29T09:02:07.726950Z",
     "shell.execute_reply": "2022-04-29T09:02:07.727451Z"
    }
   },
   "outputs": [
    {
     "ename": "NameError",
     "evalue": "name 'F_filled' is not defined",
     "output_type": "error",
     "traceback": [
      "\u001b[0;31m---------------------------------------------------------------------------\u001b[0m",
      "\u001b[0;31mNameError\u001b[0m                                 Traceback (most recent call last)",
      "\u001b[0;32m/tmp/ipykernel_111934/2606342410.py\u001b[0m in \u001b[0;36m<module>\u001b[0;34m\u001b[0m\n\u001b[1;32m      1\u001b[0m \u001b[0;31m# plot real part of DPSS inpainted example waterfall\u001b[0m\u001b[0;34m\u001b[0m\u001b[0;34m\u001b[0m\u001b[0m\n\u001b[0;32m----> 2\u001b[0;31m \u001b[0mlsts_unwrapped\u001b[0m \u001b[0;34m=\u001b[0m \u001b[0mnp\u001b[0m\u001b[0;34m.\u001b[0m\u001b[0mwhere\u001b[0m\u001b[0;34m(\u001b[0m\u001b[0mF_filled\u001b[0m\u001b[0;34m.\u001b[0m\u001b[0mlsts\u001b[0m \u001b[0;34m>\u001b[0m \u001b[0mF_filled\u001b[0m\u001b[0;34m.\u001b[0m\u001b[0mlsts\u001b[0m\u001b[0;34m[\u001b[0m\u001b[0;34m-\u001b[0m\u001b[0;36m1\u001b[0m\u001b[0;34m]\u001b[0m\u001b[0;34m,\u001b[0m \u001b[0mF_filled\u001b[0m\u001b[0;34m.\u001b[0m\u001b[0mlsts\u001b[0m \u001b[0;34m-\u001b[0m \u001b[0;36m2\u001b[0m \u001b[0;34m*\u001b[0m \u001b[0mnp\u001b[0m\u001b[0;34m.\u001b[0m\u001b[0mpi\u001b[0m\u001b[0;34m,\u001b[0m \u001b[0mF_filled\u001b[0m\u001b[0;34m.\u001b[0m\u001b[0mlsts\u001b[0m\u001b[0;34m)\u001b[0m \u001b[0;34m*\u001b[0m \u001b[0;36m12\u001b[0m \u001b[0;34m/\u001b[0m \u001b[0mnp\u001b[0m\u001b[0;34m.\u001b[0m\u001b[0mpi\u001b[0m  \u001b[0;31m# in hours\u001b[0m\u001b[0;34m\u001b[0m\u001b[0;34m\u001b[0m\u001b[0m\n\u001b[0m\u001b[1;32m      3\u001b[0m \u001b[0mextent\u001b[0m \u001b[0;34m=\u001b[0m \u001b[0;34m[\u001b[0m\u001b[0mF_filled\u001b[0m\u001b[0;34m.\u001b[0m\u001b[0mfreqs\u001b[0m\u001b[0;34m[\u001b[0m\u001b[0;36m0\u001b[0m\u001b[0;34m]\u001b[0m\u001b[0;34m/\u001b[0m\u001b[0;36m1e6\u001b[0m\u001b[0;34m,\u001b[0m \u001b[0mF_filled\u001b[0m\u001b[0;34m.\u001b[0m\u001b[0mfreqs\u001b[0m\u001b[0;34m[\u001b[0m\u001b[0;34m-\u001b[0m\u001b[0;36m1\u001b[0m\u001b[0;34m]\u001b[0m\u001b[0;34m/\u001b[0m\u001b[0;36m1e6\u001b[0m\u001b[0;34m,\u001b[0m \u001b[0mlsts_unwrapped\u001b[0m\u001b[0;34m[\u001b[0m\u001b[0;34m-\u001b[0m\u001b[0;36m1\u001b[0m\u001b[0;34m]\u001b[0m\u001b[0;34m,\u001b[0m \u001b[0mlsts_unwrapped\u001b[0m\u001b[0;34m[\u001b[0m\u001b[0;36m0\u001b[0m\u001b[0;34m]\u001b[0m\u001b[0;34m]\u001b[0m\u001b[0;34m\u001b[0m\u001b[0;34m\u001b[0m\u001b[0m\n\u001b[1;32m      4\u001b[0m \u001b[0;34m\u001b[0m\u001b[0m\n\u001b[1;32m      5\u001b[0m \u001b[0;32mdef\u001b[0m \u001b[0msym_log_norm\u001b[0m\u001b[0;34m(\u001b[0m\u001b[0mto_plot\u001b[0m\u001b[0;34m)\u001b[0m\u001b[0;34m:\u001b[0m\u001b[0;34m\u001b[0m\u001b[0;34m\u001b[0m\u001b[0m\n",
      "\u001b[0;31mNameError\u001b[0m: name 'F_filled' is not defined"
     ]
    }
   ],
   "source": [
    "# plot real part of DPSS inpainted example waterfall\n",
    "lsts_unwrapped = np.where(F_filled.lsts > F_filled.lsts[-1], F_filled.lsts - 2 * np.pi, F_filled.lsts) * 12 / np.pi  # in hours\n",
    "extent = [F_filled.freqs[0]/1e6, F_filled.freqs[-1]/1e6, lsts_unwrapped[-1], lsts_unwrapped[0]]\n",
    "\n",
    "def sym_log_norm(to_plot):\n",
    "    '''Shortcut for symmetric sym log norm.'''\n",
    "    return matplotlib.colors.SymLogNorm(10, vmin=-np.nanmax(np.abs(to_plot)), vmax=np.nanmax(np.abs(to_plot)))\n",
    "\n",
    "plt.figure(figsize=(14,8))\n",
    "to_plot = np.where(F_filled.flags[example_bl], np.nan, F_filled.data[example_bl]).real\n",
    "plt.imshow(to_plot, aspect='auto', interpolation='none',  cmap='bwr', extent=extent, norm=sym_log_norm(to_plot))\n",
    "plt.colorbar(label='Re$[V_{ij}]$ (Jy)')\n",
    "plt.xlabel('Frequency (MHz)')\n",
    "plt.ylabel('LST (Hours)')\n",
    "plt.title(f'Final Calibrated, DPSS Inpainted Visibility: {example_bl}')\n",
    "plt.tight_layout()"
   ]
  },
  {
   "cell_type": "markdown",
   "id": "d07dab83",
   "metadata": {},
   "source": [
    "### Figure 5a: Real Part of DPSS-Inpainted Example Waterfall"
   ]
  },
  {
   "cell_type": "code",
   "execution_count": 21,
   "id": "1b7a2e9a",
   "metadata": {
    "ExecuteTime": {
     "end_time": "2022-04-28T01:01:14.545981Z",
     "start_time": "2022-04-28T01:01:13.511597Z"
    },
    "execution": {
     "iopub.execute_input": "2022-04-29T09:02:07.729781Z",
     "iopub.status.busy": "2022-04-29T09:02:07.729104Z",
     "iopub.status.idle": "2022-04-29T09:02:07.740716Z",
     "shell.execute_reply": "2022-04-29T09:02:07.741227Z"
    }
   },
   "outputs": [
    {
     "ename": "NameError",
     "evalue": "name 'F_filled' is not defined",
     "output_type": "error",
     "traceback": [
      "\u001b[0;31m---------------------------------------------------------------------------\u001b[0m",
      "\u001b[0;31mNameError\u001b[0m                                 Traceback (most recent call last)",
      "\u001b[0;32m/tmp/ipykernel_111934/7163637.py\u001b[0m in \u001b[0;36m<module>\u001b[0;34m\u001b[0m\n\u001b[1;32m      1\u001b[0m \u001b[0;31m# plot in delay space\u001b[0m\u001b[0;34m\u001b[0m\u001b[0;34m\u001b[0m\u001b[0m\n\u001b[1;32m      2\u001b[0m \u001b[0mplt\u001b[0m\u001b[0;34m.\u001b[0m\u001b[0mfigure\u001b[0m\u001b[0;34m(\u001b[0m\u001b[0mfigsize\u001b[0m\u001b[0;34m=\u001b[0m\u001b[0;34m(\u001b[0m\u001b[0;36m14\u001b[0m\u001b[0;34m,\u001b[0m\u001b[0;36m8\u001b[0m\u001b[0;34m)\u001b[0m\u001b[0;34m)\u001b[0m\u001b[0;34m\u001b[0m\u001b[0;34m\u001b[0m\u001b[0m\n\u001b[0;32m----> 3\u001b[0;31m \u001b[0mto_plot\u001b[0m \u001b[0;34m=\u001b[0m \u001b[0mnp\u001b[0m\u001b[0;34m.\u001b[0m\u001b[0mwhere\u001b[0m\u001b[0;34m(\u001b[0m\u001b[0mnp\u001b[0m\u001b[0;34m.\u001b[0m\u001b[0mall\u001b[0m\u001b[0;34m(\u001b[0m\u001b[0mF_filled\u001b[0m\u001b[0;34m.\u001b[0m\u001b[0mflags\u001b[0m\u001b[0;34m[\u001b[0m\u001b[0mexample_bl\u001b[0m\u001b[0;34m]\u001b[0m\u001b[0;34m,\u001b[0m \u001b[0maxis\u001b[0m\u001b[0;34m=\u001b[0m\u001b[0;36m1\u001b[0m\u001b[0;34m,\u001b[0m \u001b[0mkeepdims\u001b[0m\u001b[0;34m=\u001b[0m\u001b[0;32mTrue\u001b[0m\u001b[0;34m)\u001b[0m\u001b[0;34m,\u001b[0m \u001b[0mnp\u001b[0m\u001b[0;34m.\u001b[0m\u001b[0mnan\u001b[0m\u001b[0;34m,\u001b[0m \u001b[0mnp\u001b[0m\u001b[0;34m.\u001b[0m\u001b[0mreal\u001b[0m\u001b[0;34m(\u001b[0m\u001b[0mF_filled\u001b[0m\u001b[0;34m.\u001b[0m\u001b[0mdfft\u001b[0m\u001b[0;34m[\u001b[0m\u001b[0mexample_bl\u001b[0m\u001b[0;34m]\u001b[0m\u001b[0;34m)\u001b[0m\u001b[0;34m)\u001b[0m\u001b[0;34m\u001b[0m\u001b[0;34m\u001b[0m\u001b[0m\n\u001b[0m\u001b[1;32m      4\u001b[0m plt.imshow(to_plot, interpolation='none', aspect='auto', cmap='bwr', norm=sym_log_norm(to_plot),\n\u001b[1;32m      5\u001b[0m            extent=[F_filled.delays[0], F_filled.delays[-1], lsts_unwrapped[-1], lsts_unwrapped[0]])\n",
      "\u001b[0;31mNameError\u001b[0m: name 'F_filled' is not defined"
     ]
    },
    {
     "data": {
      "text/plain": [
       "<Figure size 1008x576 with 0 Axes>"
      ]
     },
     "metadata": {},
     "output_type": "display_data"
    }
   ],
   "source": [
    "# plot in delay space\n",
    "plt.figure(figsize=(14,8))\n",
    "to_plot = np.where(np.all(F_filled.flags[example_bl], axis=1, keepdims=True), np.nan, np.real(F_filled.dfft[example_bl]))\n",
    "plt.imshow(to_plot, interpolation='none', aspect='auto', cmap='bwr', norm=sym_log_norm(to_plot),\n",
    "           extent=[F_filled.delays[0], F_filled.delays[-1], lsts_unwrapped[-1], lsts_unwrapped[0]])\n",
    "plt.xlim([-2000, 2000])\n",
    "plt.xlabel('Delay (ns)')\n",
    "plt.ylabel('LST (hours)')\n",
    "plt.colorbar(label=r'Re$[\\widetilde{V}_{ij}]$ (Jy Hz)')\n",
    "plt.title(f'Final Calibrated, DPSS Inpainted Visibility: {example_bl}')\n",
    "plt.tight_layout()"
   ]
  },
  {
   "cell_type": "markdown",
   "id": "46d41dfb",
   "metadata": {},
   "source": [
    "### Figure 5b: Real Part of DPSS-Inpainted Example Waterfall in Delay Space"
   ]
  },
  {
   "cell_type": "code",
   "execution_count": 22,
   "id": "4f934e52",
   "metadata": {
    "ExecuteTime": {
     "end_time": "2022-04-28T01:01:15.461914Z",
     "start_time": "2022-04-28T01:01:14.547334Z"
    },
    "execution": {
     "iopub.execute_input": "2022-04-29T09:02:07.743669Z",
     "iopub.status.busy": "2022-04-29T09:02:07.742946Z",
     "iopub.status.idle": "2022-04-29T09:02:07.752288Z",
     "shell.execute_reply": "2022-04-29T09:02:07.752790Z"
    }
   },
   "outputs": [
    {
     "ename": "NameError",
     "evalue": "name 'F_filled' is not defined",
     "output_type": "error",
     "traceback": [
      "\u001b[0;31m---------------------------------------------------------------------------\u001b[0m",
      "\u001b[0;31mNameError\u001b[0m                                 Traceback (most recent call last)",
      "\u001b[0;32m/tmp/ipykernel_111934/2161321913.py\u001b[0m in \u001b[0;36m<module>\u001b[0;34m\u001b[0m\n\u001b[1;32m      1\u001b[0m \u001b[0;31m# plot in delay space and FR space\u001b[0m\u001b[0;34m\u001b[0m\u001b[0;34m\u001b[0m\u001b[0m\n\u001b[0;32m----> 2\u001b[0;31m \u001b[0mextent\u001b[0m \u001b[0;34m=\u001b[0m \u001b[0;34m[\u001b[0m\u001b[0mF_filled\u001b[0m\u001b[0;34m.\u001b[0m\u001b[0mdelays\u001b[0m\u001b[0;34m[\u001b[0m\u001b[0;36m0\u001b[0m\u001b[0;34m]\u001b[0m\u001b[0;34m,\u001b[0m \u001b[0mF_filled\u001b[0m\u001b[0;34m.\u001b[0m\u001b[0mdelays\u001b[0m\u001b[0;34m[\u001b[0m\u001b[0;34m-\u001b[0m\u001b[0;36m1\u001b[0m\u001b[0;34m]\u001b[0m\u001b[0;34m,\u001b[0m \u001b[0mF_filled\u001b[0m\u001b[0;34m.\u001b[0m\u001b[0mfrates\u001b[0m\u001b[0;34m[\u001b[0m\u001b[0;34m-\u001b[0m\u001b[0;36m1\u001b[0m\u001b[0;34m]\u001b[0m\u001b[0;34m,\u001b[0m \u001b[0mF_filled\u001b[0m\u001b[0;34m.\u001b[0m\u001b[0mfrates\u001b[0m\u001b[0;34m[\u001b[0m\u001b[0;36m0\u001b[0m\u001b[0;34m]\u001b[0m\u001b[0;34m]\u001b[0m\u001b[0;34m\u001b[0m\u001b[0;34m\u001b[0m\u001b[0m\n\u001b[0m\u001b[1;32m      3\u001b[0m \u001b[0mplt\u001b[0m\u001b[0;34m.\u001b[0m\u001b[0mfigure\u001b[0m\u001b[0;34m(\u001b[0m\u001b[0mfigsize\u001b[0m\u001b[0;34m=\u001b[0m\u001b[0;34m(\u001b[0m\u001b[0;36m14\u001b[0m\u001b[0;34m,\u001b[0m\u001b[0;36m8\u001b[0m\u001b[0;34m)\u001b[0m\u001b[0;34m)\u001b[0m\u001b[0;34m\u001b[0m\u001b[0;34m\u001b[0m\u001b[0m\n\u001b[1;32m      4\u001b[0m plt.imshow(np.abs(F_filled.xdfft2[example_bl]), aspect='auto', interpolation='none', \n\u001b[1;32m      5\u001b[0m            norm=matplotlib.colors.LogNorm(), cmap='turbo', extent=extent)\n",
      "\u001b[0;31mNameError\u001b[0m: name 'F_filled' is not defined"
     ]
    }
   ],
   "source": [
    "# plot in delay space and FR space\n",
    "extent = [F_filled.delays[0], F_filled.delays[-1], F_filled.frates[-1], F_filled.frates[0]]\n",
    "plt.figure(figsize=(14,8))\n",
    "plt.imshow(np.abs(F_filled.xdfft2[example_bl]), aspect='auto', interpolation='none', \n",
    "           norm=matplotlib.colors.LogNorm(), cmap='turbo', extent=extent)\n",
    "plt.colorbar(label='$|\\widetilde{V}_{ij}|$ (Jy)')\n",
    "plt.xlabel('Delay (ns)')\n",
    "plt.xlim([-2000, 2000])\n",
    "plt.ylim([-5, 5])\n",
    "plt.ylabel('Fringe Rate (mHz)')\n",
    "plt.title(f'Final Calibrated, DPSS Inpainted (in Frequency) and CLEAN Inpainted (in Time): {example_bl}')\n",
    "plt.tight_layout()"
   ]
  },
  {
   "cell_type": "markdown",
   "id": "c5455c12",
   "metadata": {},
   "source": [
    "### Figure 5c: Magnitude of DPSS-Inpainted Example Waterfall in Fringe-Rate / Delay Space"
   ]
  },
  {
   "cell_type": "markdown",
   "id": "441fa2bb",
   "metadata": {},
   "source": [
    "## Examine DPSS-Residual Visibilities"
   ]
  },
  {
   "cell_type": "code",
   "execution_count": 23,
   "id": "d2306ed7",
   "metadata": {
    "ExecuteTime": {
     "end_time": "2022-04-28T01:01:34.217364Z",
     "start_time": "2022-04-28T01:01:15.463286Z"
    },
    "execution": {
     "iopub.execute_input": "2022-04-29T09:02:07.755099Z",
     "iopub.status.busy": "2022-04-29T09:02:07.754430Z",
     "iopub.status.idle": "2022-04-29T09:02:07.763330Z",
     "shell.execute_reply": "2022-04-29T09:02:07.763814Z"
    }
   },
   "outputs": [
    {
     "ename": "NameError",
     "evalue": "name 'hd_dpss_res' is not defined",
     "output_type": "error",
     "traceback": [
      "\u001b[0;31m---------------------------------------------------------------------------\u001b[0m",
      "\u001b[0;31mNameError\u001b[0m                                 Traceback (most recent call last)",
      "\u001b[0;32m/tmp/ipykernel_111934/3205888596.py\u001b[0m in \u001b[0;36m<module>\u001b[0;34m\u001b[0m\n\u001b[1;32m      1\u001b[0m \u001b[0;31m# FFT visibilities in 1D and 2D\u001b[0m\u001b[0;34m\u001b[0m\u001b[0;34m\u001b[0m\u001b[0m\n\u001b[0;32m----> 2\u001b[0;31m \u001b[0mF_res\u001b[0m \u001b[0;34m=\u001b[0m \u001b[0mFRFilter\u001b[0m\u001b[0;34m(\u001b[0m\u001b[0mhd_dpss_res\u001b[0m\u001b[0;34m)\u001b[0m\u001b[0;34m\u001b[0m\u001b[0;34m\u001b[0m\u001b[0m\n\u001b[0m\u001b[1;32m      3\u001b[0m F_res.fft_data(data=F_res.data, assign='dfft', ax='freq', window='bh', \n\u001b[1;32m      4\u001b[0m                edgecut_low=ecf_low, edgecut_hi=ecf_high, overwrite=True)\n\u001b[1;32m      5\u001b[0m F_res.vis_clean(data=F_res.data, flags=F_res.flags, keys=[example_bl], ax='time', max_frate=5, tol=1e-6, gain=0.9,\n",
      "\u001b[0;31mNameError\u001b[0m: name 'hd_dpss_res' is not defined"
     ]
    }
   ],
   "source": [
    "# FFT visibilities in 1D and 2D\n",
    "F_res = FRFilter(hd_dpss_res)\n",
    "F_res.fft_data(data=F_res.data, assign='dfft', ax='freq', window='bh', \n",
    "               edgecut_low=ecf_low, edgecut_hi=ecf_high, overwrite=True)\n",
    "F_res.vis_clean(data=F_res.data, flags=F_res.flags, keys=[example_bl], ax='time', max_frate=5, tol=1e-6, gain=0.9,\n",
    "                   window='bh', alpha=0.1, overwrite=True, verbose=True, x=F_res.times*24*3600, output_prefix='xclean')\n",
    "F_res.fft_data(data=F_res.xclean_data, keys=[example_bl], assign='xdfft2', ax='both', window=('bh','bh'), \n",
    "                  edgecut_low=(ect_low, ecf_low), edgecut_hi=(ect_high, ecf_high), overwrite=True)"
   ]
  },
  {
   "cell_type": "code",
   "execution_count": 24,
   "id": "94bc85c2",
   "metadata": {
    "ExecuteTime": {
     "end_time": "2022-04-28T01:01:35.275500Z",
     "start_time": "2022-04-28T01:01:34.218670Z"
    },
    "execution": {
     "iopub.execute_input": "2022-04-29T09:02:07.766039Z",
     "iopub.status.busy": "2022-04-29T09:02:07.765367Z",
     "iopub.status.idle": "2022-04-29T09:02:07.774527Z",
     "shell.execute_reply": "2022-04-29T09:02:07.775024Z"
    }
   },
   "outputs": [
    {
     "ename": "NameError",
     "evalue": "name 'F_res' is not defined",
     "output_type": "error",
     "traceback": [
      "\u001b[0;31m---------------------------------------------------------------------------\u001b[0m",
      "\u001b[0;31mNameError\u001b[0m                                 Traceback (most recent call last)",
      "\u001b[0;32m/tmp/ipykernel_111934/1828869259.py\u001b[0m in \u001b[0;36m<module>\u001b[0;34m\u001b[0m\n\u001b[1;32m      1\u001b[0m \u001b[0;31m# plot real part of DPSS residual example waterfall\u001b[0m\u001b[0;34m\u001b[0m\u001b[0;34m\u001b[0m\u001b[0m\n\u001b[0;32m----> 2\u001b[0;31m \u001b[0mlsts_unwrapped\u001b[0m \u001b[0;34m=\u001b[0m \u001b[0mnp\u001b[0m\u001b[0;34m.\u001b[0m\u001b[0mwhere\u001b[0m\u001b[0;34m(\u001b[0m\u001b[0mF_res\u001b[0m\u001b[0;34m.\u001b[0m\u001b[0mlsts\u001b[0m \u001b[0;34m>\u001b[0m \u001b[0mF_res\u001b[0m\u001b[0;34m.\u001b[0m\u001b[0mlsts\u001b[0m\u001b[0;34m[\u001b[0m\u001b[0;34m-\u001b[0m\u001b[0;36m1\u001b[0m\u001b[0;34m]\u001b[0m\u001b[0;34m,\u001b[0m \u001b[0mF_res\u001b[0m\u001b[0;34m.\u001b[0m\u001b[0mlsts\u001b[0m \u001b[0;34m-\u001b[0m \u001b[0;36m2\u001b[0m \u001b[0;34m*\u001b[0m \u001b[0mnp\u001b[0m\u001b[0;34m.\u001b[0m\u001b[0mpi\u001b[0m\u001b[0;34m,\u001b[0m \u001b[0mF_res\u001b[0m\u001b[0;34m.\u001b[0m\u001b[0mlsts\u001b[0m\u001b[0;34m)\u001b[0m \u001b[0;34m*\u001b[0m \u001b[0;36m12\u001b[0m \u001b[0;34m/\u001b[0m \u001b[0mnp\u001b[0m\u001b[0;34m.\u001b[0m\u001b[0mpi\u001b[0m  \u001b[0;31m# in hours\u001b[0m\u001b[0;34m\u001b[0m\u001b[0;34m\u001b[0m\u001b[0m\n\u001b[0m\u001b[1;32m      3\u001b[0m \u001b[0mextent\u001b[0m \u001b[0;34m=\u001b[0m \u001b[0;34m[\u001b[0m\u001b[0mF_res\u001b[0m\u001b[0;34m.\u001b[0m\u001b[0mfreqs\u001b[0m\u001b[0;34m[\u001b[0m\u001b[0;36m0\u001b[0m\u001b[0;34m]\u001b[0m\u001b[0;34m/\u001b[0m\u001b[0;36m1e6\u001b[0m\u001b[0;34m,\u001b[0m \u001b[0mF_res\u001b[0m\u001b[0;34m.\u001b[0m\u001b[0mfreqs\u001b[0m\u001b[0;34m[\u001b[0m\u001b[0;34m-\u001b[0m\u001b[0;36m1\u001b[0m\u001b[0;34m]\u001b[0m\u001b[0;34m/\u001b[0m\u001b[0;36m1e6\u001b[0m\u001b[0;34m,\u001b[0m \u001b[0mlsts_unwrapped\u001b[0m\u001b[0;34m[\u001b[0m\u001b[0;34m-\u001b[0m\u001b[0;36m1\u001b[0m\u001b[0;34m]\u001b[0m\u001b[0;34m,\u001b[0m \u001b[0mlsts_unwrapped\u001b[0m\u001b[0;34m[\u001b[0m\u001b[0;36m0\u001b[0m\u001b[0;34m]\u001b[0m\u001b[0;34m]\u001b[0m\u001b[0;34m\u001b[0m\u001b[0;34m\u001b[0m\u001b[0m\n\u001b[1;32m      4\u001b[0m \u001b[0;34m\u001b[0m\u001b[0m\n\u001b[1;32m      5\u001b[0m \u001b[0mplt\u001b[0m\u001b[0;34m.\u001b[0m\u001b[0mfigure\u001b[0m\u001b[0;34m(\u001b[0m\u001b[0mfigsize\u001b[0m\u001b[0;34m=\u001b[0m\u001b[0;34m(\u001b[0m\u001b[0;36m14\u001b[0m\u001b[0;34m,\u001b[0m\u001b[0;36m8\u001b[0m\u001b[0;34m)\u001b[0m\u001b[0;34m)\u001b[0m\u001b[0;34m\u001b[0m\u001b[0;34m\u001b[0m\u001b[0m\n",
      "\u001b[0;31mNameError\u001b[0m: name 'F_res' is not defined"
     ]
    }
   ],
   "source": [
    "# plot real part of DPSS residual example waterfall\n",
    "lsts_unwrapped = np.where(F_res.lsts > F_res.lsts[-1], F_res.lsts - 2 * np.pi, F_res.lsts) * 12 / np.pi  # in hours\n",
    "extent = [F_res.freqs[0]/1e6, F_res.freqs[-1]/1e6, lsts_unwrapped[-1], lsts_unwrapped[0]]\n",
    "\n",
    "plt.figure(figsize=(14,8))\n",
    "to_plot = np.where(F_res.flags[example_bl], np.nan, F_res.data[example_bl]).real\n",
    "plt.imshow(to_plot, aspect='auto', interpolation='none', norm=sym_log_norm(to_plot), cmap='bwr', extent=extent)\n",
    "plt.colorbar(label='Re$[V_{ij}]$ (Jy)')\n",
    "plt.xlabel('Frequency (MHz)')\n",
    "plt.ylabel('LST (Hours)')\n",
    "plt.title(f'Final Calibrated, DPSS Residual Visibility: {example_bl}')\n",
    "plt.tight_layout()"
   ]
  },
  {
   "cell_type": "markdown",
   "id": "74361871",
   "metadata": {
    "ExecuteTime": {
     "end_time": "2022-04-27T02:20:28.039375Z",
     "start_time": "2022-04-27T02:20:12.289977Z"
    }
   },
   "source": [
    "### Figure 6a: Real Part of DPSS-Residual Example Waterfall"
   ]
  },
  {
   "cell_type": "code",
   "execution_count": 25,
   "id": "5f29f171",
   "metadata": {
    "ExecuteTime": {
     "end_time": "2022-04-28T01:01:36.257326Z",
     "start_time": "2022-04-28T01:01:35.276722Z"
    },
    "execution": {
     "iopub.execute_input": "2022-04-29T09:02:07.777282Z",
     "iopub.status.busy": "2022-04-29T09:02:07.776622Z",
     "iopub.status.idle": "2022-04-29T09:02:07.787878Z",
     "shell.execute_reply": "2022-04-29T09:02:07.788402Z"
    }
   },
   "outputs": [
    {
     "ename": "NameError",
     "evalue": "name 'F_res' is not defined",
     "output_type": "error",
     "traceback": [
      "\u001b[0;31m---------------------------------------------------------------------------\u001b[0m",
      "\u001b[0;31mNameError\u001b[0m                                 Traceback (most recent call last)",
      "\u001b[0;32m/tmp/ipykernel_111934/3195832270.py\u001b[0m in \u001b[0;36m<module>\u001b[0;34m\u001b[0m\n\u001b[1;32m      1\u001b[0m \u001b[0;31m# plot in delay space\u001b[0m\u001b[0;34m\u001b[0m\u001b[0;34m\u001b[0m\u001b[0m\n\u001b[1;32m      2\u001b[0m \u001b[0mplt\u001b[0m\u001b[0;34m.\u001b[0m\u001b[0mfigure\u001b[0m\u001b[0;34m(\u001b[0m\u001b[0mfigsize\u001b[0m\u001b[0;34m=\u001b[0m\u001b[0;34m(\u001b[0m\u001b[0;36m14\u001b[0m\u001b[0;34m,\u001b[0m\u001b[0;36m8\u001b[0m\u001b[0;34m)\u001b[0m\u001b[0;34m)\u001b[0m\u001b[0;34m\u001b[0m\u001b[0;34m\u001b[0m\u001b[0m\n\u001b[0;32m----> 3\u001b[0;31m \u001b[0mto_plot\u001b[0m \u001b[0;34m=\u001b[0m \u001b[0mnp\u001b[0m\u001b[0;34m.\u001b[0m\u001b[0mwhere\u001b[0m\u001b[0;34m(\u001b[0m\u001b[0mnp\u001b[0m\u001b[0;34m.\u001b[0m\u001b[0mall\u001b[0m\u001b[0;34m(\u001b[0m\u001b[0mF_res\u001b[0m\u001b[0;34m.\u001b[0m\u001b[0mflags\u001b[0m\u001b[0;34m[\u001b[0m\u001b[0mexample_bl\u001b[0m\u001b[0;34m]\u001b[0m\u001b[0;34m,\u001b[0m \u001b[0maxis\u001b[0m\u001b[0;34m=\u001b[0m\u001b[0;36m1\u001b[0m\u001b[0;34m,\u001b[0m \u001b[0mkeepdims\u001b[0m\u001b[0;34m=\u001b[0m\u001b[0;32mTrue\u001b[0m\u001b[0;34m)\u001b[0m\u001b[0;34m,\u001b[0m \u001b[0mnp\u001b[0m\u001b[0;34m.\u001b[0m\u001b[0mnan\u001b[0m\u001b[0;34m,\u001b[0m \u001b[0mnp\u001b[0m\u001b[0;34m.\u001b[0m\u001b[0mreal\u001b[0m\u001b[0;34m(\u001b[0m\u001b[0mF_res\u001b[0m\u001b[0;34m.\u001b[0m\u001b[0mdfft\u001b[0m\u001b[0;34m[\u001b[0m\u001b[0mexample_bl\u001b[0m\u001b[0;34m]\u001b[0m\u001b[0;34m)\u001b[0m\u001b[0;34m)\u001b[0m\u001b[0;34m\u001b[0m\u001b[0;34m\u001b[0m\u001b[0m\n\u001b[0m\u001b[1;32m      4\u001b[0m plt.imshow(to_plot, interpolation='none', aspect='auto', cmap='bwr', norm=sym_log_norm(to_plot),\n\u001b[1;32m      5\u001b[0m            extent=[F_res.delays[0], F_res.delays[-1], lsts_unwrapped[-1], lsts_unwrapped[0]])\n",
      "\u001b[0;31mNameError\u001b[0m: name 'F_res' is not defined"
     ]
    },
    {
     "data": {
      "text/plain": [
       "<Figure size 1008x576 with 0 Axes>"
      ]
     },
     "metadata": {},
     "output_type": "display_data"
    }
   ],
   "source": [
    "# plot in delay space\n",
    "plt.figure(figsize=(14,8))\n",
    "to_plot = np.where(np.all(F_res.flags[example_bl], axis=1, keepdims=True), np.nan, np.real(F_res.dfft[example_bl]))\n",
    "plt.imshow(to_plot, interpolation='none', aspect='auto', cmap='bwr', norm=sym_log_norm(to_plot),\n",
    "           extent=[F_res.delays[0], F_res.delays[-1], lsts_unwrapped[-1], lsts_unwrapped[0]])\n",
    "plt.xlim([-2000, 2000])\n",
    "plt.xlabel('Delay (ns)')\n",
    "plt.ylabel('LST (hours)')\n",
    "plt.colorbar(label=r'Re$[\\widetilde{V}_{ij}]$ (Jy Hz)')\n",
    "plt.title(f'Final Calibrated, DPSS Residual Visibility: {example_bl}')\n",
    "plt.tight_layout()"
   ]
  },
  {
   "cell_type": "markdown",
   "id": "fce62a5e",
   "metadata": {
    "ExecuteTime": {
     "end_time": "2022-04-27T02:20:28.039375Z",
     "start_time": "2022-04-27T02:20:12.289977Z"
    }
   },
   "source": [
    "### Figure 6b: Real Part of DPSS-Residual Example Waterfall in Delay Space"
   ]
  },
  {
   "cell_type": "code",
   "execution_count": 26,
   "id": "8a92352c",
   "metadata": {
    "ExecuteTime": {
     "end_time": "2022-04-28T01:01:37.169615Z",
     "start_time": "2022-04-28T01:01:36.258731Z"
    },
    "execution": {
     "iopub.execute_input": "2022-04-29T09:02:07.790826Z",
     "iopub.status.busy": "2022-04-29T09:02:07.790105Z",
     "iopub.status.idle": "2022-04-29T09:02:07.799339Z",
     "shell.execute_reply": "2022-04-29T09:02:07.799829Z"
    }
   },
   "outputs": [
    {
     "ename": "NameError",
     "evalue": "name 'F_res' is not defined",
     "output_type": "error",
     "traceback": [
      "\u001b[0;31m---------------------------------------------------------------------------\u001b[0m",
      "\u001b[0;31mNameError\u001b[0m                                 Traceback (most recent call last)",
      "\u001b[0;32m/tmp/ipykernel_111934/3070782967.py\u001b[0m in \u001b[0;36m<module>\u001b[0;34m\u001b[0m\n\u001b[1;32m      1\u001b[0m \u001b[0;31m# plot in delay space and FR space\u001b[0m\u001b[0;34m\u001b[0m\u001b[0;34m\u001b[0m\u001b[0m\n\u001b[0;32m----> 2\u001b[0;31m \u001b[0mextent\u001b[0m \u001b[0;34m=\u001b[0m \u001b[0;34m[\u001b[0m\u001b[0mF_res\u001b[0m\u001b[0;34m.\u001b[0m\u001b[0mdelays\u001b[0m\u001b[0;34m[\u001b[0m\u001b[0;36m0\u001b[0m\u001b[0;34m]\u001b[0m\u001b[0;34m,\u001b[0m \u001b[0mF_res\u001b[0m\u001b[0;34m.\u001b[0m\u001b[0mdelays\u001b[0m\u001b[0;34m[\u001b[0m\u001b[0;34m-\u001b[0m\u001b[0;36m1\u001b[0m\u001b[0;34m]\u001b[0m\u001b[0;34m,\u001b[0m \u001b[0mF_res\u001b[0m\u001b[0;34m.\u001b[0m\u001b[0mfrates\u001b[0m\u001b[0;34m[\u001b[0m\u001b[0;34m-\u001b[0m\u001b[0;36m1\u001b[0m\u001b[0;34m]\u001b[0m\u001b[0;34m,\u001b[0m \u001b[0mF_res\u001b[0m\u001b[0;34m.\u001b[0m\u001b[0mfrates\u001b[0m\u001b[0;34m[\u001b[0m\u001b[0;36m0\u001b[0m\u001b[0;34m]\u001b[0m\u001b[0;34m]\u001b[0m\u001b[0;34m\u001b[0m\u001b[0;34m\u001b[0m\u001b[0m\n\u001b[0m\u001b[1;32m      3\u001b[0m \u001b[0mplt\u001b[0m\u001b[0;34m.\u001b[0m\u001b[0mfigure\u001b[0m\u001b[0;34m(\u001b[0m\u001b[0mfigsize\u001b[0m\u001b[0;34m=\u001b[0m\u001b[0;34m(\u001b[0m\u001b[0;36m14\u001b[0m\u001b[0;34m,\u001b[0m\u001b[0;36m8\u001b[0m\u001b[0;34m)\u001b[0m\u001b[0;34m)\u001b[0m\u001b[0;34m\u001b[0m\u001b[0;34m\u001b[0m\u001b[0m\n\u001b[1;32m      4\u001b[0m plt.imshow(np.abs(F_res.xdfft2[example_bl]), aspect='auto', interpolation='none', \n\u001b[1;32m      5\u001b[0m            norm=matplotlib.colors.LogNorm(), cmap='jet', extent=extent)\n",
      "\u001b[0;31mNameError\u001b[0m: name 'F_res' is not defined"
     ]
    }
   ],
   "source": [
    "# plot in delay space and FR space\n",
    "extent = [F_res.delays[0], F_res.delays[-1], F_res.frates[-1], F_res.frates[0]]\n",
    "plt.figure(figsize=(14,8))\n",
    "plt.imshow(np.abs(F_res.xdfft2[example_bl]), aspect='auto', interpolation='none', \n",
    "           norm=matplotlib.colors.LogNorm(), cmap='jet', extent=extent)\n",
    "plt.colorbar(label='$|\\widetilde{V}_{ij}|$ (Jy)')\n",
    "plt.xlabel('Delay (ns)')\n",
    "plt.xlim([-2000, 2000])\n",
    "plt.ylim([-5, 5])\n",
    "plt.ylabel('Fringe Rate (mHz)')\n",
    "plt.title(f'Final Calibrated, DPSS Residual (in Frequency) and CLEAN Inpainted (in Time): {example_bl}')\n",
    "plt.tight_layout()"
   ]
  },
  {
   "cell_type": "markdown",
   "id": "f1bc3dbe",
   "metadata": {},
   "source": [
    "### Figure 6c: Magnitude of DPSS-Residual Example Waterfall in Fringe-Rate / Delay Space"
   ]
  },
  {
   "cell_type": "markdown",
   "id": "a1205124",
   "metadata": {},
   "source": [
    "## Examine DPSS-Residual, Cross-Talk Filtered Visibilities"
   ]
  },
  {
   "cell_type": "code",
   "execution_count": 27,
   "id": "16b96054",
   "metadata": {
    "ExecuteTime": {
     "end_time": "2022-04-28T01:01:55.389766Z",
     "start_time": "2022-04-28T01:01:37.170714Z"
    },
    "execution": {
     "iopub.execute_input": "2022-04-29T09:02:07.802116Z",
     "iopub.status.busy": "2022-04-29T09:02:07.801436Z",
     "iopub.status.idle": "2022-04-29T09:02:07.810201Z",
     "shell.execute_reply": "2022-04-29T09:02:07.810682Z"
    }
   },
   "outputs": [
    {
     "ename": "NameError",
     "evalue": "name 'hd_dpss_res_xtalk_filt' is not defined",
     "output_type": "error",
     "traceback": [
      "\u001b[0;31m---------------------------------------------------------------------------\u001b[0m",
      "\u001b[0;31mNameError\u001b[0m                                 Traceback (most recent call last)",
      "\u001b[0;32m/tmp/ipykernel_111934/2330250178.py\u001b[0m in \u001b[0;36m<module>\u001b[0;34m\u001b[0m\n\u001b[1;32m      1\u001b[0m \u001b[0;31m# FFT visibilities in 1D and 2D\u001b[0m\u001b[0;34m\u001b[0m\u001b[0;34m\u001b[0m\u001b[0m\n\u001b[0;32m----> 2\u001b[0;31m \u001b[0mF_res_filt\u001b[0m \u001b[0;34m=\u001b[0m \u001b[0mFRFilter\u001b[0m\u001b[0;34m(\u001b[0m\u001b[0mhd_dpss_res_xtalk_filt\u001b[0m\u001b[0;34m)\u001b[0m\u001b[0;34m\u001b[0m\u001b[0;34m\u001b[0m\u001b[0m\n\u001b[0m\u001b[1;32m      3\u001b[0m F_res_filt.fft_data(data=F_res_filt.data, assign='dfft', ax='freq', window='bh', \n\u001b[1;32m      4\u001b[0m                     edgecut_low=ecf_low, edgecut_hi=ecf_high, overwrite=True)\n\u001b[1;32m      5\u001b[0m F_res_filt.vis_clean(data=F_res_filt.data, flags=F_res_filt.flags, keys=[example_bl], ax='time', max_frate=5, tol=1e-6, gain=0.9,\n",
      "\u001b[0;31mNameError\u001b[0m: name 'hd_dpss_res_xtalk_filt' is not defined"
     ]
    }
   ],
   "source": [
    "# FFT visibilities in 1D and 2D\n",
    "F_res_filt = FRFilter(hd_dpss_res_xtalk_filt)\n",
    "F_res_filt.fft_data(data=F_res_filt.data, assign='dfft', ax='freq', window='bh', \n",
    "                    edgecut_low=ecf_low, edgecut_hi=ecf_high, overwrite=True)\n",
    "F_res_filt.vis_clean(data=F_res_filt.data, flags=F_res_filt.flags, keys=[example_bl], ax='time', max_frate=5, tol=1e-6, gain=0.9,\n",
    "                   window='bh', alpha=0.1, overwrite=True, verbose=True, x=F_res_filt.times*24*3600, output_prefix='xclean')\n",
    "F_res_filt.fft_data(data=F_res_filt.xclean_data, keys=[example_bl], assign='xdfft2', ax='both', window=('bh','bh'), \n",
    "                  edgecut_low=(ect_low, ecf_low), edgecut_hi=(ect_high, ecf_high), overwrite=True)"
   ]
  },
  {
   "cell_type": "code",
   "execution_count": 28,
   "id": "a3d81f4a",
   "metadata": {
    "ExecuteTime": {
     "end_time": "2022-04-28T01:01:56.488464Z",
     "start_time": "2022-04-28T01:01:55.393277Z"
    },
    "execution": {
     "iopub.execute_input": "2022-04-29T09:02:07.812891Z",
     "iopub.status.busy": "2022-04-29T09:02:07.812221Z",
     "iopub.status.idle": "2022-04-29T09:02:07.821314Z",
     "shell.execute_reply": "2022-04-29T09:02:07.821808Z"
    }
   },
   "outputs": [
    {
     "ename": "NameError",
     "evalue": "name 'F_res_filt' is not defined",
     "output_type": "error",
     "traceback": [
      "\u001b[0;31m---------------------------------------------------------------------------\u001b[0m",
      "\u001b[0;31mNameError\u001b[0m                                 Traceback (most recent call last)",
      "\u001b[0;32m/tmp/ipykernel_111934/2975917289.py\u001b[0m in \u001b[0;36m<module>\u001b[0;34m\u001b[0m\n\u001b[1;32m      1\u001b[0m \u001b[0;31m# plot real part of DPSS residual example waterfall\u001b[0m\u001b[0;34m\u001b[0m\u001b[0;34m\u001b[0m\u001b[0m\n\u001b[0;32m----> 2\u001b[0;31m \u001b[0mlsts_unwrapped\u001b[0m \u001b[0;34m=\u001b[0m \u001b[0mnp\u001b[0m\u001b[0;34m.\u001b[0m\u001b[0mwhere\u001b[0m\u001b[0;34m(\u001b[0m\u001b[0mF_res_filt\u001b[0m\u001b[0;34m.\u001b[0m\u001b[0mlsts\u001b[0m \u001b[0;34m>\u001b[0m \u001b[0mF_res_filt\u001b[0m\u001b[0;34m.\u001b[0m\u001b[0mlsts\u001b[0m\u001b[0;34m[\u001b[0m\u001b[0;34m-\u001b[0m\u001b[0;36m1\u001b[0m\u001b[0;34m]\u001b[0m\u001b[0;34m,\u001b[0m \u001b[0mF_res_filt\u001b[0m\u001b[0;34m.\u001b[0m\u001b[0mlsts\u001b[0m \u001b[0;34m-\u001b[0m \u001b[0;36m2\u001b[0m \u001b[0;34m*\u001b[0m \u001b[0mnp\u001b[0m\u001b[0;34m.\u001b[0m\u001b[0mpi\u001b[0m\u001b[0;34m,\u001b[0m \u001b[0mF_res_filt\u001b[0m\u001b[0;34m.\u001b[0m\u001b[0mlsts\u001b[0m\u001b[0;34m)\u001b[0m \u001b[0;34m*\u001b[0m \u001b[0;36m12\u001b[0m \u001b[0;34m/\u001b[0m \u001b[0mnp\u001b[0m\u001b[0;34m.\u001b[0m\u001b[0mpi\u001b[0m  \u001b[0;31m# in hours\u001b[0m\u001b[0;34m\u001b[0m\u001b[0;34m\u001b[0m\u001b[0m\n\u001b[0m\u001b[1;32m      3\u001b[0m \u001b[0mextent\u001b[0m \u001b[0;34m=\u001b[0m \u001b[0;34m[\u001b[0m\u001b[0mF_res_filt\u001b[0m\u001b[0;34m.\u001b[0m\u001b[0mfreqs\u001b[0m\u001b[0;34m[\u001b[0m\u001b[0;36m0\u001b[0m\u001b[0;34m]\u001b[0m\u001b[0;34m/\u001b[0m\u001b[0;36m1e6\u001b[0m\u001b[0;34m,\u001b[0m \u001b[0mF_res_filt\u001b[0m\u001b[0;34m.\u001b[0m\u001b[0mfreqs\u001b[0m\u001b[0;34m[\u001b[0m\u001b[0;34m-\u001b[0m\u001b[0;36m1\u001b[0m\u001b[0;34m]\u001b[0m\u001b[0;34m/\u001b[0m\u001b[0;36m1e6\u001b[0m\u001b[0;34m,\u001b[0m \u001b[0mlsts_unwrapped\u001b[0m\u001b[0;34m[\u001b[0m\u001b[0;34m-\u001b[0m\u001b[0;36m1\u001b[0m\u001b[0;34m]\u001b[0m\u001b[0;34m,\u001b[0m \u001b[0mlsts_unwrapped\u001b[0m\u001b[0;34m[\u001b[0m\u001b[0;36m0\u001b[0m\u001b[0;34m]\u001b[0m\u001b[0;34m]\u001b[0m\u001b[0;34m\u001b[0m\u001b[0;34m\u001b[0m\u001b[0m\n\u001b[1;32m      4\u001b[0m \u001b[0;34m\u001b[0m\u001b[0m\n\u001b[1;32m      5\u001b[0m \u001b[0mplt\u001b[0m\u001b[0;34m.\u001b[0m\u001b[0mfigure\u001b[0m\u001b[0;34m(\u001b[0m\u001b[0mfigsize\u001b[0m\u001b[0;34m=\u001b[0m\u001b[0;34m(\u001b[0m\u001b[0;36m14\u001b[0m\u001b[0;34m,\u001b[0m\u001b[0;36m8\u001b[0m\u001b[0;34m)\u001b[0m\u001b[0;34m)\u001b[0m\u001b[0;34m\u001b[0m\u001b[0;34m\u001b[0m\u001b[0m\n",
      "\u001b[0;31mNameError\u001b[0m: name 'F_res_filt' is not defined"
     ]
    }
   ],
   "source": [
    "# plot real part of DPSS residual example waterfall\n",
    "lsts_unwrapped = np.where(F_res_filt.lsts > F_res_filt.lsts[-1], F_res_filt.lsts - 2 * np.pi, F_res_filt.lsts) * 12 / np.pi  # in hours\n",
    "extent = [F_res_filt.freqs[0]/1e6, F_res_filt.freqs[-1]/1e6, lsts_unwrapped[-1], lsts_unwrapped[0]]\n",
    "\n",
    "plt.figure(figsize=(14,8))\n",
    "to_plot = np.where(F_res_filt.flags[example_bl], np.nan, F_res_filt.data[example_bl]).real\n",
    "plt.imshow(to_plot, aspect='auto', interpolation='none', norm=sym_log_norm(to_plot), cmap='bwr', extent=extent)\n",
    "plt.colorbar(label='Re$[V_{ij}]$ (Jy)')\n",
    "plt.xlabel('Frequency (MHz)')\n",
    "plt.ylabel('LST (Hours)')\n",
    "plt.title(f'Final Calibrated, DPSS Residual, DPSS Cross-Talk Filtered Visibility: {example_bl}')\n",
    "plt.tight_layout()"
   ]
  },
  {
   "cell_type": "markdown",
   "id": "9b18add9",
   "metadata": {
    "ExecuteTime": {
     "end_time": "2022-04-27T02:22:09.258011Z",
     "start_time": "2022-04-27T02:21:55.247112Z"
    }
   },
   "source": [
    "### Figure 7a: Real Part of DPSS-Residual Example Waterfall After Cross-Talk Filtering"
   ]
  },
  {
   "cell_type": "code",
   "execution_count": 29,
   "id": "2923e18b",
   "metadata": {
    "ExecuteTime": {
     "end_time": "2022-04-28T01:01:57.480548Z",
     "start_time": "2022-04-28T01:01:56.489663Z"
    },
    "execution": {
     "iopub.execute_input": "2022-04-29T09:02:07.824052Z",
     "iopub.status.busy": "2022-04-29T09:02:07.823382Z",
     "iopub.status.idle": "2022-04-29T09:02:07.834484Z",
     "shell.execute_reply": "2022-04-29T09:02:07.835000Z"
    }
   },
   "outputs": [
    {
     "ename": "NameError",
     "evalue": "name 'F_res_filt' is not defined",
     "output_type": "error",
     "traceback": [
      "\u001b[0;31m---------------------------------------------------------------------------\u001b[0m",
      "\u001b[0;31mNameError\u001b[0m                                 Traceback (most recent call last)",
      "\u001b[0;32m/tmp/ipykernel_111934/1977251578.py\u001b[0m in \u001b[0;36m<module>\u001b[0;34m\u001b[0m\n\u001b[1;32m      1\u001b[0m \u001b[0;31m# plot in delay space\u001b[0m\u001b[0;34m\u001b[0m\u001b[0;34m\u001b[0m\u001b[0m\n\u001b[1;32m      2\u001b[0m \u001b[0mplt\u001b[0m\u001b[0;34m.\u001b[0m\u001b[0mfigure\u001b[0m\u001b[0;34m(\u001b[0m\u001b[0mfigsize\u001b[0m\u001b[0;34m=\u001b[0m\u001b[0;34m(\u001b[0m\u001b[0;36m14\u001b[0m\u001b[0;34m,\u001b[0m\u001b[0;36m8\u001b[0m\u001b[0;34m)\u001b[0m\u001b[0;34m)\u001b[0m\u001b[0;34m\u001b[0m\u001b[0;34m\u001b[0m\u001b[0m\n\u001b[0;32m----> 3\u001b[0;31m \u001b[0mto_plot\u001b[0m \u001b[0;34m=\u001b[0m \u001b[0mnp\u001b[0m\u001b[0;34m.\u001b[0m\u001b[0mwhere\u001b[0m\u001b[0;34m(\u001b[0m\u001b[0mnp\u001b[0m\u001b[0;34m.\u001b[0m\u001b[0mall\u001b[0m\u001b[0;34m(\u001b[0m\u001b[0mF_res_filt\u001b[0m\u001b[0;34m.\u001b[0m\u001b[0mflags\u001b[0m\u001b[0;34m[\u001b[0m\u001b[0mexample_bl\u001b[0m\u001b[0;34m]\u001b[0m\u001b[0;34m,\u001b[0m \u001b[0maxis\u001b[0m\u001b[0;34m=\u001b[0m\u001b[0;36m1\u001b[0m\u001b[0;34m,\u001b[0m \u001b[0mkeepdims\u001b[0m\u001b[0;34m=\u001b[0m\u001b[0;32mTrue\u001b[0m\u001b[0;34m)\u001b[0m\u001b[0;34m,\u001b[0m \u001b[0mnp\u001b[0m\u001b[0;34m.\u001b[0m\u001b[0mnan\u001b[0m\u001b[0;34m,\u001b[0m \u001b[0mnp\u001b[0m\u001b[0;34m.\u001b[0m\u001b[0mreal\u001b[0m\u001b[0;34m(\u001b[0m\u001b[0mF_res_filt\u001b[0m\u001b[0;34m.\u001b[0m\u001b[0mdfft\u001b[0m\u001b[0;34m[\u001b[0m\u001b[0mexample_bl\u001b[0m\u001b[0;34m]\u001b[0m\u001b[0;34m)\u001b[0m\u001b[0;34m)\u001b[0m\u001b[0;34m\u001b[0m\u001b[0;34m\u001b[0m\u001b[0m\n\u001b[0m\u001b[1;32m      4\u001b[0m plt.imshow(to_plot, interpolation='none', aspect='auto', cmap='bwr', norm=sym_log_norm(to_plot),\n\u001b[1;32m      5\u001b[0m            extent=[F_res_filt.delays[0], F_res_filt.delays[-1], lsts_unwrapped[-1], lsts_unwrapped[0]])\n",
      "\u001b[0;31mNameError\u001b[0m: name 'F_res_filt' is not defined"
     ]
    },
    {
     "data": {
      "text/plain": [
       "<Figure size 1008x576 with 0 Axes>"
      ]
     },
     "metadata": {},
     "output_type": "display_data"
    }
   ],
   "source": [
    "# plot in delay space\n",
    "plt.figure(figsize=(14,8))\n",
    "to_plot = np.where(np.all(F_res_filt.flags[example_bl], axis=1, keepdims=True), np.nan, np.real(F_res_filt.dfft[example_bl]))\n",
    "plt.imshow(to_plot, interpolation='none', aspect='auto', cmap='bwr', norm=sym_log_norm(to_plot),\n",
    "           extent=[F_res_filt.delays[0], F_res_filt.delays[-1], lsts_unwrapped[-1], lsts_unwrapped[0]])\n",
    "plt.xlim([-2000, 2000])\n",
    "plt.xlabel('Delay (ns)')\n",
    "plt.ylabel('LST (hours)')\n",
    "plt.colorbar(label=r'Re$[\\widetilde{V}_{ij}]$ (Jy Hz)')\n",
    "plt.title(f'Final Calibrated, DPSS Residual, DPSS Cross-Talk Filtered Visibility: {example_bl}')\n",
    "plt.tight_layout()"
   ]
  },
  {
   "cell_type": "markdown",
   "id": "67bc408b",
   "metadata": {
    "ExecuteTime": {
     "end_time": "2022-04-27T02:22:09.258011Z",
     "start_time": "2022-04-27T02:21:55.247112Z"
    }
   },
   "source": [
    "### Figure 7b: Real Part of DPSS-Residual Example Waterfall After Cross-Talk Filtering in Delay Space"
   ]
  },
  {
   "cell_type": "code",
   "execution_count": 30,
   "id": "3cb31096",
   "metadata": {
    "ExecuteTime": {
     "end_time": "2022-04-28T01:01:58.410706Z",
     "start_time": "2022-04-28T01:01:57.481827Z"
    },
    "execution": {
     "iopub.execute_input": "2022-04-29T09:02:07.837338Z",
     "iopub.status.busy": "2022-04-29T09:02:07.836645Z",
     "iopub.status.idle": "2022-04-29T09:02:07.845570Z",
     "shell.execute_reply": "2022-04-29T09:02:07.846062Z"
    }
   },
   "outputs": [
    {
     "ename": "NameError",
     "evalue": "name 'F_res_filt' is not defined",
     "output_type": "error",
     "traceback": [
      "\u001b[0;31m---------------------------------------------------------------------------\u001b[0m",
      "\u001b[0;31mNameError\u001b[0m                                 Traceback (most recent call last)",
      "\u001b[0;32m/tmp/ipykernel_111934/3569734133.py\u001b[0m in \u001b[0;36m<module>\u001b[0;34m\u001b[0m\n\u001b[1;32m      1\u001b[0m \u001b[0;31m# plot in delay space and FR space\u001b[0m\u001b[0;34m\u001b[0m\u001b[0;34m\u001b[0m\u001b[0m\n\u001b[0;32m----> 2\u001b[0;31m \u001b[0mextent\u001b[0m \u001b[0;34m=\u001b[0m \u001b[0;34m[\u001b[0m\u001b[0mF_res_filt\u001b[0m\u001b[0;34m.\u001b[0m\u001b[0mdelays\u001b[0m\u001b[0;34m[\u001b[0m\u001b[0;36m0\u001b[0m\u001b[0;34m]\u001b[0m\u001b[0;34m,\u001b[0m \u001b[0mF_res_filt\u001b[0m\u001b[0;34m.\u001b[0m\u001b[0mdelays\u001b[0m\u001b[0;34m[\u001b[0m\u001b[0;34m-\u001b[0m\u001b[0;36m1\u001b[0m\u001b[0;34m]\u001b[0m\u001b[0;34m,\u001b[0m \u001b[0mF_res_filt\u001b[0m\u001b[0;34m.\u001b[0m\u001b[0mfrates\u001b[0m\u001b[0;34m[\u001b[0m\u001b[0;34m-\u001b[0m\u001b[0;36m1\u001b[0m\u001b[0;34m]\u001b[0m\u001b[0;34m,\u001b[0m \u001b[0mF_res_filt\u001b[0m\u001b[0;34m.\u001b[0m\u001b[0mfrates\u001b[0m\u001b[0;34m[\u001b[0m\u001b[0;36m0\u001b[0m\u001b[0;34m]\u001b[0m\u001b[0;34m]\u001b[0m\u001b[0;34m\u001b[0m\u001b[0;34m\u001b[0m\u001b[0m\n\u001b[0m\u001b[1;32m      3\u001b[0m \u001b[0mplt\u001b[0m\u001b[0;34m.\u001b[0m\u001b[0mfigure\u001b[0m\u001b[0;34m(\u001b[0m\u001b[0mfigsize\u001b[0m\u001b[0;34m=\u001b[0m\u001b[0;34m(\u001b[0m\u001b[0;36m14\u001b[0m\u001b[0;34m,\u001b[0m\u001b[0;36m8\u001b[0m\u001b[0;34m)\u001b[0m\u001b[0;34m)\u001b[0m\u001b[0;34m\u001b[0m\u001b[0;34m\u001b[0m\u001b[0m\n\u001b[1;32m      4\u001b[0m plt.imshow(np.abs(F_res_filt.xdfft2[example_bl]), aspect='auto', interpolation='none', \n\u001b[1;32m      5\u001b[0m            norm=matplotlib.colors.LogNorm(), cmap='jet', extent=extent)\n",
      "\u001b[0;31mNameError\u001b[0m: name 'F_res_filt' is not defined"
     ]
    }
   ],
   "source": [
    "# plot in delay space and FR space\n",
    "extent = [F_res_filt.delays[0], F_res_filt.delays[-1], F_res_filt.frates[-1], F_res_filt.frates[0]]\n",
    "plt.figure(figsize=(14,8))\n",
    "plt.imshow(np.abs(F_res_filt.xdfft2[example_bl]), aspect='auto', interpolation='none', \n",
    "           norm=matplotlib.colors.LogNorm(), cmap='jet', extent=extent)\n",
    "plt.colorbar(label='$|\\widetilde{V}_{ij}|$ (Jy)')\n",
    "plt.xlabel('Delay (ns)')\n",
    "plt.xlim([-2000, 2000])\n",
    "plt.ylim([-5, 5])\n",
    "plt.ylabel('Fringe Rate (mHz)')\n",
    "plt.title(f'Final Calibrated, DPSS Residual, DPSS Cross-Talk Filtered, and CLEAN Inpainted (in Time): {example_bl}')\n",
    "plt.tight_layout()"
   ]
  },
  {
   "cell_type": "markdown",
   "id": "41808a16",
   "metadata": {},
   "source": [
    "### Figure 7c: Magnitude of DPSS-Residual Example Waterfall After Cross-Talk Filtering in Fringe-Rate / Delay Space"
   ]
  },
  {
   "cell_type": "markdown",
   "id": "6ad3352c",
   "metadata": {},
   "source": [
    "## Compare Incoherently Averaged Delay Spectra"
   ]
  },
  {
   "cell_type": "code",
   "execution_count": 31,
   "id": "fee121bd",
   "metadata": {
    "ExecuteTime": {
     "end_time": "2022-04-28T01:35:54.237008Z",
     "start_time": "2022-04-28T01:35:52.198910Z"
    },
    "execution": {
     "iopub.execute_input": "2022-04-29T09:02:07.848318Z",
     "iopub.status.busy": "2022-04-29T09:02:07.847655Z",
     "iopub.status.idle": "2022-04-29T09:02:07.856719Z",
     "shell.execute_reply": "2022-04-29T09:02:07.857197Z"
    }
   },
   "outputs": [
    {
     "ename": "NameError",
     "evalue": "name 'F_filled' is not defined",
     "output_type": "error",
     "traceback": [
      "\u001b[0;31m---------------------------------------------------------------------------\u001b[0m",
      "\u001b[0;31mNameError\u001b[0m                                 Traceback (most recent call last)",
      "\u001b[0;32m/tmp/ipykernel_111934/3957943252.py\u001b[0m in \u001b[0;36m<module>\u001b[0;34m\u001b[0m\n\u001b[1;32m      9\u001b[0m \u001b[0;34m\u001b[0m\u001b[0m\n\u001b[1;32m     10\u001b[0m \u001b[0;31m# Calculate incoherently time-averaged delay spectra\u001b[0m\u001b[0;34m\u001b[0m\u001b[0;34m\u001b[0m\u001b[0m\n\u001b[0;32m---> 11\u001b[0;31m \u001b[0mavg_norm_filled_spectra\u001b[0m \u001b[0;34m=\u001b[0m \u001b[0mcalculate_avg_norm_spectra\u001b[0m\u001b[0;34m(\u001b[0m\u001b[0mF_filled\u001b[0m\u001b[0;34m.\u001b[0m\u001b[0mdfft\u001b[0m\u001b[0;34m,\u001b[0m \u001b[0mF_filled\u001b[0m\u001b[0;34m.\u001b[0m\u001b[0mflags\u001b[0m\u001b[0;34m,\u001b[0m \u001b[0mF_filled\u001b[0m\u001b[0;34m.\u001b[0m\u001b[0mnsamples\u001b[0m\u001b[0;34m)\u001b[0m\u001b[0;34m\u001b[0m\u001b[0;34m\u001b[0m\u001b[0m\n\u001b[0m\u001b[1;32m     12\u001b[0m \u001b[0mavg_norm_res_spectra\u001b[0m \u001b[0;34m=\u001b[0m \u001b[0mcalculate_avg_norm_spectra\u001b[0m\u001b[0;34m(\u001b[0m\u001b[0mF_res\u001b[0m\u001b[0;34m.\u001b[0m\u001b[0mdfft\u001b[0m\u001b[0;34m,\u001b[0m \u001b[0mF_res\u001b[0m\u001b[0;34m.\u001b[0m\u001b[0mflags\u001b[0m\u001b[0;34m,\u001b[0m \u001b[0mF_res\u001b[0m\u001b[0;34m.\u001b[0m\u001b[0mnsamples\u001b[0m\u001b[0;34m)\u001b[0m\u001b[0;34m\u001b[0m\u001b[0;34m\u001b[0m\u001b[0m\n\u001b[1;32m     13\u001b[0m \u001b[0mavg_norm_res_filt_spectra\u001b[0m \u001b[0;34m=\u001b[0m \u001b[0mcalculate_avg_norm_spectra\u001b[0m\u001b[0;34m(\u001b[0m\u001b[0mF_res_filt\u001b[0m\u001b[0;34m.\u001b[0m\u001b[0mdfft\u001b[0m\u001b[0;34m,\u001b[0m \u001b[0mF_res_filt\u001b[0m\u001b[0;34m.\u001b[0m\u001b[0mflags\u001b[0m\u001b[0;34m,\u001b[0m \u001b[0mF_res_filt\u001b[0m\u001b[0;34m.\u001b[0m\u001b[0mnsamples\u001b[0m\u001b[0;34m)\u001b[0m\u001b[0;34m\u001b[0m\u001b[0;34m\u001b[0m\u001b[0m\n",
      "\u001b[0;31mNameError\u001b[0m: name 'F_filled' is not defined"
     ]
    }
   ],
   "source": [
    "def calculate_avg_norm_spectra(dfft, flags, nsamples):\n",
    "    '''Calculates incoherently-averaged spectrum, using ses flags and frequency-averaged nsamples as weights.'''\n",
    "    avg_norm_spectra = {}\n",
    "    for bl in dfft:\n",
    "        if bl[0] != bl[1]:        \n",
    "            wgts = np.where(np.all(flags[bl], axis=1, keepdims=True), np.nan, np.sum(nsamples[bl], axis=1, keepdims=True))\n",
    "            avg_norm_spectra[bl] = np.nanmean(np.where(np.all(flags[bl], axis=1, keepdims=True), np.nan, np.abs(dfft[bl]) * wgts), axis=0) / np.nanmean(wgts)\n",
    "    return avg_norm_spectra\n",
    "\n",
    "# Calculate incoherently time-averaged delay spectra\n",
    "avg_norm_filled_spectra = calculate_avg_norm_spectra(F_filled.dfft, F_filled.flags, F_filled.nsamples)\n",
    "avg_norm_res_spectra = calculate_avg_norm_spectra(F_res.dfft, F_res.flags, F_res.nsamples)\n",
    "avg_norm_res_filt_spectra = calculate_avg_norm_spectra(F_res_filt.dfft, F_res_filt.flags, F_res_filt.nsamples)"
   ]
  },
  {
   "cell_type": "code",
   "execution_count": 32,
   "id": "d3d838b7",
   "metadata": {
    "ExecuteTime": {
     "end_time": "2022-04-28T01:36:42.648304Z",
     "start_time": "2022-04-28T01:36:39.912874Z"
    },
    "execution": {
     "iopub.execute_input": "2022-04-29T09:02:07.859394Z",
     "iopub.status.busy": "2022-04-29T09:02:07.858725Z",
     "iopub.status.idle": "2022-04-29T09:02:08.594479Z",
     "shell.execute_reply": "2022-04-29T09:02:08.595118Z"
    }
   },
   "outputs": [
    {
     "ename": "NameError",
     "evalue": "name 'avg_norm_filled_spectra' is not defined",
     "output_type": "error",
     "traceback": [
      "\u001b[0;31m---------------------------------------------------------------------------\u001b[0m",
      "\u001b[0;31mNameError\u001b[0m                                 Traceback (most recent call last)",
      "\u001b[0;32m/tmp/ipykernel_111934/2776025313.py\u001b[0m in \u001b[0;36m<module>\u001b[0;34m\u001b[0m\n\u001b[1;32m      1\u001b[0m \u001b[0;31m# Plot all incoherently time-averaged delay spectra\u001b[0m\u001b[0;34m\u001b[0m\u001b[0;34m\u001b[0m\u001b[0m\n\u001b[1;32m      2\u001b[0m \u001b[0mfig\u001b[0m\u001b[0;34m,\u001b[0m \u001b[0maxes\u001b[0m \u001b[0;34m=\u001b[0m \u001b[0mplt\u001b[0m\u001b[0;34m.\u001b[0m\u001b[0msubplots\u001b[0m\u001b[0;34m(\u001b[0m\u001b[0;36m6\u001b[0m\u001b[0;34m,\u001b[0m \u001b[0;36m2\u001b[0m\u001b[0;34m,\u001b[0m \u001b[0mfigsize\u001b[0m\u001b[0;34m=\u001b[0m\u001b[0;34m(\u001b[0m\u001b[0;36m14\u001b[0m\u001b[0;34m,\u001b[0m\u001b[0;36m12\u001b[0m\u001b[0;34m)\u001b[0m\u001b[0;34m,\u001b[0m \u001b[0msharex\u001b[0m\u001b[0;34m=\u001b[0m\u001b[0;32mTrue\u001b[0m\u001b[0;34m,\u001b[0m \u001b[0msharey\u001b[0m\u001b[0;34m=\u001b[0m\u001b[0;32mTrue\u001b[0m\u001b[0;34m,\u001b[0m \u001b[0mgridspec_kw\u001b[0m\u001b[0;34m=\u001b[0m\u001b[0;34m{\u001b[0m\u001b[0;34m'wspace'\u001b[0m\u001b[0;34m:\u001b[0m \u001b[0;36m0\u001b[0m\u001b[0;34m,\u001b[0m \u001b[0;34m'hspace'\u001b[0m\u001b[0;34m:\u001b[0m \u001b[0;36m0\u001b[0m\u001b[0;34m}\u001b[0m\u001b[0;34m)\u001b[0m\u001b[0;34m\u001b[0m\u001b[0;34m\u001b[0m\u001b[0m\n\u001b[0;32m----> 3\u001b[0;31m ylim = (np.min(np.array(list(avg_norm_filled_spectra.values()))) / 10, \n\u001b[0m\u001b[1;32m      4\u001b[0m         np.max(np.array(list(avg_norm_filled_spectra.values()))) * 2)\n\u001b[1;32m      5\u001b[0m \u001b[0;34m\u001b[0m\u001b[0m\n",
      "\u001b[0;31mNameError\u001b[0m: name 'avg_norm_filled_spectra' is not defined"
     ]
    },
    {
     "data": {
      "image/png": "[encoded data removed]",
      "text/plain": [
       "<Figure size 1008x864 with 12 Axes>"
      ]
     },
     "metadata": {
      "image/png": {
       "height": 686,
       "width": 826
      },
      "needs_background": "light"
     },
     "output_type": "display_data"
    }
   ],
   "source": [
    "# Plot all incoherently time-averaged delay spectra\n",
    "fig, axes = plt.subplots(6, 2, figsize=(14,12), sharex=True, sharey=True, gridspec_kw={'wspace': 0, 'hspace': 0})\n",
    "ylim = (np.min(np.array(list(avg_norm_filled_spectra.values()))) / 10, \n",
    "        np.max(np.array(list(avg_norm_filled_spectra.values()))) * 2)\n",
    "\n",
    "for i, bl, ax in zip(range(len(avg_norm_filled_spectra)), avg_norm_filled_spectra, axes.flatten()):\n",
    "    ax.semilogy(F_filled.delays, avg_norm_filled_spectra[bl], label='DPSS Filled')\n",
    "    ax.semilogy(F_res.delays, avg_norm_res_spectra[bl], label='DPSS Residual')\n",
    "    ax.semilogy(F_res_filt.delays, avg_norm_res_filt_spectra[bl], label='DPSS Residual &\\nDPSS Cros-Talk Filtered')    \n",
    "\n",
    "    ax.set_ylim(ylim)    \n",
    "    ax.set_xlabel('Delay (ns)')\n",
    "    \n",
    "    ax.set_xlim([-1999, 1999])\n",
    "    if i % 2 == 0:\n",
    "        ax.set_ylabel('$|\\\\tilde{V}_{ij}|$ (Jy Hz)')\n",
    "    \n",
    "    ax.legend(loc='upper left', title=bl)\n",
    "plt.tight_layout()"
   ]
  },
  {
   "cell_type": "markdown",
   "id": "e2e331fa",
   "metadata": {},
   "source": [
    "### Figure 8: Delay Spectra, Incoherently Averaged Over The Night, of All Baselines at All Three Stages of Filtering After Coherently"
   ]
  },
  {
   "cell_type": "markdown",
   "id": "eb8411a0",
   "metadata": {
    "ExecuteTime": {
     "end_time": "2022-04-27T05:35:56.274974Z",
     "start_time": "2022-04-27T05:35:56.272359Z"
    }
   },
   "source": [
    "## Examine Delay Spectra After Coherent Time-Averaging"
   ]
  },
  {
   "cell_type": "code",
   "execution_count": 33,
   "id": "67164db0",
   "metadata": {
    "ExecuteTime": {
     "end_time": "2022-04-28T01:02:16.286075Z",
     "start_time": "2022-04-28T01:02:08.616029Z"
    },
    "execution": {
     "iopub.execute_input": "2022-04-29T09:02:08.598022Z",
     "iopub.status.busy": "2022-04-29T09:02:08.597254Z",
     "iopub.status.idle": "2022-04-29T09:02:08.613045Z",
     "shell.execute_reply": "2022-04-29T09:02:08.613530Z"
    }
   },
   "outputs": [
    {
     "ename": "NameError",
     "evalue": "name 'F_filled' is not defined",
     "output_type": "error",
     "traceback": [
      "\u001b[0;31m---------------------------------------------------------------------------\u001b[0m",
      "\u001b[0;31mNameError\u001b[0m                                 Traceback (most recent call last)",
      "\u001b[0;32m/tmp/ipykernel_111934/2551304252.py\u001b[0m in \u001b[0;36m<module>\u001b[0;34m\u001b[0m\n\u001b[1;32m      1\u001b[0m \u001b[0;31m# Perform time averaging\u001b[0m\u001b[0;34m\u001b[0m\u001b[0;34m\u001b[0m\u001b[0m\n\u001b[1;32m      2\u001b[0m \u001b[0;32mwith\u001b[0m \u001b[0mcontextlib\u001b[0m\u001b[0;34m.\u001b[0m\u001b[0mredirect_stdout\u001b[0m\u001b[0;34m(\u001b[0m\u001b[0;32mNone\u001b[0m\u001b[0;34m)\u001b[0m\u001b[0;34m:\u001b[0m\u001b[0;34m\u001b[0m\u001b[0;34m\u001b[0m\u001b[0m\n\u001b[0;32m----> 3\u001b[0;31m     F_filled.timeavg_data(F_filled.data, F_filled.times, lsts=F_filled.lsts, t_avg=214.0, flags=F_filled.flags, nsamples=F_filled.nsamples, \n\u001b[0m\u001b[1;32m      4\u001b[0m                           wgt_by_nsample=False, wgt_by_favg_nsample=True, overwrite=True)\n\u001b[1;32m      5\u001b[0m     F_res.timeavg_data(F_res.data, F_res.times, lsts=F_res.lsts, t_avg=214.0, flags=F_res.flags, nsamples=F_res.nsamples, \n",
      "\u001b[0;31mNameError\u001b[0m: name 'F_filled' is not defined"
     ]
    }
   ],
   "source": [
    "# Perform time averaging\n",
    "with contextlib.redirect_stdout(None):\n",
    "    F_filled.timeavg_data(F_filled.data, F_filled.times, lsts=F_filled.lsts, t_avg=214.0, flags=F_filled.flags, nsamples=F_filled.nsamples, \n",
    "                          wgt_by_nsample=False, wgt_by_favg_nsample=True, overwrite=True)\n",
    "    F_res.timeavg_data(F_res.data, F_res.times, lsts=F_res.lsts, t_avg=214.0, flags=F_res.flags, nsamples=F_res.nsamples, \n",
    "                       wgt_by_nsample=False, wgt_by_favg_nsample=True, overwrite=True)\n",
    "    F_res_filt.timeavg_data(F_res_filt.data, F_res_filt.times, lsts=F_res_filt.lsts, t_avg=214.0, flags=F_res_filt.flags, nsamples=F_res_filt.nsamples, \n",
    "                            wgt_by_nsample=False, wgt_by_favg_nsample=True, overwrite=True)"
   ]
  },
  {
   "cell_type": "code",
   "execution_count": 34,
   "id": "7b39910f",
   "metadata": {
    "ExecuteTime": {
     "end_time": "2022-04-28T01:02:16.293870Z",
     "start_time": "2022-04-28T01:02:16.287256Z"
    },
    "execution": {
     "iopub.execute_input": "2022-04-29T09:02:08.615855Z",
     "iopub.status.busy": "2022-04-29T09:02:08.615179Z",
     "iopub.status.idle": "2022-04-29T09:02:08.624221Z",
     "shell.execute_reply": "2022-04-29T09:02:08.624712Z"
    }
   },
   "outputs": [
    {
     "ename": "NameError",
     "evalue": "name 'F_filled' is not defined",
     "output_type": "error",
     "traceback": [
      "\u001b[0;31m---------------------------------------------------------------------------\u001b[0m",
      "\u001b[0;31mNameError\u001b[0m                                 Traceback (most recent call last)",
      "\u001b[0;32m/tmp/ipykernel_111934/1238294200.py\u001b[0m in \u001b[0;36m<module>\u001b[0;34m\u001b[0m\n\u001b[1;32m      1\u001b[0m \u001b[0;31m# Drop last integration, which will generally be smaller and make time grids not uniform\u001b[0m\u001b[0;34m\u001b[0m\u001b[0;34m\u001b[0m\u001b[0m\n\u001b[0;32m----> 2\u001b[0;31m \u001b[0;32mfor\u001b[0m \u001b[0mF\u001b[0m \u001b[0;32min\u001b[0m \u001b[0;34m[\u001b[0m\u001b[0mF_filled\u001b[0m\u001b[0;34m,\u001b[0m \u001b[0mF_res\u001b[0m\u001b[0;34m,\u001b[0m \u001b[0mF_res_filt\u001b[0m\u001b[0;34m]\u001b[0m\u001b[0;34m:\u001b[0m\u001b[0;34m\u001b[0m\u001b[0;34m\u001b[0m\u001b[0m\n\u001b[0m\u001b[1;32m      3\u001b[0m     \u001b[0mF\u001b[0m\u001b[0;34m.\u001b[0m\u001b[0mavg_times\u001b[0m \u001b[0;34m=\u001b[0m \u001b[0mF\u001b[0m\u001b[0;34m.\u001b[0m\u001b[0mavg_times\u001b[0m\u001b[0;34m[\u001b[0m\u001b[0;34m:\u001b[0m\u001b[0;34m-\u001b[0m\u001b[0;36m1\u001b[0m\u001b[0;34m]\u001b[0m\u001b[0;34m\u001b[0m\u001b[0;34m\u001b[0m\u001b[0m\n\u001b[1;32m      4\u001b[0m     \u001b[0mF\u001b[0m\u001b[0;34m.\u001b[0m\u001b[0mavg_lsts\u001b[0m \u001b[0;34m=\u001b[0m \u001b[0mF\u001b[0m\u001b[0;34m.\u001b[0m\u001b[0mavg_lsts\u001b[0m\u001b[0;34m[\u001b[0m\u001b[0;34m:\u001b[0m\u001b[0;34m-\u001b[0m\u001b[0;36m1\u001b[0m\u001b[0;34m]\u001b[0m\u001b[0;34m\u001b[0m\u001b[0;34m\u001b[0m\u001b[0m\n\u001b[1;32m      5\u001b[0m     \u001b[0;32mfor\u001b[0m \u001b[0mbl\u001b[0m \u001b[0;32min\u001b[0m \u001b[0mF\u001b[0m\u001b[0;34m.\u001b[0m\u001b[0mavg_data\u001b[0m\u001b[0;34m:\u001b[0m\u001b[0;34m\u001b[0m\u001b[0;34m\u001b[0m\u001b[0m\n",
      "\u001b[0;31mNameError\u001b[0m: name 'F_filled' is not defined"
     ]
    }
   ],
   "source": [
    "# Drop last integration, which will generally be smaller and make time grids not uniform\n",
    "for F in [F_filled, F_res, F_res_filt]:\n",
    "    F.avg_times = F.avg_times[:-1]\n",
    "    F.avg_lsts = F.avg_lsts[:-1]\n",
    "    for bl in F.avg_data:\n",
    "        F.avg_data[bl] = F.avg_data[bl][:-1, :]\n",
    "        F.avg_flags[bl] = F.avg_flags[bl][:-1, :]\n",
    "        F.avg_nsamples[bl] = F.avg_nsamples[bl][:-1, :]              "
   ]
  },
  {
   "cell_type": "code",
   "execution_count": 35,
   "id": "7b1fda06",
   "metadata": {
    "ExecuteTime": {
     "end_time": "2022-04-28T01:02:16.641651Z",
     "start_time": "2022-04-28T01:02:16.295033Z"
    },
    "execution": {
     "iopub.execute_input": "2022-04-29T09:02:08.626990Z",
     "iopub.status.busy": "2022-04-29T09:02:08.626321Z",
     "iopub.status.idle": "2022-04-29T09:02:08.635112Z",
     "shell.execute_reply": "2022-04-29T09:02:08.635604Z"
    }
   },
   "outputs": [
    {
     "ename": "NameError",
     "evalue": "name 'F_filled' is not defined",
     "output_type": "error",
     "traceback": [
      "\u001b[0;31m---------------------------------------------------------------------------\u001b[0m",
      "\u001b[0;31mNameError\u001b[0m                                 Traceback (most recent call last)",
      "\u001b[0;32m/tmp/ipykernel_111934/1581929070.py\u001b[0m in \u001b[0;36m<module>\u001b[0;34m\u001b[0m\n\u001b[1;32m      1\u001b[0m \u001b[0;31m# Perform 1D FFTs\u001b[0m\u001b[0;34m\u001b[0m\u001b[0;34m\u001b[0m\u001b[0m\n\u001b[0;32m----> 2\u001b[0;31m \u001b[0mF_filled\u001b[0m\u001b[0;34m.\u001b[0m\u001b[0mfft_data\u001b[0m\u001b[0;34m(\u001b[0m\u001b[0mdata\u001b[0m\u001b[0;34m=\u001b[0m\u001b[0mF_filled\u001b[0m\u001b[0;34m.\u001b[0m\u001b[0mavg_data\u001b[0m\u001b[0;34m,\u001b[0m \u001b[0massign\u001b[0m\u001b[0;34m=\u001b[0m\u001b[0;34m'avg_dfft'\u001b[0m\u001b[0;34m,\u001b[0m \u001b[0max\u001b[0m\u001b[0;34m=\u001b[0m\u001b[0;34m'freq'\u001b[0m\u001b[0;34m,\u001b[0m \u001b[0mwindow\u001b[0m\u001b[0;34m=\u001b[0m\u001b[0;34m'bh'\u001b[0m\u001b[0;34m,\u001b[0m \u001b[0medgecut_low\u001b[0m\u001b[0;34m=\u001b[0m\u001b[0mecf_low\u001b[0m\u001b[0;34m,\u001b[0m \u001b[0medgecut_hi\u001b[0m\u001b[0;34m=\u001b[0m\u001b[0mecf_high\u001b[0m\u001b[0;34m,\u001b[0m \u001b[0moverwrite\u001b[0m\u001b[0;34m=\u001b[0m\u001b[0;32mTrue\u001b[0m\u001b[0;34m)\u001b[0m\u001b[0;34m\u001b[0m\u001b[0;34m\u001b[0m\u001b[0m\n\u001b[0m\u001b[1;32m      3\u001b[0m \u001b[0mF_res\u001b[0m\u001b[0;34m.\u001b[0m\u001b[0mfft_data\u001b[0m\u001b[0;34m(\u001b[0m\u001b[0mdata\u001b[0m\u001b[0;34m=\u001b[0m\u001b[0mF_res\u001b[0m\u001b[0;34m.\u001b[0m\u001b[0mavg_data\u001b[0m\u001b[0;34m,\u001b[0m \u001b[0massign\u001b[0m\u001b[0;34m=\u001b[0m\u001b[0;34m'avg_dfft'\u001b[0m\u001b[0;34m,\u001b[0m \u001b[0max\u001b[0m\u001b[0;34m=\u001b[0m\u001b[0;34m'freq'\u001b[0m\u001b[0;34m,\u001b[0m \u001b[0mwindow\u001b[0m\u001b[0;34m=\u001b[0m\u001b[0;34m'bh'\u001b[0m\u001b[0;34m,\u001b[0m \u001b[0medgecut_low\u001b[0m\u001b[0;34m=\u001b[0m\u001b[0mecf_low\u001b[0m\u001b[0;34m,\u001b[0m \u001b[0medgecut_hi\u001b[0m\u001b[0;34m=\u001b[0m\u001b[0mecf_high\u001b[0m\u001b[0;34m,\u001b[0m \u001b[0moverwrite\u001b[0m\u001b[0;34m=\u001b[0m\u001b[0;32mTrue\u001b[0m\u001b[0;34m)\u001b[0m\u001b[0;34m\u001b[0m\u001b[0;34m\u001b[0m\u001b[0m\n\u001b[1;32m      4\u001b[0m \u001b[0mF_res_filt\u001b[0m\u001b[0;34m.\u001b[0m\u001b[0mfft_data\u001b[0m\u001b[0;34m(\u001b[0m\u001b[0mdata\u001b[0m\u001b[0;34m=\u001b[0m\u001b[0mF_res_filt\u001b[0m\u001b[0;34m.\u001b[0m\u001b[0mavg_data\u001b[0m\u001b[0;34m,\u001b[0m \u001b[0massign\u001b[0m\u001b[0;34m=\u001b[0m\u001b[0;34m'avg_dfft'\u001b[0m\u001b[0;34m,\u001b[0m \u001b[0max\u001b[0m\u001b[0;34m=\u001b[0m\u001b[0;34m'freq'\u001b[0m\u001b[0;34m,\u001b[0m \u001b[0mwindow\u001b[0m\u001b[0;34m=\u001b[0m\u001b[0;34m'bh'\u001b[0m\u001b[0;34m,\u001b[0m \u001b[0medgecut_low\u001b[0m\u001b[0;34m=\u001b[0m\u001b[0mecf_low\u001b[0m\u001b[0;34m,\u001b[0m \u001b[0medgecut_hi\u001b[0m\u001b[0;34m=\u001b[0m\u001b[0mecf_high\u001b[0m\u001b[0;34m,\u001b[0m \u001b[0moverwrite\u001b[0m\u001b[0;34m=\u001b[0m\u001b[0;32mTrue\u001b[0m\u001b[0;34m)\u001b[0m\u001b[0;34m\u001b[0m\u001b[0;34m\u001b[0m\u001b[0m\n",
      "\u001b[0;31mNameError\u001b[0m: name 'F_filled' is not defined"
     ]
    }
   ],
   "source": [
    "# Perform 1D FFTs\n",
    "F_filled.fft_data(data=F_filled.avg_data, assign='avg_dfft', ax='freq', window='bh', edgecut_low=ecf_low, edgecut_hi=ecf_high, overwrite=True)\n",
    "F_res.fft_data(data=F_res.avg_data, assign='avg_dfft', ax='freq', window='bh', edgecut_low=ecf_low, edgecut_hi=ecf_high, overwrite=True)\n",
    "F_res_filt.fft_data(data=F_res_filt.avg_data, assign='avg_dfft', ax='freq', window='bh', edgecut_low=ecf_low, edgecut_hi=ecf_high, overwrite=True)"
   ]
  },
  {
   "cell_type": "code",
   "execution_count": 36,
   "id": "a0680fc1",
   "metadata": {
    "ExecuteTime": {
     "end_time": "2022-04-28T01:36:54.949440Z",
     "start_time": "2022-04-28T01:36:54.933681Z"
    },
    "execution": {
     "iopub.execute_input": "2022-04-29T09:02:08.637855Z",
     "iopub.status.busy": "2022-04-29T09:02:08.637191Z",
     "iopub.status.idle": "2022-04-29T09:02:08.644826Z",
     "shell.execute_reply": "2022-04-29T09:02:08.645311Z"
    }
   },
   "outputs": [
    {
     "ename": "NameError",
     "evalue": "name 'F_filled' is not defined",
     "output_type": "error",
     "traceback": [
      "\u001b[0;31m---------------------------------------------------------------------------\u001b[0m",
      "\u001b[0;31mNameError\u001b[0m                                 Traceback (most recent call last)",
      "\u001b[0;32m/tmp/ipykernel_111934/4272952606.py\u001b[0m in \u001b[0;36m<module>\u001b[0;34m\u001b[0m\n\u001b[1;32m      1\u001b[0m \u001b[0;31m# Calculate incoherently time-averaged delay spectra\u001b[0m\u001b[0;34m\u001b[0m\u001b[0;34m\u001b[0m\u001b[0m\n\u001b[0;32m----> 2\u001b[0;31m \u001b[0mavg_norm_filled_spectra\u001b[0m \u001b[0;34m=\u001b[0m \u001b[0mcalculate_avg_norm_spectra\u001b[0m\u001b[0;34m(\u001b[0m\u001b[0mF_filled\u001b[0m\u001b[0;34m.\u001b[0m\u001b[0mavg_dfft\u001b[0m\u001b[0;34m,\u001b[0m \u001b[0mF_filled\u001b[0m\u001b[0;34m.\u001b[0m\u001b[0mavg_flags\u001b[0m\u001b[0;34m,\u001b[0m \u001b[0mF_filled\u001b[0m\u001b[0;34m.\u001b[0m\u001b[0mavg_nsamples\u001b[0m\u001b[0;34m)\u001b[0m\u001b[0;34m\u001b[0m\u001b[0;34m\u001b[0m\u001b[0m\n\u001b[0m\u001b[1;32m      3\u001b[0m \u001b[0mavg_norm_res_spectra\u001b[0m \u001b[0;34m=\u001b[0m \u001b[0mcalculate_avg_norm_spectra\u001b[0m\u001b[0;34m(\u001b[0m\u001b[0mF_res\u001b[0m\u001b[0;34m.\u001b[0m\u001b[0mavg_dfft\u001b[0m\u001b[0;34m,\u001b[0m \u001b[0mF_res\u001b[0m\u001b[0;34m.\u001b[0m\u001b[0mavg_flags\u001b[0m\u001b[0;34m,\u001b[0m \u001b[0mF_res\u001b[0m\u001b[0;34m.\u001b[0m\u001b[0mavg_nsamples\u001b[0m\u001b[0;34m)\u001b[0m\u001b[0;34m\u001b[0m\u001b[0;34m\u001b[0m\u001b[0m\n\u001b[1;32m      4\u001b[0m \u001b[0mavg_norm_res_filt_spectra\u001b[0m \u001b[0;34m=\u001b[0m \u001b[0mcalculate_avg_norm_spectra\u001b[0m\u001b[0;34m(\u001b[0m\u001b[0mF_res_filt\u001b[0m\u001b[0;34m.\u001b[0m\u001b[0mavg_dfft\u001b[0m\u001b[0;34m,\u001b[0m \u001b[0mF_res_filt\u001b[0m\u001b[0;34m.\u001b[0m\u001b[0mavg_flags\u001b[0m\u001b[0;34m,\u001b[0m \u001b[0mF_res_filt\u001b[0m\u001b[0;34m.\u001b[0m\u001b[0mavg_nsamples\u001b[0m\u001b[0;34m)\u001b[0m\u001b[0;34m\u001b[0m\u001b[0;34m\u001b[0m\u001b[0m\n",
      "\u001b[0;31mNameError\u001b[0m: name 'F_filled' is not defined"
     ]
    }
   ],
   "source": [
    "# Calculate incoherently time-averaged delay spectra\n",
    "avg_norm_filled_spectra = calculate_avg_norm_spectra(F_filled.avg_dfft, F_filled.avg_flags, F_filled.avg_nsamples)\n",
    "avg_norm_res_spectra = calculate_avg_norm_spectra(F_res.avg_dfft, F_res.avg_flags, F_res.avg_nsamples)\n",
    "avg_norm_res_filt_spectra = calculate_avg_norm_spectra(F_res_filt.avg_dfft, F_res_filt.avg_flags, F_res_filt.avg_nsamples)"
   ]
  },
  {
   "cell_type": "code",
   "execution_count": 37,
   "id": "c0ec1521",
   "metadata": {
    "ExecuteTime": {
     "end_time": "2022-04-28T01:36:58.949616Z",
     "start_time": "2022-04-28T01:36:56.281257Z"
    },
    "execution": {
     "iopub.execute_input": "2022-04-29T09:02:08.647572Z",
     "iopub.status.busy": "2022-04-29T09:02:08.646894Z",
     "iopub.status.idle": "2022-04-29T09:02:09.474568Z",
     "shell.execute_reply": "2022-04-29T09:02:09.475141Z"
    }
   },
   "outputs": [
    {
     "ename": "NameError",
     "evalue": "name 'avg_norm_filled_spectra' is not defined",
     "output_type": "error",
     "traceback": [
      "\u001b[0;31m---------------------------------------------------------------------------\u001b[0m",
      "\u001b[0;31mNameError\u001b[0m                                 Traceback (most recent call last)",
      "\u001b[0;32m/tmp/ipykernel_111934/1590676198.py\u001b[0m in \u001b[0;36m<module>\u001b[0;34m\u001b[0m\n\u001b[1;32m      1\u001b[0m \u001b[0;31m# Plot all incoherently time-averaged delay spectra\u001b[0m\u001b[0;34m\u001b[0m\u001b[0;34m\u001b[0m\u001b[0m\n\u001b[1;32m      2\u001b[0m \u001b[0mfig\u001b[0m\u001b[0;34m,\u001b[0m \u001b[0maxes\u001b[0m \u001b[0;34m=\u001b[0m \u001b[0mplt\u001b[0m\u001b[0;34m.\u001b[0m\u001b[0msubplots\u001b[0m\u001b[0;34m(\u001b[0m\u001b[0;36m6\u001b[0m\u001b[0;34m,\u001b[0m \u001b[0;36m2\u001b[0m\u001b[0;34m,\u001b[0m \u001b[0mfigsize\u001b[0m\u001b[0;34m=\u001b[0m\u001b[0;34m(\u001b[0m\u001b[0;36m14\u001b[0m\u001b[0;34m,\u001b[0m\u001b[0;36m12\u001b[0m\u001b[0;34m)\u001b[0m\u001b[0;34m,\u001b[0m \u001b[0msharex\u001b[0m\u001b[0;34m=\u001b[0m\u001b[0;32mTrue\u001b[0m\u001b[0;34m,\u001b[0m \u001b[0msharey\u001b[0m\u001b[0;34m=\u001b[0m\u001b[0;32mTrue\u001b[0m\u001b[0;34m,\u001b[0m \u001b[0mgridspec_kw\u001b[0m\u001b[0;34m=\u001b[0m\u001b[0;34m{\u001b[0m\u001b[0;34m'wspace'\u001b[0m\u001b[0;34m:\u001b[0m \u001b[0;36m0\u001b[0m\u001b[0;34m,\u001b[0m \u001b[0;34m'hspace'\u001b[0m\u001b[0;34m:\u001b[0m \u001b[0;36m0\u001b[0m\u001b[0;34m}\u001b[0m\u001b[0;34m)\u001b[0m\u001b[0;34m\u001b[0m\u001b[0;34m\u001b[0m\u001b[0m\n\u001b[0;32m----> 3\u001b[0;31m ylim = (np.min(np.array(list(avg_norm_filled_spectra.values()))) / 10, \n\u001b[0m\u001b[1;32m      4\u001b[0m         np.max(np.array(list(avg_norm_filled_spectra.values()))) * 2)\n\u001b[1;32m      5\u001b[0m \u001b[0;34m\u001b[0m\u001b[0m\n",
      "\u001b[0;31mNameError\u001b[0m: name 'avg_norm_filled_spectra' is not defined"
     ]
    },
    {
     "data": {
      "image/png": "[encoded data removed]",
      "text/plain": [
       "<Figure size 1008x864 with 12 Axes>"
      ]
     },
     "metadata": {
      "image/png": {
       "height": 686,
       "width": 826
      },
      "needs_background": "light"
     },
     "output_type": "display_data"
    }
   ],
   "source": [
    "# Plot all incoherently time-averaged delay spectra\n",
    "fig, axes = plt.subplots(6, 2, figsize=(14,12), sharex=True, sharey=True, gridspec_kw={'wspace': 0, 'hspace': 0})\n",
    "ylim = (np.min(np.array(list(avg_norm_filled_spectra.values()))) / 10, \n",
    "        np.max(np.array(list(avg_norm_filled_spectra.values()))) * 2)\n",
    "\n",
    "for i, bl, ax in zip(range(len(avg_norm_filled_spectra)), avg_norm_filled_spectra, axes.flatten()):\n",
    "    ax.semilogy(F_filled.delays, avg_norm_filled_spectra[bl], label='DPSS Filled')\n",
    "    ax.semilogy(F_res.delays, avg_norm_res_spectra[bl], label='DPSS Residual')\n",
    "    ax.semilogy(F_res_filt.delays, avg_norm_res_filt_spectra[bl], label='DPSS Residual &\\nDPSS Cross-Talk Filtered')    \n",
    "\n",
    "    ax.set_ylim(ylim)    \n",
    "    ax.set_xlabel('Delay (ns)')\n",
    "    \n",
    "    ax.set_xlim([-1999, 1999])\n",
    "    if i % 2 == 0:\n",
    "        ax.set_ylabel('$|\\\\tilde{V}_{ij}|$ (Jy Hz)')    \n",
    "    \n",
    "    ax.legend(loc='upper left', title=bl)\n",
    "plt.tight_layout()"
   ]
  },
  {
   "cell_type": "markdown",
   "id": "976b2e9d",
   "metadata": {},
   "source": [
    "### Figure 9: Delay Spectra, Incoherently Averaged Over The Night, of All Baselines at All Three Stages of Filtering After Coherently Time-Averaging"
   ]
  },
  {
   "cell_type": "markdown",
   "id": "58fca0a6",
   "metadata": {
    "ExecuteTime": {
     "end_time": "2022-04-27T02:53:53.246605Z",
     "start_time": "2022-04-27T02:53:53.243149Z"
    }
   },
   "source": [
    "## Examine Delay Spectra After Forming Pseudo-Stokes I"
   ]
  },
  {
   "cell_type": "code",
   "execution_count": 38,
   "id": "41936979",
   "metadata": {
    "ExecuteTime": {
     "end_time": "2022-04-28T01:02:19.798633Z",
     "start_time": "2022-04-28T01:02:19.620685Z"
    },
    "execution": {
     "iopub.execute_input": "2022-04-29T09:02:09.477793Z",
     "iopub.status.busy": "2022-04-29T09:02:09.477052Z",
     "iopub.status.idle": "2022-04-29T09:02:09.488382Z",
     "shell.execute_reply": "2022-04-29T09:02:09.488879Z"
    }
   },
   "outputs": [
    {
     "ename": "NameError",
     "evalue": "name 'F_filled' is not defined",
     "output_type": "error",
     "traceback": [
      "\u001b[0;31m---------------------------------------------------------------------------\u001b[0m",
      "\u001b[0;31mNameError\u001b[0m                                 Traceback (most recent call last)",
      "\u001b[0;32m/tmp/ipykernel_111934/4271505872.py\u001b[0m in \u001b[0;36m<module>\u001b[0;34m\u001b[0m\n\u001b[1;32m      1\u001b[0m \u001b[0;31m# Form psuedo-stokes by averaging 'ee' and 'nn'\u001b[0m\u001b[0;34m\u001b[0m\u001b[0;34m\u001b[0m\u001b[0m\n\u001b[0;32m----> 2\u001b[0;31m \u001b[0;32mfor\u001b[0m \u001b[0mF\u001b[0m \u001b[0;32min\u001b[0m \u001b[0;34m[\u001b[0m\u001b[0mF_filled\u001b[0m\u001b[0;34m,\u001b[0m \u001b[0mF_res\u001b[0m\u001b[0;34m,\u001b[0m \u001b[0mF_res_filt\u001b[0m\u001b[0;34m]\u001b[0m\u001b[0;34m:\u001b[0m\u001b[0;34m\u001b[0m\u001b[0;34m\u001b[0m\u001b[0m\n\u001b[0m\u001b[1;32m      3\u001b[0m     \u001b[0mF\u001b[0m\u001b[0;34m.\u001b[0m\u001b[0mpseudo_I\u001b[0m \u001b[0;34m=\u001b[0m \u001b[0mdatacontainer\u001b[0m\u001b[0;34m.\u001b[0m\u001b[0mDataContainer\u001b[0m\u001b[0;34m(\u001b[0m\u001b[0;34m{\u001b[0m\u001b[0;34m}\u001b[0m\u001b[0;34m)\u001b[0m\u001b[0;34m\u001b[0m\u001b[0;34m\u001b[0m\u001b[0m\n\u001b[1;32m      4\u001b[0m     \u001b[0mF\u001b[0m\u001b[0;34m.\u001b[0m\u001b[0mpseudo_I_flags\u001b[0m \u001b[0;34m=\u001b[0m \u001b[0mdatacontainer\u001b[0m\u001b[0;34m.\u001b[0m\u001b[0mDataContainer\u001b[0m\u001b[0;34m(\u001b[0m\u001b[0;34m{\u001b[0m\u001b[0;34m}\u001b[0m\u001b[0;34m)\u001b[0m\u001b[0;34m\u001b[0m\u001b[0;34m\u001b[0m\u001b[0m\n\u001b[1;32m      5\u001b[0m     \u001b[0mF\u001b[0m\u001b[0;34m.\u001b[0m\u001b[0mpseudo_I_nsamples\u001b[0m \u001b[0;34m=\u001b[0m \u001b[0mdatacontainer\u001b[0m\u001b[0;34m.\u001b[0m\u001b[0mDataContainer\u001b[0m\u001b[0;34m(\u001b[0m\u001b[0;34m{\u001b[0m\u001b[0;34m}\u001b[0m\u001b[0;34m)\u001b[0m\u001b[0;34m\u001b[0m\u001b[0;34m\u001b[0m\u001b[0m\n",
      "\u001b[0;31mNameError\u001b[0m: name 'F_filled' is not defined"
     ]
    }
   ],
   "source": [
    "# Form psuedo-stokes by averaging 'ee' and 'nn'\n",
    "for F in [F_filled, F_res, F_res_filt]:\n",
    "    F.pseudo_I = datacontainer.DataContainer({})\n",
    "    F.pseudo_I_flags = datacontainer.DataContainer({})\n",
    "    F.pseudo_I_nsamples = datacontainer.DataContainer({})    \n",
    "    for bl in F.avg_data:\n",
    "        F.pseudo_I[bl[0], bl[1], 'pI'] = 0.5 * (F.avg_data[bl[0], bl[1], 'ee'] + F.avg_data[bl[0], bl[1], 'nn'])\n",
    "        F.pseudo_I_flags[bl[0], bl[1], 'pI'] = F.avg_flags[bl[0], bl[1], 'ee'] | F.avg_flags[bl[0], bl[1], 'nn']\n",
    "        F.pseudo_I_nsamples[bl[0], bl[1], 'pI'] = .5 * F.avg_nsamples[bl[0], bl[1], 'ee'] + .5 * F.avg_nsamples[bl[0], bl[1], 'nn']        "
   ]
  },
  {
   "cell_type": "code",
   "execution_count": 39,
   "id": "9b30f82c",
   "metadata": {
    "ExecuteTime": {
     "end_time": "2022-04-28T01:02:19.993949Z",
     "start_time": "2022-04-28T01:02:19.799973Z"
    },
    "execution": {
     "iopub.execute_input": "2022-04-29T09:02:09.491198Z",
     "iopub.status.busy": "2022-04-29T09:02:09.490525Z",
     "iopub.status.idle": "2022-04-29T09:02:09.499621Z",
     "shell.execute_reply": "2022-04-29T09:02:09.500123Z"
    }
   },
   "outputs": [
    {
     "ename": "NameError",
     "evalue": "name 'F_filled' is not defined",
     "output_type": "error",
     "traceback": [
      "\u001b[0;31m---------------------------------------------------------------------------\u001b[0m",
      "\u001b[0;31mNameError\u001b[0m                                 Traceback (most recent call last)",
      "\u001b[0;32m/tmp/ipykernel_111934/273562224.py\u001b[0m in \u001b[0;36m<module>\u001b[0;34m\u001b[0m\n\u001b[1;32m      1\u001b[0m \u001b[0;31m# FFT visibilities in 1D\u001b[0m\u001b[0;34m\u001b[0m\u001b[0;34m\u001b[0m\u001b[0m\n\u001b[0;32m----> 2\u001b[0;31m \u001b[0mF_filled\u001b[0m\u001b[0;34m.\u001b[0m\u001b[0mfft_data\u001b[0m\u001b[0;34m(\u001b[0m\u001b[0mdata\u001b[0m\u001b[0;34m=\u001b[0m\u001b[0mF_filled\u001b[0m\u001b[0;34m.\u001b[0m\u001b[0mpseudo_I\u001b[0m\u001b[0;34m,\u001b[0m \u001b[0massign\u001b[0m\u001b[0;34m=\u001b[0m\u001b[0;34m'pI_dfft'\u001b[0m\u001b[0;34m,\u001b[0m \u001b[0max\u001b[0m\u001b[0;34m=\u001b[0m\u001b[0;34m'freq'\u001b[0m\u001b[0;34m,\u001b[0m \u001b[0mwindow\u001b[0m\u001b[0;34m=\u001b[0m\u001b[0;34m'bh'\u001b[0m\u001b[0;34m,\u001b[0m \u001b[0medgecut_low\u001b[0m\u001b[0;34m=\u001b[0m\u001b[0mecf_low\u001b[0m\u001b[0;34m,\u001b[0m \u001b[0medgecut_hi\u001b[0m\u001b[0;34m=\u001b[0m\u001b[0mecf_high\u001b[0m\u001b[0;34m,\u001b[0m \u001b[0moverwrite\u001b[0m\u001b[0;34m=\u001b[0m\u001b[0;32mTrue\u001b[0m\u001b[0;34m)\u001b[0m\u001b[0;34m\u001b[0m\u001b[0;34m\u001b[0m\u001b[0m\n\u001b[0m\u001b[1;32m      3\u001b[0m \u001b[0mF_res\u001b[0m\u001b[0;34m.\u001b[0m\u001b[0mfft_data\u001b[0m\u001b[0;34m(\u001b[0m\u001b[0mdata\u001b[0m\u001b[0;34m=\u001b[0m\u001b[0mF_res\u001b[0m\u001b[0;34m.\u001b[0m\u001b[0mpseudo_I\u001b[0m\u001b[0;34m,\u001b[0m \u001b[0massign\u001b[0m\u001b[0;34m=\u001b[0m\u001b[0;34m'pI_dfft'\u001b[0m\u001b[0;34m,\u001b[0m \u001b[0max\u001b[0m\u001b[0;34m=\u001b[0m\u001b[0;34m'freq'\u001b[0m\u001b[0;34m,\u001b[0m \u001b[0mwindow\u001b[0m\u001b[0;34m=\u001b[0m\u001b[0;34m'bh'\u001b[0m\u001b[0;34m,\u001b[0m \u001b[0medgecut_low\u001b[0m\u001b[0;34m=\u001b[0m\u001b[0mecf_low\u001b[0m\u001b[0;34m,\u001b[0m \u001b[0medgecut_hi\u001b[0m\u001b[0;34m=\u001b[0m\u001b[0mecf_high\u001b[0m\u001b[0;34m,\u001b[0m \u001b[0moverwrite\u001b[0m\u001b[0;34m=\u001b[0m\u001b[0;32mTrue\u001b[0m\u001b[0;34m)\u001b[0m\u001b[0;34m\u001b[0m\u001b[0;34m\u001b[0m\u001b[0m\n\u001b[1;32m      4\u001b[0m \u001b[0mF_res_filt\u001b[0m\u001b[0;34m.\u001b[0m\u001b[0mfft_data\u001b[0m\u001b[0;34m(\u001b[0m\u001b[0mdata\u001b[0m\u001b[0;34m=\u001b[0m\u001b[0mF_res_filt\u001b[0m\u001b[0;34m.\u001b[0m\u001b[0mpseudo_I\u001b[0m\u001b[0;34m,\u001b[0m \u001b[0massign\u001b[0m\u001b[0;34m=\u001b[0m\u001b[0;34m'pI_dfft'\u001b[0m\u001b[0;34m,\u001b[0m \u001b[0max\u001b[0m\u001b[0;34m=\u001b[0m\u001b[0;34m'freq'\u001b[0m\u001b[0;34m,\u001b[0m \u001b[0mwindow\u001b[0m\u001b[0;34m=\u001b[0m\u001b[0;34m'bh'\u001b[0m\u001b[0;34m,\u001b[0m \u001b[0medgecut_low\u001b[0m\u001b[0;34m=\u001b[0m\u001b[0mecf_low\u001b[0m\u001b[0;34m,\u001b[0m \u001b[0medgecut_hi\u001b[0m\u001b[0;34m=\u001b[0m\u001b[0mecf_high\u001b[0m\u001b[0;34m,\u001b[0m \u001b[0moverwrite\u001b[0m\u001b[0;34m=\u001b[0m\u001b[0;32mTrue\u001b[0m\u001b[0;34m)\u001b[0m\u001b[0;34m\u001b[0m\u001b[0;34m\u001b[0m\u001b[0m\n",
      "\u001b[0;31mNameError\u001b[0m: name 'F_filled' is not defined"
     ]
    }
   ],
   "source": [
    "# FFT visibilities in 1D\n",
    "F_filled.fft_data(data=F_filled.pseudo_I, assign='pI_dfft', ax='freq', window='bh', edgecut_low=ecf_low, edgecut_hi=ecf_high, overwrite=True)\n",
    "F_res.fft_data(data=F_res.pseudo_I, assign='pI_dfft', ax='freq', window='bh', edgecut_low=ecf_low, edgecut_hi=ecf_high, overwrite=True)\n",
    "F_res_filt.fft_data(data=F_res_filt.pseudo_I, assign='pI_dfft', ax='freq', window='bh', edgecut_low=ecf_low, edgecut_hi=ecf_high, overwrite=True)"
   ]
  },
  {
   "cell_type": "code",
   "execution_count": 40,
   "id": "451a4d87",
   "metadata": {
    "ExecuteTime": {
     "end_time": "2022-04-28T01:02:19.999913Z",
     "start_time": "2022-04-28T01:02:19.995235Z"
    },
    "execution": {
     "iopub.execute_input": "2022-04-29T09:02:09.502383Z",
     "iopub.status.busy": "2022-04-29T09:02:09.501719Z",
     "iopub.status.idle": "2022-04-29T09:02:09.509403Z",
     "shell.execute_reply": "2022-04-29T09:02:09.509889Z"
    }
   },
   "outputs": [
    {
     "ename": "NameError",
     "evalue": "name 'F_res_filt' is not defined",
     "output_type": "error",
     "traceback": [
      "\u001b[0;31m---------------------------------------------------------------------------\u001b[0m",
      "\u001b[0;31mNameError\u001b[0m                                 Traceback (most recent call last)",
      "\u001b[0;32m/tmp/ipykernel_111934/2484026006.py\u001b[0m in \u001b[0;36m<module>\u001b[0;34m\u001b[0m\n\u001b[1;32m      1\u001b[0m \u001b[0;31m# Recalculate the number of flagged edge times after time-averaging\u001b[0m\u001b[0;34m\u001b[0m\u001b[0;34m\u001b[0m\u001b[0m\n\u001b[0;32m----> 2\u001b[0;31m \u001b[0mavg_flag_waterfall\u001b[0m \u001b[0;34m=\u001b[0m \u001b[0mnp\u001b[0m\u001b[0;34m.\u001b[0m\u001b[0mall\u001b[0m\u001b[0;34m(\u001b[0m\u001b[0;34m[\u001b[0m\u001b[0mF_res_filt\u001b[0m\u001b[0;34m.\u001b[0m\u001b[0mavg_flags\u001b[0m\u001b[0;34m[\u001b[0m\u001b[0mbl\u001b[0m\u001b[0;34m]\u001b[0m \u001b[0;32mfor\u001b[0m \u001b[0mbl\u001b[0m \u001b[0;32min\u001b[0m \u001b[0mF_res_filt\u001b[0m\u001b[0;34m.\u001b[0m\u001b[0mavg_flags\u001b[0m\u001b[0;34m]\u001b[0m\u001b[0;34m,\u001b[0m \u001b[0maxis\u001b[0m\u001b[0;34m=\u001b[0m\u001b[0;36m0\u001b[0m\u001b[0;34m)\u001b[0m\u001b[0;34m\u001b[0m\u001b[0;34m\u001b[0m\u001b[0m\n\u001b[0m\u001b[1;32m      3\u001b[0m \u001b[0mavg_ect_low\u001b[0m\u001b[0;34m,\u001b[0m \u001b[0mavg_ect_high\u001b[0m\u001b[0;34m,\u001b[0m \u001b[0m_\u001b[0m\u001b[0;34m,\u001b[0m \u001b[0m_\u001b[0m \u001b[0;34m=\u001b[0m \u001b[0mcount_edge_flags\u001b[0m\u001b[0;34m(\u001b[0m\u001b[0mavg_flag_waterfall\u001b[0m\u001b[0;34m)\u001b[0m\u001b[0;34m\u001b[0m\u001b[0;34m\u001b[0m\u001b[0m\n",
      "\u001b[0;31mNameError\u001b[0m: name 'F_res_filt' is not defined"
     ]
    }
   ],
   "source": [
    "# Recalculate the number of flagged edge times after time-averaging\n",
    "avg_flag_waterfall = np.all([F_res_filt.avg_flags[bl] for bl in F_res_filt.avg_flags], axis=0)\n",
    "avg_ect_low, avg_ect_high, _, _ = count_edge_flags(avg_flag_waterfall)"
   ]
  },
  {
   "cell_type": "code",
   "execution_count": 41,
   "id": "e826cc2e",
   "metadata": {
    "ExecuteTime": {
     "end_time": "2022-04-28T01:02:20.601546Z",
     "start_time": "2022-04-28T01:02:20.000995Z"
    },
    "execution": {
     "iopub.execute_input": "2022-04-29T09:02:09.512136Z",
     "iopub.status.busy": "2022-04-29T09:02:09.511469Z",
     "iopub.status.idle": "2022-04-29T09:02:09.520423Z",
     "shell.execute_reply": "2022-04-29T09:02:09.520907Z"
    }
   },
   "outputs": [
    {
     "ename": "NameError",
     "evalue": "name 'example_bl' is not defined",
     "output_type": "error",
     "traceback": [
      "\u001b[0;31m---------------------------------------------------------------------------\u001b[0m",
      "\u001b[0;31mNameError\u001b[0m                                 Traceback (most recent call last)",
      "\u001b[0;32m/tmp/ipykernel_111934/2812842550.py\u001b[0m in \u001b[0;36m<module>\u001b[0;34m\u001b[0m\n\u001b[1;32m      1\u001b[0m \u001b[0;31m# Perform CLEANing in time and 2D FFT\u001b[0m\u001b[0;34m\u001b[0m\u001b[0;34m\u001b[0m\u001b[0m\n\u001b[0;32m----> 2\u001b[0;31m \u001b[0mpI_example\u001b[0m \u001b[0;34m=\u001b[0m \u001b[0;34m(\u001b[0m\u001b[0mexample_bl\u001b[0m\u001b[0;34m[\u001b[0m\u001b[0;36m0\u001b[0m\u001b[0;34m]\u001b[0m\u001b[0;34m,\u001b[0m \u001b[0mexample_bl\u001b[0m\u001b[0;34m[\u001b[0m\u001b[0;36m1\u001b[0m\u001b[0;34m]\u001b[0m\u001b[0;34m,\u001b[0m \u001b[0;34m'pI'\u001b[0m\u001b[0;34m)\u001b[0m\u001b[0;34m\u001b[0m\u001b[0;34m\u001b[0m\u001b[0m\n\u001b[0m\u001b[1;32m      3\u001b[0m F_res_filt.vis_clean(data=F_res_filt.pseudo_I, flags=F_res_filt.pseudo_I_flags, keys=[pI_example], ax='time', max_frate=5, tol=1e-6, gain=0.9,\n\u001b[1;32m      4\u001b[0m                      window='bh', alpha=0.1, overwrite=True, verbose=True, x=F_res_filt.avg_times*24*3600, output_prefix='pI_xclean')\n\u001b[1;32m      5\u001b[0m F_res_filt.fft_data(data=F_res_filt.pI_xclean_data, keys=[pI_example], assign='pI_xdfft2', ax='both', window=('bh','bh'), \n",
      "\u001b[0;31mNameError\u001b[0m: name 'example_bl' is not defined"
     ]
    }
   ],
   "source": [
    "# Perform CLEANing in time and 2D FFT\n",
    "pI_example = (example_bl[0], example_bl[1], 'pI')\n",
    "F_res_filt.vis_clean(data=F_res_filt.pseudo_I, flags=F_res_filt.pseudo_I_flags, keys=[pI_example], ax='time', max_frate=5, tol=1e-6, gain=0.9,\n",
    "                     window='bh', alpha=0.1, overwrite=True, verbose=True, x=F_res_filt.avg_times*24*3600, output_prefix='pI_xclean')\n",
    "F_res_filt.fft_data(data=F_res_filt.pI_xclean_data, keys=[pI_example], assign='pI_xdfft2', ax='both', window=('bh','bh'), \n",
    "                    edgecut_low=(avg_ect_low, ecf_low), edgecut_hi=(avg_ect_high, ecf_high), overwrite=True)"
   ]
  },
  {
   "cell_type": "code",
   "execution_count": 42,
   "id": "c3b7e3e6",
   "metadata": {
    "ExecuteTime": {
     "end_time": "2022-04-28T01:02:21.293028Z",
     "start_time": "2022-04-28T01:02:20.602946Z"
    },
    "execution": {
     "iopub.execute_input": "2022-04-29T09:02:09.523168Z",
     "iopub.status.busy": "2022-04-29T09:02:09.522488Z",
     "iopub.status.idle": "2022-04-29T09:02:09.697140Z",
     "shell.execute_reply": "2022-04-29T09:02:09.697746Z"
    }
   },
   "outputs": [
    {
     "ename": "NameError",
     "evalue": "name 'F_res_filt' is not defined",
     "output_type": "error",
     "traceback": [
      "\u001b[0;31m---------------------------------------------------------------------------\u001b[0m",
      "\u001b[0;31mNameError\u001b[0m                                 Traceback (most recent call last)",
      "\u001b[0;32m/tmp/ipykernel_111934/3279572820.py\u001b[0m in \u001b[0;36m<module>\u001b[0;34m\u001b[0m\n\u001b[1;32m      1\u001b[0m \u001b[0;31m# plot in delay space\u001b[0m\u001b[0;34m\u001b[0m\u001b[0;34m\u001b[0m\u001b[0m\n\u001b[1;32m      2\u001b[0m \u001b[0mfig\u001b[0m\u001b[0;34m,\u001b[0m \u001b[0maxes\u001b[0m \u001b[0;34m=\u001b[0m \u001b[0mplt\u001b[0m\u001b[0;34m.\u001b[0m\u001b[0msubplots\u001b[0m\u001b[0;34m(\u001b[0m\u001b[0;36m1\u001b[0m\u001b[0;34m,\u001b[0m \u001b[0;36m2\u001b[0m\u001b[0;34m,\u001b[0m \u001b[0mfigsize\u001b[0m\u001b[0;34m=\u001b[0m\u001b[0;34m(\u001b[0m\u001b[0;36m14\u001b[0m\u001b[0;34m,\u001b[0m\u001b[0;36m8\u001b[0m\u001b[0;34m)\u001b[0m\u001b[0;34m,\u001b[0m \u001b[0mgridspec_kw\u001b[0m\u001b[0;34m=\u001b[0m\u001b[0;34m{\u001b[0m\u001b[0;34m'width_ratios'\u001b[0m\u001b[0;34m:\u001b[0m \u001b[0;34m[\u001b[0m\u001b[0;36m2\u001b[0m\u001b[0;34m,\u001b[0m \u001b[0;36m1\u001b[0m\u001b[0;34m]\u001b[0m\u001b[0;34m}\u001b[0m\u001b[0;34m,\u001b[0m \u001b[0msharey\u001b[0m\u001b[0;34m=\u001b[0m\u001b[0;32mTrue\u001b[0m\u001b[0;34m)\u001b[0m\u001b[0;34m\u001b[0m\u001b[0;34m\u001b[0m\u001b[0m\n\u001b[0;32m----> 3\u001b[0;31m \u001b[0mavg_lsts_unwrapped\u001b[0m \u001b[0;34m=\u001b[0m \u001b[0mnp\u001b[0m\u001b[0;34m.\u001b[0m\u001b[0mwhere\u001b[0m\u001b[0;34m(\u001b[0m\u001b[0mF_res_filt\u001b[0m\u001b[0;34m.\u001b[0m\u001b[0mavg_lsts\u001b[0m \u001b[0;34m>\u001b[0m \u001b[0mF_res_filt\u001b[0m\u001b[0;34m.\u001b[0m\u001b[0mavg_lsts\u001b[0m\u001b[0;34m[\u001b[0m\u001b[0;34m-\u001b[0m\u001b[0;36m1\u001b[0m\u001b[0;34m]\u001b[0m\u001b[0;34m,\u001b[0m \u001b[0mF_res_filt\u001b[0m\u001b[0;34m.\u001b[0m\u001b[0mavg_lsts\u001b[0m \u001b[0;34m-\u001b[0m \u001b[0;36m2\u001b[0m \u001b[0;34m*\u001b[0m \u001b[0mnp\u001b[0m\u001b[0;34m.\u001b[0m\u001b[0mpi\u001b[0m\u001b[0;34m,\u001b[0m \u001b[0mF_res_filt\u001b[0m\u001b[0;34m.\u001b[0m\u001b[0mavg_lsts\u001b[0m\u001b[0;34m)\u001b[0m \u001b[0;34m*\u001b[0m \u001b[0;36m12\u001b[0m \u001b[0;34m/\u001b[0m \u001b[0mnp\u001b[0m\u001b[0;34m.\u001b[0m\u001b[0mpi\u001b[0m  \u001b[0;31m# in hours\u001b[0m\u001b[0;34m\u001b[0m\u001b[0;34m\u001b[0m\u001b[0m\n\u001b[0m\u001b[1;32m      4\u001b[0m \u001b[0mextent\u001b[0m\u001b[0;34m=\u001b[0m\u001b[0;34m[\u001b[0m\u001b[0mF_res_filt\u001b[0m\u001b[0;34m.\u001b[0m\u001b[0mfreqs\u001b[0m\u001b[0;34m[\u001b[0m\u001b[0;36m0\u001b[0m\u001b[0;34m]\u001b[0m \u001b[0;34m/\u001b[0m \u001b[0;36m1e6\u001b[0m\u001b[0;34m,\u001b[0m \u001b[0mF_res_filt\u001b[0m\u001b[0;34m.\u001b[0m\u001b[0mfreqs\u001b[0m\u001b[0;34m[\u001b[0m\u001b[0;34m-\u001b[0m\u001b[0;36m1\u001b[0m\u001b[0;34m]\u001b[0m \u001b[0;34m/\u001b[0m \u001b[0;36m1e6\u001b[0m\u001b[0;34m,\u001b[0m \u001b[0mlsts_unwrapped\u001b[0m\u001b[0;34m[\u001b[0m\u001b[0;34m-\u001b[0m\u001b[0;36m1\u001b[0m\u001b[0;34m]\u001b[0m\u001b[0;34m,\u001b[0m \u001b[0mlsts_unwrapped\u001b[0m\u001b[0;34m[\u001b[0m\u001b[0;36m0\u001b[0m\u001b[0;34m]\u001b[0m\u001b[0;34m]\u001b[0m\u001b[0;34m\u001b[0m\u001b[0;34m\u001b[0m\u001b[0m\n\u001b[1;32m      5\u001b[0m \u001b[0;34m\u001b[0m\u001b[0m\n",
      "\u001b[0;31mNameError\u001b[0m: name 'F_res_filt' is not defined"
     ]
    },
    {
     "data": {
      "image/png": "[encoded data removed]",
      "text/plain": [
       "<Figure size 1008x576 with 2 Axes>"
      ]
     },
     "metadata": {
      "image/png": {
       "height": 469,
       "width": 826
      },
      "needs_background": "light"
     },
     "output_type": "display_data"
    }
   ],
   "source": [
    "# plot in delay space\n",
    "fig, axes = plt.subplots(1, 2, figsize=(14,8), gridspec_kw={'width_ratios': [2, 1]}, sharey=True)\n",
    "avg_lsts_unwrapped = np.where(F_res_filt.avg_lsts > F_res_filt.avg_lsts[-1], F_res_filt.avg_lsts - 2 * np.pi, F_res_filt.avg_lsts) * 12 / np.pi  # in hours\n",
    "extent=[F_res_filt.freqs[0] / 1e6, F_res_filt.freqs[-1] / 1e6, lsts_unwrapped[-1], lsts_unwrapped[0]]\n",
    "\n",
    "to_plot = np.where(F_res_filt.pseudo_I_flags[pI_example], np.nan, np.real(F_res_filt.pseudo_I[pI_example]))\n",
    "im = axes[0].imshow(to_plot, interpolation='none', aspect='auto', cmap='bwr', extent=extent, norm=sym_log_norm(to_plot))\n",
    "plt.colorbar(im, pad=.1, location='bottom', ax=axes[0], label=r'Re$[\\widetilde{V}_{ij}]$ (Jy Hz)')\n",
    "axes[0].set_xlabel('Delay (ns)')\n",
    "axes[0].set_ylabel('LST (hours)')\n",
    "axes[0].set_title(f'Final Calibrated, DPSS Residual, DPSS Cross-Talk Filtered,\\nTime Averaged Visibility: {pI_example}')\n",
    "\n",
    "im = axes[1].imshow(np.where(np.all(F_res_filt.pseudo_I_flags[pI_example], axis=1, keepdims=True), np.nan, np.real(F_res_filt.pseudo_I_nsamples[pI_example])),\n",
    "                    interpolation='none', aspect='auto', extent=extent)\n",
    "plt.colorbar(im, pad=.1, location='bottom', ax=axes[1], label=r'Number Samples')\n",
    "axes[1].set_xlabel('Frequency (MHz)')\n",
    "axes[1].set_title(f'Time Averaged Number of Samples: {pI_example}')\n",
    "    \n",
    "plt.tight_layout()"
   ]
  },
  {
   "cell_type": "markdown",
   "id": "17f3b754",
   "metadata": {},
   "source": [
    "### Figure 10a: Real Part of DPSS-Residual Example Waterfall After Cross-Talk Filtering, Coherent Time Averaging, and Forming Pseudo-Stokes I"
   ]
  },
  {
   "cell_type": "code",
   "execution_count": 43,
   "id": "b38fcdb4",
   "metadata": {
    "ExecuteTime": {
     "end_time": "2022-04-28T01:02:22.147307Z",
     "start_time": "2022-04-28T01:02:21.294363Z"
    },
    "execution": {
     "iopub.execute_input": "2022-04-29T09:02:09.700454Z",
     "iopub.status.busy": "2022-04-29T09:02:09.699686Z",
     "iopub.status.idle": "2022-04-29T09:02:09.877057Z",
     "shell.execute_reply": "2022-04-29T09:02:09.877683Z"
    }
   },
   "outputs": [
    {
     "ename": "NameError",
     "evalue": "name 'F_res_filt' is not defined",
     "output_type": "error",
     "traceback": [
      "\u001b[0;31m---------------------------------------------------------------------------\u001b[0m",
      "\u001b[0;31mNameError\u001b[0m                                 Traceback (most recent call last)",
      "\u001b[0;32m/tmp/ipykernel_111934/894571652.py\u001b[0m in \u001b[0;36m<module>\u001b[0;34m\u001b[0m\n\u001b[1;32m      1\u001b[0m \u001b[0;31m# plot in delay space\u001b[0m\u001b[0;34m\u001b[0m\u001b[0;34m\u001b[0m\u001b[0m\n\u001b[1;32m      2\u001b[0m \u001b[0mfig\u001b[0m\u001b[0;34m,\u001b[0m \u001b[0maxes\u001b[0m \u001b[0;34m=\u001b[0m \u001b[0mplt\u001b[0m\u001b[0;34m.\u001b[0m\u001b[0msubplots\u001b[0m\u001b[0;34m(\u001b[0m\u001b[0;36m1\u001b[0m\u001b[0;34m,\u001b[0m \u001b[0;36m2\u001b[0m\u001b[0;34m,\u001b[0m \u001b[0mfigsize\u001b[0m\u001b[0;34m=\u001b[0m\u001b[0;34m(\u001b[0m\u001b[0;36m14\u001b[0m\u001b[0;34m,\u001b[0m\u001b[0;36m8\u001b[0m\u001b[0;34m)\u001b[0m\u001b[0;34m,\u001b[0m \u001b[0mgridspec_kw\u001b[0m\u001b[0;34m=\u001b[0m\u001b[0;34m{\u001b[0m\u001b[0;34m'width_ratios'\u001b[0m\u001b[0;34m:\u001b[0m \u001b[0;34m[\u001b[0m\u001b[0;36m2\u001b[0m\u001b[0;34m,\u001b[0m \u001b[0;36m1\u001b[0m\u001b[0;34m]\u001b[0m\u001b[0;34m}\u001b[0m\u001b[0;34m,\u001b[0m \u001b[0msharey\u001b[0m\u001b[0;34m=\u001b[0m\u001b[0;32mTrue\u001b[0m\u001b[0;34m)\u001b[0m\u001b[0;34m\u001b[0m\u001b[0;34m\u001b[0m\u001b[0m\n\u001b[0;32m----> 3\u001b[0;31m \u001b[0mavg_lsts_unwrapped\u001b[0m \u001b[0;34m=\u001b[0m \u001b[0mnp\u001b[0m\u001b[0;34m.\u001b[0m\u001b[0mwhere\u001b[0m\u001b[0;34m(\u001b[0m\u001b[0mF_res_filt\u001b[0m\u001b[0;34m.\u001b[0m\u001b[0mavg_lsts\u001b[0m \u001b[0;34m>\u001b[0m \u001b[0mF_res_filt\u001b[0m\u001b[0;34m.\u001b[0m\u001b[0mavg_lsts\u001b[0m\u001b[0;34m[\u001b[0m\u001b[0;34m-\u001b[0m\u001b[0;36m1\u001b[0m\u001b[0;34m]\u001b[0m\u001b[0;34m,\u001b[0m \u001b[0mF_res_filt\u001b[0m\u001b[0;34m.\u001b[0m\u001b[0mavg_lsts\u001b[0m \u001b[0;34m-\u001b[0m \u001b[0;36m2\u001b[0m \u001b[0;34m*\u001b[0m \u001b[0mnp\u001b[0m\u001b[0;34m.\u001b[0m\u001b[0mpi\u001b[0m\u001b[0;34m,\u001b[0m \u001b[0mF_res_filt\u001b[0m\u001b[0;34m.\u001b[0m\u001b[0mavg_lsts\u001b[0m\u001b[0;34m)\u001b[0m \u001b[0;34m*\u001b[0m \u001b[0;36m12\u001b[0m \u001b[0;34m/\u001b[0m \u001b[0mnp\u001b[0m\u001b[0;34m.\u001b[0m\u001b[0mpi\u001b[0m  \u001b[0;31m# in hours\u001b[0m\u001b[0;34m\u001b[0m\u001b[0;34m\u001b[0m\u001b[0m\n\u001b[0m\u001b[1;32m      4\u001b[0m \u001b[0;34m\u001b[0m\u001b[0m\n\u001b[1;32m      5\u001b[0m \u001b[0mto_plot\u001b[0m \u001b[0;34m=\u001b[0m \u001b[0mnp\u001b[0m\u001b[0;34m.\u001b[0m\u001b[0mwhere\u001b[0m\u001b[0;34m(\u001b[0m\u001b[0mnp\u001b[0m\u001b[0;34m.\u001b[0m\u001b[0mall\u001b[0m\u001b[0;34m(\u001b[0m\u001b[0mF_res_filt\u001b[0m\u001b[0;34m.\u001b[0m\u001b[0mpseudo_I_flags\u001b[0m\u001b[0;34m[\u001b[0m\u001b[0mpI_example\u001b[0m\u001b[0;34m]\u001b[0m\u001b[0;34m,\u001b[0m \u001b[0maxis\u001b[0m\u001b[0;34m=\u001b[0m\u001b[0;36m1\u001b[0m\u001b[0;34m,\u001b[0m \u001b[0mkeepdims\u001b[0m\u001b[0;34m=\u001b[0m\u001b[0;32mTrue\u001b[0m\u001b[0;34m)\u001b[0m\u001b[0;34m,\u001b[0m \u001b[0mnp\u001b[0m\u001b[0;34m.\u001b[0m\u001b[0mnan\u001b[0m\u001b[0;34m,\u001b[0m \u001b[0mnp\u001b[0m\u001b[0;34m.\u001b[0m\u001b[0mreal\u001b[0m\u001b[0;34m(\u001b[0m\u001b[0mF_res_filt\u001b[0m\u001b[0;34m.\u001b[0m\u001b[0mpI_dfft\u001b[0m\u001b[0;34m[\u001b[0m\u001b[0mpI_example\u001b[0m\u001b[0;34m]\u001b[0m\u001b[0;34m)\u001b[0m\u001b[0;34m)\u001b[0m\u001b[0;34m\u001b[0m\u001b[0;34m\u001b[0m\u001b[0m\n",
      "\u001b[0;31mNameError\u001b[0m: name 'F_res_filt' is not defined"
     ]
    },
    {
     "data": {
      "image/png": "[encoded data removed]",
      "text/plain": [
       "<Figure size 1008x576 with 2 Axes>"
      ]
     },
     "metadata": {
      "image/png": {
       "height": 469,
       "width": 826
      },
      "needs_background": "light"
     },
     "output_type": "display_data"
    }
   ],
   "source": [
    "# plot in delay space\n",
    "fig, axes = plt.subplots(1, 2, figsize=(14,8), gridspec_kw={'width_ratios': [2, 1]}, sharey=True)\n",
    "avg_lsts_unwrapped = np.where(F_res_filt.avg_lsts > F_res_filt.avg_lsts[-1], F_res_filt.avg_lsts - 2 * np.pi, F_res_filt.avg_lsts) * 12 / np.pi  # in hours\n",
    "\n",
    "to_plot = np.where(np.all(F_res_filt.pseudo_I_flags[pI_example], axis=1, keepdims=True), np.nan, np.real(F_res_filt.pI_dfft[pI_example]))\n",
    "im = axes[0].imshow(to_plot, interpolation='none', aspect='auto', cmap='bwr', norm=sym_log_norm(to_plot),\n",
    "                    extent=[F_res_filt.delays[0], F_res_filt.delays[-1], lsts_unwrapped[-1], lsts_unwrapped[0]])\n",
    "plt.colorbar(im, pad=.1, location='bottom', ax=axes[0], label=r'Re$[\\widetilde{V}_{ij}]$ (Jy Hz)')\n",
    "axes[0].set_xlim([-2000, 2000])\n",
    "axes[0].set_xlabel('Delay (ns)')\n",
    "axes[0].set_ylabel('LST (hours)')\n",
    "axes[0].set_title(f'Final Calibrated, DPSS Residual, DPSS Cross-Talk Filtered,\\nTime Averaged Visibility: {pI_example}')\n",
    "\n",
    "im = axes[1].imshow(np.where(np.all(F_res_filt.pseudo_I_flags[pI_example], axis=1, keepdims=True), np.nan, np.real(F_res_filt.pseudo_I_nsamples[pI_example])),\n",
    "                    interpolation='none', aspect='auto', extent=[F_res_filt.freqs[0] / 1e6, F_res_filt.freqs[-1] / 1e6, lsts_unwrapped[-1], lsts_unwrapped[0]])\n",
    "plt.colorbar(im, pad=.1, location='bottom', ax=axes[1], label=r'Number Samples')\n",
    "axes[1].set_xlabel('Frequency (MHz)')\n",
    "axes[1].set_title(f'Time Averaged Number of Samples: {pI_example}')\n",
    "    \n",
    "plt.tight_layout()"
   ]
  },
  {
   "cell_type": "markdown",
   "id": "e0f2fc37",
   "metadata": {},
   "source": [
    "### Figure 10b: Real Part of DPSS-Residual Example Waterfall After Cross-Talk Filtering, Coherent Time Averaging, and Forming Pseudo-Stokes I in Delay Space"
   ]
  },
  {
   "cell_type": "code",
   "execution_count": 44,
   "id": "5fa4c576",
   "metadata": {
    "ExecuteTime": {
     "end_time": "2022-04-28T01:02:22.824786Z",
     "start_time": "2022-04-28T01:02:22.148592Z"
    },
    "execution": {
     "iopub.execute_input": "2022-04-29T09:02:09.880402Z",
     "iopub.status.busy": "2022-04-29T09:02:09.879636Z",
     "iopub.status.idle": "2022-04-29T09:02:09.891035Z",
     "shell.execute_reply": "2022-04-29T09:02:09.891531Z"
    }
   },
   "outputs": [
    {
     "ename": "NameError",
     "evalue": "name 'F_res_filt' is not defined",
     "output_type": "error",
     "traceback": [
      "\u001b[0;31m---------------------------------------------------------------------------\u001b[0m",
      "\u001b[0;31mNameError\u001b[0m                                 Traceback (most recent call last)",
      "\u001b[0;32m/tmp/ipykernel_111934/2538826822.py\u001b[0m in \u001b[0;36m<module>\u001b[0;34m\u001b[0m\n\u001b[1;32m      1\u001b[0m \u001b[0;31m# plot in delay space and FR space\u001b[0m\u001b[0;34m\u001b[0m\u001b[0;34m\u001b[0m\u001b[0m\n\u001b[0;32m----> 2\u001b[0;31m \u001b[0mfrates\u001b[0m \u001b[0;34m=\u001b[0m \u001b[0mnp\u001b[0m\u001b[0;34m.\u001b[0m\u001b[0mfft\u001b[0m\u001b[0;34m.\u001b[0m\u001b[0mfftshift\u001b[0m\u001b[0;34m(\u001b[0m\u001b[0mnp\u001b[0m\u001b[0;34m.\u001b[0m\u001b[0mfft\u001b[0m\u001b[0;34m.\u001b[0m\u001b[0mfftfreq\u001b[0m\u001b[0;34m(\u001b[0m\u001b[0mlen\u001b[0m\u001b[0;34m(\u001b[0m\u001b[0mF_res_filt\u001b[0m\u001b[0;34m.\u001b[0m\u001b[0mavg_times\u001b[0m\u001b[0;34m)\u001b[0m\u001b[0;34m,\u001b[0m \u001b[0mnp\u001b[0m\u001b[0;34m.\u001b[0m\u001b[0mmedian\u001b[0m\u001b[0;34m(\u001b[0m\u001b[0mnp\u001b[0m\u001b[0;34m.\u001b[0m\u001b[0mdiff\u001b[0m\u001b[0;34m(\u001b[0m\u001b[0mF_res_filt\u001b[0m\u001b[0;34m.\u001b[0m\u001b[0mavg_times\u001b[0m\u001b[0;34m)\u001b[0m\u001b[0;34m)\u001b[0m \u001b[0;34m*\u001b[0m \u001b[0;36m24\u001b[0m \u001b[0;34m*\u001b[0m \u001b[0;36m3600\u001b[0m\u001b[0;34m)\u001b[0m \u001b[0;34m*\u001b[0m \u001b[0;36m1e3\u001b[0m\u001b[0;34m)\u001b[0m \u001b[0;31m# in mHz\u001b[0m\u001b[0;34m\u001b[0m\u001b[0;34m\u001b[0m\u001b[0m\n\u001b[0m\u001b[1;32m      3\u001b[0m \u001b[0;34m\u001b[0m\u001b[0m\n\u001b[1;32m      4\u001b[0m \u001b[0mextent\u001b[0m \u001b[0;34m=\u001b[0m \u001b[0;34m[\u001b[0m\u001b[0mF_res_filt\u001b[0m\u001b[0;34m.\u001b[0m\u001b[0mdelays\u001b[0m\u001b[0;34m[\u001b[0m\u001b[0;36m0\u001b[0m\u001b[0;34m]\u001b[0m\u001b[0;34m,\u001b[0m \u001b[0mF_res_filt\u001b[0m\u001b[0;34m.\u001b[0m\u001b[0mdelays\u001b[0m\u001b[0;34m[\u001b[0m\u001b[0;34m-\u001b[0m\u001b[0;36m1\u001b[0m\u001b[0;34m]\u001b[0m\u001b[0;34m,\u001b[0m \u001b[0mfrates\u001b[0m\u001b[0;34m[\u001b[0m\u001b[0;34m-\u001b[0m\u001b[0;36m1\u001b[0m\u001b[0;34m]\u001b[0m\u001b[0;34m,\u001b[0m \u001b[0mfrates\u001b[0m\u001b[0;34m[\u001b[0m\u001b[0;36m0\u001b[0m\u001b[0;34m]\u001b[0m\u001b[0;34m]\u001b[0m\u001b[0;34m\u001b[0m\u001b[0;34m\u001b[0m\u001b[0m\n\u001b[1;32m      5\u001b[0m \u001b[0mplt\u001b[0m\u001b[0;34m.\u001b[0m\u001b[0mfigure\u001b[0m\u001b[0;34m(\u001b[0m\u001b[0mfigsize\u001b[0m\u001b[0;34m=\u001b[0m\u001b[0;34m(\u001b[0m\u001b[0;36m14\u001b[0m\u001b[0;34m,\u001b[0m\u001b[0;36m8\u001b[0m\u001b[0;34m)\u001b[0m\u001b[0;34m)\u001b[0m\u001b[0;34m\u001b[0m\u001b[0;34m\u001b[0m\u001b[0m\n",
      "\u001b[0;31mNameError\u001b[0m: name 'F_res_filt' is not defined"
     ]
    }
   ],
   "source": [
    "# plot in delay space and FR space\n",
    "frates = np.fft.fftshift(np.fft.fftfreq(len(F_res_filt.avg_times), np.median(np.diff(F_res_filt.avg_times)) * 24 * 3600) * 1e3) # in mHz\n",
    "\n",
    "extent = [F_res_filt.delays[0], F_res_filt.delays[-1], frates[-1], frates[0]]\n",
    "plt.figure(figsize=(14,8))\n",
    "plt.imshow(np.abs(F_res_filt.pI_xdfft2[pI_example]), aspect='auto', interpolation='none', \n",
    "           norm=matplotlib.colors.LogNorm(), cmap='jet', extent=extent)\n",
    "plt.colorbar(label='$|\\widetilde{V}_{ij}|$ (Jy)')\n",
    "plt.xlabel('Delay (ns)')\n",
    "plt.xlim([-2000, 2000])\n",
    "plt.ylabel('Fringe Rate (mHz)')\n",
    "plt.title(f'Final Calibrated, DPSS Residual, DPSS Cross-Talk Filtered, and CLEAN Inpainted (in Time): {pI_example}')\n",
    "plt.tight_layout()"
   ]
  },
  {
   "cell_type": "markdown",
   "id": "ffb4f8ec",
   "metadata": {},
   "source": [
    "### Figure 10c: Magnitude of DPSS-Residual Example Waterfall After Cross-Talk Filtering, Coherent Time Averaging, and Forming Pseudo-Stokes I in Fringe-Rate / Delay Space"
   ]
  },
  {
   "cell_type": "code",
   "execution_count": 45,
   "id": "aa28bb0a",
   "metadata": {
    "ExecuteTime": {
     "end_time": "2022-04-28T01:37:44.758984Z",
     "start_time": "2022-04-28T01:37:44.665412Z"
    },
    "execution": {
     "iopub.execute_input": "2022-04-29T09:02:09.893864Z",
     "iopub.status.busy": "2022-04-29T09:02:09.893191Z",
     "iopub.status.idle": "2022-04-29T09:02:09.901323Z",
     "shell.execute_reply": "2022-04-29T09:02:09.901816Z"
    }
   },
   "outputs": [
    {
     "ename": "NameError",
     "evalue": "name 'F_filled' is not defined",
     "output_type": "error",
     "traceback": [
      "\u001b[0;31m---------------------------------------------------------------------------\u001b[0m",
      "\u001b[0;31mNameError\u001b[0m                                 Traceback (most recent call last)",
      "\u001b[0;32m/tmp/ipykernel_111934/958652200.py\u001b[0m in \u001b[0;36m<module>\u001b[0;34m\u001b[0m\n\u001b[1;32m      1\u001b[0m \u001b[0;31m# Calculate incoherently time-averaged delay spectra\u001b[0m\u001b[0;34m\u001b[0m\u001b[0;34m\u001b[0m\u001b[0m\n\u001b[0;32m----> 2\u001b[0;31m \u001b[0mavg_norm_filled_spectra\u001b[0m \u001b[0;34m=\u001b[0m \u001b[0mcalculate_avg_norm_spectra\u001b[0m\u001b[0;34m(\u001b[0m\u001b[0mF_filled\u001b[0m\u001b[0;34m.\u001b[0m\u001b[0mpI_dfft\u001b[0m\u001b[0;34m,\u001b[0m \u001b[0mF_filled\u001b[0m\u001b[0;34m.\u001b[0m\u001b[0mpseudo_I_flags\u001b[0m\u001b[0;34m,\u001b[0m \u001b[0mF_filled\u001b[0m\u001b[0;34m.\u001b[0m\u001b[0mpseudo_I_nsamples\u001b[0m\u001b[0;34m)\u001b[0m\u001b[0;34m\u001b[0m\u001b[0;34m\u001b[0m\u001b[0m\n\u001b[0m\u001b[1;32m      3\u001b[0m \u001b[0mavg_norm_res_spectra\u001b[0m \u001b[0;34m=\u001b[0m \u001b[0mcalculate_avg_norm_spectra\u001b[0m\u001b[0;34m(\u001b[0m\u001b[0mF_res\u001b[0m\u001b[0;34m.\u001b[0m\u001b[0mpI_dfft\u001b[0m\u001b[0;34m,\u001b[0m \u001b[0mF_res\u001b[0m\u001b[0;34m.\u001b[0m\u001b[0mpseudo_I_flags\u001b[0m\u001b[0;34m,\u001b[0m \u001b[0mF_res\u001b[0m\u001b[0;34m.\u001b[0m\u001b[0mpseudo_I_nsamples\u001b[0m\u001b[0;34m)\u001b[0m\u001b[0;34m\u001b[0m\u001b[0;34m\u001b[0m\u001b[0m\n\u001b[1;32m      4\u001b[0m \u001b[0mavg_norm_res_filt_spectra\u001b[0m \u001b[0;34m=\u001b[0m \u001b[0mcalculate_avg_norm_spectra\u001b[0m\u001b[0;34m(\u001b[0m\u001b[0mF_res_filt\u001b[0m\u001b[0;34m.\u001b[0m\u001b[0mpI_dfft\u001b[0m\u001b[0;34m,\u001b[0m \u001b[0mF_res_filt\u001b[0m\u001b[0;34m.\u001b[0m\u001b[0mpseudo_I_flags\u001b[0m\u001b[0;34m,\u001b[0m \u001b[0mF_res_filt\u001b[0m\u001b[0;34m.\u001b[0m\u001b[0mpseudo_I_nsamples\u001b[0m\u001b[0;34m)\u001b[0m\u001b[0;34m\u001b[0m\u001b[0;34m\u001b[0m\u001b[0m\n",
      "\u001b[0;31mNameError\u001b[0m: name 'F_filled' is not defined"
     ]
    }
   ],
   "source": [
    "# Calculate incoherently time-averaged delay spectra\n",
    "avg_norm_filled_spectra = calculate_avg_norm_spectra(F_filled.pI_dfft, F_filled.pseudo_I_flags, F_filled.pseudo_I_nsamples)\n",
    "avg_norm_res_spectra = calculate_avg_norm_spectra(F_res.pI_dfft, F_res.pseudo_I_flags, F_res.pseudo_I_nsamples)\n",
    "avg_norm_res_filt_spectra = calculate_avg_norm_spectra(F_res_filt.pI_dfft, F_res_filt.pseudo_I_flags, F_res_filt.pseudo_I_nsamples)"
   ]
  },
  {
   "cell_type": "code",
   "execution_count": 46,
   "id": "58c0dd90",
   "metadata": {
    "ExecuteTime": {
     "end_time": "2022-04-28T01:37:52.130548Z",
     "start_time": "2022-04-28T01:37:50.454687Z"
    },
    "execution": {
     "iopub.execute_input": "2022-04-29T09:02:09.904092Z",
     "iopub.status.busy": "2022-04-29T09:02:09.903413Z",
     "iopub.status.idle": "2022-04-29T09:02:10.310066Z",
     "shell.execute_reply": "2022-04-29T09:02:10.310622Z"
    }
   },
   "outputs": [
    {
     "ename": "NameError",
     "evalue": "name 'avg_norm_filled_spectra' is not defined",
     "output_type": "error",
     "traceback": [
      "\u001b[0;31m---------------------------------------------------------------------------\u001b[0m",
      "\u001b[0;31mNameError\u001b[0m                                 Traceback (most recent call last)",
      "\u001b[0;32m/tmp/ipykernel_111934/3385238795.py\u001b[0m in \u001b[0;36m<module>\u001b[0;34m\u001b[0m\n\u001b[1;32m      1\u001b[0m \u001b[0;31m# Plot all incoherently time-averaged delay spectra\u001b[0m\u001b[0;34m\u001b[0m\u001b[0;34m\u001b[0m\u001b[0m\n\u001b[1;32m      2\u001b[0m \u001b[0mfig\u001b[0m\u001b[0;34m,\u001b[0m \u001b[0maxes\u001b[0m \u001b[0;34m=\u001b[0m \u001b[0mplt\u001b[0m\u001b[0;34m.\u001b[0m\u001b[0msubplots\u001b[0m\u001b[0;34m(\u001b[0m\u001b[0;36m3\u001b[0m\u001b[0;34m,\u001b[0m \u001b[0;36m2\u001b[0m\u001b[0;34m,\u001b[0m \u001b[0mfigsize\u001b[0m\u001b[0;34m=\u001b[0m\u001b[0;34m(\u001b[0m\u001b[0;36m14\u001b[0m\u001b[0;34m,\u001b[0m\u001b[0;36m12\u001b[0m\u001b[0;34m)\u001b[0m\u001b[0;34m,\u001b[0m \u001b[0msharex\u001b[0m\u001b[0;34m=\u001b[0m\u001b[0;32mTrue\u001b[0m\u001b[0;34m,\u001b[0m \u001b[0msharey\u001b[0m\u001b[0;34m=\u001b[0m\u001b[0;32mTrue\u001b[0m\u001b[0;34m,\u001b[0m \u001b[0mgridspec_kw\u001b[0m\u001b[0;34m=\u001b[0m\u001b[0;34m{\u001b[0m\u001b[0;34m'wspace'\u001b[0m\u001b[0;34m:\u001b[0m \u001b[0;36m0\u001b[0m\u001b[0;34m,\u001b[0m \u001b[0;34m'hspace'\u001b[0m\u001b[0;34m:\u001b[0m \u001b[0;36m0\u001b[0m\u001b[0;34m}\u001b[0m\u001b[0;34m)\u001b[0m\u001b[0;34m\u001b[0m\u001b[0;34m\u001b[0m\u001b[0m\n\u001b[0;32m----> 3\u001b[0;31m ylim = (np.min(np.array(list(avg_norm_filled_spectra.values()))) / 10, \n\u001b[0m\u001b[1;32m      4\u001b[0m         np.max(np.array(list(avg_norm_filled_spectra.values()))) * 2)\n\u001b[1;32m      5\u001b[0m \u001b[0;34m\u001b[0m\u001b[0m\n",
      "\u001b[0;31mNameError\u001b[0m: name 'avg_norm_filled_spectra' is not defined"
     ]
    },
    {
     "data": {
      "image/png": "[encoded data removed]",
      "text/plain": [
       "<Figure size 1008x864 with 6 Axes>"
      ]
     },
     "metadata": {
      "image/png": {
       "height": 686,
       "width": 826
      },
      "needs_background": "light"
     },
     "output_type": "display_data"
    }
   ],
   "source": [
    "# Plot all incoherently time-averaged delay spectra\n",
    "fig, axes = plt.subplots(3, 2, figsize=(14,12), sharex=True, sharey=True, gridspec_kw={'wspace': 0, 'hspace': 0})\n",
    "ylim = (np.min(np.array(list(avg_norm_filled_spectra.values()))) / 10, \n",
    "        np.max(np.array(list(avg_norm_filled_spectra.values()))) * 2)\n",
    "\n",
    "for i, bl, ax in zip(range(len(avg_norm_filled_spectra)), avg_norm_filled_spectra, axes.flatten()):\n",
    "    ax.semilogy(F_filled.delays, avg_norm_filled_spectra[bl], label='DPSS Filled')\n",
    "    ax.semilogy(F_res.delays, avg_norm_res_spectra[bl], label='DPSS Residual')\n",
    "    ax.semilogy(F_res_filt.delays, avg_norm_res_filt_spectra[bl], label='DPSS Residual &\\nDPSS Cross-Talk Filtered')    \n",
    "\n",
    "    ax.set_ylim(ylim)    \n",
    "    ax.set_xlabel('Delay (ns)')\n",
    "    ax.set_xlim([-1999, 1999])\n",
    "    if i % 2 == 0:\n",
    "        ax.set_ylabel('$|\\\\tilde{V}_{ij}|$ (Jy Hz)')    \n",
    "    \n",
    "    ax.legend(loc='upper left', title=bl)\n",
    "plt.tight_layout()"
   ]
  },
  {
   "cell_type": "markdown",
   "id": "09f65eac",
   "metadata": {},
   "source": [
    "### Figure 11: Delay Spectra, Incoherently Averaged Over The Night, of All Baselines at All Three Stages of Filtering After Coherently Time-Averaging and Forming Pseudo-Stokes I"
   ]
  },
  {
   "cell_type": "code",
   "execution_count": 47,
   "id": "33ced951",
   "metadata": {
    "ExecuteTime": {
     "end_time": "2022-04-28T01:02:25.158159Z",
     "start_time": "2022-04-28T01:02:24.443378Z"
    },
    "execution": {
     "iopub.execute_input": "2022-04-29T09:02:10.313222Z",
     "iopub.status.busy": "2022-04-29T09:02:10.312485Z",
     "iopub.status.idle": "2022-04-29T09:02:10.597027Z",
     "shell.execute_reply": "2022-04-29T09:02:10.596282Z"
    }
   },
   "outputs": [
    {
     "name": "stdout",
     "output_type": "stream",
     "text": [
      "\n",
      "------------\n",
      "This file was produced by the function <module>() in 2408815014.py using: \n",
      "    git_branch: main\n",
      "    git_description: v3.0-1741-g8740b972\n",
      "    git_hash: 8740b9720044a45aefede665c695f863f304cd69\n",
      "    git_origin: git@github.com:HERA-Team/hera_cal.git\n",
      "    version: 3.0\n",
      "------------\n",
      "\n"
     ]
    }
   ],
   "source": [
    "from hera_cal import version\n",
    "print(version.history_string())"
   ]
  }
 ],
 "metadata": {
  "kernelspec": {
   "display_name": "Python 3 (ipykernel)",
   "language": "python",
   "name": "python3"
  },
  "language_info": {
   "codemirror_mode": {
    "name": "ipython",
    "version": 3
   },
   "file_extension": ".py",
   "mimetype": "text/x-python",
   "name": "python",
   "nbconvert_exporter": "python",
   "pygments_lexer": "ipython3",
   "version": "3.9.7"
  },
  "toc": {
   "base_numbering": 1,
   "nav_menu": {},
   "number_sections": false,
   "sideBar": true,
   "skip_h1_title": false,
   "title_cell": "Table of Contents",
   "title_sidebar": "Contents",
   "toc_cell": false,
   "toc_position": {
    "height": "calc(100% - 180px)",
    "left": "10px",
    "top": "150px",
    "width": "548px"
   },
   "toc_section_display": true,
   "toc_window_display": true
  },
  "varInspector": {
   "cols": {
    "lenName": 16,
    "lenType": 16,
    "lenVar": 40
   },
   "kernels_config": {
    "python": {
     "delete_cmd_postfix": "",
     "delete_cmd_prefix": "del ",
     "library": "var_list.py",
     "varRefreshCmd": "print(var_dic_list())"
    },
    "r": {
     "delete_cmd_postfix": ") ",
     "delete_cmd_prefix": "rm(",
     "library": "var_list.r",
     "varRefreshCmd": "cat(var_dic_list()) "
    }
   },
   "types_to_exclude": [
    "module",
    "function",
    "builtin_function_or_method",
    "instance",
    "_Feature"
   ],
   "window_display": false
  }
 },
 "nbformat": 4,
 "nbformat_minor": 5
}
