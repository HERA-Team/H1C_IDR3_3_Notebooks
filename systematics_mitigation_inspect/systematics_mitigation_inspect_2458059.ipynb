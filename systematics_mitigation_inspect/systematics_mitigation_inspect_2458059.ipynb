{
 "cells": [
  {
   "cell_type": "markdown",
   "id": "63495cff",
   "metadata": {},
   "source": [
    "# H1C Systematics Mitigation (Reflections & Crosstalk) Nightly Notebook\n",
    "\n",
    "**Josh Dillon**, Last Revised 4/29/22"
   ]
  },
  {
   "cell_type": "code",
   "execution_count": 1,
   "id": "4c36ee8b",
   "metadata": {
    "ExecuteTime": {
     "start_time": "2022-04-29T19:45:42.817Z"
    },
    "execution": {
     "iopub.execute_input": "2022-05-28T21:44:20.887436Z",
     "iopub.status.busy": "2022-05-28T21:44:20.886394Z",
     "iopub.status.idle": "2022-05-28T21:44:25.916441Z",
     "shell.execute_reply": "2022-05-28T21:44:25.917372Z"
    }
   },
   "outputs": [
    {
     "data": {
      "text/html": [
       "<style>.container { width:100% !important; }</style>"
      ],
      "text/plain": [
       "<IPython.core.display.HTML object>"
      ]
     },
     "metadata": {},
     "output_type": "display_data"
    }
   ],
   "source": [
    "import numpy as np\n",
    "import matplotlib.pyplot as plt\n",
    "import matplotlib\n",
    "from hera_cal import io, redcal, apply_cal, abscal, utils, datacontainer\n",
    "from hera_cal.smooth_cal import build_time_blacklist\n",
    "from hera_qm.metrics_io import load_metric_file\n",
    "from hera_cal.frf import FRFilter\n",
    "import pyuvdata\n",
    "import glob\n",
    "import os\n",
    "from copy import deepcopy\n",
    "import inspect\n",
    "import h5py\n",
    "import matplotlib.cm as cm\n",
    "from IPython.display import display, HTML\n",
    "import contextlib\n",
    "import scipy\n",
    "\n",
    "%matplotlib inline\n",
    "%config InlineBackend.figure_format = 'retina'\n",
    "display(HTML(\"<style>.container { width:100% !important; }</style>\"))"
   ]
  },
  {
   "cell_type": "code",
   "execution_count": 2,
   "id": "613628bb",
   "metadata": {
    "ExecuteTime": {
     "start_time": "2022-04-29T19:45:42.818Z"
    },
    "execution": {
     "iopub.execute_input": "2022-05-28T21:44:25.921910Z",
     "iopub.status.busy": "2022-05-28T21:44:25.920636Z",
     "iopub.status.idle": "2022-05-28T21:44:25.925831Z",
     "shell.execute_reply": "2022-05-28T21:44:25.926663Z"
    }
   },
   "outputs": [],
   "source": [
    "# If you want to run this notebook locally, copy the output of the next cell into the first few lines of this cell.\n",
    "# JD = \"2458187\"\n",
    "# data_path = \"/lustre/aoc/projects/hera/H1C_IDR3/IDR3_3/2458187\"\n",
    "# horizon = \"1.0\"\n",
    "# standoff = \"0.0\"\n",
    "# min_dly = \"150.0\"\n",
    "# max_frate_const_term = \"-0.28\"\n",
    "# max_frate_linear_term = \"0.024\"\n",
    "# min_frate_half_width = \"0.06\"\n",
    "# max_frate_half_width = \"0.75\"\n",
    "# os.environ[\"JULIANDATE\"] = JD\n",
    "# os.environ[\"DATA_PATH\"] = data_path\n",
    "# os.environ[\"HORIZON\"] = horizon\n",
    "# os.environ[\"STANDOFF\"] = standoff\n",
    "# os.environ[\"MIN_DLY\"] = min_dly\n",
    "# os.environ[\"MAX_FRATE_CONST_TERM\"] = max_frate_const_term\n",
    "# os.environ[\"MAX_FRATE_LINEAR_TERM\"] = max_frate_linear_term\n",
    "# os.environ[\"MIN_FRATE_HALF_WIDTH\"] = min_frate_half_width\n",
    "# os.environ[\"MAX_FRATE_HALF_WIDTH\"] = max_frate_half_width"
   ]
  },
  {
   "cell_type": "code",
   "execution_count": 3,
   "id": "d7f706b0",
   "metadata": {
    "ExecuteTime": {
     "start_time": "2022-04-29T19:45:42.819Z"
    },
    "execution": {
     "iopub.execute_input": "2022-05-28T21:44:25.930408Z",
     "iopub.status.busy": "2022-05-28T21:44:25.929222Z",
     "iopub.status.idle": "2022-05-28T21:44:25.940740Z",
     "shell.execute_reply": "2022-05-28T21:44:25.941529Z"
    }
   },
   "outputs": [
    {
     "name": "stdout",
     "output_type": "stream",
     "text": [
      "JD = \"2458059\"\n",
      "data_path = \"/lustre/aoc/projects/hera/H1C_IDR3/IDR3_3/2458059\"\n",
      "horizon = \"1.0\"\n",
      "standoff = \"0.0\"\n",
      "min_dly = \"150.0\"\n",
      "max_frate_const_term = \"-0.28\"\n",
      "max_frate_linear_term = \"0.024\"\n",
      "min_frate_half_width = \"0.06\"\n",
      "max_frate_half_width = \"0.75\"\n"
     ]
    }
   ],
   "source": [
    "# Use environment variables to figure out path to data\n",
    "JD = os.environ['JULIANDATE']\n",
    "data_path = os.environ['DATA_PATH']\n",
    "horizon = float(os.environ[\"HORIZON\"])\n",
    "standoff = float(os.environ[\"STANDOFF\"])\n",
    "min_dly = float(os.environ[\"MIN_DLY\"])\n",
    "max_frate_const_term = float(os.environ[\"MAX_FRATE_CONST_TERM\"])\n",
    "max_frate_linear_term = float(os.environ[\"MAX_FRATE_LINEAR_TERM\"])\n",
    "min_frate_half_width = float(os.environ[\"MIN_FRATE_HALF_WIDTH\"])\n",
    "max_frate_half_width = float(os.environ[\"MAX_FRATE_HALF_WIDTH\"])\n",
    "\n",
    "print(f'JD = \"{JD}\"')\n",
    "print(f'data_path = \"{data_path}\"')\n",
    "print(f'horizon = \"{horizon}\"')\n",
    "print(f'standoff = \"{standoff}\"')\n",
    "print(f'min_dly = \"{min_dly}\"')\n",
    "print(f'max_frate_const_term = \"{max_frate_const_term}\"')\n",
    "print(f'max_frate_linear_term = \"{max_frate_linear_term}\"')\n",
    "print(f'min_frate_half_width = \"{min_frate_half_width}\"')\n",
    "print(f'max_frate_half_width = \"{max_frate_half_width}\"')"
   ]
  },
  {
   "cell_type": "code",
   "execution_count": 4,
   "id": "cdeff34a",
   "metadata": {
    "ExecuteTime": {
     "start_time": "2022-04-29T19:45:42.820Z"
    },
    "execution": {
     "iopub.execute_input": "2022-05-28T21:44:25.945123Z",
     "iopub.status.busy": "2022-05-28T21:44:25.943977Z",
     "iopub.status.idle": "2022-05-28T21:44:26.065426Z",
     "shell.execute_reply": "2022-05-28T21:44:26.066511Z"
    }
   },
   "outputs": [
    {
     "name": "stdout",
     "output_type": "stream",
     "text": [
      "Looking for data in /lustre/aoc/projects/hera/H1C_IDR3/IDR3_3/2458059 on 2458059...\n",
      "...found 73 smoothed calibration files.\n",
      "...found 1 total thresholding and apriori flags files.\n",
      "...found 1 time-averaged reflection calibration files.\n",
      "...found 73 CLEAN-inpainted autocorrelation files.\n",
      "...found 73 smooth-calibrated and reflection-calibrated data files.\n",
      "...found 73 DPSS inpainted files.\n",
      "...found 73 DPSS delay-filtered files.\n",
      "...found 73 DPSS delay-filtered, DPSS crosstalk-filtered files.\n"
     ]
    }
   ],
   "source": [
    "print(f'Looking for data in {data_path} on {JD}...')\n",
    "\n",
    "smooth_cal_files = sorted(glob.glob(os.path.join(data_path, f'*.smooth_abs.calfits')))\n",
    "print(f'...found {len(smooth_cal_files)} smoothed calibration files.')\n",
    "\n",
    "total_flags_files = sorted(glob.glob(os.path.join(data_path, '*.total_threshold_and_a_priori_flags.h5')))\n",
    "print(f'...found {len(total_flags_files)} total thresholding and apriori flags files.')\n",
    "\n",
    "ref_cal_files = sorted(glob.glob(os.path.join(data_path, '*.time_avg_ref_cal.calfits')))\n",
    "print(f'...found {len(ref_cal_files)} time-averaged reflection calibration files.')\n",
    "\n",
    "inpainted_autos_files = sorted(glob.glob(os.path.join(data_path, '*.autos.inpainted.uvh5')))\n",
    "print(f'...found {len(inpainted_autos_files)} CLEAN-inpainted autocorrelation files.')\n",
    "\n",
    "final_cal_files = sorted(glob.glob(os.path.join(data_path, '*.final_calibrated.uvh5')))\n",
    "print(f'...found {len(final_cal_files)} smooth-calibrated and reflection-calibrated data files.')\n",
    "\n",
    "dpss_filled_files = sorted(glob.glob(os.path.join(data_path, '*.dpss_filled.uvh5')))\n",
    "print(f'...found {len(dpss_filled_files)} DPSS inpainted files.')\n",
    "\n",
    "dpss_res_files = sorted(glob.glob(os.path.join(data_path, '*.dpss_res.uvh5')))\n",
    "print(f'...found {len(dpss_res_files)} DPSS delay-filtered files.')\n",
    "\n",
    "dpss_res_xtalk_filt_files = sorted(glob.glob(os.path.join(data_path, '*.dpss_res.xtalk_filt.uvh5')))\n",
    "print(f'...found {len(dpss_res_xtalk_filt_files)} DPSS delay-filtered, DPSS crosstalk-filtered files.')"
   ]
  },
  {
   "cell_type": "code",
   "execution_count": 5,
   "id": "7afa33b5",
   "metadata": {
    "ExecuteTime": {
     "start_time": "2022-04-29T19:45:42.821Z"
    },
    "execution": {
     "iopub.execute_input": "2022-05-28T21:44:26.071345Z",
     "iopub.status.busy": "2022-05-28T21:44:26.069848Z",
     "iopub.status.idle": "2022-05-28T21:44:27.804069Z",
     "shell.execute_reply": "2022-05-28T21:44:27.804659Z"
    }
   },
   "outputs": [],
   "source": [
    "# Load information about antenna positions and antenna flags\n",
    "hc = io.HERACal(smooth_cal_files[len(smooth_cal_files) // 2])\n",
    "_, sc_flags, _, _ = hc.read()\n",
    "ex_ants = set([ant[0] for ant in sc_flags if np.all(sc_flags[ant])])\n",
    "hd = io.HERAData(final_cal_files[len(final_cal_files) // 2])"
   ]
  },
  {
   "cell_type": "code",
   "execution_count": 6,
   "id": "05ee9d19",
   "metadata": {
    "ExecuteTime": {
     "start_time": "2022-04-29T19:45:42.822Z"
    },
    "execution": {
     "iopub.execute_input": "2022-05-28T21:44:27.807375Z",
     "iopub.status.busy": "2022-05-28T21:44:27.806592Z",
     "iopub.status.idle": "2022-05-28T21:44:27.824675Z",
     "shell.execute_reply": "2022-05-28T21:44:27.825259Z"
    }
   },
   "outputs": [
    {
     "ename": "IndexError",
     "evalue": "list index out of range",
     "output_type": "error",
     "traceback": [
      "\u001b[0;31m---------------------------------------------------------------------------\u001b[0m",
      "\u001b[0;31mIndexError\u001b[0m                                Traceback (most recent call last)",
      "\u001b[0;32m/tmp/ipykernel_10595/1920335869.py\u001b[0m in \u001b[0;36m<module>\u001b[0;34m\u001b[0m\n\u001b[1;32m      6\u001b[0m         \u001b[0;32mif\u001b[0m \u001b[0mnp\u001b[0m\u001b[0;34m.\u001b[0m\u001b[0mmax\u001b[0m\u001b[0;34m(\u001b[0m\u001b[0my_positions\u001b[0m\u001b[0;34m)\u001b[0m \u001b[0;34m-\u001b[0m \u001b[0mnp\u001b[0m\u001b[0;34m.\u001b[0m\u001b[0mmin\u001b[0m\u001b[0;34m(\u001b[0m\u001b[0my_positions\u001b[0m\u001b[0;34m)\u001b[0m \u001b[0;34m<\u001b[0m \u001b[0;36m5\u001b[0m\u001b[0;34m:\u001b[0m\u001b[0;34m\u001b[0m\u001b[0;34m\u001b[0m\u001b[0m\n\u001b[1;32m      7\u001b[0m             \u001b[0mcandidates\u001b[0m\u001b[0;34m.\u001b[0m\u001b[0mappend\u001b[0m\u001b[0;34m(\u001b[0m\u001b[0mant\u001b[0m\u001b[0;34m)\u001b[0m\u001b[0;34m\u001b[0m\u001b[0;34m\u001b[0m\u001b[0m\n\u001b[0;32m----> 8\u001b[0;31m \u001b[0mwesternmost_ant\u001b[0m \u001b[0;34m=\u001b[0m \u001b[0msorted\u001b[0m\u001b[0;34m(\u001b[0m\u001b[0mcandidates\u001b[0m\u001b[0;34m,\u001b[0m \u001b[0mkey\u001b[0m\u001b[0;34m=\u001b[0m\u001b[0;32mlambda\u001b[0m \u001b[0mant\u001b[0m\u001b[0;34m:\u001b[0m \u001b[0mnp\u001b[0m\u001b[0;34m.\u001b[0m\u001b[0mlinalg\u001b[0m\u001b[0;34m.\u001b[0m\u001b[0mnorm\u001b[0m\u001b[0;34m(\u001b[0m\u001b[0mhd\u001b[0m\u001b[0;34m.\u001b[0m\u001b[0mantpos\u001b[0m\u001b[0;34m[\u001b[0m\u001b[0mant\u001b[0m\u001b[0;34m]\u001b[0m \u001b[0;34m-\u001b[0m \u001b[0mnp\u001b[0m\u001b[0;34m.\u001b[0m\u001b[0marray\u001b[0m\u001b[0;34m(\u001b[0m\u001b[0;34m[\u001b[0m\u001b[0;34m-\u001b[0m\u001b[0;36m180\u001b[0m\u001b[0;34m,\u001b[0m \u001b[0;34m-\u001b[0m\u001b[0;36m10\u001b[0m\u001b[0;34m,\u001b[0m \u001b[0;36m0\u001b[0m\u001b[0;34m]\u001b[0m\u001b[0;34m)\u001b[0m\u001b[0;34m)\u001b[0m\u001b[0;34m)\u001b[0m\u001b[0;34m[\u001b[0m\u001b[0;36m0\u001b[0m\u001b[0;34m]\u001b[0m\u001b[0;34m\u001b[0m\u001b[0;34m\u001b[0m\u001b[0m\n\u001b[0m\u001b[1;32m      9\u001b[0m \u001b[0mants_to_load\u001b[0m \u001b[0;34m=\u001b[0m \u001b[0;34m[\u001b[0m\u001b[0mwesternmost_ant\u001b[0m \u001b[0;34m+\u001b[0m \u001b[0mn\u001b[0m \u001b[0;32mfor\u001b[0m \u001b[0mn\u001b[0m \u001b[0;32min\u001b[0m \u001b[0mrange\u001b[0m\u001b[0;34m(\u001b[0m\u001b[0;36m4\u001b[0m\u001b[0;34m)\u001b[0m\u001b[0;34m]\u001b[0m\u001b[0;34m\u001b[0m\u001b[0;34m\u001b[0m\u001b[0m\n",
      "\u001b[0;31mIndexError\u001b[0m: list index out of range"
     ]
    }
   ],
   "source": [
    "# Pick group of 4 antennas in a row as close as possible to the emitter\n",
    "candidates = []\n",
    "for i, ant in enumerate(hd.data_ants):\n",
    "    if np.all([((ant + n) in hd.data_ants) and ((ant + n) not in ex_ants) for n in range(4)]):\n",
    "        y_positions = [hd.antpos[ant + n][1] for n in range(4)]\n",
    "        if np.max(y_positions) - np.min(y_positions) < 5:\n",
    "            candidates.append(ant)\n",
    "westernmost_ant = sorted(candidates, key=lambda ant: np.linalg.norm(hd.antpos[ant] - np.array([-180, -10, 0])))[0]\n",
    "ants_to_load = [westernmost_ant + n for n in range(4)]"
   ]
  },
  {
   "cell_type": "code",
   "execution_count": 7,
   "id": "36e7e79d",
   "metadata": {
    "ExecuteTime": {
     "start_time": "2022-04-29T19:45:42.822Z"
    },
    "execution": {
     "iopub.execute_input": "2022-05-28T21:44:27.827816Z",
     "iopub.status.busy": "2022-05-28T21:44:27.827019Z",
     "iopub.status.idle": "2022-05-28T21:44:28.243816Z",
     "shell.execute_reply": "2022-05-28T21:44:28.244629Z"
    }
   },
   "outputs": [
    {
     "ename": "IndexError",
     "evalue": "invalid index to scalar variable.",
     "output_type": "error",
     "traceback": [
      "\u001b[0;31m---------------------------------------------------------------------------\u001b[0m",
      "\u001b[0;31mIndexError\u001b[0m                                Traceback (most recent call last)",
      "\u001b[0;32m/tmp/ipykernel_10595/81896878.py\u001b[0m in \u001b[0;36m<module>\u001b[0;34m\u001b[0m\n\u001b[1;32m      5\u001b[0m \u001b[0;32mfor\u001b[0m \u001b[0mant\u001b[0m \u001b[0;32min\u001b[0m \u001b[0mhd\u001b[0m\u001b[0;34m.\u001b[0m\u001b[0mdata_ants\u001b[0m\u001b[0;34m:\u001b[0m\u001b[0;34m\u001b[0m\u001b[0;34m\u001b[0m\u001b[0m\n\u001b[1;32m      6\u001b[0m     \u001b[0mpos\u001b[0m \u001b[0;34m=\u001b[0m \u001b[0mhd\u001b[0m\u001b[0;34m.\u001b[0m\u001b[0mantpos\u001b[0m\u001b[0;34m[\u001b[0m\u001b[0mant\u001b[0m\u001b[0;34m]\u001b[0m\u001b[0;34m\u001b[0m\u001b[0;34m\u001b[0m\u001b[0m\n\u001b[0;32m----> 7\u001b[0;31m     \u001b[0mbad\u001b[0m \u001b[0;34m=\u001b[0m \u001b[0mant\u001b[0m \u001b[0;32min\u001b[0m \u001b[0;34m[\u001b[0m\u001b[0mant\u001b[0m\u001b[0;34m[\u001b[0m\u001b[0;36m0\u001b[0m\u001b[0;34m]\u001b[0m \u001b[0;32mfor\u001b[0m \u001b[0mant\u001b[0m \u001b[0;32min\u001b[0m \u001b[0mex_ants\u001b[0m\u001b[0;34m]\u001b[0m\u001b[0;34m\u001b[0m\u001b[0;34m\u001b[0m\u001b[0m\n\u001b[0m\u001b[1;32m      8\u001b[0m     plt.gca().add_artist(plt.Circle(tuple(pos[0:2]), radius=7, \n\u001b[1;32m      9\u001b[0m                                     fill=(~bad), color=['grey','r'][bad]))\n",
      "\u001b[0;32m/tmp/ipykernel_10595/81896878.py\u001b[0m in \u001b[0;36m<listcomp>\u001b[0;34m(.0)\u001b[0m\n\u001b[1;32m      5\u001b[0m \u001b[0;32mfor\u001b[0m \u001b[0mant\u001b[0m \u001b[0;32min\u001b[0m \u001b[0mhd\u001b[0m\u001b[0;34m.\u001b[0m\u001b[0mdata_ants\u001b[0m\u001b[0;34m:\u001b[0m\u001b[0;34m\u001b[0m\u001b[0;34m\u001b[0m\u001b[0m\n\u001b[1;32m      6\u001b[0m     \u001b[0mpos\u001b[0m \u001b[0;34m=\u001b[0m \u001b[0mhd\u001b[0m\u001b[0;34m.\u001b[0m\u001b[0mantpos\u001b[0m\u001b[0;34m[\u001b[0m\u001b[0mant\u001b[0m\u001b[0;34m]\u001b[0m\u001b[0;34m\u001b[0m\u001b[0;34m\u001b[0m\u001b[0m\n\u001b[0;32m----> 7\u001b[0;31m     \u001b[0mbad\u001b[0m \u001b[0;34m=\u001b[0m \u001b[0mant\u001b[0m \u001b[0;32min\u001b[0m \u001b[0;34m[\u001b[0m\u001b[0mant\u001b[0m\u001b[0;34m[\u001b[0m\u001b[0;36m0\u001b[0m\u001b[0;34m]\u001b[0m \u001b[0;32mfor\u001b[0m \u001b[0mant\u001b[0m \u001b[0;32min\u001b[0m \u001b[0mex_ants\u001b[0m\u001b[0;34m]\u001b[0m\u001b[0;34m\u001b[0m\u001b[0;34m\u001b[0m\u001b[0m\n\u001b[0m\u001b[1;32m      8\u001b[0m     plt.gca().add_artist(plt.Circle(tuple(pos[0:2]), radius=7, \n\u001b[1;32m      9\u001b[0m                                     fill=(~bad), color=['grey','r'][bad]))\n",
      "\u001b[0;31mIndexError\u001b[0m: invalid index to scalar variable."
     ]
    },
    {
     "data": {
      "image/png": "[encoded data removed]",
      "text/plain": [
       "<Figure size 720x576 with 1 Axes>"
      ]
     },
     "metadata": {
      "image/png": {
       "height": 465,
       "width": 606
      },
      "needs_background": "light"
     },
     "output_type": "display_data"
    }
   ],
   "source": [
    "plt.figure(figsize=(10,8))\n",
    "xpos = np.array([hd.antpos[ant][0] for ant in hd.data_ants])\n",
    "ypos = np.array([hd.antpos[ant][1] for ant in hd.data_ants])\n",
    "plt.scatter(xpos, ypos, c='w', s=0)\n",
    "for ant in hd.data_ants:\n",
    "    pos = hd.antpos[ant]\n",
    "    bad = ant in [ant[0] for ant in ex_ants]\n",
    "    plt.gca().add_artist(plt.Circle(tuple(pos[0:2]), radius=7, \n",
    "                                    fill=(~bad), color=['grey','r'][bad]))\n",
    "    if ant in ants_to_load:\n",
    "        plt.gca().add_artist(plt.Circle(tuple(hd.antpos[ant][0:2]), radius=7, fill=True, lw=0, color='b'))\n",
    "        plt.gca().add_artist(plt.Circle(tuple(hd.antpos[ant][0:2]), radius=6, fill=True, color='grey'))        \n",
    "    plt.text(pos[0],pos[1],str(ant), va='center', ha='center', color='w', size=14)        \n",
    "        \n",
    "legend_objs = []\n",
    "legend_labels = []\n",
    "legend_objs.append(matplotlib.lines.Line2D([0], [0], marker='o', color='w', markeredgecolor='grey', markerfacecolor='grey', markersize=13))\n",
    "legend_labels.append(f'{len(hd.data_ants) - len(ex_ants)} Unflagged Antennas')\n",
    "legend_objs.append(matplotlib.lines.Line2D([0], [0], marker='o', color='w', markeredgecolor='r', markerfacecolor='r', markersize=13))\n",
    "legend_labels.append(f'{len(ex_ants)} Flagged Antennas')\n",
    "legend_objs.append(matplotlib.lines.Line2D([0], [0], marker='o', color='w', markeredgewidth=2, markeredgecolor='b', markersize=15))\n",
    "legend_labels.append('Antennas Inspected\\nIn This Notebook')\n",
    "plt.legend(legend_objs, legend_labels, ncol=1, fontsize='large', framealpha=1)\n",
    "\n",
    "\n",
    "plt.xlabel(\"Antenna East-West Position (meters)\", size=14)\n",
    "plt.ylabel(\"Antenna North-South Position (meters)\", size=14)\n",
    "plt.axis('equal')\n",
    "plt.ylim([np.min(ypos)-10, np.max(ypos)+10])\n",
    "plt.tight_layout()\n",
    "plt.show()"
   ]
  },
  {
   "cell_type": "markdown",
   "id": "91923a21",
   "metadata": {},
   "source": [
    "### Figure 1: Array and Flagged Antennas\n",
    "This figure also shows which antennas are examined in the rest of this notebook. They were chosen to be 4 neighboring, unflagged antennas in a line, as close as possible to the receiverators (the likely crosstalk emitter)."
   ]
  },
  {
   "cell_type": "code",
   "execution_count": 8,
   "id": "93703975",
   "metadata": {
    "ExecuteTime": {
     "start_time": "2022-04-29T19:45:42.824Z"
    },
    "execution": {
     "iopub.execute_input": "2022-05-28T21:44:28.248207Z",
     "iopub.status.busy": "2022-05-28T21:44:28.247158Z",
     "iopub.status.idle": "2022-05-28T21:44:28.368336Z",
     "shell.execute_reply": "2022-05-28T21:44:28.368988Z"
    }
   },
   "outputs": [
    {
     "ename": "NameError",
     "evalue": "name 'ants_to_load' is not defined",
     "output_type": "error",
     "traceback": [
      "\u001b[0;31m---------------------------------------------------------------------------\u001b[0m",
      "\u001b[0;31mNameError\u001b[0m                                 Traceback (most recent call last)",
      "\u001b[0;32m/tmp/ipykernel_10595/2855030021.py\u001b[0m in \u001b[0;36m<module>\u001b[0;34m\u001b[0m\n\u001b[1;32m      2\u001b[0m \u001b[0mhd_final_cal\u001b[0m \u001b[0;34m=\u001b[0m \u001b[0mio\u001b[0m\u001b[0;34m.\u001b[0m\u001b[0mHERAData\u001b[0m\u001b[0;34m(\u001b[0m\u001b[0mfinal_cal_files\u001b[0m\u001b[0;34m[\u001b[0m\u001b[0mlen\u001b[0m\u001b[0;34m(\u001b[0m\u001b[0mfinal_cal_files\u001b[0m\u001b[0;34m)\u001b[0m \u001b[0;34m//\u001b[0m \u001b[0;36m2\u001b[0m\u001b[0;34m]\u001b[0m\u001b[0;34m)\u001b[0m\u001b[0;34m\u001b[0m\u001b[0;34m\u001b[0m\u001b[0m\n\u001b[1;32m      3\u001b[0m \u001b[0mbls\u001b[0m \u001b[0;34m=\u001b[0m \u001b[0mhd_final_cal\u001b[0m\u001b[0;34m.\u001b[0m\u001b[0mbls\u001b[0m\u001b[0;34m\u001b[0m\u001b[0;34m\u001b[0m\u001b[0m\n\u001b[0;32m----> 4\u001b[0;31m \u001b[0mbls_to_load\u001b[0m \u001b[0;34m=\u001b[0m \u001b[0;34m[\u001b[0m\u001b[0mbl\u001b[0m \u001b[0;32mfor\u001b[0m \u001b[0mbl\u001b[0m \u001b[0;32min\u001b[0m \u001b[0mbls\u001b[0m \u001b[0;32mif\u001b[0m \u001b[0mbl\u001b[0m\u001b[0;34m[\u001b[0m\u001b[0;36m0\u001b[0m\u001b[0;34m]\u001b[0m \u001b[0;32min\u001b[0m \u001b[0mants_to_load\u001b[0m \u001b[0;32mand\u001b[0m \u001b[0mbl\u001b[0m\u001b[0;34m[\u001b[0m\u001b[0;36m1\u001b[0m\u001b[0;34m]\u001b[0m \u001b[0;32min\u001b[0m \u001b[0mants_to_load\u001b[0m \u001b[0;32mand\u001b[0m \u001b[0mbl\u001b[0m\u001b[0;34m[\u001b[0m\u001b[0;36m2\u001b[0m\u001b[0;34m]\u001b[0m \u001b[0;32min\u001b[0m \u001b[0;34m[\u001b[0m\u001b[0;34m'ee'\u001b[0m\u001b[0;34m,\u001b[0m \u001b[0;34m'nn'\u001b[0m\u001b[0;34m]\u001b[0m\u001b[0;34m]\u001b[0m\u001b[0;34m\u001b[0m\u001b[0;34m\u001b[0m\u001b[0m\n\u001b[0m\u001b[1;32m      5\u001b[0m \u001b[0mauto_bls\u001b[0m \u001b[0;34m=\u001b[0m \u001b[0;34m[\u001b[0m\u001b[0mbl\u001b[0m \u001b[0;32mfor\u001b[0m \u001b[0mbl\u001b[0m \u001b[0;32min\u001b[0m \u001b[0mbls_to_load\u001b[0m \u001b[0;32mif\u001b[0m \u001b[0mutils\u001b[0m\u001b[0;34m.\u001b[0m\u001b[0msplit_bl\u001b[0m\u001b[0;34m(\u001b[0m\u001b[0mbl\u001b[0m\u001b[0;34m)\u001b[0m\u001b[0;34m[\u001b[0m\u001b[0;36m0\u001b[0m\u001b[0;34m]\u001b[0m \u001b[0;34m==\u001b[0m \u001b[0mutils\u001b[0m\u001b[0;34m.\u001b[0m\u001b[0msplit_bl\u001b[0m\u001b[0;34m(\u001b[0m\u001b[0mbl\u001b[0m\u001b[0;34m)\u001b[0m\u001b[0;34m[\u001b[0m\u001b[0;36m1\u001b[0m\u001b[0;34m]\u001b[0m\u001b[0;34m]\u001b[0m\u001b[0;34m\u001b[0m\u001b[0;34m\u001b[0m\u001b[0m\n\u001b[1;32m      6\u001b[0m \u001b[0mexample_bl\u001b[0m \u001b[0;34m=\u001b[0m \u001b[0msorted\u001b[0m\u001b[0;34m(\u001b[0m\u001b[0mbls_to_load\u001b[0m\u001b[0;34m,\u001b[0m \u001b[0mkey\u001b[0m\u001b[0;34m=\u001b[0m\u001b[0;32mlambda\u001b[0m \u001b[0mbl\u001b[0m\u001b[0;34m:\u001b[0m \u001b[0mnp\u001b[0m\u001b[0;34m.\u001b[0m\u001b[0mlinalg\u001b[0m\u001b[0;34m.\u001b[0m\u001b[0mnorm\u001b[0m\u001b[0;34m(\u001b[0m\u001b[0mhd_final_cal\u001b[0m\u001b[0;34m.\u001b[0m\u001b[0mantpos\u001b[0m\u001b[0;34m[\u001b[0m\u001b[0mbl\u001b[0m\u001b[0;34m[\u001b[0m\u001b[0;36m0\u001b[0m\u001b[0;34m]\u001b[0m\u001b[0;34m]\u001b[0m \u001b[0;34m-\u001b[0m \u001b[0mhd_final_cal\u001b[0m\u001b[0;34m.\u001b[0m\u001b[0mantpos\u001b[0m\u001b[0;34m[\u001b[0m\u001b[0mbl\u001b[0m\u001b[0;34m[\u001b[0m\u001b[0;36m1\u001b[0m\u001b[0;34m]\u001b[0m\u001b[0;34m]\u001b[0m\u001b[0;34m)\u001b[0m\u001b[0;34m)\u001b[0m\u001b[0;34m[\u001b[0m\u001b[0;34m-\u001b[0m\u001b[0;36m1\u001b[0m\u001b[0;34m]\u001b[0m  \u001b[0;31m#i.e. the longest baseline\u001b[0m\u001b[0;34m\u001b[0m\u001b[0;34m\u001b[0m\u001b[0m\n",
      "\u001b[0;32m/tmp/ipykernel_10595/2855030021.py\u001b[0m in \u001b[0;36m<listcomp>\u001b[0;34m(.0)\u001b[0m\n\u001b[1;32m      2\u001b[0m \u001b[0mhd_final_cal\u001b[0m \u001b[0;34m=\u001b[0m \u001b[0mio\u001b[0m\u001b[0;34m.\u001b[0m\u001b[0mHERAData\u001b[0m\u001b[0;34m(\u001b[0m\u001b[0mfinal_cal_files\u001b[0m\u001b[0;34m[\u001b[0m\u001b[0mlen\u001b[0m\u001b[0;34m(\u001b[0m\u001b[0mfinal_cal_files\u001b[0m\u001b[0;34m)\u001b[0m \u001b[0;34m//\u001b[0m \u001b[0;36m2\u001b[0m\u001b[0;34m]\u001b[0m\u001b[0;34m)\u001b[0m\u001b[0;34m\u001b[0m\u001b[0;34m\u001b[0m\u001b[0m\n\u001b[1;32m      3\u001b[0m \u001b[0mbls\u001b[0m \u001b[0;34m=\u001b[0m \u001b[0mhd_final_cal\u001b[0m\u001b[0;34m.\u001b[0m\u001b[0mbls\u001b[0m\u001b[0;34m\u001b[0m\u001b[0;34m\u001b[0m\u001b[0m\n\u001b[0;32m----> 4\u001b[0;31m \u001b[0mbls_to_load\u001b[0m \u001b[0;34m=\u001b[0m \u001b[0;34m[\u001b[0m\u001b[0mbl\u001b[0m \u001b[0;32mfor\u001b[0m \u001b[0mbl\u001b[0m \u001b[0;32min\u001b[0m \u001b[0mbls\u001b[0m \u001b[0;32mif\u001b[0m \u001b[0mbl\u001b[0m\u001b[0;34m[\u001b[0m\u001b[0;36m0\u001b[0m\u001b[0;34m]\u001b[0m \u001b[0;32min\u001b[0m \u001b[0mants_to_load\u001b[0m \u001b[0;32mand\u001b[0m \u001b[0mbl\u001b[0m\u001b[0;34m[\u001b[0m\u001b[0;36m1\u001b[0m\u001b[0;34m]\u001b[0m \u001b[0;32min\u001b[0m \u001b[0mants_to_load\u001b[0m \u001b[0;32mand\u001b[0m \u001b[0mbl\u001b[0m\u001b[0;34m[\u001b[0m\u001b[0;36m2\u001b[0m\u001b[0;34m]\u001b[0m \u001b[0;32min\u001b[0m \u001b[0;34m[\u001b[0m\u001b[0;34m'ee'\u001b[0m\u001b[0;34m,\u001b[0m \u001b[0;34m'nn'\u001b[0m\u001b[0;34m]\u001b[0m\u001b[0;34m]\u001b[0m\u001b[0;34m\u001b[0m\u001b[0;34m\u001b[0m\u001b[0m\n\u001b[0m\u001b[1;32m      5\u001b[0m \u001b[0mauto_bls\u001b[0m \u001b[0;34m=\u001b[0m \u001b[0;34m[\u001b[0m\u001b[0mbl\u001b[0m \u001b[0;32mfor\u001b[0m \u001b[0mbl\u001b[0m \u001b[0;32min\u001b[0m \u001b[0mbls_to_load\u001b[0m \u001b[0;32mif\u001b[0m \u001b[0mutils\u001b[0m\u001b[0;34m.\u001b[0m\u001b[0msplit_bl\u001b[0m\u001b[0;34m(\u001b[0m\u001b[0mbl\u001b[0m\u001b[0;34m)\u001b[0m\u001b[0;34m[\u001b[0m\u001b[0;36m0\u001b[0m\u001b[0;34m]\u001b[0m \u001b[0;34m==\u001b[0m \u001b[0mutils\u001b[0m\u001b[0;34m.\u001b[0m\u001b[0msplit_bl\u001b[0m\u001b[0;34m(\u001b[0m\u001b[0mbl\u001b[0m\u001b[0;34m)\u001b[0m\u001b[0;34m[\u001b[0m\u001b[0;36m1\u001b[0m\u001b[0;34m]\u001b[0m\u001b[0;34m]\u001b[0m\u001b[0;34m\u001b[0m\u001b[0;34m\u001b[0m\u001b[0m\n\u001b[1;32m      6\u001b[0m \u001b[0mexample_bl\u001b[0m \u001b[0;34m=\u001b[0m \u001b[0msorted\u001b[0m\u001b[0;34m(\u001b[0m\u001b[0mbls_to_load\u001b[0m\u001b[0;34m,\u001b[0m \u001b[0mkey\u001b[0m\u001b[0;34m=\u001b[0m\u001b[0;32mlambda\u001b[0m \u001b[0mbl\u001b[0m\u001b[0;34m:\u001b[0m \u001b[0mnp\u001b[0m\u001b[0;34m.\u001b[0m\u001b[0mlinalg\u001b[0m\u001b[0;34m.\u001b[0m\u001b[0mnorm\u001b[0m\u001b[0;34m(\u001b[0m\u001b[0mhd_final_cal\u001b[0m\u001b[0;34m.\u001b[0m\u001b[0mantpos\u001b[0m\u001b[0;34m[\u001b[0m\u001b[0mbl\u001b[0m\u001b[0;34m[\u001b[0m\u001b[0;36m0\u001b[0m\u001b[0;34m]\u001b[0m\u001b[0;34m]\u001b[0m \u001b[0;34m-\u001b[0m \u001b[0mhd_final_cal\u001b[0m\u001b[0;34m.\u001b[0m\u001b[0mantpos\u001b[0m\u001b[0;34m[\u001b[0m\u001b[0mbl\u001b[0m\u001b[0;34m[\u001b[0m\u001b[0;36m1\u001b[0m\u001b[0;34m]\u001b[0m\u001b[0;34m]\u001b[0m\u001b[0;34m)\u001b[0m\u001b[0;34m)\u001b[0m\u001b[0;34m[\u001b[0m\u001b[0;34m-\u001b[0m\u001b[0;36m1\u001b[0m\u001b[0;34m]\u001b[0m  \u001b[0;31m#i.e. the longest baseline\u001b[0m\u001b[0;34m\u001b[0m\u001b[0;34m\u001b[0m\u001b[0m\n",
      "\u001b[0;31mNameError\u001b[0m: name 'ants_to_load' is not defined"
     ]
    }
   ],
   "source": [
    "# Figure out baselines to load\n",
    "hd_final_cal = io.HERAData(final_cal_files[len(final_cal_files) // 2])\n",
    "bls = hd_final_cal.bls\n",
    "bls_to_load = [bl for bl in bls if bl[0] in ants_to_load and bl[1] in ants_to_load and bl[2] in ['ee', 'nn']]\n",
    "auto_bls = [bl for bl in bls_to_load if utils.split_bl(bl)[0] == utils.split_bl(bl)[1]]\n",
    "example_bl = sorted(bls_to_load, key=lambda bl: np.linalg.norm(hd_final_cal.antpos[bl[0]] - hd_final_cal.antpos[bl[1]]))[-1]  #i.e. the longest baseline"
   ]
  },
  {
   "cell_type": "code",
   "execution_count": 9,
   "id": "e67fafc3",
   "metadata": {
    "ExecuteTime": {
     "start_time": "2022-04-29T19:45:42.825Z"
    },
    "execution": {
     "iopub.execute_input": "2022-05-28T21:44:28.372091Z",
     "iopub.status.busy": "2022-05-28T21:44:28.371183Z",
     "iopub.status.idle": "2022-05-28T21:44:28.382228Z",
     "shell.execute_reply": "2022-05-28T21:44:28.382853Z"
    }
   },
   "outputs": [
    {
     "ename": "NameError",
     "evalue": "name 'bls_to_load' is not defined",
     "output_type": "error",
     "traceback": [
      "\u001b[0;31m---------------------------------------------------------------------------\u001b[0m",
      "\u001b[0;31mNameError\u001b[0m                                 Traceback (most recent call last)",
      "\u001b[0;32m/tmp/ipykernel_10595/3291084189.py\u001b[0m in \u001b[0;36m<module>\u001b[0;34m\u001b[0m\n\u001b[1;32m      1\u001b[0m \u001b[0;31m# Figure out the Horizon, Delay Filter Width, and FRF width for each baseline\u001b[0m\u001b[0;34m\u001b[0m\u001b[0;34m\u001b[0m\u001b[0m\n\u001b[0;32m----> 2\u001b[0;31m \u001b[0mblvecs\u001b[0m \u001b[0;34m=\u001b[0m \u001b[0;34m{\u001b[0m\u001b[0mbl\u001b[0m\u001b[0;34m:\u001b[0m \u001b[0mhd_final_cal\u001b[0m\u001b[0;34m.\u001b[0m\u001b[0mantpos\u001b[0m\u001b[0;34m[\u001b[0m\u001b[0mbl\u001b[0m\u001b[0;34m[\u001b[0m\u001b[0;36m1\u001b[0m\u001b[0;34m]\u001b[0m\u001b[0;34m]\u001b[0m \u001b[0;34m-\u001b[0m \u001b[0mhd_final_cal\u001b[0m\u001b[0;34m.\u001b[0m\u001b[0mantpos\u001b[0m\u001b[0;34m[\u001b[0m\u001b[0mbl\u001b[0m\u001b[0;34m[\u001b[0m\u001b[0;36m0\u001b[0m\u001b[0;34m]\u001b[0m\u001b[0;34m]\u001b[0m \u001b[0;32mfor\u001b[0m \u001b[0mbl\u001b[0m \u001b[0;32min\u001b[0m \u001b[0mbls_to_load\u001b[0m\u001b[0;34m}\u001b[0m \u001b[0;31m# in m\u001b[0m\u001b[0;34m\u001b[0m\u001b[0;34m\u001b[0m\u001b[0m\n\u001b[0m\u001b[1;32m      3\u001b[0m \u001b[0mhorizons\u001b[0m \u001b[0;34m=\u001b[0m \u001b[0;34m{\u001b[0m\u001b[0mbl\u001b[0m\u001b[0;34m:\u001b[0m \u001b[0mnp\u001b[0m\u001b[0;34m.\u001b[0m\u001b[0mlinalg\u001b[0m\u001b[0;34m.\u001b[0m\u001b[0mnorm\u001b[0m\u001b[0;34m(\u001b[0m\u001b[0mblvecs\u001b[0m\u001b[0;34m[\u001b[0m\u001b[0mbl\u001b[0m\u001b[0;34m]\u001b[0m\u001b[0;34m)\u001b[0m \u001b[0;34m/\u001b[0m \u001b[0mscipy\u001b[0m\u001b[0;34m.\u001b[0m\u001b[0mconstants\u001b[0m\u001b[0;34m.\u001b[0m\u001b[0mc\u001b[0m \u001b[0;34m*\u001b[0m \u001b[0;36m1e9\u001b[0m \u001b[0;32mfor\u001b[0m \u001b[0mbl\u001b[0m \u001b[0;32min\u001b[0m \u001b[0mbls_to_load\u001b[0m\u001b[0;34m}\u001b[0m \u001b[0;31m# in ns\u001b[0m\u001b[0;34m\u001b[0m\u001b[0;34m\u001b[0m\u001b[0m\n\u001b[1;32m      4\u001b[0m \u001b[0mdelay_filter_half_width\u001b[0m \u001b[0;34m=\u001b[0m \u001b[0;34m{\u001b[0m\u001b[0mbl\u001b[0m\u001b[0;34m:\u001b[0m \u001b[0mmax\u001b[0m\u001b[0;34m(\u001b[0m\u001b[0mmin_dly\u001b[0m\u001b[0;34m,\u001b[0m \u001b[0mhorizons\u001b[0m\u001b[0;34m[\u001b[0m\u001b[0mbl\u001b[0m\u001b[0;34m]\u001b[0m \u001b[0;34m*\u001b[0m \u001b[0mhorizon\u001b[0m \u001b[0;34m+\u001b[0m \u001b[0mstandoff\u001b[0m\u001b[0;34m)\u001b[0m \u001b[0;32mfor\u001b[0m \u001b[0mbl\u001b[0m \u001b[0;32min\u001b[0m \u001b[0mbls_to_load\u001b[0m\u001b[0;34m}\u001b[0m \u001b[0;31m# in ns\u001b[0m\u001b[0;34m\u001b[0m\u001b[0;34m\u001b[0m\u001b[0m\n\u001b[1;32m      5\u001b[0m \u001b[0mfrf_half_width\u001b[0m \u001b[0;34m=\u001b[0m \u001b[0;34m{\u001b[0m\u001b[0mbl\u001b[0m\u001b[0;34m:\u001b[0m \u001b[0mmax_frate_const_term\u001b[0m \u001b[0;34m+\u001b[0m \u001b[0mmax_frate_linear_term\u001b[0m \u001b[0;34m*\u001b[0m \u001b[0mnp\u001b[0m\u001b[0;34m.\u001b[0m\u001b[0mabs\u001b[0m\u001b[0;34m(\u001b[0m\u001b[0mblvecs\u001b[0m\u001b[0;34m[\u001b[0m\u001b[0mbl\u001b[0m\u001b[0;34m]\u001b[0m\u001b[0;34m[\u001b[0m\u001b[0;36m0\u001b[0m\u001b[0;34m]\u001b[0m\u001b[0;34m)\u001b[0m \u001b[0;32mfor\u001b[0m \u001b[0mbl\u001b[0m \u001b[0;32min\u001b[0m \u001b[0mbls_to_load\u001b[0m\u001b[0;34m}\u001b[0m \u001b[0;31m# in mHz\u001b[0m\u001b[0;34m\u001b[0m\u001b[0;34m\u001b[0m\u001b[0m\n",
      "\u001b[0;31mNameError\u001b[0m: name 'bls_to_load' is not defined"
     ]
    }
   ],
   "source": [
    "# Figure out the Horizon, Delay Filter Width, and FRF width for each baseline\n",
    "blvecs = {bl: hd_final_cal.antpos[bl[1]] - hd_final_cal.antpos[bl[0]] for bl in bls_to_load} # in m\n",
    "horizons = {bl: np.linalg.norm(blvecs[bl]) / scipy.constants.c * 1e9 for bl in bls_to_load} # in ns\n",
    "delay_filter_half_width = {bl: max(min_dly, horizons[bl] * horizon + standoff) for bl in bls_to_load} # in ns\n",
    "frf_half_width = {bl: max_frate_const_term + max_frate_linear_term * np.abs(blvecs[bl][0]) for bl in bls_to_load} # in mHz\n",
    "frf_half_width = {bl: min(max_frate_half_width, max(min_frate_half_width, frf_half_width[bl])) for bl in bls_to_load} # in mHz"
   ]
  },
  {
   "cell_type": "code",
   "execution_count": 10,
   "id": "63a4c711",
   "metadata": {
    "ExecuteTime": {
     "start_time": "2022-04-29T19:45:42.826Z"
    },
    "execution": {
     "iopub.execute_input": "2022-05-28T21:44:28.385452Z",
     "iopub.status.busy": "2022-05-28T21:44:28.384641Z",
     "iopub.status.idle": "2022-05-28T21:44:28.452168Z",
     "shell.execute_reply": "2022-05-28T21:44:28.452762Z"
    }
   },
   "outputs": [
    {
     "name": "stdout",
     "output_type": "stream",
     "text": [
      "There are 2852 edge integrations flagged at the start of the night and 105 at the end of the night.\n",
      "There are 96 edge channels flagged at the low end and 195 at the high end.\n"
     ]
    }
   ],
   "source": [
    "# Figure out how many channels/integrations are completely flagged on both ends\n",
    "final_flag_waterfall = np.squeeze(pyuvdata.UVFlag(total_flags_files).flag_array)\n",
    "\n",
    "def count_edge_flags(flag_wf):\n",
    "    unflagged_channels = np.arange(flag_wf.shape[1])[~np.all(flag_wf, axis=0)]\n",
    "    ecf_low = unflagged_channels[0]\n",
    "    ecf_high = flag_wf.shape[1] - unflagged_channels[-1] - 1\n",
    "\n",
    "    unflagged_ints = np.arange(flag_wf.shape[0])[~np.all(flag_wf, axis=1)]\n",
    "    ect_low = unflagged_ints[0]\n",
    "    ect_high = flag_wf.shape[0] - unflagged_ints[-1] - 1\n",
    "    return ect_low, ect_high, ecf_low, ecf_high\n",
    "\n",
    "ect_low, ect_high, ecf_low, ecf_high = count_edge_flags(final_flag_waterfall)\n",
    "\n",
    "print(f'There are {ect_low} edge integrations flagged at the start of the night and {ect_high} at the end of the night.')\n",
    "print(f'There are {ecf_low} edge channels flagged at the low end and {ecf_high} at the high end.')"
   ]
  },
  {
   "cell_type": "markdown",
   "id": "3542e4d8",
   "metadata": {},
   "source": [
    "## Examine Reflection Calibration"
   ]
  },
  {
   "cell_type": "code",
   "execution_count": 11,
   "id": "3aa8da4f",
   "metadata": {
    "ExecuteTime": {
     "start_time": "2022-04-29T19:45:42.828Z"
    },
    "execution": {
     "iopub.execute_input": "2022-05-28T21:44:28.455663Z",
     "iopub.status.busy": "2022-05-28T21:44:28.454826Z",
     "iopub.status.idle": "2022-05-28T21:44:28.618264Z",
     "shell.execute_reply": "2022-05-28T21:44:28.619375Z"
    }
   },
   "outputs": [
    {
     "name": "stderr",
     "output_type": "stream",
     "text": [
      "telescope_location is not set. Using known values for HERA.\n",
      "antenna_positions is not set. Using known values for HERA.\n"
     ]
    }
   ],
   "source": [
    "# Load reflection calibration\n",
    "hcr = io.HERACal(ref_cal_files)\n",
    "ref_cal_gains, ref_cal_flags, _, _ = hcr.read()"
   ]
  },
  {
   "cell_type": "code",
   "execution_count": 12,
   "id": "5acc94e9",
   "metadata": {
    "ExecuteTime": {
     "start_time": "2022-04-29T19:45:42.828Z"
    },
    "execution": {
     "iopub.execute_input": "2022-05-28T21:44:28.624494Z",
     "iopub.status.busy": "2022-05-28T21:44:28.622942Z",
     "iopub.status.idle": "2022-05-28T21:44:41.284183Z",
     "shell.execute_reply": "2022-05-28T21:44:41.285105Z"
    }
   },
   "outputs": [
    {
     "ename": "NameError",
     "evalue": "name 'auto_bls' is not defined",
     "output_type": "error",
     "traceback": [
      "\u001b[0;31m---------------------------------------------------------------------------\u001b[0m",
      "\u001b[0;31mNameError\u001b[0m                                 Traceback (most recent call last)",
      "\u001b[0;32m/tmp/ipykernel_10595/693105534.py\u001b[0m in \u001b[0;36m<module>\u001b[0;34m\u001b[0m\n\u001b[1;32m      1\u001b[0m \u001b[0;31m# Load inpainted autocorrelations\u001b[0m\u001b[0;34m\u001b[0m\u001b[0;34m\u001b[0m\u001b[0m\n\u001b[1;32m      2\u001b[0m \u001b[0mhd_ip_autos\u001b[0m \u001b[0;34m=\u001b[0m \u001b[0mio\u001b[0m\u001b[0;34m.\u001b[0m\u001b[0mHERAData\u001b[0m\u001b[0;34m(\u001b[0m\u001b[0minpainted_autos_files\u001b[0m\u001b[0;34m)\u001b[0m\u001b[0;34m\u001b[0m\u001b[0;34m\u001b[0m\u001b[0m\n\u001b[0;32m----> 3\u001b[0;31m \u001b[0mhd_ip_autos\u001b[0m\u001b[0;34m.\u001b[0m\u001b[0mread\u001b[0m\u001b[0;34m(\u001b[0m\u001b[0mbls\u001b[0m\u001b[0;34m=\u001b[0m\u001b[0mauto_bls\u001b[0m\u001b[0;34m,\u001b[0m \u001b[0mreturn_data\u001b[0m\u001b[0;34m=\u001b[0m\u001b[0;32mFalse\u001b[0m\u001b[0;34m)\u001b[0m\u001b[0;34m\u001b[0m\u001b[0;34m\u001b[0m\u001b[0m\n\u001b[0m",
      "\u001b[0;31mNameError\u001b[0m: name 'auto_bls' is not defined"
     ]
    }
   ],
   "source": [
    "# Load inpainted autocorrelations\n",
    "hd_ip_autos = io.HERAData(inpainted_autos_files)\n",
    "hd_ip_autos.read(bls=auto_bls, return_data=False)"
   ]
  },
  {
   "cell_type": "code",
   "execution_count": 13,
   "id": "9debf91b",
   "metadata": {
    "ExecuteTime": {
     "start_time": "2022-04-29T19:45:42.830Z"
    },
    "execution": {
     "iopub.execute_input": "2022-05-28T21:44:41.289310Z",
     "iopub.status.busy": "2022-05-28T21:44:41.288169Z",
     "iopub.status.idle": "2022-05-28T21:44:41.305231Z",
     "shell.execute_reply": "2022-05-28T21:44:41.306048Z"
    }
   },
   "outputs": [
    {
     "ename": "AttributeError",
     "evalue": "'FRFilter' object has no attribute 'data'",
     "output_type": "error",
     "traceback": [
      "\u001b[0;31m---------------------------------------------------------------------------\u001b[0m",
      "\u001b[0;31mAttributeError\u001b[0m                            Traceback (most recent call last)",
      "\u001b[0;32m/tmp/ipykernel_10595/3678811108.py\u001b[0m in \u001b[0;36m<module>\u001b[0;34m\u001b[0m\n\u001b[1;32m      1\u001b[0m \u001b[0;31m# Time-average autocorrelations (and FT them)\u001b[0m\u001b[0;34m\u001b[0m\u001b[0;34m\u001b[0m\u001b[0m\n\u001b[1;32m      2\u001b[0m \u001b[0mF\u001b[0m \u001b[0;34m=\u001b[0m \u001b[0mFRFilter\u001b[0m\u001b[0;34m(\u001b[0m\u001b[0mhd_ip_autos\u001b[0m\u001b[0;34m)\u001b[0m\u001b[0;34m\u001b[0m\u001b[0;34m\u001b[0m\u001b[0m\n\u001b[0;32m----> 3\u001b[0;31m \u001b[0mF\u001b[0m\u001b[0;34m.\u001b[0m\u001b[0mtimeavg_data\u001b[0m\u001b[0;34m(\u001b[0m\u001b[0mF\u001b[0m\u001b[0;34m.\u001b[0m\u001b[0mdata\u001b[0m\u001b[0;34m,\u001b[0m \u001b[0mF\u001b[0m\u001b[0;34m.\u001b[0m\u001b[0mtimes\u001b[0m\u001b[0;34m,\u001b[0m \u001b[0mF\u001b[0m\u001b[0;34m.\u001b[0m\u001b[0mlsts\u001b[0m\u001b[0;34m,\u001b[0m \u001b[0mflags\u001b[0m\u001b[0;34m=\u001b[0m\u001b[0mF\u001b[0m\u001b[0;34m.\u001b[0m\u001b[0mflags\u001b[0m\u001b[0;34m,\u001b[0m \u001b[0mt_avg\u001b[0m\u001b[0;34m=\u001b[0m\u001b[0;36m1e10\u001b[0m\u001b[0;34m,\u001b[0m \u001b[0moverwrite\u001b[0m\u001b[0;34m=\u001b[0m\u001b[0;32mTrue\u001b[0m\u001b[0;34m)\u001b[0m\u001b[0;34m\u001b[0m\u001b[0;34m\u001b[0m\u001b[0m\n\u001b[0m\u001b[1;32m      4\u001b[0m \u001b[0mF\u001b[0m\u001b[0;34m.\u001b[0m\u001b[0mfft_data\u001b[0m\u001b[0;34m(\u001b[0m\u001b[0mdata\u001b[0m\u001b[0;34m=\u001b[0m\u001b[0mF\u001b[0m\u001b[0;34m.\u001b[0m\u001b[0mavg_data\u001b[0m\u001b[0;34m,\u001b[0m \u001b[0mflags\u001b[0m\u001b[0;34m=\u001b[0m\u001b[0mF\u001b[0m\u001b[0;34m.\u001b[0m\u001b[0mavg_flags\u001b[0m\u001b[0;34m,\u001b[0m \u001b[0massign\u001b[0m\u001b[0;34m=\u001b[0m\u001b[0;34m'avg_fft'\u001b[0m\u001b[0;34m,\u001b[0m \u001b[0max\u001b[0m\u001b[0;34m=\u001b[0m\u001b[0;34m'freq'\u001b[0m\u001b[0;34m,\u001b[0m \u001b[0mwindow\u001b[0m\u001b[0;34m=\u001b[0m\u001b[0;34m'bh'\u001b[0m\u001b[0;34m,\u001b[0m \u001b[0medgecut_low\u001b[0m\u001b[0;34m=\u001b[0m\u001b[0mecf_low\u001b[0m\u001b[0;34m,\u001b[0m \u001b[0medgecut_hi\u001b[0m\u001b[0;34m=\u001b[0m\u001b[0mecf_high\u001b[0m\u001b[0;34m,\u001b[0m \u001b[0moverwrite\u001b[0m\u001b[0;34m=\u001b[0m\u001b[0;32mTrue\u001b[0m\u001b[0;34m)\u001b[0m\u001b[0;34m\u001b[0m\u001b[0;34m\u001b[0m\u001b[0m\n\u001b[1;32m      5\u001b[0m \u001b[0mavg_data\u001b[0m\u001b[0;34m,\u001b[0m \u001b[0mavg_flags\u001b[0m \u001b[0;34m=\u001b[0m \u001b[0mdeepcopy\u001b[0m\u001b[0;34m(\u001b[0m\u001b[0mF\u001b[0m\u001b[0;34m.\u001b[0m\u001b[0mavg_data\u001b[0m\u001b[0;34m)\u001b[0m\u001b[0;34m,\u001b[0m \u001b[0mdeepcopy\u001b[0m\u001b[0;34m(\u001b[0m\u001b[0mF\u001b[0m\u001b[0;34m.\u001b[0m\u001b[0mavg_flags\u001b[0m\u001b[0;34m)\u001b[0m\u001b[0;34m\u001b[0m\u001b[0;34m\u001b[0m\u001b[0m\n",
      "\u001b[0;31mAttributeError\u001b[0m: 'FRFilter' object has no attribute 'data'"
     ]
    }
   ],
   "source": [
    "# Time-average autocorrelations (and FT them)\n",
    "F = FRFilter(hd_ip_autos)\n",
    "F.timeavg_data(F.data, F.times, F.lsts, flags=F.flags, t_avg=1e10, overwrite=True)\n",
    "F.fft_data(data=F.avg_data, flags=F.avg_flags, assign='avg_fft', ax='freq', window='bh', edgecut_low=ecf_low, edgecut_hi=ecf_high, overwrite=True)\n",
    "avg_data, avg_flags = deepcopy(F.avg_data), deepcopy(F.avg_flags)\n",
    "\n",
    "# Time-average autocorrelations with reflection calibration (and FT them)\n",
    "apply_cal.calibrate_in_place(F.data, ref_cal_gains, data_flags=F.flags, cal_flags=ref_cal_flags)\n",
    "F.timeavg_data(F.data, F.times, F.lsts, flags=F.flags, t_avg=1e10, overwrite=True)\n",
    "F.fft_data(data=F.avg_data, flags=F.avg_flags, assign='avg_ref_cal_fft', ax='freq', window='bh', edgecut_low=ecf_low, edgecut_hi=ecf_high, overwrite=True)"
   ]
  },
  {
   "cell_type": "code",
   "execution_count": 14,
   "id": "b15e3723",
   "metadata": {
    "ExecuteTime": {
     "start_time": "2022-04-29T19:45:42.830Z"
    },
    "execution": {
     "iopub.execute_input": "2022-05-28T21:44:41.309387Z",
     "iopub.status.busy": "2022-05-28T21:44:41.308348Z",
     "iopub.status.idle": "2022-05-28T21:44:41.553214Z",
     "shell.execute_reply": "2022-05-28T21:44:41.553829Z"
    }
   },
   "outputs": [
    {
     "ename": "NameError",
     "evalue": "name 'ants_to_load' is not defined",
     "output_type": "error",
     "traceback": [
      "\u001b[0;31m---------------------------------------------------------------------------\u001b[0m",
      "\u001b[0;31mNameError\u001b[0m                                 Traceback (most recent call last)",
      "\u001b[0;32m/tmp/ipykernel_10595/2333038267.py\u001b[0m in \u001b[0;36m<module>\u001b[0;34m\u001b[0m\n\u001b[1;32m      1\u001b[0m \u001b[0mfig\u001b[0m\u001b[0;34m,\u001b[0m \u001b[0maxes\u001b[0m \u001b[0;34m=\u001b[0m \u001b[0mplt\u001b[0m\u001b[0;34m.\u001b[0m\u001b[0msubplots\u001b[0m\u001b[0;34m(\u001b[0m\u001b[0;36m2\u001b[0m\u001b[0;34m,\u001b[0m \u001b[0;36m1\u001b[0m\u001b[0;34m,\u001b[0m \u001b[0mfigsize\u001b[0m\u001b[0;34m=\u001b[0m\u001b[0;34m(\u001b[0m\u001b[0;36m14\u001b[0m\u001b[0;34m,\u001b[0m\u001b[0;36m10\u001b[0m\u001b[0;34m)\u001b[0m\u001b[0;34m,\u001b[0m \u001b[0msharex\u001b[0m\u001b[0;34m=\u001b[0m\u001b[0;32mTrue\u001b[0m\u001b[0;34m,\u001b[0m \u001b[0mgridspec_kw\u001b[0m\u001b[0;34m=\u001b[0m\u001b[0;34m{\u001b[0m\u001b[0;34m'hspace'\u001b[0m\u001b[0;34m:\u001b[0m \u001b[0;36m0\u001b[0m\u001b[0;34m}\u001b[0m\u001b[0;34m)\u001b[0m\u001b[0;34m\u001b[0m\u001b[0;34m\u001b[0m\u001b[0m\n\u001b[1;32m      2\u001b[0m \u001b[0;32mfor\u001b[0m \u001b[0mi\u001b[0m\u001b[0;34m,\u001b[0m \u001b[0;34m(\u001b[0m\u001b[0mpol\u001b[0m\u001b[0;34m,\u001b[0m \u001b[0max\u001b[0m\u001b[0;34m)\u001b[0m \u001b[0;32min\u001b[0m \u001b[0menumerate\u001b[0m\u001b[0;34m(\u001b[0m\u001b[0mzip\u001b[0m\u001b[0;34m(\u001b[0m\u001b[0mF\u001b[0m\u001b[0;34m.\u001b[0m\u001b[0mpols\u001b[0m\u001b[0;34m,\u001b[0m \u001b[0maxes\u001b[0m\u001b[0;34m)\u001b[0m\u001b[0;34m)\u001b[0m\u001b[0;34m:\u001b[0m\u001b[0;34m\u001b[0m\u001b[0;34m\u001b[0m\u001b[0m\n\u001b[0;32m----> 3\u001b[0;31m     \u001b[0mabl\u001b[0m \u001b[0;34m=\u001b[0m \u001b[0;34m(\u001b[0m\u001b[0mants_to_load\u001b[0m\u001b[0;34m[\u001b[0m\u001b[0;36m0\u001b[0m\u001b[0;34m]\u001b[0m\u001b[0;34m,\u001b[0m \u001b[0mants_to_load\u001b[0m\u001b[0;34m[\u001b[0m\u001b[0;36m0\u001b[0m\u001b[0;34m]\u001b[0m\u001b[0;34m,\u001b[0m \u001b[0mpol\u001b[0m\u001b[0;34m)\u001b[0m\u001b[0;34m\u001b[0m\u001b[0;34m\u001b[0m\u001b[0m\n\u001b[0m\u001b[1;32m      4\u001b[0m     ax.semilogy(F.freqs / 1e6, np.where(np.all(final_flag_waterfall, axis=0), np.nan, np.squeeze(np.abs(avg_data[abl]))),\n\u001b[1;32m      5\u001b[0m                 c='C1', lw=2, label=f'{abl} Smooth Calibrated')\n",
      "\u001b[0;31mNameError\u001b[0m: name 'ants_to_load' is not defined"
     ]
    },
    {
     "data": {
      "image/png": "[encoded data removed]",
      "text/plain": [
       "<Figure size 1008x720 with 2 Axes>"
      ]
     },
     "metadata": {
      "image/png": {
       "height": 578,
       "width": 826
      },
      "needs_background": "light"
     },
     "output_type": "display_data"
    }
   ],
   "source": [
    "fig, axes = plt.subplots(2, 1, figsize=(14,10), sharex=True, gridspec_kw={'hspace': 0})\n",
    "for i, (pol, ax) in enumerate(zip(F.pols, axes)):\n",
    "    abl = (ants_to_load[0], ants_to_load[0], pol)\n",
    "    ax.semilogy(F.freqs / 1e6, np.where(np.all(final_flag_waterfall, axis=0), np.nan, np.squeeze(np.abs(avg_data[abl]))),\n",
    "                c='C1', lw=2, label=f'{abl} Smooth Calibrated')\n",
    "    ax.semilogy(F.freqs / 1e6, np.where(np.all(final_flag_waterfall, axis=0), np.nan, np.squeeze(np.abs(F.avg_data[abl]))),\n",
    "                c='C0', lw=1, label=f'{abl} Reflection Calibrated')\n",
    "    ax.legend()\n",
    "    ax.set_ylabel('Time-Averaged $|V_{ii}|$ (Jy)')\n",
    "    ax.set_xlabel('Frequency (MHz)') "
   ]
  },
  {
   "cell_type": "markdown",
   "id": "b2575ab7",
   "metadata": {},
   "source": [
    "### Figure 2: Demonstration of Reflection Calibration\n",
    "\n",
    "This figure shows how reflection calibration works on a single example antenna's autocorrelations (both polarizations). The autocorrelations are inpainted in frequency with CLEAN before being fit with a single time-independent reflection solution."
   ]
  },
  {
   "cell_type": "code",
   "execution_count": 15,
   "id": "e557427b",
   "metadata": {
    "ExecuteTime": {
     "start_time": "2022-04-29T19:45:42.831Z"
    },
    "execution": {
     "iopub.execute_input": "2022-05-28T21:44:41.556611Z",
     "iopub.status.busy": "2022-05-28T21:44:41.555821Z",
     "iopub.status.idle": "2022-05-28T21:44:42.171513Z",
     "shell.execute_reply": "2022-05-28T21:44:42.172129Z"
    }
   },
   "outputs": [
    {
     "ename": "AttributeError",
     "evalue": "'FRFilter' object has no attribute 'data'",
     "output_type": "error",
     "traceback": [
      "\u001b[0;31m---------------------------------------------------------------------------\u001b[0m",
      "\u001b[0;31mAttributeError\u001b[0m                            Traceback (most recent call last)",
      "\u001b[0;32m/tmp/ipykernel_10595/1812930550.py\u001b[0m in \u001b[0;36m<module>\u001b[0;34m\u001b[0m\n\u001b[1;32m      1\u001b[0m \u001b[0;31m# Plot delay spectra of autocorrelations with and without reflection calibration\u001b[0m\u001b[0;34m\u001b[0m\u001b[0;34m\u001b[0m\u001b[0m\n\u001b[1;32m      2\u001b[0m \u001b[0mfig\u001b[0m\u001b[0;34m,\u001b[0m \u001b[0maxes\u001b[0m \u001b[0;34m=\u001b[0m \u001b[0mplt\u001b[0m\u001b[0;34m.\u001b[0m\u001b[0msubplots\u001b[0m\u001b[0;34m(\u001b[0m\u001b[0;36m4\u001b[0m\u001b[0;34m,\u001b[0m \u001b[0;36m2\u001b[0m\u001b[0;34m,\u001b[0m \u001b[0mfigsize\u001b[0m\u001b[0;34m=\u001b[0m\u001b[0;34m(\u001b[0m\u001b[0;36m14\u001b[0m\u001b[0;34m,\u001b[0m\u001b[0;36m12\u001b[0m\u001b[0;34m)\u001b[0m\u001b[0;34m,\u001b[0m \u001b[0msharex\u001b[0m\u001b[0;34m=\u001b[0m\u001b[0;32mTrue\u001b[0m\u001b[0;34m,\u001b[0m \u001b[0msharey\u001b[0m\u001b[0;34m=\u001b[0m\u001b[0;32mTrue\u001b[0m\u001b[0;34m,\u001b[0m \u001b[0mgridspec_kw\u001b[0m\u001b[0;34m=\u001b[0m\u001b[0;34m{\u001b[0m\u001b[0;34m'hspace'\u001b[0m\u001b[0;34m:\u001b[0m \u001b[0;36m0\u001b[0m\u001b[0;34m,\u001b[0m \u001b[0;34m'wspace'\u001b[0m\u001b[0;34m:\u001b[0m \u001b[0;36m0\u001b[0m\u001b[0;34m}\u001b[0m\u001b[0;34m)\u001b[0m\u001b[0;34m\u001b[0m\u001b[0;34m\u001b[0m\u001b[0m\n\u001b[0;32m----> 3\u001b[0;31m \u001b[0;32mfor\u001b[0m \u001b[0mi\u001b[0m\u001b[0;34m,\u001b[0m \u001b[0;34m(\u001b[0m\u001b[0mabl\u001b[0m\u001b[0;34m,\u001b[0m \u001b[0max\u001b[0m\u001b[0;34m)\u001b[0m \u001b[0;32min\u001b[0m \u001b[0menumerate\u001b[0m\u001b[0;34m(\u001b[0m\u001b[0mzip\u001b[0m\u001b[0;34m(\u001b[0m\u001b[0mF\u001b[0m\u001b[0;34m.\u001b[0m\u001b[0mdata\u001b[0m\u001b[0;34m,\u001b[0m \u001b[0maxes\u001b[0m\u001b[0;34m.\u001b[0m\u001b[0mflatten\u001b[0m\u001b[0;34m(\u001b[0m\u001b[0;34m)\u001b[0m\u001b[0;34m)\u001b[0m\u001b[0;34m)\u001b[0m\u001b[0;34m:\u001b[0m\u001b[0;34m\u001b[0m\u001b[0;34m\u001b[0m\u001b[0m\n\u001b[0m\u001b[1;32m      4\u001b[0m     \u001b[0max\u001b[0m\u001b[0;34m.\u001b[0m\u001b[0msemilogy\u001b[0m\u001b[0;34m(\u001b[0m\u001b[0mF\u001b[0m\u001b[0;34m.\u001b[0m\u001b[0mdelays\u001b[0m\u001b[0;34m,\u001b[0m \u001b[0mnp\u001b[0m\u001b[0;34m.\u001b[0m\u001b[0mabs\u001b[0m\u001b[0;34m(\u001b[0m\u001b[0mnp\u001b[0m\u001b[0;34m.\u001b[0m\u001b[0msqueeze\u001b[0m\u001b[0;34m(\u001b[0m\u001b[0mF\u001b[0m\u001b[0;34m.\u001b[0m\u001b[0mavg_fft\u001b[0m\u001b[0;34m[\u001b[0m\u001b[0mabl\u001b[0m\u001b[0;34m]\u001b[0m\u001b[0;34m)\u001b[0m\u001b[0;34m)\u001b[0m\u001b[0;34m,\u001b[0m \u001b[0mc\u001b[0m\u001b[0;34m=\u001b[0m\u001b[0;34m'C1'\u001b[0m\u001b[0;34m,\u001b[0m \u001b[0mlabel\u001b[0m\u001b[0;34m=\u001b[0m\u001b[0;34mf'{abl} Inpainted'\u001b[0m\u001b[0;34m)\u001b[0m\u001b[0;34m\u001b[0m\u001b[0;34m\u001b[0m\u001b[0m\n\u001b[1;32m      5\u001b[0m     \u001b[0max\u001b[0m\u001b[0;34m.\u001b[0m\u001b[0msemilogy\u001b[0m\u001b[0;34m(\u001b[0m\u001b[0mF\u001b[0m\u001b[0;34m.\u001b[0m\u001b[0mdelays\u001b[0m\u001b[0;34m,\u001b[0m \u001b[0mnp\u001b[0m\u001b[0;34m.\u001b[0m\u001b[0mabs\u001b[0m\u001b[0;34m(\u001b[0m\u001b[0mnp\u001b[0m\u001b[0;34m.\u001b[0m\u001b[0msqueeze\u001b[0m\u001b[0;34m(\u001b[0m\u001b[0mF\u001b[0m\u001b[0;34m.\u001b[0m\u001b[0mavg_ref_cal_fft\u001b[0m\u001b[0;34m[\u001b[0m\u001b[0mabl\u001b[0m\u001b[0;34m]\u001b[0m\u001b[0;34m)\u001b[0m\u001b[0;34m)\u001b[0m\u001b[0;34m,\u001b[0m \u001b[0mc\u001b[0m\u001b[0;34m=\u001b[0m\u001b[0;34m'C0'\u001b[0m\u001b[0;34m,\u001b[0m \u001b[0mlw\u001b[0m\u001b[0;34m=\u001b[0m\u001b[0;36m.5\u001b[0m\u001b[0;34m,\u001b[0m \u001b[0mlabel\u001b[0m\u001b[0;34m=\u001b[0m\u001b[0;34mf'{abl} Ref Cal'\u001b[0m\u001b[0;34m)\u001b[0m\u001b[0;34m\u001b[0m\u001b[0;34m\u001b[0m\u001b[0m\n",
      "\u001b[0;31mAttributeError\u001b[0m: 'FRFilter' object has no attribute 'data'"
     ]
    },
    {
     "data": {
      "image/png": "[encoded data removed]",
      "text/plain": [
       "<Figure size 1008x864 with 8 Axes>"
      ]
     },
     "metadata": {
      "image/png": {
       "height": 686,
       "width": 826
      },
      "needs_background": "light"
     },
     "output_type": "display_data"
    }
   ],
   "source": [
    "# Plot delay spectra of autocorrelations with and without reflection calibration\n",
    "fig, axes = plt.subplots(4, 2, figsize=(14,12), sharex=True, sharey=True, gridspec_kw={'hspace': 0, 'wspace': 0})\n",
    "for i, (abl, ax) in enumerate(zip(F.data, axes.flatten())):\n",
    "    ax.semilogy(F.delays, np.abs(np.squeeze(F.avg_fft[abl])), c='C1', label=f'{abl} Inpainted')\n",
    "    ax.semilogy(F.delays, np.abs(np.squeeze(F.avg_ref_cal_fft[abl])), c='C0', lw=.5, label=f'{abl} Ref Cal')\n",
    "    ax.legend()\n",
    "    ax.set_xlim([-3999, 3999])\n",
    "    if i >= 6:\n",
    "        ax.set_xlabel('Delay (ns)')\n",
    "    if i % 2 == 0:\n",
    "        ax.set_ylabel('$|\\\\widetilde{V}_{ii}|$  [Jy Hz]')\n",
    "    \n",
    "plt.tight_layout()"
   ]
  },
  {
   "cell_type": "markdown",
   "id": "97860455",
   "metadata": {},
   "source": [
    "### Figure 3: Autocorrelation Delay Spectra, Before and After Reflection Calibration\n",
    "\n",
    "These delay spectra and time-averaged, delay-inpainted autocorrleations before and after reflection calibration. Ideally they the same power at 0 and high delay, but reduced power at low to medium delay."
   ]
  },
  {
   "cell_type": "markdown",
   "id": "7eddde22",
   "metadata": {},
   "source": [
    "## Load Waterfalls"
   ]
  },
  {
   "cell_type": "code",
   "execution_count": 16,
   "id": "2ea4398c",
   "metadata": {
    "ExecuteTime": {
     "start_time": "2022-04-29T19:45:42.833Z"
    },
    "execution": {
     "iopub.execute_input": "2022-05-28T21:44:42.174947Z",
     "iopub.status.busy": "2022-05-28T21:44:42.174165Z",
     "iopub.status.idle": "2022-05-28T21:45:04.172621Z",
     "shell.execute_reply": "2022-05-28T21:45:04.173256Z"
    }
   },
   "outputs": [
    {
     "ename": "NameError",
     "evalue": "name 'bls_to_load' is not defined",
     "output_type": "error",
     "traceback": [
      "\u001b[0;31m---------------------------------------------------------------------------\u001b[0m",
      "\u001b[0;31mNameError\u001b[0m                                 Traceback (most recent call last)",
      "\u001b[0;32m/tmp/ipykernel_10595/3803909609.py\u001b[0m in \u001b[0;36m<module>\u001b[0;34m\u001b[0m\n\u001b[1;32m      1\u001b[0m \u001b[0;31m# load dpss residual data\u001b[0m\u001b[0;34m\u001b[0m\u001b[0;34m\u001b[0m\u001b[0m\n\u001b[1;32m      2\u001b[0m \u001b[0mhd_dpss_res\u001b[0m \u001b[0;34m=\u001b[0m \u001b[0mio\u001b[0m\u001b[0;34m.\u001b[0m\u001b[0mHERAData\u001b[0m\u001b[0;34m(\u001b[0m\u001b[0mdpss_res_files\u001b[0m\u001b[0;34m)\u001b[0m\u001b[0;34m\u001b[0m\u001b[0;34m\u001b[0m\u001b[0m\n\u001b[0;32m----> 3\u001b[0;31m \u001b[0mhd_dpss_res\u001b[0m\u001b[0;34m.\u001b[0m\u001b[0mread\u001b[0m\u001b[0;34m(\u001b[0m\u001b[0mbls\u001b[0m\u001b[0;34m=\u001b[0m\u001b[0mbls_to_load\u001b[0m\u001b[0;34m,\u001b[0m \u001b[0maxis\u001b[0m\u001b[0;34m=\u001b[0m\u001b[0;34m'blt'\u001b[0m\u001b[0;34m,\u001b[0m \u001b[0mreturn_data\u001b[0m\u001b[0;34m=\u001b[0m\u001b[0;32mFalse\u001b[0m\u001b[0;34m)\u001b[0m\u001b[0;34m\u001b[0m\u001b[0;34m\u001b[0m\u001b[0m\n\u001b[0m",
      "\u001b[0;31mNameError\u001b[0m: name 'bls_to_load' is not defined"
     ]
    }
   ],
   "source": [
    "# load dpss residual data\n",
    "hd_dpss_res = io.HERAData(dpss_res_files)\n",
    "hd_dpss_res.read(bls=bls_to_load, axis='blt', return_data=False)"
   ]
  },
  {
   "cell_type": "code",
   "execution_count": 17,
   "id": "43d0ad01",
   "metadata": {
    "ExecuteTime": {
     "start_time": "2022-04-29T19:45:42.834Z"
    },
    "execution": {
     "iopub.execute_input": "2022-05-28T21:45:04.176267Z",
     "iopub.status.busy": "2022-05-28T21:45:04.175459Z",
     "iopub.status.idle": "2022-05-28T21:45:28.262376Z",
     "shell.execute_reply": "2022-05-28T21:45:28.262992Z"
    }
   },
   "outputs": [
    {
     "ename": "NameError",
     "evalue": "name 'bls_to_load' is not defined",
     "output_type": "error",
     "traceback": [
      "\u001b[0;31m---------------------------------------------------------------------------\u001b[0m",
      "\u001b[0;31mNameError\u001b[0m                                 Traceback (most recent call last)",
      "\u001b[0;32m/tmp/ipykernel_10595/4241559415.py\u001b[0m in \u001b[0;36m<module>\u001b[0;34m\u001b[0m\n\u001b[1;32m      1\u001b[0m \u001b[0;31m# load dpss filled data\u001b[0m\u001b[0;34m\u001b[0m\u001b[0;34m\u001b[0m\u001b[0m\n\u001b[1;32m      2\u001b[0m \u001b[0mhd_dpss_filled\u001b[0m \u001b[0;34m=\u001b[0m \u001b[0mio\u001b[0m\u001b[0;34m.\u001b[0m\u001b[0mHERAData\u001b[0m\u001b[0;34m(\u001b[0m\u001b[0mdpss_filled_files\u001b[0m\u001b[0;34m)\u001b[0m\u001b[0;34m\u001b[0m\u001b[0;34m\u001b[0m\u001b[0m\n\u001b[0;32m----> 3\u001b[0;31m \u001b[0mhd_dpss_filled\u001b[0m\u001b[0;34m.\u001b[0m\u001b[0mread\u001b[0m\u001b[0;34m(\u001b[0m\u001b[0mbls\u001b[0m\u001b[0;34m=\u001b[0m\u001b[0mbls_to_load\u001b[0m\u001b[0;34m,\u001b[0m \u001b[0maxis\u001b[0m\u001b[0;34m=\u001b[0m\u001b[0;34m'blt'\u001b[0m\u001b[0;34m,\u001b[0m \u001b[0mreturn_data\u001b[0m\u001b[0;34m=\u001b[0m\u001b[0;32mFalse\u001b[0m\u001b[0;34m)\u001b[0m\u001b[0;34m\u001b[0m\u001b[0;34m\u001b[0m\u001b[0m\n\u001b[0m",
      "\u001b[0;31mNameError\u001b[0m: name 'bls_to_load' is not defined"
     ]
    }
   ],
   "source": [
    "# load dpss filled data\n",
    "hd_dpss_filled = io.HERAData(dpss_filled_files)\n",
    "hd_dpss_filled.read(bls=bls_to_load, axis='blt', return_data=False)"
   ]
  },
  {
   "cell_type": "code",
   "execution_count": 18,
   "id": "f1e0187b",
   "metadata": {
    "ExecuteTime": {
     "start_time": "2022-04-29T19:45:42.834Z"
    },
    "execution": {
     "iopub.execute_input": "2022-05-28T21:45:28.265848Z",
     "iopub.status.busy": "2022-05-28T21:45:28.265065Z",
     "iopub.status.idle": "2022-05-28T21:45:49.509530Z",
     "shell.execute_reply": "2022-05-28T21:45:49.510334Z"
    }
   },
   "outputs": [
    {
     "ename": "NameError",
     "evalue": "name 'bls_to_load' is not defined",
     "output_type": "error",
     "traceback": [
      "\u001b[0;31m---------------------------------------------------------------------------\u001b[0m",
      "\u001b[0;31mNameError\u001b[0m                                 Traceback (most recent call last)",
      "\u001b[0;32m/tmp/ipykernel_10595/2205865223.py\u001b[0m in \u001b[0;36m<module>\u001b[0;34m\u001b[0m\n\u001b[1;32m      1\u001b[0m \u001b[0;31m# load dpss filled, dpss crosstalk filtered data\u001b[0m\u001b[0;34m\u001b[0m\u001b[0;34m\u001b[0m\u001b[0m\n\u001b[1;32m      2\u001b[0m \u001b[0mhd_dpss_res_xtalk_filt\u001b[0m \u001b[0;34m=\u001b[0m \u001b[0mio\u001b[0m\u001b[0;34m.\u001b[0m\u001b[0mHERAData\u001b[0m\u001b[0;34m(\u001b[0m\u001b[0mdpss_res_xtalk_filt_files\u001b[0m\u001b[0;34m)\u001b[0m\u001b[0;34m\u001b[0m\u001b[0;34m\u001b[0m\u001b[0m\n\u001b[0;32m----> 3\u001b[0;31m \u001b[0mhd_dpss_res_xtalk_filt\u001b[0m\u001b[0;34m.\u001b[0m\u001b[0mread\u001b[0m\u001b[0;34m(\u001b[0m\u001b[0mbls\u001b[0m\u001b[0;34m=\u001b[0m\u001b[0mbls_to_load\u001b[0m\u001b[0;34m,\u001b[0m \u001b[0maxis\u001b[0m\u001b[0;34m=\u001b[0m\u001b[0;34m'blt'\u001b[0m\u001b[0;34m,\u001b[0m \u001b[0mreturn_data\u001b[0m\u001b[0;34m=\u001b[0m\u001b[0;32mFalse\u001b[0m\u001b[0;34m)\u001b[0m\u001b[0;34m\u001b[0m\u001b[0;34m\u001b[0m\u001b[0m\n\u001b[0m",
      "\u001b[0;31mNameError\u001b[0m: name 'bls_to_load' is not defined"
     ]
    }
   ],
   "source": [
    "# load dpss filled, dpss crosstalk filtered data\n",
    "hd_dpss_res_xtalk_filt = io.HERAData(dpss_res_xtalk_filt_files)\n",
    "hd_dpss_res_xtalk_filt.read(bls=bls_to_load, axis='blt', return_data=False)"
   ]
  },
  {
   "cell_type": "code",
   "execution_count": 19,
   "id": "3c14a5c8",
   "metadata": {
    "ExecuteTime": {
     "start_time": "2022-04-29T19:45:42.835Z"
    },
    "execution": {
     "iopub.execute_input": "2022-05-28T21:45:49.514037Z",
     "iopub.status.busy": "2022-05-28T21:45:49.512940Z",
     "iopub.status.idle": "2022-05-28T21:45:49.801349Z",
     "shell.execute_reply": "2022-05-28T21:45:49.801985Z"
    }
   },
   "outputs": [
    {
     "ename": "TypeError",
     "evalue": "'NoneType' object is not subscriptable",
     "output_type": "error",
     "traceback": [
      "\u001b[0;31m---------------------------------------------------------------------------\u001b[0m",
      "\u001b[0;31mTypeError\u001b[0m                                 Traceback (most recent call last)",
      "\u001b[0;32m/tmp/ipykernel_10595/1015287854.py\u001b[0m in \u001b[0;36m<module>\u001b[0;34m\u001b[0m\n\u001b[1;32m      2\u001b[0m \u001b[0mfig\u001b[0m\u001b[0;34m,\u001b[0m \u001b[0maxes\u001b[0m \u001b[0;34m=\u001b[0m \u001b[0mplt\u001b[0m\u001b[0;34m.\u001b[0m\u001b[0msubplots\u001b[0m\u001b[0;34m(\u001b[0m\u001b[0;36m1\u001b[0m\u001b[0;34m,\u001b[0m \u001b[0;36m2\u001b[0m\u001b[0;34m,\u001b[0m \u001b[0mfigsize\u001b[0m\u001b[0;34m=\u001b[0m\u001b[0;34m(\u001b[0m\u001b[0;36m14\u001b[0m\u001b[0;34m,\u001b[0m\u001b[0;36m12\u001b[0m\u001b[0;34m)\u001b[0m\u001b[0;34m)\u001b[0m\u001b[0;34m\u001b[0m\u001b[0;34m\u001b[0m\u001b[0m\n\u001b[1;32m      3\u001b[0m \u001b[0;34m\u001b[0m\u001b[0m\n\u001b[0;32m----> 4\u001b[0;31m \u001b[0md\u001b[0m\u001b[0;34m,\u001b[0m \u001b[0mf\u001b[0m\u001b[0;34m,\u001b[0m \u001b[0mn\u001b[0m \u001b[0;34m=\u001b[0m \u001b[0mhd_dpss_filled\u001b[0m\u001b[0;34m.\u001b[0m\u001b[0mbuild_datacontainers\u001b[0m\u001b[0;34m(\u001b[0m\u001b[0;34m)\u001b[0m\u001b[0;34m\u001b[0m\u001b[0;34m\u001b[0m\u001b[0m\n\u001b[0m\u001b[1;32m      5\u001b[0m \u001b[0mlsts_unwrapped\u001b[0m \u001b[0;34m=\u001b[0m \u001b[0mnp\u001b[0m\u001b[0;34m.\u001b[0m\u001b[0mwhere\u001b[0m\u001b[0;34m(\u001b[0m\u001b[0md\u001b[0m\u001b[0;34m.\u001b[0m\u001b[0mlsts\u001b[0m \u001b[0;34m>\u001b[0m \u001b[0md\u001b[0m\u001b[0;34m.\u001b[0m\u001b[0mlsts\u001b[0m\u001b[0;34m[\u001b[0m\u001b[0;34m-\u001b[0m\u001b[0;36m1\u001b[0m\u001b[0;34m]\u001b[0m\u001b[0;34m,\u001b[0m \u001b[0md\u001b[0m\u001b[0;34m.\u001b[0m\u001b[0mlsts\u001b[0m \u001b[0;34m-\u001b[0m \u001b[0;36m2\u001b[0m \u001b[0;34m*\u001b[0m \u001b[0mnp\u001b[0m\u001b[0;34m.\u001b[0m\u001b[0mpi\u001b[0m\u001b[0;34m,\u001b[0m \u001b[0md\u001b[0m\u001b[0;34m.\u001b[0m\u001b[0mlsts\u001b[0m\u001b[0;34m)\u001b[0m \u001b[0;34m*\u001b[0m \u001b[0;36m12\u001b[0m \u001b[0;34m/\u001b[0m \u001b[0mnp\u001b[0m\u001b[0;34m.\u001b[0m\u001b[0mpi\u001b[0m  \u001b[0;31m# in hours\u001b[0m\u001b[0;34m\u001b[0m\u001b[0;34m\u001b[0m\u001b[0m\n\u001b[1;32m      6\u001b[0m \u001b[0mextent\u001b[0m \u001b[0;34m=\u001b[0m \u001b[0;34m[\u001b[0m\u001b[0md\u001b[0m\u001b[0;34m.\u001b[0m\u001b[0mfreqs\u001b[0m\u001b[0;34m[\u001b[0m\u001b[0;36m0\u001b[0m\u001b[0;34m]\u001b[0m \u001b[0;34m/\u001b[0m \u001b[0;36m1e6\u001b[0m\u001b[0;34m,\u001b[0m \u001b[0md\u001b[0m\u001b[0;34m.\u001b[0m\u001b[0mfreqs\u001b[0m\u001b[0;34m[\u001b[0m\u001b[0;34m-\u001b[0m\u001b[0;36m1\u001b[0m\u001b[0;34m]\u001b[0m \u001b[0;34m/\u001b[0m \u001b[0;36m1e6\u001b[0m\u001b[0;34m,\u001b[0m \u001b[0mlsts_unwrapped\u001b[0m\u001b[0;34m[\u001b[0m\u001b[0;34m-\u001b[0m\u001b[0;36m1\u001b[0m\u001b[0;34m]\u001b[0m\u001b[0;34m,\u001b[0m \u001b[0mlsts_unwrapped\u001b[0m\u001b[0;34m[\u001b[0m\u001b[0;36m0\u001b[0m\u001b[0;34m]\u001b[0m\u001b[0;34m]\u001b[0m\u001b[0;34m\u001b[0m\u001b[0;34m\u001b[0m\u001b[0m\n",
      "\u001b[0;32m/lustre/aoc/projects/hera/heramgr/anaconda3/envs/h1c_idr3_3/lib/python3.9/site-packages/hera_cal/io.py\u001b[0m in \u001b[0;36mbuild_datacontainers\u001b[0;34m(self)\u001b[0m\n\u001b[1;32m    495\u001b[0m         \u001b[0mmeta\u001b[0m \u001b[0;34m=\u001b[0m \u001b[0mself\u001b[0m\u001b[0;34m.\u001b[0m\u001b[0mget_metadata_dict\u001b[0m\u001b[0;34m(\u001b[0m\u001b[0;34m)\u001b[0m\u001b[0;34m\u001b[0m\u001b[0;34m\u001b[0m\u001b[0m\n\u001b[1;32m    496\u001b[0m         \u001b[0;32mfor\u001b[0m \u001b[0mbl\u001b[0m \u001b[0;32min\u001b[0m \u001b[0mmeta\u001b[0m\u001b[0;34m[\u001b[0m\u001b[0;34m'bls'\u001b[0m\u001b[0;34m]\u001b[0m\u001b[0;34m:\u001b[0m\u001b[0;34m\u001b[0m\u001b[0;34m\u001b[0m\u001b[0m\n\u001b[0;32m--> 497\u001b[0;31m             \u001b[0mdata\u001b[0m\u001b[0;34m[\u001b[0m\u001b[0mbl\u001b[0m\u001b[0;34m]\u001b[0m \u001b[0;34m=\u001b[0m \u001b[0mself\u001b[0m\u001b[0;34m.\u001b[0m\u001b[0m_get_slice\u001b[0m\u001b[0;34m(\u001b[0m\u001b[0mself\u001b[0m\u001b[0;34m.\u001b[0m\u001b[0mdata_array\u001b[0m\u001b[0;34m,\u001b[0m \u001b[0mbl\u001b[0m\u001b[0;34m)\u001b[0m\u001b[0;34m\u001b[0m\u001b[0;34m\u001b[0m\u001b[0m\n\u001b[0m\u001b[1;32m    498\u001b[0m             \u001b[0mflags\u001b[0m\u001b[0;34m[\u001b[0m\u001b[0mbl\u001b[0m\u001b[0;34m]\u001b[0m \u001b[0;34m=\u001b[0m \u001b[0mself\u001b[0m\u001b[0;34m.\u001b[0m\u001b[0m_get_slice\u001b[0m\u001b[0;34m(\u001b[0m\u001b[0mself\u001b[0m\u001b[0;34m.\u001b[0m\u001b[0mflag_array\u001b[0m\u001b[0;34m,\u001b[0m \u001b[0mbl\u001b[0m\u001b[0;34m)\u001b[0m\u001b[0;34m\u001b[0m\u001b[0;34m\u001b[0m\u001b[0m\n\u001b[1;32m    499\u001b[0m             \u001b[0mnsamples\u001b[0m\u001b[0;34m[\u001b[0m\u001b[0mbl\u001b[0m\u001b[0;34m]\u001b[0m \u001b[0;34m=\u001b[0m \u001b[0mself\u001b[0m\u001b[0;34m.\u001b[0m\u001b[0m_get_slice\u001b[0m\u001b[0;34m(\u001b[0m\u001b[0mself\u001b[0m\u001b[0;34m.\u001b[0m\u001b[0mnsample_array\u001b[0m\u001b[0;34m,\u001b[0m \u001b[0mbl\u001b[0m\u001b[0;34m)\u001b[0m\u001b[0;34m\u001b[0m\u001b[0;34m\u001b[0m\u001b[0m\n",
      "\u001b[0;32m/lustre/aoc/projects/hera/heramgr/anaconda3/envs/h1c_idr3_3/lib/python3.9/site-packages/hera_cal/io.py\u001b[0m in \u001b[0;36m_get_slice\u001b[0;34m(self, data_array, key)\u001b[0m\n\u001b[1;32m    444\u001b[0m         \u001b[0;32melif\u001b[0m \u001b[0mlen\u001b[0m\u001b[0;34m(\u001b[0m\u001b[0mkey\u001b[0m\u001b[0;34m)\u001b[0m \u001b[0;34m==\u001b[0m \u001b[0;36m3\u001b[0m\u001b[0;34m:\u001b[0m  \u001b[0;31m# asking for bl-pol\u001b[0m\u001b[0;34m\u001b[0m\u001b[0;34m\u001b[0m\u001b[0m\n\u001b[1;32m    445\u001b[0m             \u001b[0;32mtry\u001b[0m\u001b[0;34m:\u001b[0m\u001b[0;34m\u001b[0m\u001b[0;34m\u001b[0m\u001b[0m\n\u001b[0;32m--> 446\u001b[0;31m                 return np.array(data_array[self._blt_slices[tuple(key[0:2])], 0, :,\n\u001b[0m\u001b[1;32m    447\u001b[0m                                            self._polnum_indices[polstr2num(key[2], x_orientation=self.x_orientation)]])\n\u001b[1;32m    448\u001b[0m             \u001b[0;32mexcept\u001b[0m \u001b[0mKeyError\u001b[0m\u001b[0;34m:\u001b[0m\u001b[0;34m\u001b[0m\u001b[0;34m\u001b[0m\u001b[0m\n",
      "\u001b[0;31mTypeError\u001b[0m: 'NoneType' object is not subscriptable"
     ]
    },
    {
     "data": {
      "image/png": "[encoded data removed]",
      "text/plain": [
       "<Figure size 1008x864 with 2 Axes>"
      ]
     },
     "metadata": {
      "image/png": {
       "height": 686,
       "width": 826
      },
      "needs_background": "light"
     },
     "output_type": "display_data"
    }
   ],
   "source": [
    "# plot example waterfall of final calibrated data, both abs and angle\n",
    "fig, axes = plt.subplots(1, 2, figsize=(14,12))\n",
    "\n",
    "d, f, n = hd_dpss_filled.build_datacontainers()\n",
    "lsts_unwrapped = np.where(d.lsts > d.lsts[-1], d.lsts - 2 * np.pi, d.lsts) * 12 / np.pi  # in hours\n",
    "extent = [d.freqs[0] / 1e6, d.freqs[-1] / 1e6, lsts_unwrapped[-1], lsts_unwrapped[0]]\n",
    "\n",
    "im = axes[0].imshow(np.where(final_flag_waterfall, np.nan, np.abs(d[example_bl])), aspect='auto', interpolation='none', \n",
    "                   norm=matplotlib.colors.LogNorm(), cmap='inferno', extent=extent)\n",
    "plt.colorbar(im, ax=axes[0], label='$|V_{ij}|$ (Jy)')\n",
    "axes[0].set_title(f'Final Calibrated Amplitude of {example_bl}')\n",
    "\n",
    "im = axes[1].imshow(np.where(final_flag_waterfall, np.nan, np.angle(d[example_bl])), aspect='auto', interpolation='none', \n",
    "                    cmap='twilight', extent=extent)\n",
    "plt.colorbar(im, ax=axes[1], label='Angle($V_{ij})$ (radians)')\n",
    "axes[1].set_title(f'Final Calibrated Phase of {example_bl}')\n",
    "\n",
    "for ax in axes:\n",
    "    ax.set_xlabel('Frequency (MHz)')\n",
    "    ax.set_ylabel('LST (hours)')\n",
    "plt.tight_layout()"
   ]
  },
  {
   "cell_type": "markdown",
   "id": "cb7bf4db",
   "metadata": {},
   "source": [
    "### Figure 4: Full-Day, Final Calibrated Amplitude and Phase of an Example Baseline\n",
    "This is after reflection calibration but before any delay or crosstalk filtering."
   ]
  },
  {
   "cell_type": "markdown",
   "id": "477dbaf5",
   "metadata": {},
   "source": [
    "## Examine DPSS-Inpainted Visibilities"
   ]
  },
  {
   "cell_type": "code",
   "execution_count": 20,
   "id": "ecd08b90",
   "metadata": {
    "ExecuteTime": {
     "start_time": "2022-04-29T19:45:42.836Z"
    },
    "execution": {
     "iopub.execute_input": "2022-05-28T21:45:49.804829Z",
     "iopub.status.busy": "2022-05-28T21:45:49.804000Z",
     "iopub.status.idle": "2022-05-28T21:45:49.830256Z",
     "shell.execute_reply": "2022-05-28T21:45:49.830838Z"
    }
   },
   "outputs": [
    {
     "ename": "AttributeError",
     "evalue": "'FRFilter' object has no attribute 'data'",
     "output_type": "error",
     "traceback": [
      "\u001b[0;31m---------------------------------------------------------------------------\u001b[0m",
      "\u001b[0;31mAttributeError\u001b[0m                            Traceback (most recent call last)",
      "\u001b[0;32m/tmp/ipykernel_10595/1945499977.py\u001b[0m in \u001b[0;36m<module>\u001b[0;34m\u001b[0m\n\u001b[1;32m      1\u001b[0m \u001b[0;31m# FFT visibilities in 1D and 2D\u001b[0m\u001b[0;34m\u001b[0m\u001b[0;34m\u001b[0m\u001b[0m\n\u001b[1;32m      2\u001b[0m \u001b[0mF_filled\u001b[0m \u001b[0;34m=\u001b[0m \u001b[0mFRFilter\u001b[0m\u001b[0;34m(\u001b[0m\u001b[0mhd_dpss_filled\u001b[0m\u001b[0;34m)\u001b[0m\u001b[0;34m\u001b[0m\u001b[0;34m\u001b[0m\u001b[0m\n\u001b[0;32m----> 3\u001b[0;31m F_filled.fft_data(data=F_filled.data, assign='dfft', ax='freq', window='bh', \n\u001b[0m\u001b[1;32m      4\u001b[0m                   edgecut_low=ecf_low, edgecut_hi=ecf_high, overwrite=True)\n\u001b[1;32m      5\u001b[0m F_filled.vis_clean(data=F_filled.data, flags=F_filled.flags, keys=[example_bl], ax='time', max_frate=5, tol=1e-6, gain=0.9,\n",
      "\u001b[0;31mAttributeError\u001b[0m: 'FRFilter' object has no attribute 'data'"
     ]
    }
   ],
   "source": [
    "# FFT visibilities in 1D and 2D\n",
    "F_filled = FRFilter(hd_dpss_filled)\n",
    "F_filled.fft_data(data=F_filled.data, assign='dfft', ax='freq', window='bh', \n",
    "                  edgecut_low=ecf_low, edgecut_hi=ecf_high, overwrite=True)\n",
    "F_filled.vis_clean(data=F_filled.data, flags=F_filled.flags, keys=[example_bl], ax='time', max_frate=5, tol=1e-6, gain=0.9,\n",
    "                   window='bh', alpha=0.1, overwrite=True, verbose=True, x=F_filled.times*24*3600, output_prefix='xclean')\n",
    "F_filled.fft_data(data=F_filled.xclean_data, keys=[example_bl], assign='xdfft2', ax='both', window=('bh','bh'), \n",
    "                  edgecut_low=(ect_low, ecf_low), edgecut_hi=(ect_high, ecf_high), overwrite=True)"
   ]
  },
  {
   "cell_type": "code",
   "execution_count": 21,
   "id": "8b6e9736",
   "metadata": {
    "ExecuteTime": {
     "start_time": "2022-04-29T19:45:42.837Z"
    },
    "execution": {
     "iopub.execute_input": "2022-05-28T21:45:49.833452Z",
     "iopub.status.busy": "2022-05-28T21:45:49.832669Z",
     "iopub.status.idle": "2022-05-28T21:45:49.846045Z",
     "shell.execute_reply": "2022-05-28T21:45:49.846635Z"
    }
   },
   "outputs": [
    {
     "ename": "AttributeError",
     "evalue": "'FRFilter' object has no attribute 'flags'",
     "output_type": "error",
     "traceback": [
      "\u001b[0;31m---------------------------------------------------------------------------\u001b[0m",
      "\u001b[0;31mAttributeError\u001b[0m                            Traceback (most recent call last)",
      "\u001b[0;32m/tmp/ipykernel_10595/2606342410.py\u001b[0m in \u001b[0;36m<module>\u001b[0;34m\u001b[0m\n\u001b[1;32m      8\u001b[0m \u001b[0;34m\u001b[0m\u001b[0m\n\u001b[1;32m      9\u001b[0m \u001b[0mplt\u001b[0m\u001b[0;34m.\u001b[0m\u001b[0mfigure\u001b[0m\u001b[0;34m(\u001b[0m\u001b[0mfigsize\u001b[0m\u001b[0;34m=\u001b[0m\u001b[0;34m(\u001b[0m\u001b[0;36m14\u001b[0m\u001b[0;34m,\u001b[0m\u001b[0;36m8\u001b[0m\u001b[0;34m)\u001b[0m\u001b[0;34m)\u001b[0m\u001b[0;34m\u001b[0m\u001b[0;34m\u001b[0m\u001b[0m\n\u001b[0;32m---> 10\u001b[0;31m \u001b[0mto_plot\u001b[0m \u001b[0;34m=\u001b[0m \u001b[0mnp\u001b[0m\u001b[0;34m.\u001b[0m\u001b[0mwhere\u001b[0m\u001b[0;34m(\u001b[0m\u001b[0mF_filled\u001b[0m\u001b[0;34m.\u001b[0m\u001b[0mflags\u001b[0m\u001b[0;34m[\u001b[0m\u001b[0mexample_bl\u001b[0m\u001b[0;34m]\u001b[0m\u001b[0;34m,\u001b[0m \u001b[0mnp\u001b[0m\u001b[0;34m.\u001b[0m\u001b[0mnan\u001b[0m\u001b[0;34m,\u001b[0m \u001b[0mF_filled\u001b[0m\u001b[0;34m.\u001b[0m\u001b[0mdata\u001b[0m\u001b[0;34m[\u001b[0m\u001b[0mexample_bl\u001b[0m\u001b[0;34m]\u001b[0m\u001b[0;34m)\u001b[0m\u001b[0;34m.\u001b[0m\u001b[0mreal\u001b[0m\u001b[0;34m\u001b[0m\u001b[0;34m\u001b[0m\u001b[0m\n\u001b[0m\u001b[1;32m     11\u001b[0m \u001b[0mplt\u001b[0m\u001b[0;34m.\u001b[0m\u001b[0mimshow\u001b[0m\u001b[0;34m(\u001b[0m\u001b[0mto_plot\u001b[0m\u001b[0;34m,\u001b[0m \u001b[0maspect\u001b[0m\u001b[0;34m=\u001b[0m\u001b[0;34m'auto'\u001b[0m\u001b[0;34m,\u001b[0m \u001b[0minterpolation\u001b[0m\u001b[0;34m=\u001b[0m\u001b[0;34m'none'\u001b[0m\u001b[0;34m,\u001b[0m  \u001b[0mcmap\u001b[0m\u001b[0;34m=\u001b[0m\u001b[0;34m'bwr'\u001b[0m\u001b[0;34m,\u001b[0m \u001b[0mextent\u001b[0m\u001b[0;34m=\u001b[0m\u001b[0mextent\u001b[0m\u001b[0;34m,\u001b[0m \u001b[0mnorm\u001b[0m\u001b[0;34m=\u001b[0m\u001b[0msym_log_norm\u001b[0m\u001b[0;34m(\u001b[0m\u001b[0mto_plot\u001b[0m\u001b[0;34m)\u001b[0m\u001b[0;34m)\u001b[0m\u001b[0;34m\u001b[0m\u001b[0;34m\u001b[0m\u001b[0m\n\u001b[1;32m     12\u001b[0m \u001b[0mplt\u001b[0m\u001b[0;34m.\u001b[0m\u001b[0mcolorbar\u001b[0m\u001b[0;34m(\u001b[0m\u001b[0mlabel\u001b[0m\u001b[0;34m=\u001b[0m\u001b[0;34m'Re$[V_{ij}]$ (Jy)'\u001b[0m\u001b[0;34m)\u001b[0m\u001b[0;34m\u001b[0m\u001b[0;34m\u001b[0m\u001b[0m\n",
      "\u001b[0;31mAttributeError\u001b[0m: 'FRFilter' object has no attribute 'flags'"
     ]
    },
    {
     "data": {
      "text/plain": [
       "<Figure size 1008x576 with 0 Axes>"
      ]
     },
     "metadata": {},
     "output_type": "display_data"
    }
   ],
   "source": [
    "# plot real part of DPSS inpainted example waterfall\n",
    "lsts_unwrapped = np.where(F_filled.lsts > F_filled.lsts[-1], F_filled.lsts - 2 * np.pi, F_filled.lsts) * 12 / np.pi  # in hours\n",
    "extent = [F_filled.freqs[0]/1e6, F_filled.freqs[-1]/1e6, lsts_unwrapped[-1], lsts_unwrapped[0]]\n",
    "\n",
    "def sym_log_norm(to_plot):\n",
    "    '''Shortcut for symmetric sym log norm.'''\n",
    "    return matplotlib.colors.SymLogNorm(10, vmin=-np.nanmax(np.abs(to_plot)), vmax=np.nanmax(np.abs(to_plot)))\n",
    "\n",
    "plt.figure(figsize=(14,8))\n",
    "to_plot = np.where(F_filled.flags[example_bl], np.nan, F_filled.data[example_bl]).real\n",
    "plt.imshow(to_plot, aspect='auto', interpolation='none',  cmap='bwr', extent=extent, norm=sym_log_norm(to_plot))\n",
    "plt.colorbar(label='Re$[V_{ij}]$ (Jy)')\n",
    "plt.xlabel('Frequency (MHz)')\n",
    "plt.ylabel('LST (Hours)')\n",
    "plt.title(f'Final Calibrated, DPSS Inpainted Visibility: {example_bl}')\n",
    "plt.tight_layout()"
   ]
  },
  {
   "cell_type": "markdown",
   "id": "d07dab83",
   "metadata": {},
   "source": [
    "### Figure 5a: Real Part of DPSS-Inpainted Example Waterfall"
   ]
  },
  {
   "cell_type": "code",
   "execution_count": 22,
   "id": "5b671336",
   "metadata": {
    "ExecuteTime": {
     "start_time": "2022-04-29T19:45:42.838Z"
    },
    "execution": {
     "iopub.execute_input": "2022-05-28T21:45:49.849268Z",
     "iopub.status.busy": "2022-05-28T21:45:49.848450Z",
     "iopub.status.idle": "2022-05-28T21:45:49.852994Z",
     "shell.execute_reply": "2022-05-28T21:45:49.853611Z"
    }
   },
   "outputs": [],
   "source": [
    "def delay_lines(ax, horizon_dly, df_half_width):\n",
    "    ax.axvline(horizon_dly, c='k', ls='-', lw=1, label='Horizon')    \n",
    "    ax.axvline(-horizon_dly, c='k', ls='-', lw=1)\n",
    "    ax.axvline(df_half_width, c='grey', ls='--', lw=1, label='Delay Filter')\n",
    "    ax.axvline(-df_half_width, c='grey', ls='--', lw=1)"
   ]
  },
  {
   "cell_type": "code",
   "execution_count": 23,
   "id": "1b7a2e9a",
   "metadata": {
    "ExecuteTime": {
     "start_time": "2022-04-29T19:45:42.839Z"
    },
    "execution": {
     "iopub.execute_input": "2022-05-28T21:45:49.856091Z",
     "iopub.status.busy": "2022-05-28T21:45:49.855312Z",
     "iopub.status.idle": "2022-05-28T21:45:49.868571Z",
     "shell.execute_reply": "2022-05-28T21:45:49.869212Z"
    }
   },
   "outputs": [
    {
     "ename": "AttributeError",
     "evalue": "'FRFilter' object has no attribute 'flags'",
     "output_type": "error",
     "traceback": [
      "\u001b[0;31m---------------------------------------------------------------------------\u001b[0m",
      "\u001b[0;31mAttributeError\u001b[0m                            Traceback (most recent call last)",
      "\u001b[0;32m/tmp/ipykernel_10595/1817211288.py\u001b[0m in \u001b[0;36m<module>\u001b[0;34m\u001b[0m\n\u001b[1;32m      1\u001b[0m \u001b[0;31m# plot in delay space\u001b[0m\u001b[0;34m\u001b[0m\u001b[0;34m\u001b[0m\u001b[0m\n\u001b[1;32m      2\u001b[0m \u001b[0mplt\u001b[0m\u001b[0;34m.\u001b[0m\u001b[0mfigure\u001b[0m\u001b[0;34m(\u001b[0m\u001b[0mfigsize\u001b[0m\u001b[0;34m=\u001b[0m\u001b[0;34m(\u001b[0m\u001b[0;36m14\u001b[0m\u001b[0;34m,\u001b[0m\u001b[0;36m8\u001b[0m\u001b[0;34m)\u001b[0m\u001b[0;34m)\u001b[0m\u001b[0;34m\u001b[0m\u001b[0;34m\u001b[0m\u001b[0m\n\u001b[0;32m----> 3\u001b[0;31m \u001b[0mto_plot\u001b[0m \u001b[0;34m=\u001b[0m \u001b[0mnp\u001b[0m\u001b[0;34m.\u001b[0m\u001b[0mwhere\u001b[0m\u001b[0;34m(\u001b[0m\u001b[0mnp\u001b[0m\u001b[0;34m.\u001b[0m\u001b[0mall\u001b[0m\u001b[0;34m(\u001b[0m\u001b[0mF_filled\u001b[0m\u001b[0;34m.\u001b[0m\u001b[0mflags\u001b[0m\u001b[0;34m[\u001b[0m\u001b[0mexample_bl\u001b[0m\u001b[0;34m]\u001b[0m\u001b[0;34m,\u001b[0m \u001b[0maxis\u001b[0m\u001b[0;34m=\u001b[0m\u001b[0;36m1\u001b[0m\u001b[0;34m,\u001b[0m \u001b[0mkeepdims\u001b[0m\u001b[0;34m=\u001b[0m\u001b[0;32mTrue\u001b[0m\u001b[0;34m)\u001b[0m\u001b[0;34m,\u001b[0m \u001b[0mnp\u001b[0m\u001b[0;34m.\u001b[0m\u001b[0mnan\u001b[0m\u001b[0;34m,\u001b[0m \u001b[0mnp\u001b[0m\u001b[0;34m.\u001b[0m\u001b[0mreal\u001b[0m\u001b[0;34m(\u001b[0m\u001b[0mF_filled\u001b[0m\u001b[0;34m.\u001b[0m\u001b[0mdfft\u001b[0m\u001b[0;34m[\u001b[0m\u001b[0mexample_bl\u001b[0m\u001b[0;34m]\u001b[0m\u001b[0;34m)\u001b[0m\u001b[0;34m)\u001b[0m\u001b[0;34m\u001b[0m\u001b[0;34m\u001b[0m\u001b[0m\n\u001b[0m\u001b[1;32m      4\u001b[0m plt.imshow(to_plot, interpolation='none', aspect='auto', cmap='bwr', norm=sym_log_norm(to_plot),\n\u001b[1;32m      5\u001b[0m            extent=[F_filled.delays[0], F_filled.delays[-1], lsts_unwrapped[-1], lsts_unwrapped[0]])\n",
      "\u001b[0;31mAttributeError\u001b[0m: 'FRFilter' object has no attribute 'flags'"
     ]
    },
    {
     "data": {
      "text/plain": [
       "<Figure size 1008x576 with 0 Axes>"
      ]
     },
     "metadata": {},
     "output_type": "display_data"
    }
   ],
   "source": [
    "# plot in delay space\n",
    "plt.figure(figsize=(14,8))\n",
    "to_plot = np.where(np.all(F_filled.flags[example_bl], axis=1, keepdims=True), np.nan, np.real(F_filled.dfft[example_bl]))\n",
    "plt.imshow(to_plot, interpolation='none', aspect='auto', cmap='bwr', norm=sym_log_norm(to_plot),\n",
    "           extent=[F_filled.delays[0], F_filled.delays[-1], lsts_unwrapped[-1], lsts_unwrapped[0]])\n",
    "plt.xlim([-2000, 2000])\n",
    "plt.xlabel('Delay (ns)')\n",
    "plt.ylabel('LST (hours)')\n",
    "plt.colorbar(label=r'Re$[\\widetilde{V}_{ij}]$ (Jy Hz)')\n",
    "plt.title(f'Final Calibrated, DPSS Inpainted Visibility: {example_bl}')\n",
    "delay_lines(plt.gca(), horizons[example_bl], delay_filter_half_width[example_bl])\n",
    "plt.legend()\n",
    "plt.tight_layout()"
   ]
  },
  {
   "cell_type": "markdown",
   "id": "46d41dfb",
   "metadata": {},
   "source": [
    "### Figure 5b: Real Part of DPSS-Inpainted Example Waterfall in Delay Space"
   ]
  },
  {
   "cell_type": "code",
   "execution_count": 24,
   "id": "b292a855",
   "metadata": {
    "ExecuteTime": {
     "start_time": "2022-04-29T19:45:42.840Z"
    },
    "execution": {
     "iopub.execute_input": "2022-05-28T21:45:49.871914Z",
     "iopub.status.busy": "2022-05-28T21:45:49.871143Z",
     "iopub.status.idle": "2022-05-28T21:45:49.875024Z",
     "shell.execute_reply": "2022-05-28T21:45:49.875580Z"
    }
   },
   "outputs": [],
   "source": [
    "def fr_lines(ax, half_width):\n",
    "    ax.axhline(half_width, c='grey', ls=':', lw=1, label='FR Filter')\n",
    "    ax.axhline(-half_width, c='grey', ls=':', lw=1)"
   ]
  },
  {
   "cell_type": "code",
   "execution_count": 25,
   "id": "4f934e52",
   "metadata": {
    "ExecuteTime": {
     "start_time": "2022-04-29T19:45:42.841Z"
    },
    "execution": {
     "iopub.execute_input": "2022-05-28T21:45:49.878116Z",
     "iopub.status.busy": "2022-05-28T21:45:49.877271Z",
     "iopub.status.idle": "2022-05-28T21:45:49.888925Z",
     "shell.execute_reply": "2022-05-28T21:45:49.889618Z"
    }
   },
   "outputs": [
    {
     "ename": "AttributeError",
     "evalue": "'FRFilter' object has no attribute 'delays'",
     "output_type": "error",
     "traceback": [
      "\u001b[0;31m---------------------------------------------------------------------------\u001b[0m",
      "\u001b[0;31mAttributeError\u001b[0m                            Traceback (most recent call last)",
      "\u001b[0;32m/tmp/ipykernel_10595/2470662173.py\u001b[0m in \u001b[0;36m<module>\u001b[0;34m\u001b[0m\n\u001b[1;32m      1\u001b[0m \u001b[0;31m# plot in delay space and FR space\u001b[0m\u001b[0;34m\u001b[0m\u001b[0;34m\u001b[0m\u001b[0m\n\u001b[0;32m----> 2\u001b[0;31m \u001b[0mextent\u001b[0m \u001b[0;34m=\u001b[0m \u001b[0;34m[\u001b[0m\u001b[0mF_filled\u001b[0m\u001b[0;34m.\u001b[0m\u001b[0mdelays\u001b[0m\u001b[0;34m[\u001b[0m\u001b[0;36m0\u001b[0m\u001b[0;34m]\u001b[0m\u001b[0;34m,\u001b[0m \u001b[0mF_filled\u001b[0m\u001b[0;34m.\u001b[0m\u001b[0mdelays\u001b[0m\u001b[0;34m[\u001b[0m\u001b[0;34m-\u001b[0m\u001b[0;36m1\u001b[0m\u001b[0;34m]\u001b[0m\u001b[0;34m,\u001b[0m \u001b[0mF_filled\u001b[0m\u001b[0;34m.\u001b[0m\u001b[0mfrates\u001b[0m\u001b[0;34m[\u001b[0m\u001b[0;34m-\u001b[0m\u001b[0;36m1\u001b[0m\u001b[0;34m]\u001b[0m\u001b[0;34m,\u001b[0m \u001b[0mF_filled\u001b[0m\u001b[0;34m.\u001b[0m\u001b[0mfrates\u001b[0m\u001b[0;34m[\u001b[0m\u001b[0;36m0\u001b[0m\u001b[0;34m]\u001b[0m\u001b[0;34m]\u001b[0m\u001b[0;34m\u001b[0m\u001b[0;34m\u001b[0m\u001b[0m\n\u001b[0m\u001b[1;32m      3\u001b[0m \u001b[0mplt\u001b[0m\u001b[0;34m.\u001b[0m\u001b[0mfigure\u001b[0m\u001b[0;34m(\u001b[0m\u001b[0mfigsize\u001b[0m\u001b[0;34m=\u001b[0m\u001b[0;34m(\u001b[0m\u001b[0;36m14\u001b[0m\u001b[0;34m,\u001b[0m\u001b[0;36m8\u001b[0m\u001b[0;34m)\u001b[0m\u001b[0;34m)\u001b[0m\u001b[0;34m\u001b[0m\u001b[0;34m\u001b[0m\u001b[0m\n\u001b[1;32m      4\u001b[0m plt.imshow(np.abs(F_filled.xdfft2[example_bl]), aspect='auto', interpolation='none', \n\u001b[1;32m      5\u001b[0m            norm=matplotlib.colors.LogNorm(), cmap='turbo', extent=extent)\n",
      "\u001b[0;31mAttributeError\u001b[0m: 'FRFilter' object has no attribute 'delays'"
     ]
    }
   ],
   "source": [
    "# plot in delay space and FR space\n",
    "extent = [F_filled.delays[0], F_filled.delays[-1], F_filled.frates[-1], F_filled.frates[0]]\n",
    "plt.figure(figsize=(14,8))\n",
    "plt.imshow(np.abs(F_filled.xdfft2[example_bl]), aspect='auto', interpolation='none', \n",
    "           norm=matplotlib.colors.LogNorm(), cmap='turbo', extent=extent)\n",
    "plt.colorbar(label='$|\\widetilde{V}_{ij}|$ (Jy)')\n",
    "plt.xlabel('Delay (ns)')\n",
    "plt.xlim([-2000, 2000])\n",
    "plt.ylim([-5, 5])\n",
    "plt.ylabel('Fringe Rate (mHz)')\n",
    "plt.title(f'Final Calibrated, DPSS Inpainted (in Frequency) and CLEAN Inpainted (in Time): {example_bl}')\n",
    "delay_lines(plt.gca(), horizons[example_bl], delay_filter_half_width[example_bl])\n",
    "fr_lines(plt.gca(), frf_half_width[example_bl])\n",
    "plt.legend()\n",
    "plt.tight_layout()"
   ]
  },
  {
   "cell_type": "markdown",
   "id": "c5455c12",
   "metadata": {},
   "source": [
    "### Figure 5c: Magnitude of DPSS-Inpainted Example Waterfall in Fringe-Rate / Delay Space"
   ]
  },
  {
   "cell_type": "markdown",
   "id": "441fa2bb",
   "metadata": {},
   "source": [
    "## Examine DPSS-Residual Visibilities"
   ]
  },
  {
   "cell_type": "code",
   "execution_count": 26,
   "id": "d2306ed7",
   "metadata": {
    "ExecuteTime": {
     "start_time": "2022-04-29T19:45:42.842Z"
    },
    "execution": {
     "iopub.execute_input": "2022-05-28T21:45:49.892332Z",
     "iopub.status.busy": "2022-05-28T21:45:49.891531Z",
     "iopub.status.idle": "2022-05-28T21:45:49.920182Z",
     "shell.execute_reply": "2022-05-28T21:45:49.920810Z"
    }
   },
   "outputs": [
    {
     "ename": "AttributeError",
     "evalue": "'FRFilter' object has no attribute 'data'",
     "output_type": "error",
     "traceback": [
      "\u001b[0;31m---------------------------------------------------------------------------\u001b[0m",
      "\u001b[0;31mAttributeError\u001b[0m                            Traceback (most recent call last)",
      "\u001b[0;32m/tmp/ipykernel_10595/3205888596.py\u001b[0m in \u001b[0;36m<module>\u001b[0;34m\u001b[0m\n\u001b[1;32m      1\u001b[0m \u001b[0;31m# FFT visibilities in 1D and 2D\u001b[0m\u001b[0;34m\u001b[0m\u001b[0;34m\u001b[0m\u001b[0m\n\u001b[1;32m      2\u001b[0m \u001b[0mF_res\u001b[0m \u001b[0;34m=\u001b[0m \u001b[0mFRFilter\u001b[0m\u001b[0;34m(\u001b[0m\u001b[0mhd_dpss_res\u001b[0m\u001b[0;34m)\u001b[0m\u001b[0;34m\u001b[0m\u001b[0;34m\u001b[0m\u001b[0m\n\u001b[0;32m----> 3\u001b[0;31m F_res.fft_data(data=F_res.data, assign='dfft', ax='freq', window='bh', \n\u001b[0m\u001b[1;32m      4\u001b[0m                edgecut_low=ecf_low, edgecut_hi=ecf_high, overwrite=True)\n\u001b[1;32m      5\u001b[0m F_res.vis_clean(data=F_res.data, flags=F_res.flags, keys=[example_bl], ax='time', max_frate=5, tol=1e-6, gain=0.9,\n",
      "\u001b[0;31mAttributeError\u001b[0m: 'FRFilter' object has no attribute 'data'"
     ]
    }
   ],
   "source": [
    "# FFT visibilities in 1D and 2D\n",
    "F_res = FRFilter(hd_dpss_res)\n",
    "F_res.fft_data(data=F_res.data, assign='dfft', ax='freq', window='bh', \n",
    "               edgecut_low=ecf_low, edgecut_hi=ecf_high, overwrite=True)\n",
    "F_res.vis_clean(data=F_res.data, flags=F_res.flags, keys=[example_bl], ax='time', max_frate=5, tol=1e-6, gain=0.9,\n",
    "                   window='bh', alpha=0.1, overwrite=True, verbose=True, x=F_res.times*24*3600, output_prefix='xclean')\n",
    "F_res.fft_data(data=F_res.xclean_data, keys=[example_bl], assign='xdfft2', ax='both', window=('bh','bh'), \n",
    "                  edgecut_low=(ect_low, ecf_low), edgecut_hi=(ect_high, ecf_high), overwrite=True)"
   ]
  },
  {
   "cell_type": "code",
   "execution_count": 27,
   "id": "94bc85c2",
   "metadata": {
    "ExecuteTime": {
     "start_time": "2022-04-29T19:45:42.843Z"
    },
    "execution": {
     "iopub.execute_input": "2022-05-28T21:45:49.923715Z",
     "iopub.status.busy": "2022-05-28T21:45:49.922872Z",
     "iopub.status.idle": "2022-05-28T21:45:49.937061Z",
     "shell.execute_reply": "2022-05-28T21:45:49.937683Z"
    }
   },
   "outputs": [
    {
     "ename": "AttributeError",
     "evalue": "'FRFilter' object has no attribute 'flags'",
     "output_type": "error",
     "traceback": [
      "\u001b[0;31m---------------------------------------------------------------------------\u001b[0m",
      "\u001b[0;31mAttributeError\u001b[0m                            Traceback (most recent call last)",
      "\u001b[0;32m/tmp/ipykernel_10595/1828869259.py\u001b[0m in \u001b[0;36m<module>\u001b[0;34m\u001b[0m\n\u001b[1;32m      4\u001b[0m \u001b[0;34m\u001b[0m\u001b[0m\n\u001b[1;32m      5\u001b[0m \u001b[0mplt\u001b[0m\u001b[0;34m.\u001b[0m\u001b[0mfigure\u001b[0m\u001b[0;34m(\u001b[0m\u001b[0mfigsize\u001b[0m\u001b[0;34m=\u001b[0m\u001b[0;34m(\u001b[0m\u001b[0;36m14\u001b[0m\u001b[0;34m,\u001b[0m\u001b[0;36m8\u001b[0m\u001b[0;34m)\u001b[0m\u001b[0;34m)\u001b[0m\u001b[0;34m\u001b[0m\u001b[0;34m\u001b[0m\u001b[0m\n\u001b[0;32m----> 6\u001b[0;31m \u001b[0mto_plot\u001b[0m \u001b[0;34m=\u001b[0m \u001b[0mnp\u001b[0m\u001b[0;34m.\u001b[0m\u001b[0mwhere\u001b[0m\u001b[0;34m(\u001b[0m\u001b[0mF_res\u001b[0m\u001b[0;34m.\u001b[0m\u001b[0mflags\u001b[0m\u001b[0;34m[\u001b[0m\u001b[0mexample_bl\u001b[0m\u001b[0;34m]\u001b[0m\u001b[0;34m,\u001b[0m \u001b[0mnp\u001b[0m\u001b[0;34m.\u001b[0m\u001b[0mnan\u001b[0m\u001b[0;34m,\u001b[0m \u001b[0mF_res\u001b[0m\u001b[0;34m.\u001b[0m\u001b[0mdata\u001b[0m\u001b[0;34m[\u001b[0m\u001b[0mexample_bl\u001b[0m\u001b[0;34m]\u001b[0m\u001b[0;34m)\u001b[0m\u001b[0;34m.\u001b[0m\u001b[0mreal\u001b[0m\u001b[0;34m\u001b[0m\u001b[0;34m\u001b[0m\u001b[0m\n\u001b[0m\u001b[1;32m      7\u001b[0m \u001b[0mplt\u001b[0m\u001b[0;34m.\u001b[0m\u001b[0mimshow\u001b[0m\u001b[0;34m(\u001b[0m\u001b[0mto_plot\u001b[0m\u001b[0;34m,\u001b[0m \u001b[0maspect\u001b[0m\u001b[0;34m=\u001b[0m\u001b[0;34m'auto'\u001b[0m\u001b[0;34m,\u001b[0m \u001b[0minterpolation\u001b[0m\u001b[0;34m=\u001b[0m\u001b[0;34m'none'\u001b[0m\u001b[0;34m,\u001b[0m \u001b[0mnorm\u001b[0m\u001b[0;34m=\u001b[0m\u001b[0msym_log_norm\u001b[0m\u001b[0;34m(\u001b[0m\u001b[0mto_plot\u001b[0m\u001b[0;34m)\u001b[0m\u001b[0;34m,\u001b[0m \u001b[0mcmap\u001b[0m\u001b[0;34m=\u001b[0m\u001b[0;34m'bwr'\u001b[0m\u001b[0;34m,\u001b[0m \u001b[0mextent\u001b[0m\u001b[0;34m=\u001b[0m\u001b[0mextent\u001b[0m\u001b[0;34m)\u001b[0m\u001b[0;34m\u001b[0m\u001b[0;34m\u001b[0m\u001b[0m\n\u001b[1;32m      8\u001b[0m \u001b[0mplt\u001b[0m\u001b[0;34m.\u001b[0m\u001b[0mcolorbar\u001b[0m\u001b[0;34m(\u001b[0m\u001b[0mlabel\u001b[0m\u001b[0;34m=\u001b[0m\u001b[0;34m'Re$[V_{ij}]$ (Jy)'\u001b[0m\u001b[0;34m)\u001b[0m\u001b[0;34m\u001b[0m\u001b[0;34m\u001b[0m\u001b[0m\n",
      "\u001b[0;31mAttributeError\u001b[0m: 'FRFilter' object has no attribute 'flags'"
     ]
    },
    {
     "data": {
      "text/plain": [
       "<Figure size 1008x576 with 0 Axes>"
      ]
     },
     "metadata": {},
     "output_type": "display_data"
    }
   ],
   "source": [
    "# plot real part of DPSS residual example waterfall\n",
    "lsts_unwrapped = np.where(F_res.lsts > F_res.lsts[-1], F_res.lsts - 2 * np.pi, F_res.lsts) * 12 / np.pi  # in hours\n",
    "extent = [F_res.freqs[0]/1e6, F_res.freqs[-1]/1e6, lsts_unwrapped[-1], lsts_unwrapped[0]]\n",
    "\n",
    "plt.figure(figsize=(14,8))\n",
    "to_plot = np.where(F_res.flags[example_bl], np.nan, F_res.data[example_bl]).real\n",
    "plt.imshow(to_plot, aspect='auto', interpolation='none', norm=sym_log_norm(to_plot), cmap='bwr', extent=extent)\n",
    "plt.colorbar(label='Re$[V_{ij}]$ (Jy)')\n",
    "plt.xlabel('Frequency (MHz)')\n",
    "plt.ylabel('LST (Hours)')\n",
    "plt.title(f'Final Calibrated, DPSS Residual Visibility: {example_bl}')\n",
    "plt.tight_layout()"
   ]
  },
  {
   "cell_type": "markdown",
   "id": "74361871",
   "metadata": {
    "ExecuteTime": {
     "end_time": "2022-04-27T02:20:28.039375Z",
     "start_time": "2022-04-27T02:20:12.289977Z"
    }
   },
   "source": [
    "### Figure 6a: Real Part of DPSS-Residual Example Waterfall"
   ]
  },
  {
   "cell_type": "code",
   "execution_count": 28,
   "id": "5f29f171",
   "metadata": {
    "ExecuteTime": {
     "start_time": "2022-04-29T19:45:42.844Z"
    },
    "execution": {
     "iopub.execute_input": "2022-05-28T21:45:49.940492Z",
     "iopub.status.busy": "2022-05-28T21:45:49.939705Z",
     "iopub.status.idle": "2022-05-28T21:45:49.953644Z",
     "shell.execute_reply": "2022-05-28T21:45:49.954231Z"
    }
   },
   "outputs": [
    {
     "ename": "AttributeError",
     "evalue": "'FRFilter' object has no attribute 'flags'",
     "output_type": "error",
     "traceback": [
      "\u001b[0;31m---------------------------------------------------------------------------\u001b[0m",
      "\u001b[0;31mAttributeError\u001b[0m                            Traceback (most recent call last)",
      "\u001b[0;32m/tmp/ipykernel_10595/2747780811.py\u001b[0m in \u001b[0;36m<module>\u001b[0;34m\u001b[0m\n\u001b[1;32m      1\u001b[0m \u001b[0;31m# plot in delay space\u001b[0m\u001b[0;34m\u001b[0m\u001b[0;34m\u001b[0m\u001b[0m\n\u001b[1;32m      2\u001b[0m \u001b[0mplt\u001b[0m\u001b[0;34m.\u001b[0m\u001b[0mfigure\u001b[0m\u001b[0;34m(\u001b[0m\u001b[0mfigsize\u001b[0m\u001b[0;34m=\u001b[0m\u001b[0;34m(\u001b[0m\u001b[0;36m14\u001b[0m\u001b[0;34m,\u001b[0m\u001b[0;36m8\u001b[0m\u001b[0;34m)\u001b[0m\u001b[0;34m)\u001b[0m\u001b[0;34m\u001b[0m\u001b[0;34m\u001b[0m\u001b[0m\n\u001b[0;32m----> 3\u001b[0;31m \u001b[0mto_plot\u001b[0m \u001b[0;34m=\u001b[0m \u001b[0mnp\u001b[0m\u001b[0;34m.\u001b[0m\u001b[0mwhere\u001b[0m\u001b[0;34m(\u001b[0m\u001b[0mnp\u001b[0m\u001b[0;34m.\u001b[0m\u001b[0mall\u001b[0m\u001b[0;34m(\u001b[0m\u001b[0mF_res\u001b[0m\u001b[0;34m.\u001b[0m\u001b[0mflags\u001b[0m\u001b[0;34m[\u001b[0m\u001b[0mexample_bl\u001b[0m\u001b[0;34m]\u001b[0m\u001b[0;34m,\u001b[0m \u001b[0maxis\u001b[0m\u001b[0;34m=\u001b[0m\u001b[0;36m1\u001b[0m\u001b[0;34m,\u001b[0m \u001b[0mkeepdims\u001b[0m\u001b[0;34m=\u001b[0m\u001b[0;32mTrue\u001b[0m\u001b[0;34m)\u001b[0m\u001b[0;34m,\u001b[0m \u001b[0mnp\u001b[0m\u001b[0;34m.\u001b[0m\u001b[0mnan\u001b[0m\u001b[0;34m,\u001b[0m \u001b[0mnp\u001b[0m\u001b[0;34m.\u001b[0m\u001b[0mreal\u001b[0m\u001b[0;34m(\u001b[0m\u001b[0mF_res\u001b[0m\u001b[0;34m.\u001b[0m\u001b[0mdfft\u001b[0m\u001b[0;34m[\u001b[0m\u001b[0mexample_bl\u001b[0m\u001b[0;34m]\u001b[0m\u001b[0;34m)\u001b[0m\u001b[0;34m)\u001b[0m\u001b[0;34m\u001b[0m\u001b[0;34m\u001b[0m\u001b[0m\n\u001b[0m\u001b[1;32m      4\u001b[0m plt.imshow(to_plot, interpolation='none', aspect='auto', cmap='bwr', norm=sym_log_norm(to_plot),\n\u001b[1;32m      5\u001b[0m            extent=[F_res.delays[0], F_res.delays[-1], lsts_unwrapped[-1], lsts_unwrapped[0]])\n",
      "\u001b[0;31mAttributeError\u001b[0m: 'FRFilter' object has no attribute 'flags'"
     ]
    },
    {
     "data": {
      "text/plain": [
       "<Figure size 1008x576 with 0 Axes>"
      ]
     },
     "metadata": {},
     "output_type": "display_data"
    }
   ],
   "source": [
    "# plot in delay space\n",
    "plt.figure(figsize=(14,8))\n",
    "to_plot = np.where(np.all(F_res.flags[example_bl], axis=1, keepdims=True), np.nan, np.real(F_res.dfft[example_bl]))\n",
    "plt.imshow(to_plot, interpolation='none', aspect='auto', cmap='bwr', norm=sym_log_norm(to_plot),\n",
    "           extent=[F_res.delays[0], F_res.delays[-1], lsts_unwrapped[-1], lsts_unwrapped[0]])\n",
    "plt.xlim([-2000, 2000])\n",
    "plt.xlabel('Delay (ns)')\n",
    "plt.ylabel('LST (hours)')\n",
    "plt.colorbar(label=r'Re$[\\widetilde{V}_{ij}]$ (Jy Hz)')\n",
    "plt.title(f'Final Calibrated, DPSS Residual Visibility: {example_bl}')\n",
    "delay_lines(plt.gca(), horizons[example_bl], delay_filter_half_width[example_bl])\n",
    "plt.legend()\n",
    "plt.tight_layout()"
   ]
  },
  {
   "cell_type": "markdown",
   "id": "fce62a5e",
   "metadata": {
    "ExecuteTime": {
     "end_time": "2022-04-27T02:20:28.039375Z",
     "start_time": "2022-04-27T02:20:12.289977Z"
    }
   },
   "source": [
    "### Figure 6b: Real Part of DPSS-Residual Example Waterfall in Delay Space"
   ]
  },
  {
   "cell_type": "code",
   "execution_count": 29,
   "id": "8a92352c",
   "metadata": {
    "ExecuteTime": {
     "start_time": "2022-04-29T19:45:42.845Z"
    },
    "execution": {
     "iopub.execute_input": "2022-05-28T21:45:49.956911Z",
     "iopub.status.busy": "2022-05-28T21:45:49.956015Z",
     "iopub.status.idle": "2022-05-28T21:45:49.966974Z",
     "shell.execute_reply": "2022-05-28T21:45:49.967553Z"
    }
   },
   "outputs": [
    {
     "ename": "AttributeError",
     "evalue": "'FRFilter' object has no attribute 'delays'",
     "output_type": "error",
     "traceback": [
      "\u001b[0;31m---------------------------------------------------------------------------\u001b[0m",
      "\u001b[0;31mAttributeError\u001b[0m                            Traceback (most recent call last)",
      "\u001b[0;32m/tmp/ipykernel_10595/1738562905.py\u001b[0m in \u001b[0;36m<module>\u001b[0;34m\u001b[0m\n\u001b[1;32m      1\u001b[0m \u001b[0;31m# plot in delay space and FR space\u001b[0m\u001b[0;34m\u001b[0m\u001b[0;34m\u001b[0m\u001b[0m\n\u001b[0;32m----> 2\u001b[0;31m \u001b[0mextent\u001b[0m \u001b[0;34m=\u001b[0m \u001b[0;34m[\u001b[0m\u001b[0mF_res\u001b[0m\u001b[0;34m.\u001b[0m\u001b[0mdelays\u001b[0m\u001b[0;34m[\u001b[0m\u001b[0;36m0\u001b[0m\u001b[0;34m]\u001b[0m\u001b[0;34m,\u001b[0m \u001b[0mF_res\u001b[0m\u001b[0;34m.\u001b[0m\u001b[0mdelays\u001b[0m\u001b[0;34m[\u001b[0m\u001b[0;34m-\u001b[0m\u001b[0;36m1\u001b[0m\u001b[0;34m]\u001b[0m\u001b[0;34m,\u001b[0m \u001b[0mF_res\u001b[0m\u001b[0;34m.\u001b[0m\u001b[0mfrates\u001b[0m\u001b[0;34m[\u001b[0m\u001b[0;34m-\u001b[0m\u001b[0;36m1\u001b[0m\u001b[0;34m]\u001b[0m\u001b[0;34m,\u001b[0m \u001b[0mF_res\u001b[0m\u001b[0;34m.\u001b[0m\u001b[0mfrates\u001b[0m\u001b[0;34m[\u001b[0m\u001b[0;36m0\u001b[0m\u001b[0;34m]\u001b[0m\u001b[0;34m]\u001b[0m\u001b[0;34m\u001b[0m\u001b[0;34m\u001b[0m\u001b[0m\n\u001b[0m\u001b[1;32m      3\u001b[0m \u001b[0mplt\u001b[0m\u001b[0;34m.\u001b[0m\u001b[0mfigure\u001b[0m\u001b[0;34m(\u001b[0m\u001b[0mfigsize\u001b[0m\u001b[0;34m=\u001b[0m\u001b[0;34m(\u001b[0m\u001b[0;36m14\u001b[0m\u001b[0;34m,\u001b[0m\u001b[0;36m8\u001b[0m\u001b[0;34m)\u001b[0m\u001b[0;34m)\u001b[0m\u001b[0;34m\u001b[0m\u001b[0;34m\u001b[0m\u001b[0m\n\u001b[1;32m      4\u001b[0m plt.imshow(np.abs(F_res.xdfft2[example_bl]), aspect='auto', interpolation='none', \n\u001b[1;32m      5\u001b[0m            norm=matplotlib.colors.LogNorm(), cmap='jet', extent=extent)\n",
      "\u001b[0;31mAttributeError\u001b[0m: 'FRFilter' object has no attribute 'delays'"
     ]
    }
   ],
   "source": [
    "# plot in delay space and FR space\n",
    "extent = [F_res.delays[0], F_res.delays[-1], F_res.frates[-1], F_res.frates[0]]\n",
    "plt.figure(figsize=(14,8))\n",
    "plt.imshow(np.abs(F_res.xdfft2[example_bl]), aspect='auto', interpolation='none', \n",
    "           norm=matplotlib.colors.LogNorm(), cmap='jet', extent=extent)\n",
    "plt.colorbar(label='$|\\widetilde{V}_{ij}|$ (Jy)')\n",
    "plt.xlabel('Delay (ns)')\n",
    "plt.xlim([-2000, 2000])\n",
    "plt.ylim([-5, 5])\n",
    "plt.ylabel('Fringe Rate (mHz)')\n",
    "plt.title(f'Final Calibrated, DPSS Residual (in Frequency) and CLEAN Inpainted (in Time): {example_bl}')\n",
    "delay_lines(plt.gca(), horizons[example_bl], delay_filter_half_width[example_bl])\n",
    "fr_lines(plt.gca(), frf_half_width[example_bl])\n",
    "plt.legend()\n",
    "plt.tight_layout()"
   ]
  },
  {
   "cell_type": "markdown",
   "id": "f1bc3dbe",
   "metadata": {},
   "source": [
    "### Figure 6c: Magnitude of DPSS-Residual Example Waterfall in Fringe-Rate / Delay Space"
   ]
  },
  {
   "cell_type": "markdown",
   "id": "a1205124",
   "metadata": {},
   "source": [
    "## Examine DPSS-Residual, Crosstalk Filtered Visibilities"
   ]
  },
  {
   "cell_type": "code",
   "execution_count": 30,
   "id": "16b96054",
   "metadata": {
    "ExecuteTime": {
     "start_time": "2022-04-29T19:45:42.846Z"
    },
    "execution": {
     "iopub.execute_input": "2022-05-28T21:45:49.970245Z",
     "iopub.status.busy": "2022-05-28T21:45:49.969375Z",
     "iopub.status.idle": "2022-05-28T21:45:49.996530Z",
     "shell.execute_reply": "2022-05-28T21:45:49.997108Z"
    }
   },
   "outputs": [
    {
     "ename": "AttributeError",
     "evalue": "'FRFilter' object has no attribute 'data'",
     "output_type": "error",
     "traceback": [
      "\u001b[0;31m---------------------------------------------------------------------------\u001b[0m",
      "\u001b[0;31mAttributeError\u001b[0m                            Traceback (most recent call last)",
      "\u001b[0;32m/tmp/ipykernel_10595/2330250178.py\u001b[0m in \u001b[0;36m<module>\u001b[0;34m\u001b[0m\n\u001b[1;32m      1\u001b[0m \u001b[0;31m# FFT visibilities in 1D and 2D\u001b[0m\u001b[0;34m\u001b[0m\u001b[0;34m\u001b[0m\u001b[0m\n\u001b[1;32m      2\u001b[0m \u001b[0mF_res_filt\u001b[0m \u001b[0;34m=\u001b[0m \u001b[0mFRFilter\u001b[0m\u001b[0;34m(\u001b[0m\u001b[0mhd_dpss_res_xtalk_filt\u001b[0m\u001b[0;34m)\u001b[0m\u001b[0;34m\u001b[0m\u001b[0;34m\u001b[0m\u001b[0m\n\u001b[0;32m----> 3\u001b[0;31m F_res_filt.fft_data(data=F_res_filt.data, assign='dfft', ax='freq', window='bh', \n\u001b[0m\u001b[1;32m      4\u001b[0m                     edgecut_low=ecf_low, edgecut_hi=ecf_high, overwrite=True)\n\u001b[1;32m      5\u001b[0m F_res_filt.vis_clean(data=F_res_filt.data, flags=F_res_filt.flags, keys=[example_bl], ax='time', max_frate=5, tol=1e-6, gain=0.9,\n",
      "\u001b[0;31mAttributeError\u001b[0m: 'FRFilter' object has no attribute 'data'"
     ]
    }
   ],
   "source": [
    "# FFT visibilities in 1D and 2D\n",
    "F_res_filt = FRFilter(hd_dpss_res_xtalk_filt)\n",
    "F_res_filt.fft_data(data=F_res_filt.data, assign='dfft', ax='freq', window='bh', \n",
    "                    edgecut_low=ecf_low, edgecut_hi=ecf_high, overwrite=True)\n",
    "F_res_filt.vis_clean(data=F_res_filt.data, flags=F_res_filt.flags, keys=[example_bl], ax='time', max_frate=5, tol=1e-6, gain=0.9,\n",
    "                   window='bh', alpha=0.1, overwrite=True, verbose=True, x=F_res_filt.times*24*3600, output_prefix='xclean')\n",
    "F_res_filt.fft_data(data=F_res_filt.xclean_data, keys=[example_bl], assign='xdfft2', ax='both', window=('bh','bh'), \n",
    "                  edgecut_low=(ect_low, ecf_low), edgecut_hi=(ect_high, ecf_high), overwrite=True)"
   ]
  },
  {
   "cell_type": "code",
   "execution_count": 31,
   "id": "a3d81f4a",
   "metadata": {
    "ExecuteTime": {
     "start_time": "2022-04-29T19:45:42.847Z"
    },
    "execution": {
     "iopub.execute_input": "2022-05-28T21:45:49.999897Z",
     "iopub.status.busy": "2022-05-28T21:45:49.999070Z",
     "iopub.status.idle": "2022-05-28T21:45:50.012999Z",
     "shell.execute_reply": "2022-05-28T21:45:50.013684Z"
    }
   },
   "outputs": [
    {
     "ename": "AttributeError",
     "evalue": "'FRFilter' object has no attribute 'flags'",
     "output_type": "error",
     "traceback": [
      "\u001b[0;31m---------------------------------------------------------------------------\u001b[0m",
      "\u001b[0;31mAttributeError\u001b[0m                            Traceback (most recent call last)",
      "\u001b[0;32m/tmp/ipykernel_10595/2780590827.py\u001b[0m in \u001b[0;36m<module>\u001b[0;34m\u001b[0m\n\u001b[1;32m      4\u001b[0m \u001b[0;34m\u001b[0m\u001b[0m\n\u001b[1;32m      5\u001b[0m \u001b[0mplt\u001b[0m\u001b[0;34m.\u001b[0m\u001b[0mfigure\u001b[0m\u001b[0;34m(\u001b[0m\u001b[0mfigsize\u001b[0m\u001b[0;34m=\u001b[0m\u001b[0;34m(\u001b[0m\u001b[0;36m14\u001b[0m\u001b[0;34m,\u001b[0m\u001b[0;36m8\u001b[0m\u001b[0;34m)\u001b[0m\u001b[0;34m)\u001b[0m\u001b[0;34m\u001b[0m\u001b[0;34m\u001b[0m\u001b[0m\n\u001b[0;32m----> 6\u001b[0;31m \u001b[0mto_plot\u001b[0m \u001b[0;34m=\u001b[0m \u001b[0mnp\u001b[0m\u001b[0;34m.\u001b[0m\u001b[0mwhere\u001b[0m\u001b[0;34m(\u001b[0m\u001b[0mF_res_filt\u001b[0m\u001b[0;34m.\u001b[0m\u001b[0mflags\u001b[0m\u001b[0;34m[\u001b[0m\u001b[0mexample_bl\u001b[0m\u001b[0;34m]\u001b[0m\u001b[0;34m,\u001b[0m \u001b[0mnp\u001b[0m\u001b[0;34m.\u001b[0m\u001b[0mnan\u001b[0m\u001b[0;34m,\u001b[0m \u001b[0mF_res_filt\u001b[0m\u001b[0;34m.\u001b[0m\u001b[0mdata\u001b[0m\u001b[0;34m[\u001b[0m\u001b[0mexample_bl\u001b[0m\u001b[0;34m]\u001b[0m\u001b[0;34m)\u001b[0m\u001b[0;34m.\u001b[0m\u001b[0mreal\u001b[0m\u001b[0;34m\u001b[0m\u001b[0;34m\u001b[0m\u001b[0m\n\u001b[0m\u001b[1;32m      7\u001b[0m \u001b[0mplt\u001b[0m\u001b[0;34m.\u001b[0m\u001b[0mimshow\u001b[0m\u001b[0;34m(\u001b[0m\u001b[0mto_plot\u001b[0m\u001b[0;34m,\u001b[0m \u001b[0maspect\u001b[0m\u001b[0;34m=\u001b[0m\u001b[0;34m'auto'\u001b[0m\u001b[0;34m,\u001b[0m \u001b[0minterpolation\u001b[0m\u001b[0;34m=\u001b[0m\u001b[0;34m'none'\u001b[0m\u001b[0;34m,\u001b[0m \u001b[0mnorm\u001b[0m\u001b[0;34m=\u001b[0m\u001b[0msym_log_norm\u001b[0m\u001b[0;34m(\u001b[0m\u001b[0mto_plot\u001b[0m\u001b[0;34m)\u001b[0m\u001b[0;34m,\u001b[0m \u001b[0mcmap\u001b[0m\u001b[0;34m=\u001b[0m\u001b[0;34m'bwr'\u001b[0m\u001b[0;34m,\u001b[0m \u001b[0mextent\u001b[0m\u001b[0;34m=\u001b[0m\u001b[0mextent\u001b[0m\u001b[0;34m)\u001b[0m\u001b[0;34m\u001b[0m\u001b[0;34m\u001b[0m\u001b[0m\n\u001b[1;32m      8\u001b[0m \u001b[0mplt\u001b[0m\u001b[0;34m.\u001b[0m\u001b[0mcolorbar\u001b[0m\u001b[0;34m(\u001b[0m\u001b[0mlabel\u001b[0m\u001b[0;34m=\u001b[0m\u001b[0;34m'Re$[V_{ij}]$ (Jy)'\u001b[0m\u001b[0;34m)\u001b[0m\u001b[0;34m\u001b[0m\u001b[0;34m\u001b[0m\u001b[0m\n",
      "\u001b[0;31mAttributeError\u001b[0m: 'FRFilter' object has no attribute 'flags'"
     ]
    },
    {
     "data": {
      "text/plain": [
       "<Figure size 1008x576 with 0 Axes>"
      ]
     },
     "metadata": {},
     "output_type": "display_data"
    }
   ],
   "source": [
    "# plot real part of DPSS residual example waterfall\n",
    "lsts_unwrapped = np.where(F_res_filt.lsts > F_res_filt.lsts[-1], F_res_filt.lsts - 2 * np.pi, F_res_filt.lsts) * 12 / np.pi  # in hours\n",
    "extent = [F_res_filt.freqs[0]/1e6, F_res_filt.freqs[-1]/1e6, lsts_unwrapped[-1], lsts_unwrapped[0]]\n",
    "\n",
    "plt.figure(figsize=(14,8))\n",
    "to_plot = np.where(F_res_filt.flags[example_bl], np.nan, F_res_filt.data[example_bl]).real\n",
    "plt.imshow(to_plot, aspect='auto', interpolation='none', norm=sym_log_norm(to_plot), cmap='bwr', extent=extent)\n",
    "plt.colorbar(label='Re$[V_{ij}]$ (Jy)')\n",
    "plt.xlabel('Frequency (MHz)')\n",
    "plt.ylabel('LST (Hours)')\n",
    "plt.title(f'Final Calibrated, DPSS Residual, DPSS Crosstalk Filtered Visibility: {example_bl}')\n",
    "plt.tight_layout()"
   ]
  },
  {
   "cell_type": "markdown",
   "id": "9b18add9",
   "metadata": {
    "ExecuteTime": {
     "end_time": "2022-04-27T02:22:09.258011Z",
     "start_time": "2022-04-27T02:21:55.247112Z"
    }
   },
   "source": [
    "### Figure 7a: Real Part of DPSS-Residual Example Waterfall After Crosstalk Filtering"
   ]
  },
  {
   "cell_type": "code",
   "execution_count": 32,
   "id": "2923e18b",
   "metadata": {
    "ExecuteTime": {
     "start_time": "2022-04-29T19:45:42.848Z"
    },
    "execution": {
     "iopub.execute_input": "2022-05-28T21:45:50.016372Z",
     "iopub.status.busy": "2022-05-28T21:45:50.015576Z",
     "iopub.status.idle": "2022-05-28T21:45:50.029577Z",
     "shell.execute_reply": "2022-05-28T21:45:50.030214Z"
    }
   },
   "outputs": [
    {
     "ename": "AttributeError",
     "evalue": "'FRFilter' object has no attribute 'flags'",
     "output_type": "error",
     "traceback": [
      "\u001b[0;31m---------------------------------------------------------------------------\u001b[0m",
      "\u001b[0;31mAttributeError\u001b[0m                            Traceback (most recent call last)",
      "\u001b[0;32m/tmp/ipykernel_10595/3394997208.py\u001b[0m in \u001b[0;36m<module>\u001b[0;34m\u001b[0m\n\u001b[1;32m      1\u001b[0m \u001b[0;31m# plot in delay space\u001b[0m\u001b[0;34m\u001b[0m\u001b[0;34m\u001b[0m\u001b[0m\n\u001b[1;32m      2\u001b[0m \u001b[0mplt\u001b[0m\u001b[0;34m.\u001b[0m\u001b[0mfigure\u001b[0m\u001b[0;34m(\u001b[0m\u001b[0mfigsize\u001b[0m\u001b[0;34m=\u001b[0m\u001b[0;34m(\u001b[0m\u001b[0;36m14\u001b[0m\u001b[0;34m,\u001b[0m\u001b[0;36m8\u001b[0m\u001b[0;34m)\u001b[0m\u001b[0;34m)\u001b[0m\u001b[0;34m\u001b[0m\u001b[0;34m\u001b[0m\u001b[0m\n\u001b[0;32m----> 3\u001b[0;31m \u001b[0mto_plot\u001b[0m \u001b[0;34m=\u001b[0m \u001b[0mnp\u001b[0m\u001b[0;34m.\u001b[0m\u001b[0mwhere\u001b[0m\u001b[0;34m(\u001b[0m\u001b[0mnp\u001b[0m\u001b[0;34m.\u001b[0m\u001b[0mall\u001b[0m\u001b[0;34m(\u001b[0m\u001b[0mF_res_filt\u001b[0m\u001b[0;34m.\u001b[0m\u001b[0mflags\u001b[0m\u001b[0;34m[\u001b[0m\u001b[0mexample_bl\u001b[0m\u001b[0;34m]\u001b[0m\u001b[0;34m,\u001b[0m \u001b[0maxis\u001b[0m\u001b[0;34m=\u001b[0m\u001b[0;36m1\u001b[0m\u001b[0;34m,\u001b[0m \u001b[0mkeepdims\u001b[0m\u001b[0;34m=\u001b[0m\u001b[0;32mTrue\u001b[0m\u001b[0;34m)\u001b[0m\u001b[0;34m,\u001b[0m \u001b[0mnp\u001b[0m\u001b[0;34m.\u001b[0m\u001b[0mnan\u001b[0m\u001b[0;34m,\u001b[0m \u001b[0mnp\u001b[0m\u001b[0;34m.\u001b[0m\u001b[0mreal\u001b[0m\u001b[0;34m(\u001b[0m\u001b[0mF_res_filt\u001b[0m\u001b[0;34m.\u001b[0m\u001b[0mdfft\u001b[0m\u001b[0;34m[\u001b[0m\u001b[0mexample_bl\u001b[0m\u001b[0;34m]\u001b[0m\u001b[0;34m)\u001b[0m\u001b[0;34m)\u001b[0m\u001b[0;34m\u001b[0m\u001b[0;34m\u001b[0m\u001b[0m\n\u001b[0m\u001b[1;32m      4\u001b[0m plt.imshow(to_plot, interpolation='none', aspect='auto', cmap='bwr', norm=sym_log_norm(to_plot),\n\u001b[1;32m      5\u001b[0m            extent=[F_res_filt.delays[0], F_res_filt.delays[-1], lsts_unwrapped[-1], lsts_unwrapped[0]])\n",
      "\u001b[0;31mAttributeError\u001b[0m: 'FRFilter' object has no attribute 'flags'"
     ]
    },
    {
     "data": {
      "text/plain": [
       "<Figure size 1008x576 with 0 Axes>"
      ]
     },
     "metadata": {},
     "output_type": "display_data"
    }
   ],
   "source": [
    "# plot in delay space\n",
    "plt.figure(figsize=(14,8))\n",
    "to_plot = np.where(np.all(F_res_filt.flags[example_bl], axis=1, keepdims=True), np.nan, np.real(F_res_filt.dfft[example_bl]))\n",
    "plt.imshow(to_plot, interpolation='none', aspect='auto', cmap='bwr', norm=sym_log_norm(to_plot),\n",
    "           extent=[F_res_filt.delays[0], F_res_filt.delays[-1], lsts_unwrapped[-1], lsts_unwrapped[0]])\n",
    "plt.xlim([-2000, 2000])\n",
    "plt.xlabel('Delay (ns)')\n",
    "plt.ylabel('LST (hours)')\n",
    "plt.colorbar(label=r'Re$[\\widetilde{V}_{ij}]$ (Jy Hz)')\n",
    "plt.title(f'Final Calibrated, DPSS Residual, DPSS Crosstalk Filtered Visibility: {example_bl}')\n",
    "delay_lines(plt.gca(), horizons[example_bl], delay_filter_half_width[example_bl])\n",
    "plt.legend()\n",
    "plt.tight_layout()"
   ]
  },
  {
   "cell_type": "markdown",
   "id": "67bc408b",
   "metadata": {
    "ExecuteTime": {
     "end_time": "2022-04-27T02:22:09.258011Z",
     "start_time": "2022-04-27T02:21:55.247112Z"
    }
   },
   "source": [
    "### Figure 7b: Real Part of DPSS-Residual Example Waterfall After Crosstalk Filtering in Delay Space"
   ]
  },
  {
   "cell_type": "code",
   "execution_count": 33,
   "id": "3cb31096",
   "metadata": {
    "ExecuteTime": {
     "start_time": "2022-04-29T19:45:42.850Z"
    },
    "execution": {
     "iopub.execute_input": "2022-05-28T21:45:50.032939Z",
     "iopub.status.busy": "2022-05-28T21:45:50.032119Z",
     "iopub.status.idle": "2022-05-28T21:45:50.043611Z",
     "shell.execute_reply": "2022-05-28T21:45:50.044292Z"
    }
   },
   "outputs": [
    {
     "ename": "AttributeError",
     "evalue": "'FRFilter' object has no attribute 'delays'",
     "output_type": "error",
     "traceback": [
      "\u001b[0;31m---------------------------------------------------------------------------\u001b[0m",
      "\u001b[0;31mAttributeError\u001b[0m                            Traceback (most recent call last)",
      "\u001b[0;32m/tmp/ipykernel_10595/2345670922.py\u001b[0m in \u001b[0;36m<module>\u001b[0;34m\u001b[0m\n\u001b[1;32m      1\u001b[0m \u001b[0;31m# plot in delay space and FR space\u001b[0m\u001b[0;34m\u001b[0m\u001b[0;34m\u001b[0m\u001b[0m\n\u001b[0;32m----> 2\u001b[0;31m \u001b[0mextent\u001b[0m \u001b[0;34m=\u001b[0m \u001b[0;34m[\u001b[0m\u001b[0mF_res_filt\u001b[0m\u001b[0;34m.\u001b[0m\u001b[0mdelays\u001b[0m\u001b[0;34m[\u001b[0m\u001b[0;36m0\u001b[0m\u001b[0;34m]\u001b[0m\u001b[0;34m,\u001b[0m \u001b[0mF_res_filt\u001b[0m\u001b[0;34m.\u001b[0m\u001b[0mdelays\u001b[0m\u001b[0;34m[\u001b[0m\u001b[0;34m-\u001b[0m\u001b[0;36m1\u001b[0m\u001b[0;34m]\u001b[0m\u001b[0;34m,\u001b[0m \u001b[0mF_res_filt\u001b[0m\u001b[0;34m.\u001b[0m\u001b[0mfrates\u001b[0m\u001b[0;34m[\u001b[0m\u001b[0;34m-\u001b[0m\u001b[0;36m1\u001b[0m\u001b[0;34m]\u001b[0m\u001b[0;34m,\u001b[0m \u001b[0mF_res_filt\u001b[0m\u001b[0;34m.\u001b[0m\u001b[0mfrates\u001b[0m\u001b[0;34m[\u001b[0m\u001b[0;36m0\u001b[0m\u001b[0;34m]\u001b[0m\u001b[0;34m]\u001b[0m\u001b[0;34m\u001b[0m\u001b[0;34m\u001b[0m\u001b[0m\n\u001b[0m\u001b[1;32m      3\u001b[0m \u001b[0mplt\u001b[0m\u001b[0;34m.\u001b[0m\u001b[0mfigure\u001b[0m\u001b[0;34m(\u001b[0m\u001b[0mfigsize\u001b[0m\u001b[0;34m=\u001b[0m\u001b[0;34m(\u001b[0m\u001b[0;36m14\u001b[0m\u001b[0;34m,\u001b[0m\u001b[0;36m8\u001b[0m\u001b[0;34m)\u001b[0m\u001b[0;34m)\u001b[0m\u001b[0;34m\u001b[0m\u001b[0;34m\u001b[0m\u001b[0m\n\u001b[1;32m      4\u001b[0m plt.imshow(np.abs(F_res_filt.xdfft2[example_bl]), aspect='auto', interpolation='none', \n\u001b[1;32m      5\u001b[0m            norm=matplotlib.colors.LogNorm(), cmap='jet', extent=extent)\n",
      "\u001b[0;31mAttributeError\u001b[0m: 'FRFilter' object has no attribute 'delays'"
     ]
    }
   ],
   "source": [
    "# plot in delay space and FR space\n",
    "extent = [F_res_filt.delays[0], F_res_filt.delays[-1], F_res_filt.frates[-1], F_res_filt.frates[0]]\n",
    "plt.figure(figsize=(14,8))\n",
    "plt.imshow(np.abs(F_res_filt.xdfft2[example_bl]), aspect='auto', interpolation='none', \n",
    "           norm=matplotlib.colors.LogNorm(), cmap='jet', extent=extent)\n",
    "plt.colorbar(label='$|\\widetilde{V}_{ij}|$ (Jy)')\n",
    "plt.xlabel('Delay (ns)')\n",
    "plt.xlim([-2000, 2000])\n",
    "plt.ylim([-5, 5])\n",
    "plt.ylabel('Fringe Rate (mHz)')\n",
    "plt.title(f'Final Calibrated, DPSS Residual, DPSS Crosstalk Filtered, and CLEAN Inpainted (in Time): {example_bl}')\n",
    "delay_lines(plt.gca(), horizons[example_bl], delay_filter_half_width[example_bl])\n",
    "fr_lines(plt.gca(), frf_half_width[example_bl])\n",
    "plt.legend()\n",
    "plt.tight_layout()"
   ]
  },
  {
   "cell_type": "markdown",
   "id": "41808a16",
   "metadata": {},
   "source": [
    "### Figure 7c: Magnitude of DPSS-Residual Example Waterfall After Crosstalk Filtering in Fringe-Rate / Delay Space"
   ]
  },
  {
   "cell_type": "markdown",
   "id": "6ad3352c",
   "metadata": {},
   "source": [
    "## Compare Incoherently Averaged Delay Spectra"
   ]
  },
  {
   "cell_type": "code",
   "execution_count": 34,
   "id": "fee121bd",
   "metadata": {
    "ExecuteTime": {
     "start_time": "2022-04-29T19:45:42.851Z"
    },
    "execution": {
     "iopub.execute_input": "2022-05-28T21:45:50.047177Z",
     "iopub.status.busy": "2022-05-28T21:45:50.046388Z",
     "iopub.status.idle": "2022-05-28T21:45:50.057731Z",
     "shell.execute_reply": "2022-05-28T21:45:50.058341Z"
    }
   },
   "outputs": [
    {
     "ename": "AttributeError",
     "evalue": "'FRFilter' object has no attribute 'dfft'",
     "output_type": "error",
     "traceback": [
      "\u001b[0;31m---------------------------------------------------------------------------\u001b[0m",
      "\u001b[0;31mAttributeError\u001b[0m                            Traceback (most recent call last)",
      "\u001b[0;32m/tmp/ipykernel_10595/3957943252.py\u001b[0m in \u001b[0;36m<module>\u001b[0;34m\u001b[0m\n\u001b[1;32m      9\u001b[0m \u001b[0;34m\u001b[0m\u001b[0m\n\u001b[1;32m     10\u001b[0m \u001b[0;31m# Calculate incoherently time-averaged delay spectra\u001b[0m\u001b[0;34m\u001b[0m\u001b[0;34m\u001b[0m\u001b[0m\n\u001b[0;32m---> 11\u001b[0;31m \u001b[0mavg_norm_filled_spectra\u001b[0m \u001b[0;34m=\u001b[0m \u001b[0mcalculate_avg_norm_spectra\u001b[0m\u001b[0;34m(\u001b[0m\u001b[0mF_filled\u001b[0m\u001b[0;34m.\u001b[0m\u001b[0mdfft\u001b[0m\u001b[0;34m,\u001b[0m \u001b[0mF_filled\u001b[0m\u001b[0;34m.\u001b[0m\u001b[0mflags\u001b[0m\u001b[0;34m,\u001b[0m \u001b[0mF_filled\u001b[0m\u001b[0;34m.\u001b[0m\u001b[0mnsamples\u001b[0m\u001b[0;34m)\u001b[0m\u001b[0;34m\u001b[0m\u001b[0;34m\u001b[0m\u001b[0m\n\u001b[0m\u001b[1;32m     12\u001b[0m \u001b[0mavg_norm_res_spectra\u001b[0m \u001b[0;34m=\u001b[0m \u001b[0mcalculate_avg_norm_spectra\u001b[0m\u001b[0;34m(\u001b[0m\u001b[0mF_res\u001b[0m\u001b[0;34m.\u001b[0m\u001b[0mdfft\u001b[0m\u001b[0;34m,\u001b[0m \u001b[0mF_res\u001b[0m\u001b[0;34m.\u001b[0m\u001b[0mflags\u001b[0m\u001b[0;34m,\u001b[0m \u001b[0mF_res\u001b[0m\u001b[0;34m.\u001b[0m\u001b[0mnsamples\u001b[0m\u001b[0;34m)\u001b[0m\u001b[0;34m\u001b[0m\u001b[0;34m\u001b[0m\u001b[0m\n\u001b[1;32m     13\u001b[0m \u001b[0mavg_norm_res_filt_spectra\u001b[0m \u001b[0;34m=\u001b[0m \u001b[0mcalculate_avg_norm_spectra\u001b[0m\u001b[0;34m(\u001b[0m\u001b[0mF_res_filt\u001b[0m\u001b[0;34m.\u001b[0m\u001b[0mdfft\u001b[0m\u001b[0;34m,\u001b[0m \u001b[0mF_res_filt\u001b[0m\u001b[0;34m.\u001b[0m\u001b[0mflags\u001b[0m\u001b[0;34m,\u001b[0m \u001b[0mF_res_filt\u001b[0m\u001b[0;34m.\u001b[0m\u001b[0mnsamples\u001b[0m\u001b[0;34m)\u001b[0m\u001b[0;34m\u001b[0m\u001b[0;34m\u001b[0m\u001b[0m\n",
      "\u001b[0;31mAttributeError\u001b[0m: 'FRFilter' object has no attribute 'dfft'"
     ]
    }
   ],
   "source": [
    "def calculate_avg_norm_spectra(dfft, flags, nsamples):\n",
    "    '''Calculates incoherently-averaged spectrum, using ses flags and frequency-averaged nsamples as weights.'''\n",
    "    avg_norm_spectra = {}\n",
    "    for bl in dfft:\n",
    "        if bl[0] != bl[1]:        \n",
    "            wgts = np.where(np.all(flags[bl], axis=1, keepdims=True), np.nan, np.sum(nsamples[bl], axis=1, keepdims=True))\n",
    "            avg_norm_spectra[bl] = np.nanmean(np.where(np.all(flags[bl], axis=1, keepdims=True), np.nan, np.abs(dfft[bl]) * wgts), axis=0) / np.nanmean(wgts)\n",
    "    return avg_norm_spectra\n",
    "\n",
    "# Calculate incoherently time-averaged delay spectra\n",
    "avg_norm_filled_spectra = calculate_avg_norm_spectra(F_filled.dfft, F_filled.flags, F_filled.nsamples)\n",
    "avg_norm_res_spectra = calculate_avg_norm_spectra(F_res.dfft, F_res.flags, F_res.nsamples)\n",
    "avg_norm_res_filt_spectra = calculate_avg_norm_spectra(F_res_filt.dfft, F_res_filt.flags, F_res_filt.nsamples)"
   ]
  },
  {
   "cell_type": "code",
   "execution_count": 35,
   "id": "d3d838b7",
   "metadata": {
    "ExecuteTime": {
     "start_time": "2022-04-29T19:45:42.852Z"
    },
    "execution": {
     "iopub.execute_input": "2022-05-28T21:45:50.060972Z",
     "iopub.status.busy": "2022-05-28T21:45:50.060149Z",
     "iopub.status.idle": "2022-05-28T21:45:51.017394Z",
     "shell.execute_reply": "2022-05-28T21:45:51.018043Z"
    }
   },
   "outputs": [
    {
     "ename": "NameError",
     "evalue": "name 'avg_norm_filled_spectra' is not defined",
     "output_type": "error",
     "traceback": [
      "\u001b[0;31m---------------------------------------------------------------------------\u001b[0m",
      "\u001b[0;31mNameError\u001b[0m                                 Traceback (most recent call last)",
      "\u001b[0;32m/tmp/ipykernel_10595/1271558106.py\u001b[0m in \u001b[0;36m<module>\u001b[0;34m\u001b[0m\n\u001b[1;32m      1\u001b[0m \u001b[0;31m# Plot all incoherently time-averaged delay spectra\u001b[0m\u001b[0;34m\u001b[0m\u001b[0;34m\u001b[0m\u001b[0m\n\u001b[1;32m      2\u001b[0m \u001b[0mfig\u001b[0m\u001b[0;34m,\u001b[0m \u001b[0maxes\u001b[0m \u001b[0;34m=\u001b[0m \u001b[0mplt\u001b[0m\u001b[0;34m.\u001b[0m\u001b[0msubplots\u001b[0m\u001b[0;34m(\u001b[0m\u001b[0;36m6\u001b[0m\u001b[0;34m,\u001b[0m \u001b[0;36m2\u001b[0m\u001b[0;34m,\u001b[0m \u001b[0mfigsize\u001b[0m\u001b[0;34m=\u001b[0m\u001b[0;34m(\u001b[0m\u001b[0;36m14\u001b[0m\u001b[0;34m,\u001b[0m\u001b[0;36m16\u001b[0m\u001b[0;34m)\u001b[0m\u001b[0;34m,\u001b[0m \u001b[0msharex\u001b[0m\u001b[0;34m=\u001b[0m\u001b[0;32mTrue\u001b[0m\u001b[0;34m,\u001b[0m \u001b[0msharey\u001b[0m\u001b[0;34m=\u001b[0m\u001b[0;32mTrue\u001b[0m\u001b[0;34m,\u001b[0m \u001b[0mgridspec_kw\u001b[0m\u001b[0;34m=\u001b[0m\u001b[0;34m{\u001b[0m\u001b[0;34m'wspace'\u001b[0m\u001b[0;34m:\u001b[0m \u001b[0;36m0\u001b[0m\u001b[0;34m,\u001b[0m \u001b[0;34m'hspace'\u001b[0m\u001b[0;34m:\u001b[0m \u001b[0;36m0\u001b[0m\u001b[0;34m}\u001b[0m\u001b[0;34m)\u001b[0m\u001b[0;34m\u001b[0m\u001b[0;34m\u001b[0m\u001b[0m\n\u001b[0;32m----> 3\u001b[0;31m ylim = (np.min(np.array(list(avg_norm_filled_spectra.values()))) / 10, \n\u001b[0m\u001b[1;32m      4\u001b[0m         np.max(np.array(list(avg_norm_filled_spectra.values()))) * 2)\n\u001b[1;32m      5\u001b[0m \u001b[0;34m\u001b[0m\u001b[0m\n",
      "\u001b[0;31mNameError\u001b[0m: name 'avg_norm_filled_spectra' is not defined"
     ]
    },
    {
     "data": {
      "image/png": "[encoded data removed]",
      "text/plain": [
       "<Figure size 1008x1152 with 12 Axes>"
      ]
     },
     "metadata": {
      "image/png": {
       "height": 904,
       "width": 826
      },
      "needs_background": "light"
     },
     "output_type": "display_data"
    }
   ],
   "source": [
    "# Plot all incoherently time-averaged delay spectra\n",
    "fig, axes = plt.subplots(6, 2, figsize=(14,16), sharex=True, sharey=True, gridspec_kw={'wspace': 0, 'hspace': 0})\n",
    "ylim = (np.min(np.array(list(avg_norm_filled_spectra.values()))) / 10, \n",
    "        np.max(np.array(list(avg_norm_filled_spectra.values()))) * 2)\n",
    "\n",
    "for i, bl, ax in zip(range(len(avg_norm_filled_spectra)), avg_norm_filled_spectra, axes.flatten()):\n",
    "    ax.semilogy(F_filled.delays, avg_norm_filled_spectra[bl], label='DPSS Filled')\n",
    "    ax.semilogy(F_res.delays, avg_norm_res_spectra[bl], label='DPSS Residual')\n",
    "    ax.semilogy(F_res_filt.delays, avg_norm_res_filt_spectra[bl], label='DPSS Residual &\\nDPSS Crosstalk Filtered')    \n",
    "\n",
    "    ax.set_ylim(ylim)    \n",
    "    ax.set_xlabel('Delay (ns)')\n",
    "    \n",
    "    ax.set_xlim([-1999, 1999])\n",
    "    if i % 2 == 0:\n",
    "        ax.set_ylabel('$|\\\\tilde{V}_{ij}|$ (Jy Hz)')\n",
    "    \n",
    "    delay_lines(ax, horizons[bl], delay_filter_half_width[bl])\n",
    "    ax.legend(loc='upper left', title=bl)\n",
    "plt.tight_layout()"
   ]
  },
  {
   "cell_type": "markdown",
   "id": "e2e331fa",
   "metadata": {},
   "source": [
    "### Figure 8: Delay Spectra, Incoherently Averaged Over The Night, of All Baselines at All Three Stages of Filtering After Coherently"
   ]
  },
  {
   "cell_type": "markdown",
   "id": "eb8411a0",
   "metadata": {
    "ExecuteTime": {
     "end_time": "2022-04-27T05:35:56.274974Z",
     "start_time": "2022-04-27T05:35:56.272359Z"
    }
   },
   "source": [
    "## Examine Delay Spectra After Coherent Time-Averaging"
   ]
  },
  {
   "cell_type": "code",
   "execution_count": 36,
   "id": "67164db0",
   "metadata": {
    "ExecuteTime": {
     "start_time": "2022-04-29T19:45:42.853Z"
    },
    "execution": {
     "iopub.execute_input": "2022-05-28T21:45:51.021115Z",
     "iopub.status.busy": "2022-05-28T21:45:51.020206Z",
     "iopub.status.idle": "2022-05-28T21:45:51.032197Z",
     "shell.execute_reply": "2022-05-28T21:45:51.032773Z"
    }
   },
   "outputs": [
    {
     "ename": "AttributeError",
     "evalue": "'FRFilter' object has no attribute 'data'",
     "output_type": "error",
     "traceback": [
      "\u001b[0;31m---------------------------------------------------------------------------\u001b[0m",
      "\u001b[0;31mAttributeError\u001b[0m                            Traceback (most recent call last)",
      "\u001b[0;32m/tmp/ipykernel_10595/2744714345.py\u001b[0m in \u001b[0;36m<module>\u001b[0;34m\u001b[0m\n\u001b[1;32m      1\u001b[0m \u001b[0;31m# Perform time averaging\u001b[0m\u001b[0;34m\u001b[0m\u001b[0;34m\u001b[0m\u001b[0m\n\u001b[1;32m      2\u001b[0m \u001b[0;32mwith\u001b[0m \u001b[0mcontextlib\u001b[0m\u001b[0;34m.\u001b[0m\u001b[0mredirect_stdout\u001b[0m\u001b[0;34m(\u001b[0m\u001b[0;32mNone\u001b[0m\u001b[0;34m)\u001b[0m\u001b[0;34m:\u001b[0m\u001b[0;34m\u001b[0m\u001b[0;34m\u001b[0m\u001b[0m\n\u001b[0;32m----> 3\u001b[0;31m     F_filled.timeavg_data(F_filled.data, F_filled.times, lsts=F_filled.lsts, t_avg=214.0, flags=F_filled.flags, nsamples=F_filled.nsamples,\n\u001b[0m\u001b[1;32m      4\u001b[0m                           rephase=True, wgt_by_nsample=False, wgt_by_favg_nsample=True, overwrite=True)\n\u001b[1;32m      5\u001b[0m     F_res.timeavg_data(F_res.data, F_res.times, lsts=F_res.lsts, t_avg=214.0, flags=F_res.flags, nsamples=F_res.nsamples, \n",
      "\u001b[0;31mAttributeError\u001b[0m: 'FRFilter' object has no attribute 'data'"
     ]
    }
   ],
   "source": [
    "# Perform time averaging\n",
    "with contextlib.redirect_stdout(None):\n",
    "    F_filled.timeavg_data(F_filled.data, F_filled.times, lsts=F_filled.lsts, t_avg=214.0, flags=F_filled.flags, nsamples=F_filled.nsamples,\n",
    "                          rephase=True, wgt_by_nsample=False, wgt_by_favg_nsample=True, overwrite=True)\n",
    "    F_res.timeavg_data(F_res.data, F_res.times, lsts=F_res.lsts, t_avg=214.0, flags=F_res.flags, nsamples=F_res.nsamples, \n",
    "                       rephase=True, wgt_by_nsample=False, wgt_by_favg_nsample=True, overwrite=True)\n",
    "    F_res_filt.timeavg_data(F_res_filt.data, F_res_filt.times, lsts=F_res_filt.lsts, t_avg=214.0, flags=F_res_filt.flags, nsamples=F_res_filt.nsamples, \n",
    "                            rephase=True, wgt_by_nsample=False, wgt_by_favg_nsample=True, overwrite=True)"
   ]
  },
  {
   "cell_type": "code",
   "execution_count": 37,
   "id": "7b39910f",
   "metadata": {
    "ExecuteTime": {
     "start_time": "2022-04-29T19:45:42.853Z"
    },
    "execution": {
     "iopub.execute_input": "2022-05-28T21:45:51.035492Z",
     "iopub.status.busy": "2022-05-28T21:45:51.034714Z",
     "iopub.status.idle": "2022-05-28T21:45:51.044502Z",
     "shell.execute_reply": "2022-05-28T21:45:51.045107Z"
    }
   },
   "outputs": [
    {
     "ename": "AttributeError",
     "evalue": "'FRFilter' object has no attribute 'avg_times'",
     "output_type": "error",
     "traceback": [
      "\u001b[0;31m---------------------------------------------------------------------------\u001b[0m",
      "\u001b[0;31mAttributeError\u001b[0m                            Traceback (most recent call last)",
      "\u001b[0;32m/tmp/ipykernel_10595/1238294200.py\u001b[0m in \u001b[0;36m<module>\u001b[0;34m\u001b[0m\n\u001b[1;32m      1\u001b[0m \u001b[0;31m# Drop last integration, which will generally be smaller and make time grids not uniform\u001b[0m\u001b[0;34m\u001b[0m\u001b[0;34m\u001b[0m\u001b[0m\n\u001b[1;32m      2\u001b[0m \u001b[0;32mfor\u001b[0m \u001b[0mF\u001b[0m \u001b[0;32min\u001b[0m \u001b[0;34m[\u001b[0m\u001b[0mF_filled\u001b[0m\u001b[0;34m,\u001b[0m \u001b[0mF_res\u001b[0m\u001b[0;34m,\u001b[0m \u001b[0mF_res_filt\u001b[0m\u001b[0;34m]\u001b[0m\u001b[0;34m:\u001b[0m\u001b[0;34m\u001b[0m\u001b[0;34m\u001b[0m\u001b[0m\n\u001b[0;32m----> 3\u001b[0;31m     \u001b[0mF\u001b[0m\u001b[0;34m.\u001b[0m\u001b[0mavg_times\u001b[0m \u001b[0;34m=\u001b[0m \u001b[0mF\u001b[0m\u001b[0;34m.\u001b[0m\u001b[0mavg_times\u001b[0m\u001b[0;34m[\u001b[0m\u001b[0;34m:\u001b[0m\u001b[0;34m-\u001b[0m\u001b[0;36m1\u001b[0m\u001b[0;34m]\u001b[0m\u001b[0;34m\u001b[0m\u001b[0;34m\u001b[0m\u001b[0m\n\u001b[0m\u001b[1;32m      4\u001b[0m     \u001b[0mF\u001b[0m\u001b[0;34m.\u001b[0m\u001b[0mavg_lsts\u001b[0m \u001b[0;34m=\u001b[0m \u001b[0mF\u001b[0m\u001b[0;34m.\u001b[0m\u001b[0mavg_lsts\u001b[0m\u001b[0;34m[\u001b[0m\u001b[0;34m:\u001b[0m\u001b[0;34m-\u001b[0m\u001b[0;36m1\u001b[0m\u001b[0;34m]\u001b[0m\u001b[0;34m\u001b[0m\u001b[0;34m\u001b[0m\u001b[0m\n\u001b[1;32m      5\u001b[0m     \u001b[0;32mfor\u001b[0m \u001b[0mbl\u001b[0m \u001b[0;32min\u001b[0m \u001b[0mF\u001b[0m\u001b[0;34m.\u001b[0m\u001b[0mavg_data\u001b[0m\u001b[0;34m:\u001b[0m\u001b[0;34m\u001b[0m\u001b[0;34m\u001b[0m\u001b[0m\n",
      "\u001b[0;31mAttributeError\u001b[0m: 'FRFilter' object has no attribute 'avg_times'"
     ]
    }
   ],
   "source": [
    "# Drop last integration, which will generally be smaller and make time grids not uniform\n",
    "for F in [F_filled, F_res, F_res_filt]:\n",
    "    F.avg_times = F.avg_times[:-1]\n",
    "    F.avg_lsts = F.avg_lsts[:-1]\n",
    "    for bl in F.avg_data:\n",
    "        F.avg_data[bl] = F.avg_data[bl][:-1, :]\n",
    "        F.avg_flags[bl] = F.avg_flags[bl][:-1, :]\n",
    "        F.avg_nsamples[bl] = F.avg_nsamples[bl][:-1, :]              "
   ]
  },
  {
   "cell_type": "code",
   "execution_count": 38,
   "id": "7b1fda06",
   "metadata": {
    "ExecuteTime": {
     "start_time": "2022-04-29T19:45:42.854Z"
    },
    "execution": {
     "iopub.execute_input": "2022-05-28T21:45:51.047860Z",
     "iopub.status.busy": "2022-05-28T21:45:51.047071Z",
     "iopub.status.idle": "2022-05-28T21:45:51.057576Z",
     "shell.execute_reply": "2022-05-28T21:45:51.058173Z"
    }
   },
   "outputs": [
    {
     "ename": "AttributeError",
     "evalue": "'FRFilter' object has no attribute 'avg_data'",
     "output_type": "error",
     "traceback": [
      "\u001b[0;31m---------------------------------------------------------------------------\u001b[0m",
      "\u001b[0;31mAttributeError\u001b[0m                            Traceback (most recent call last)",
      "\u001b[0;32m/tmp/ipykernel_10595/1581929070.py\u001b[0m in \u001b[0;36m<module>\u001b[0;34m\u001b[0m\n\u001b[1;32m      1\u001b[0m \u001b[0;31m# Perform 1D FFTs\u001b[0m\u001b[0;34m\u001b[0m\u001b[0;34m\u001b[0m\u001b[0m\n\u001b[0;32m----> 2\u001b[0;31m \u001b[0mF_filled\u001b[0m\u001b[0;34m.\u001b[0m\u001b[0mfft_data\u001b[0m\u001b[0;34m(\u001b[0m\u001b[0mdata\u001b[0m\u001b[0;34m=\u001b[0m\u001b[0mF_filled\u001b[0m\u001b[0;34m.\u001b[0m\u001b[0mavg_data\u001b[0m\u001b[0;34m,\u001b[0m \u001b[0massign\u001b[0m\u001b[0;34m=\u001b[0m\u001b[0;34m'avg_dfft'\u001b[0m\u001b[0;34m,\u001b[0m \u001b[0max\u001b[0m\u001b[0;34m=\u001b[0m\u001b[0;34m'freq'\u001b[0m\u001b[0;34m,\u001b[0m \u001b[0mwindow\u001b[0m\u001b[0;34m=\u001b[0m\u001b[0;34m'bh'\u001b[0m\u001b[0;34m,\u001b[0m \u001b[0medgecut_low\u001b[0m\u001b[0;34m=\u001b[0m\u001b[0mecf_low\u001b[0m\u001b[0;34m,\u001b[0m \u001b[0medgecut_hi\u001b[0m\u001b[0;34m=\u001b[0m\u001b[0mecf_high\u001b[0m\u001b[0;34m,\u001b[0m \u001b[0moverwrite\u001b[0m\u001b[0;34m=\u001b[0m\u001b[0;32mTrue\u001b[0m\u001b[0;34m)\u001b[0m\u001b[0;34m\u001b[0m\u001b[0;34m\u001b[0m\u001b[0m\n\u001b[0m\u001b[1;32m      3\u001b[0m \u001b[0mF_res\u001b[0m\u001b[0;34m.\u001b[0m\u001b[0mfft_data\u001b[0m\u001b[0;34m(\u001b[0m\u001b[0mdata\u001b[0m\u001b[0;34m=\u001b[0m\u001b[0mF_res\u001b[0m\u001b[0;34m.\u001b[0m\u001b[0mavg_data\u001b[0m\u001b[0;34m,\u001b[0m \u001b[0massign\u001b[0m\u001b[0;34m=\u001b[0m\u001b[0;34m'avg_dfft'\u001b[0m\u001b[0;34m,\u001b[0m \u001b[0max\u001b[0m\u001b[0;34m=\u001b[0m\u001b[0;34m'freq'\u001b[0m\u001b[0;34m,\u001b[0m \u001b[0mwindow\u001b[0m\u001b[0;34m=\u001b[0m\u001b[0;34m'bh'\u001b[0m\u001b[0;34m,\u001b[0m \u001b[0medgecut_low\u001b[0m\u001b[0;34m=\u001b[0m\u001b[0mecf_low\u001b[0m\u001b[0;34m,\u001b[0m \u001b[0medgecut_hi\u001b[0m\u001b[0;34m=\u001b[0m\u001b[0mecf_high\u001b[0m\u001b[0;34m,\u001b[0m \u001b[0moverwrite\u001b[0m\u001b[0;34m=\u001b[0m\u001b[0;32mTrue\u001b[0m\u001b[0;34m)\u001b[0m\u001b[0;34m\u001b[0m\u001b[0;34m\u001b[0m\u001b[0m\n\u001b[1;32m      4\u001b[0m \u001b[0mF_res_filt\u001b[0m\u001b[0;34m.\u001b[0m\u001b[0mfft_data\u001b[0m\u001b[0;34m(\u001b[0m\u001b[0mdata\u001b[0m\u001b[0;34m=\u001b[0m\u001b[0mF_res_filt\u001b[0m\u001b[0;34m.\u001b[0m\u001b[0mavg_data\u001b[0m\u001b[0;34m,\u001b[0m \u001b[0massign\u001b[0m\u001b[0;34m=\u001b[0m\u001b[0;34m'avg_dfft'\u001b[0m\u001b[0;34m,\u001b[0m \u001b[0max\u001b[0m\u001b[0;34m=\u001b[0m\u001b[0;34m'freq'\u001b[0m\u001b[0;34m,\u001b[0m \u001b[0mwindow\u001b[0m\u001b[0;34m=\u001b[0m\u001b[0;34m'bh'\u001b[0m\u001b[0;34m,\u001b[0m \u001b[0medgecut_low\u001b[0m\u001b[0;34m=\u001b[0m\u001b[0mecf_low\u001b[0m\u001b[0;34m,\u001b[0m \u001b[0medgecut_hi\u001b[0m\u001b[0;34m=\u001b[0m\u001b[0mecf_high\u001b[0m\u001b[0;34m,\u001b[0m \u001b[0moverwrite\u001b[0m\u001b[0;34m=\u001b[0m\u001b[0;32mTrue\u001b[0m\u001b[0;34m)\u001b[0m\u001b[0;34m\u001b[0m\u001b[0;34m\u001b[0m\u001b[0m\n",
      "\u001b[0;31mAttributeError\u001b[0m: 'FRFilter' object has no attribute 'avg_data'"
     ]
    }
   ],
   "source": [
    "# Perform 1D FFTs\n",
    "F_filled.fft_data(data=F_filled.avg_data, assign='avg_dfft', ax='freq', window='bh', edgecut_low=ecf_low, edgecut_hi=ecf_high, overwrite=True)\n",
    "F_res.fft_data(data=F_res.avg_data, assign='avg_dfft', ax='freq', window='bh', edgecut_low=ecf_low, edgecut_hi=ecf_high, overwrite=True)\n",
    "F_res_filt.fft_data(data=F_res_filt.avg_data, assign='avg_dfft', ax='freq', window='bh', edgecut_low=ecf_low, edgecut_hi=ecf_high, overwrite=True)"
   ]
  },
  {
   "cell_type": "code",
   "execution_count": 39,
   "id": "a0680fc1",
   "metadata": {
    "ExecuteTime": {
     "start_time": "2022-04-29T19:45:42.855Z"
    },
    "execution": {
     "iopub.execute_input": "2022-05-28T21:45:51.060898Z",
     "iopub.status.busy": "2022-05-28T21:45:51.060043Z",
     "iopub.status.idle": "2022-05-28T21:45:51.069024Z",
     "shell.execute_reply": "2022-05-28T21:45:51.069665Z"
    }
   },
   "outputs": [
    {
     "ename": "AttributeError",
     "evalue": "'FRFilter' object has no attribute 'avg_dfft'",
     "output_type": "error",
     "traceback": [
      "\u001b[0;31m---------------------------------------------------------------------------\u001b[0m",
      "\u001b[0;31mAttributeError\u001b[0m                            Traceback (most recent call last)",
      "\u001b[0;32m/tmp/ipykernel_10595/4272952606.py\u001b[0m in \u001b[0;36m<module>\u001b[0;34m\u001b[0m\n\u001b[1;32m      1\u001b[0m \u001b[0;31m# Calculate incoherently time-averaged delay spectra\u001b[0m\u001b[0;34m\u001b[0m\u001b[0;34m\u001b[0m\u001b[0m\n\u001b[0;32m----> 2\u001b[0;31m \u001b[0mavg_norm_filled_spectra\u001b[0m \u001b[0;34m=\u001b[0m \u001b[0mcalculate_avg_norm_spectra\u001b[0m\u001b[0;34m(\u001b[0m\u001b[0mF_filled\u001b[0m\u001b[0;34m.\u001b[0m\u001b[0mavg_dfft\u001b[0m\u001b[0;34m,\u001b[0m \u001b[0mF_filled\u001b[0m\u001b[0;34m.\u001b[0m\u001b[0mavg_flags\u001b[0m\u001b[0;34m,\u001b[0m \u001b[0mF_filled\u001b[0m\u001b[0;34m.\u001b[0m\u001b[0mavg_nsamples\u001b[0m\u001b[0;34m)\u001b[0m\u001b[0;34m\u001b[0m\u001b[0;34m\u001b[0m\u001b[0m\n\u001b[0m\u001b[1;32m      3\u001b[0m \u001b[0mavg_norm_res_spectra\u001b[0m \u001b[0;34m=\u001b[0m \u001b[0mcalculate_avg_norm_spectra\u001b[0m\u001b[0;34m(\u001b[0m\u001b[0mF_res\u001b[0m\u001b[0;34m.\u001b[0m\u001b[0mavg_dfft\u001b[0m\u001b[0;34m,\u001b[0m \u001b[0mF_res\u001b[0m\u001b[0;34m.\u001b[0m\u001b[0mavg_flags\u001b[0m\u001b[0;34m,\u001b[0m \u001b[0mF_res\u001b[0m\u001b[0;34m.\u001b[0m\u001b[0mavg_nsamples\u001b[0m\u001b[0;34m)\u001b[0m\u001b[0;34m\u001b[0m\u001b[0;34m\u001b[0m\u001b[0m\n\u001b[1;32m      4\u001b[0m \u001b[0mavg_norm_res_filt_spectra\u001b[0m \u001b[0;34m=\u001b[0m \u001b[0mcalculate_avg_norm_spectra\u001b[0m\u001b[0;34m(\u001b[0m\u001b[0mF_res_filt\u001b[0m\u001b[0;34m.\u001b[0m\u001b[0mavg_dfft\u001b[0m\u001b[0;34m,\u001b[0m \u001b[0mF_res_filt\u001b[0m\u001b[0;34m.\u001b[0m\u001b[0mavg_flags\u001b[0m\u001b[0;34m,\u001b[0m \u001b[0mF_res_filt\u001b[0m\u001b[0;34m.\u001b[0m\u001b[0mavg_nsamples\u001b[0m\u001b[0;34m)\u001b[0m\u001b[0;34m\u001b[0m\u001b[0;34m\u001b[0m\u001b[0m\n",
      "\u001b[0;31mAttributeError\u001b[0m: 'FRFilter' object has no attribute 'avg_dfft'"
     ]
    }
   ],
   "source": [
    "# Calculate incoherently time-averaged delay spectra\n",
    "avg_norm_filled_spectra = calculate_avg_norm_spectra(F_filled.avg_dfft, F_filled.avg_flags, F_filled.avg_nsamples)\n",
    "avg_norm_res_spectra = calculate_avg_norm_spectra(F_res.avg_dfft, F_res.avg_flags, F_res.avg_nsamples)\n",
    "avg_norm_res_filt_spectra = calculate_avg_norm_spectra(F_res_filt.avg_dfft, F_res_filt.avg_flags, F_res_filt.avg_nsamples)"
   ]
  },
  {
   "cell_type": "code",
   "execution_count": 40,
   "id": "c0ec1521",
   "metadata": {
    "ExecuteTime": {
     "start_time": "2022-04-29T19:45:42.856Z"
    },
    "execution": {
     "iopub.execute_input": "2022-05-28T21:45:51.072489Z",
     "iopub.status.busy": "2022-05-28T21:45:51.071652Z",
     "iopub.status.idle": "2022-05-28T21:45:52.117549Z",
     "shell.execute_reply": "2022-05-28T21:45:52.118160Z"
    }
   },
   "outputs": [
    {
     "ename": "NameError",
     "evalue": "name 'avg_norm_filled_spectra' is not defined",
     "output_type": "error",
     "traceback": [
      "\u001b[0;31m---------------------------------------------------------------------------\u001b[0m",
      "\u001b[0;31mNameError\u001b[0m                                 Traceback (most recent call last)",
      "\u001b[0;32m/tmp/ipykernel_10595/1049835835.py\u001b[0m in \u001b[0;36m<module>\u001b[0;34m\u001b[0m\n\u001b[1;32m      1\u001b[0m \u001b[0;31m# Plot all incoherently time-averaged delay spectra\u001b[0m\u001b[0;34m\u001b[0m\u001b[0;34m\u001b[0m\u001b[0m\n\u001b[1;32m      2\u001b[0m \u001b[0mfig\u001b[0m\u001b[0;34m,\u001b[0m \u001b[0maxes\u001b[0m \u001b[0;34m=\u001b[0m \u001b[0mplt\u001b[0m\u001b[0;34m.\u001b[0m\u001b[0msubplots\u001b[0m\u001b[0;34m(\u001b[0m\u001b[0;36m6\u001b[0m\u001b[0;34m,\u001b[0m \u001b[0;36m2\u001b[0m\u001b[0;34m,\u001b[0m \u001b[0mfigsize\u001b[0m\u001b[0;34m=\u001b[0m\u001b[0;34m(\u001b[0m\u001b[0;36m14\u001b[0m\u001b[0;34m,\u001b[0m\u001b[0;36m16\u001b[0m\u001b[0;34m)\u001b[0m\u001b[0;34m,\u001b[0m \u001b[0msharex\u001b[0m\u001b[0;34m=\u001b[0m\u001b[0;32mTrue\u001b[0m\u001b[0;34m,\u001b[0m \u001b[0msharey\u001b[0m\u001b[0;34m=\u001b[0m\u001b[0;32mTrue\u001b[0m\u001b[0;34m,\u001b[0m \u001b[0mgridspec_kw\u001b[0m\u001b[0;34m=\u001b[0m\u001b[0;34m{\u001b[0m\u001b[0;34m'wspace'\u001b[0m\u001b[0;34m:\u001b[0m \u001b[0;36m0\u001b[0m\u001b[0;34m,\u001b[0m \u001b[0;34m'hspace'\u001b[0m\u001b[0;34m:\u001b[0m \u001b[0;36m0\u001b[0m\u001b[0;34m}\u001b[0m\u001b[0;34m)\u001b[0m\u001b[0;34m\u001b[0m\u001b[0;34m\u001b[0m\u001b[0m\n\u001b[0;32m----> 3\u001b[0;31m ylim = (np.min(np.array(list(avg_norm_filled_spectra.values()))) / 10, \n\u001b[0m\u001b[1;32m      4\u001b[0m         np.max(np.array(list(avg_norm_filled_spectra.values()))) * 2)\n\u001b[1;32m      5\u001b[0m \u001b[0;34m\u001b[0m\u001b[0m\n",
      "\u001b[0;31mNameError\u001b[0m: name 'avg_norm_filled_spectra' is not defined"
     ]
    },
    {
     "data": {
      "image/png": "[encoded data removed]",
      "text/plain": [
       "<Figure size 1008x1152 with 12 Axes>"
      ]
     },
     "metadata": {
      "image/png": {
       "height": 904,
       "width": 826
      },
      "needs_background": "light"
     },
     "output_type": "display_data"
    }
   ],
   "source": [
    "# Plot all incoherently time-averaged delay spectra\n",
    "fig, axes = plt.subplots(6, 2, figsize=(14,16), sharex=True, sharey=True, gridspec_kw={'wspace': 0, 'hspace': 0})\n",
    "ylim = (np.min(np.array(list(avg_norm_filled_spectra.values()))) / 10, \n",
    "        np.max(np.array(list(avg_norm_filled_spectra.values()))) * 2)\n",
    "\n",
    "for i, bl, ax in zip(range(len(avg_norm_filled_spectra)), avg_norm_filled_spectra, axes.flatten()):\n",
    "    ax.semilogy(F_filled.delays, avg_norm_filled_spectra[bl], label='DPSS Filled')\n",
    "    ax.semilogy(F_res.delays, avg_norm_res_spectra[bl], label='DPSS Residual')\n",
    "    ax.semilogy(F_res_filt.delays, avg_norm_res_filt_spectra[bl], label='DPSS Residual &\\nDPSS Crosstalk Filtered')    \n",
    "\n",
    "    ax.set_ylim(ylim)    \n",
    "    ax.set_xlabel('Delay (ns)')\n",
    "    \n",
    "    ax.set_xlim([-1999, 1999])\n",
    "    if i % 2 == 0:\n",
    "        ax.set_ylabel('$|\\\\tilde{V}_{ij}|$ (Jy Hz)')    \n",
    "    \n",
    "    delay_lines(ax, horizons[bl], delay_filter_half_width[bl])    \n",
    "    ax.legend(loc='upper left', title=bl)\n",
    "plt.tight_layout()"
   ]
  },
  {
   "cell_type": "markdown",
   "id": "976b2e9d",
   "metadata": {},
   "source": [
    "### Figure 9: Delay Spectra, Incoherently Averaged Over The Night, of All Baselines at All Three Stages of Filtering After Coherently Time-Averaging"
   ]
  },
  {
   "cell_type": "markdown",
   "id": "58fca0a6",
   "metadata": {
    "ExecuteTime": {
     "end_time": "2022-04-27T02:53:53.246605Z",
     "start_time": "2022-04-27T02:53:53.243149Z"
    }
   },
   "source": [
    "## Examine Delay Spectra After Forming Pseudo-Stokes I"
   ]
  },
  {
   "cell_type": "code",
   "execution_count": 41,
   "id": "41936979",
   "metadata": {
    "ExecuteTime": {
     "start_time": "2022-04-29T19:45:42.857Z"
    },
    "execution": {
     "iopub.execute_input": "2022-05-28T21:45:52.120995Z",
     "iopub.status.busy": "2022-05-28T21:45:52.120175Z",
     "iopub.status.idle": "2022-05-28T21:45:52.133133Z",
     "shell.execute_reply": "2022-05-28T21:45:52.133732Z"
    }
   },
   "outputs": [
    {
     "ename": "AttributeError",
     "evalue": "'FRFilter' object has no attribute 'avg_data'",
     "output_type": "error",
     "traceback": [
      "\u001b[0;31m---------------------------------------------------------------------------\u001b[0m",
      "\u001b[0;31mAttributeError\u001b[0m                            Traceback (most recent call last)",
      "\u001b[0;32m/tmp/ipykernel_10595/4271505872.py\u001b[0m in \u001b[0;36m<module>\u001b[0;34m\u001b[0m\n\u001b[1;32m      4\u001b[0m     \u001b[0mF\u001b[0m\u001b[0;34m.\u001b[0m\u001b[0mpseudo_I_flags\u001b[0m \u001b[0;34m=\u001b[0m \u001b[0mdatacontainer\u001b[0m\u001b[0;34m.\u001b[0m\u001b[0mDataContainer\u001b[0m\u001b[0;34m(\u001b[0m\u001b[0;34m{\u001b[0m\u001b[0;34m}\u001b[0m\u001b[0;34m)\u001b[0m\u001b[0;34m\u001b[0m\u001b[0;34m\u001b[0m\u001b[0m\n\u001b[1;32m      5\u001b[0m     \u001b[0mF\u001b[0m\u001b[0;34m.\u001b[0m\u001b[0mpseudo_I_nsamples\u001b[0m \u001b[0;34m=\u001b[0m \u001b[0mdatacontainer\u001b[0m\u001b[0;34m.\u001b[0m\u001b[0mDataContainer\u001b[0m\u001b[0;34m(\u001b[0m\u001b[0;34m{\u001b[0m\u001b[0;34m}\u001b[0m\u001b[0;34m)\u001b[0m\u001b[0;34m\u001b[0m\u001b[0;34m\u001b[0m\u001b[0m\n\u001b[0;32m----> 6\u001b[0;31m     \u001b[0;32mfor\u001b[0m \u001b[0mbl\u001b[0m \u001b[0;32min\u001b[0m \u001b[0mF\u001b[0m\u001b[0;34m.\u001b[0m\u001b[0mavg_data\u001b[0m\u001b[0;34m:\u001b[0m\u001b[0;34m\u001b[0m\u001b[0;34m\u001b[0m\u001b[0m\n\u001b[0m\u001b[1;32m      7\u001b[0m         \u001b[0mF\u001b[0m\u001b[0;34m.\u001b[0m\u001b[0mpseudo_I\u001b[0m\u001b[0;34m[\u001b[0m\u001b[0mbl\u001b[0m\u001b[0;34m[\u001b[0m\u001b[0;36m0\u001b[0m\u001b[0;34m]\u001b[0m\u001b[0;34m,\u001b[0m \u001b[0mbl\u001b[0m\u001b[0;34m[\u001b[0m\u001b[0;36m1\u001b[0m\u001b[0;34m]\u001b[0m\u001b[0;34m,\u001b[0m \u001b[0;34m'pI'\u001b[0m\u001b[0;34m]\u001b[0m \u001b[0;34m=\u001b[0m \u001b[0;36m0.5\u001b[0m \u001b[0;34m*\u001b[0m \u001b[0;34m(\u001b[0m\u001b[0mF\u001b[0m\u001b[0;34m.\u001b[0m\u001b[0mavg_data\u001b[0m\u001b[0;34m[\u001b[0m\u001b[0mbl\u001b[0m\u001b[0;34m[\u001b[0m\u001b[0;36m0\u001b[0m\u001b[0;34m]\u001b[0m\u001b[0;34m,\u001b[0m \u001b[0mbl\u001b[0m\u001b[0;34m[\u001b[0m\u001b[0;36m1\u001b[0m\u001b[0;34m]\u001b[0m\u001b[0;34m,\u001b[0m \u001b[0;34m'ee'\u001b[0m\u001b[0;34m]\u001b[0m \u001b[0;34m+\u001b[0m \u001b[0mF\u001b[0m\u001b[0;34m.\u001b[0m\u001b[0mavg_data\u001b[0m\u001b[0;34m[\u001b[0m\u001b[0mbl\u001b[0m\u001b[0;34m[\u001b[0m\u001b[0;36m0\u001b[0m\u001b[0;34m]\u001b[0m\u001b[0;34m,\u001b[0m \u001b[0mbl\u001b[0m\u001b[0;34m[\u001b[0m\u001b[0;36m1\u001b[0m\u001b[0;34m]\u001b[0m\u001b[0;34m,\u001b[0m \u001b[0;34m'nn'\u001b[0m\u001b[0;34m]\u001b[0m\u001b[0;34m)\u001b[0m\u001b[0;34m\u001b[0m\u001b[0;34m\u001b[0m\u001b[0m\n\u001b[1;32m      8\u001b[0m         \u001b[0mF\u001b[0m\u001b[0;34m.\u001b[0m\u001b[0mpseudo_I_flags\u001b[0m\u001b[0;34m[\u001b[0m\u001b[0mbl\u001b[0m\u001b[0;34m[\u001b[0m\u001b[0;36m0\u001b[0m\u001b[0;34m]\u001b[0m\u001b[0;34m,\u001b[0m \u001b[0mbl\u001b[0m\u001b[0;34m[\u001b[0m\u001b[0;36m1\u001b[0m\u001b[0;34m]\u001b[0m\u001b[0;34m,\u001b[0m \u001b[0;34m'pI'\u001b[0m\u001b[0;34m]\u001b[0m \u001b[0;34m=\u001b[0m \u001b[0mF\u001b[0m\u001b[0;34m.\u001b[0m\u001b[0mavg_flags\u001b[0m\u001b[0;34m[\u001b[0m\u001b[0mbl\u001b[0m\u001b[0;34m[\u001b[0m\u001b[0;36m0\u001b[0m\u001b[0;34m]\u001b[0m\u001b[0;34m,\u001b[0m \u001b[0mbl\u001b[0m\u001b[0;34m[\u001b[0m\u001b[0;36m1\u001b[0m\u001b[0;34m]\u001b[0m\u001b[0;34m,\u001b[0m \u001b[0;34m'ee'\u001b[0m\u001b[0;34m]\u001b[0m \u001b[0;34m|\u001b[0m \u001b[0mF\u001b[0m\u001b[0;34m.\u001b[0m\u001b[0mavg_flags\u001b[0m\u001b[0;34m[\u001b[0m\u001b[0mbl\u001b[0m\u001b[0;34m[\u001b[0m\u001b[0;36m0\u001b[0m\u001b[0;34m]\u001b[0m\u001b[0;34m,\u001b[0m \u001b[0mbl\u001b[0m\u001b[0;34m[\u001b[0m\u001b[0;36m1\u001b[0m\u001b[0;34m]\u001b[0m\u001b[0;34m,\u001b[0m \u001b[0;34m'nn'\u001b[0m\u001b[0;34m]\u001b[0m\u001b[0;34m\u001b[0m\u001b[0;34m\u001b[0m\u001b[0m\n",
      "\u001b[0;31mAttributeError\u001b[0m: 'FRFilter' object has no attribute 'avg_data'"
     ]
    }
   ],
   "source": [
    "# Form psuedo-stokes by averaging 'ee' and 'nn'\n",
    "for F in [F_filled, F_res, F_res_filt]:\n",
    "    F.pseudo_I = datacontainer.DataContainer({})\n",
    "    F.pseudo_I_flags = datacontainer.DataContainer({})\n",
    "    F.pseudo_I_nsamples = datacontainer.DataContainer({})    \n",
    "    for bl in F.avg_data:\n",
    "        F.pseudo_I[bl[0], bl[1], 'pI'] = 0.5 * (F.avg_data[bl[0], bl[1], 'ee'] + F.avg_data[bl[0], bl[1], 'nn'])\n",
    "        F.pseudo_I_flags[bl[0], bl[1], 'pI'] = F.avg_flags[bl[0], bl[1], 'ee'] | F.avg_flags[bl[0], bl[1], 'nn']\n",
    "        F.pseudo_I_nsamples[bl[0], bl[1], 'pI'] = .5 * F.avg_nsamples[bl[0], bl[1], 'ee'] + .5 * F.avg_nsamples[bl[0], bl[1], 'nn']        "
   ]
  },
  {
   "cell_type": "code",
   "execution_count": 42,
   "id": "9b30f82c",
   "metadata": {
    "ExecuteTime": {
     "start_time": "2022-04-29T19:45:42.858Z"
    },
    "execution": {
     "iopub.execute_input": "2022-05-28T21:45:52.136278Z",
     "iopub.status.busy": "2022-05-28T21:45:52.135506Z",
     "iopub.status.idle": "2022-05-28T21:45:52.147244Z",
     "shell.execute_reply": "2022-05-28T21:45:52.147876Z"
    }
   },
   "outputs": [
    {
     "ename": "ValueError",
     "evalue": "No keys found",
     "output_type": "error",
     "traceback": [
      "\u001b[0;31m---------------------------------------------------------------------------\u001b[0m",
      "\u001b[0;31mValueError\u001b[0m                                Traceback (most recent call last)",
      "\u001b[0;32m/tmp/ipykernel_10595/273562224.py\u001b[0m in \u001b[0;36m<module>\u001b[0;34m\u001b[0m\n\u001b[1;32m      1\u001b[0m \u001b[0;31m# FFT visibilities in 1D\u001b[0m\u001b[0;34m\u001b[0m\u001b[0;34m\u001b[0m\u001b[0m\n\u001b[0;32m----> 2\u001b[0;31m \u001b[0mF_filled\u001b[0m\u001b[0;34m.\u001b[0m\u001b[0mfft_data\u001b[0m\u001b[0;34m(\u001b[0m\u001b[0mdata\u001b[0m\u001b[0;34m=\u001b[0m\u001b[0mF_filled\u001b[0m\u001b[0;34m.\u001b[0m\u001b[0mpseudo_I\u001b[0m\u001b[0;34m,\u001b[0m \u001b[0massign\u001b[0m\u001b[0;34m=\u001b[0m\u001b[0;34m'pI_dfft'\u001b[0m\u001b[0;34m,\u001b[0m \u001b[0max\u001b[0m\u001b[0;34m=\u001b[0m\u001b[0;34m'freq'\u001b[0m\u001b[0;34m,\u001b[0m \u001b[0mwindow\u001b[0m\u001b[0;34m=\u001b[0m\u001b[0;34m'bh'\u001b[0m\u001b[0;34m,\u001b[0m \u001b[0medgecut_low\u001b[0m\u001b[0;34m=\u001b[0m\u001b[0mecf_low\u001b[0m\u001b[0;34m,\u001b[0m \u001b[0medgecut_hi\u001b[0m\u001b[0;34m=\u001b[0m\u001b[0mecf_high\u001b[0m\u001b[0;34m,\u001b[0m \u001b[0moverwrite\u001b[0m\u001b[0;34m=\u001b[0m\u001b[0;32mTrue\u001b[0m\u001b[0;34m)\u001b[0m\u001b[0;34m\u001b[0m\u001b[0;34m\u001b[0m\u001b[0m\n\u001b[0m\u001b[1;32m      3\u001b[0m \u001b[0mF_res\u001b[0m\u001b[0;34m.\u001b[0m\u001b[0mfft_data\u001b[0m\u001b[0;34m(\u001b[0m\u001b[0mdata\u001b[0m\u001b[0;34m=\u001b[0m\u001b[0mF_res\u001b[0m\u001b[0;34m.\u001b[0m\u001b[0mpseudo_I\u001b[0m\u001b[0;34m,\u001b[0m \u001b[0massign\u001b[0m\u001b[0;34m=\u001b[0m\u001b[0;34m'pI_dfft'\u001b[0m\u001b[0;34m,\u001b[0m \u001b[0max\u001b[0m\u001b[0;34m=\u001b[0m\u001b[0;34m'freq'\u001b[0m\u001b[0;34m,\u001b[0m \u001b[0mwindow\u001b[0m\u001b[0;34m=\u001b[0m\u001b[0;34m'bh'\u001b[0m\u001b[0;34m,\u001b[0m \u001b[0medgecut_low\u001b[0m\u001b[0;34m=\u001b[0m\u001b[0mecf_low\u001b[0m\u001b[0;34m,\u001b[0m \u001b[0medgecut_hi\u001b[0m\u001b[0;34m=\u001b[0m\u001b[0mecf_high\u001b[0m\u001b[0;34m,\u001b[0m \u001b[0moverwrite\u001b[0m\u001b[0;34m=\u001b[0m\u001b[0;32mTrue\u001b[0m\u001b[0;34m)\u001b[0m\u001b[0;34m\u001b[0m\u001b[0;34m\u001b[0m\u001b[0m\n\u001b[1;32m      4\u001b[0m \u001b[0mF_res_filt\u001b[0m\u001b[0;34m.\u001b[0m\u001b[0mfft_data\u001b[0m\u001b[0;34m(\u001b[0m\u001b[0mdata\u001b[0m\u001b[0;34m=\u001b[0m\u001b[0mF_res_filt\u001b[0m\u001b[0;34m.\u001b[0m\u001b[0mpseudo_I\u001b[0m\u001b[0;34m,\u001b[0m \u001b[0massign\u001b[0m\u001b[0;34m=\u001b[0m\u001b[0;34m'pI_dfft'\u001b[0m\u001b[0;34m,\u001b[0m \u001b[0max\u001b[0m\u001b[0;34m=\u001b[0m\u001b[0;34m'freq'\u001b[0m\u001b[0;34m,\u001b[0m \u001b[0mwindow\u001b[0m\u001b[0;34m=\u001b[0m\u001b[0;34m'bh'\u001b[0m\u001b[0;34m,\u001b[0m \u001b[0medgecut_low\u001b[0m\u001b[0;34m=\u001b[0m\u001b[0mecf_low\u001b[0m\u001b[0;34m,\u001b[0m \u001b[0medgecut_hi\u001b[0m\u001b[0;34m=\u001b[0m\u001b[0mecf_high\u001b[0m\u001b[0;34m,\u001b[0m \u001b[0moverwrite\u001b[0m\u001b[0;34m=\u001b[0m\u001b[0;32mTrue\u001b[0m\u001b[0;34m)\u001b[0m\u001b[0;34m\u001b[0m\u001b[0;34m\u001b[0m\u001b[0m\n",
      "\u001b[0;32m/lustre/aoc/projects/hera/heramgr/anaconda3/envs/h1c_idr3_3/lib/python3.9/site-packages/hera_cal/vis_clean.py\u001b[0m in \u001b[0;36mfft_data\u001b[0;34m(self, data, flags, keys, assign, ax, window, alpha, overwrite, edgecut_low, edgecut_hi, ifft, ifftshift, fftshift, zeropad, dtime, dnu, verbose)\u001b[0m\n\u001b[1;32m   1298\u001b[0m             \u001b[0mkeys\u001b[0m \u001b[0;34m=\u001b[0m \u001b[0mdata\u001b[0m\u001b[0;34m.\u001b[0m\u001b[0mkeys\u001b[0m\u001b[0;34m(\u001b[0m\u001b[0;34m)\u001b[0m\u001b[0;34m\u001b[0m\u001b[0;34m\u001b[0m\u001b[0m\n\u001b[1;32m   1299\u001b[0m         \u001b[0;32mif\u001b[0m \u001b[0mlen\u001b[0m\u001b[0;34m(\u001b[0m\u001b[0mkeys\u001b[0m\u001b[0;34m)\u001b[0m \u001b[0;34m==\u001b[0m \u001b[0;36m0\u001b[0m\u001b[0;34m:\u001b[0m\u001b[0;34m\u001b[0m\u001b[0;34m\u001b[0m\u001b[0m\n\u001b[0;32m-> 1300\u001b[0;31m             \u001b[0;32mraise\u001b[0m \u001b[0mValueError\u001b[0m\u001b[0;34m(\u001b[0m\u001b[0;34m\"No keys found\"\u001b[0m\u001b[0;34m)\u001b[0m\u001b[0;34m\u001b[0m\u001b[0;34m\u001b[0m\u001b[0m\n\u001b[0m\u001b[1;32m   1301\u001b[0m \u001b[0;34m\u001b[0m\u001b[0m\n\u001b[1;32m   1302\u001b[0m         \u001b[0;31m# get delta bin\u001b[0m\u001b[0;34m\u001b[0m\u001b[0;34m\u001b[0m\u001b[0m\n",
      "\u001b[0;31mValueError\u001b[0m: No keys found"
     ]
    }
   ],
   "source": [
    "# FFT visibilities in 1D\n",
    "F_filled.fft_data(data=F_filled.pseudo_I, assign='pI_dfft', ax='freq', window='bh', edgecut_low=ecf_low, edgecut_hi=ecf_high, overwrite=True)\n",
    "F_res.fft_data(data=F_res.pseudo_I, assign='pI_dfft', ax='freq', window='bh', edgecut_low=ecf_low, edgecut_hi=ecf_high, overwrite=True)\n",
    "F_res_filt.fft_data(data=F_res_filt.pseudo_I, assign='pI_dfft', ax='freq', window='bh', edgecut_low=ecf_low, edgecut_hi=ecf_high, overwrite=True)"
   ]
  },
  {
   "cell_type": "code",
   "execution_count": 43,
   "id": "451a4d87",
   "metadata": {
    "ExecuteTime": {
     "start_time": "2022-04-29T19:45:42.859Z"
    },
    "execution": {
     "iopub.execute_input": "2022-05-28T21:45:52.150614Z",
     "iopub.status.busy": "2022-05-28T21:45:52.149828Z",
     "iopub.status.idle": "2022-05-28T21:45:52.158794Z",
     "shell.execute_reply": "2022-05-28T21:45:52.159406Z"
    }
   },
   "outputs": [
    {
     "ename": "AttributeError",
     "evalue": "'FRFilter' object has no attribute 'avg_flags'",
     "output_type": "error",
     "traceback": [
      "\u001b[0;31m---------------------------------------------------------------------------\u001b[0m",
      "\u001b[0;31mAttributeError\u001b[0m                            Traceback (most recent call last)",
      "\u001b[0;32m/tmp/ipykernel_10595/2484026006.py\u001b[0m in \u001b[0;36m<module>\u001b[0;34m\u001b[0m\n\u001b[1;32m      1\u001b[0m \u001b[0;31m# Recalculate the number of flagged edge times after time-averaging\u001b[0m\u001b[0;34m\u001b[0m\u001b[0;34m\u001b[0m\u001b[0m\n\u001b[0;32m----> 2\u001b[0;31m \u001b[0mavg_flag_waterfall\u001b[0m \u001b[0;34m=\u001b[0m \u001b[0mnp\u001b[0m\u001b[0;34m.\u001b[0m\u001b[0mall\u001b[0m\u001b[0;34m(\u001b[0m\u001b[0;34m[\u001b[0m\u001b[0mF_res_filt\u001b[0m\u001b[0;34m.\u001b[0m\u001b[0mavg_flags\u001b[0m\u001b[0;34m[\u001b[0m\u001b[0mbl\u001b[0m\u001b[0;34m]\u001b[0m \u001b[0;32mfor\u001b[0m \u001b[0mbl\u001b[0m \u001b[0;32min\u001b[0m \u001b[0mF_res_filt\u001b[0m\u001b[0;34m.\u001b[0m\u001b[0mavg_flags\u001b[0m\u001b[0;34m]\u001b[0m\u001b[0;34m,\u001b[0m \u001b[0maxis\u001b[0m\u001b[0;34m=\u001b[0m\u001b[0;36m0\u001b[0m\u001b[0;34m)\u001b[0m\u001b[0;34m\u001b[0m\u001b[0;34m\u001b[0m\u001b[0m\n\u001b[0m\u001b[1;32m      3\u001b[0m \u001b[0mavg_ect_low\u001b[0m\u001b[0;34m,\u001b[0m \u001b[0mavg_ect_high\u001b[0m\u001b[0;34m,\u001b[0m \u001b[0m_\u001b[0m\u001b[0;34m,\u001b[0m \u001b[0m_\u001b[0m \u001b[0;34m=\u001b[0m \u001b[0mcount_edge_flags\u001b[0m\u001b[0;34m(\u001b[0m\u001b[0mavg_flag_waterfall\u001b[0m\u001b[0;34m)\u001b[0m\u001b[0;34m\u001b[0m\u001b[0;34m\u001b[0m\u001b[0m\n",
      "\u001b[0;31mAttributeError\u001b[0m: 'FRFilter' object has no attribute 'avg_flags'"
     ]
    }
   ],
   "source": [
    "# Recalculate the number of flagged edge times after time-averaging\n",
    "avg_flag_waterfall = np.all([F_res_filt.avg_flags[bl] for bl in F_res_filt.avg_flags], axis=0)\n",
    "avg_ect_low, avg_ect_high, _, _ = count_edge_flags(avg_flag_waterfall)"
   ]
  },
  {
   "cell_type": "code",
   "execution_count": 44,
   "id": "766ebc2b",
   "metadata": {
    "ExecuteTime": {
     "start_time": "2022-04-29T19:45:42.860Z"
    },
    "execution": {
     "iopub.execute_input": "2022-05-28T21:45:52.162143Z",
     "iopub.status.busy": "2022-05-28T21:45:52.161364Z",
     "iopub.status.idle": "2022-05-28T21:45:52.171330Z",
     "shell.execute_reply": "2022-05-28T21:45:52.171909Z"
    }
   },
   "outputs": [
    {
     "ename": "NameError",
     "evalue": "name 'bls_to_load' is not defined",
     "output_type": "error",
     "traceback": [
      "\u001b[0;31m---------------------------------------------------------------------------\u001b[0m",
      "\u001b[0;31mNameError\u001b[0m                                 Traceback (most recent call last)",
      "\u001b[0;32m/tmp/ipykernel_10595/151475071.py\u001b[0m in \u001b[0;36m<module>\u001b[0;34m\u001b[0m\n\u001b[1;32m      1\u001b[0m \u001b[0;31m# Add pI to filter widths\u001b[0m\u001b[0;34m\u001b[0m\u001b[0;34m\u001b[0m\u001b[0m\n\u001b[0;32m----> 2\u001b[0;31m \u001b[0;32mfor\u001b[0m \u001b[0mbl\u001b[0m \u001b[0;32min\u001b[0m \u001b[0mbls_to_load\u001b[0m\u001b[0;34m:\u001b[0m\u001b[0;34m\u001b[0m\u001b[0;34m\u001b[0m\u001b[0m\n\u001b[0m\u001b[1;32m      3\u001b[0m     \u001b[0mhorizons\u001b[0m\u001b[0;34m[\u001b[0m\u001b[0mbl\u001b[0m\u001b[0;34m[\u001b[0m\u001b[0;36m0\u001b[0m\u001b[0;34m]\u001b[0m\u001b[0;34m,\u001b[0m \u001b[0mbl\u001b[0m\u001b[0;34m[\u001b[0m\u001b[0;36m1\u001b[0m\u001b[0;34m]\u001b[0m\u001b[0;34m,\u001b[0m \u001b[0;34m'pI'\u001b[0m\u001b[0;34m]\u001b[0m \u001b[0;34m=\u001b[0m \u001b[0mhorizons\u001b[0m\u001b[0;34m[\u001b[0m\u001b[0mbl\u001b[0m\u001b[0;34m]\u001b[0m\u001b[0;34m\u001b[0m\u001b[0;34m\u001b[0m\u001b[0m\n\u001b[1;32m      4\u001b[0m     \u001b[0mdelay_filter_half_width\u001b[0m\u001b[0;34m[\u001b[0m\u001b[0mbl\u001b[0m\u001b[0;34m[\u001b[0m\u001b[0;36m0\u001b[0m\u001b[0;34m]\u001b[0m\u001b[0;34m,\u001b[0m \u001b[0mbl\u001b[0m\u001b[0;34m[\u001b[0m\u001b[0;36m1\u001b[0m\u001b[0;34m]\u001b[0m\u001b[0;34m,\u001b[0m \u001b[0;34m'pI'\u001b[0m\u001b[0;34m]\u001b[0m \u001b[0;34m=\u001b[0m \u001b[0mdelay_filter_half_width\u001b[0m\u001b[0;34m[\u001b[0m\u001b[0mbl\u001b[0m\u001b[0;34m]\u001b[0m\u001b[0;34m\u001b[0m\u001b[0;34m\u001b[0m\u001b[0m\n\u001b[1;32m      5\u001b[0m     \u001b[0mfrf_half_width\u001b[0m\u001b[0;34m[\u001b[0m\u001b[0mbl\u001b[0m\u001b[0;34m[\u001b[0m\u001b[0;36m0\u001b[0m\u001b[0;34m]\u001b[0m\u001b[0;34m,\u001b[0m \u001b[0mbl\u001b[0m\u001b[0;34m[\u001b[0m\u001b[0;36m1\u001b[0m\u001b[0;34m]\u001b[0m\u001b[0;34m,\u001b[0m \u001b[0;34m'pI'\u001b[0m\u001b[0;34m]\u001b[0m \u001b[0;34m=\u001b[0m \u001b[0mfrf_half_width\u001b[0m\u001b[0;34m[\u001b[0m\u001b[0mbl\u001b[0m\u001b[0;34m]\u001b[0m\u001b[0;34m\u001b[0m\u001b[0;34m\u001b[0m\u001b[0m\n",
      "\u001b[0;31mNameError\u001b[0m: name 'bls_to_load' is not defined"
     ]
    }
   ],
   "source": [
    "# Add pI to filter widths\n",
    "for bl in bls_to_load:\n",
    "    horizons[bl[0], bl[1], 'pI'] = horizons[bl]\n",
    "    delay_filter_half_width[bl[0], bl[1], 'pI'] = delay_filter_half_width[bl]    \n",
    "    frf_half_width[bl[0], bl[1], 'pI'] = frf_half_width[bl]"
   ]
  },
  {
   "cell_type": "code",
   "execution_count": 45,
   "id": "e826cc2e",
   "metadata": {
    "ExecuteTime": {
     "start_time": "2022-04-29T19:45:42.861Z"
    },
    "code_folding": [],
    "execution": {
     "iopub.execute_input": "2022-05-28T21:45:52.174488Z",
     "iopub.status.busy": "2022-05-28T21:45:52.173691Z",
     "iopub.status.idle": "2022-05-28T21:45:52.184149Z",
     "shell.execute_reply": "2022-05-28T21:45:52.184745Z"
    }
   },
   "outputs": [
    {
     "ename": "NameError",
     "evalue": "name 'example_bl' is not defined",
     "output_type": "error",
     "traceback": [
      "\u001b[0;31m---------------------------------------------------------------------------\u001b[0m",
      "\u001b[0;31mNameError\u001b[0m                                 Traceback (most recent call last)",
      "\u001b[0;32m/tmp/ipykernel_10595/2812842550.py\u001b[0m in \u001b[0;36m<module>\u001b[0;34m\u001b[0m\n\u001b[1;32m      1\u001b[0m \u001b[0;31m# Perform CLEANing in time and 2D FFT\u001b[0m\u001b[0;34m\u001b[0m\u001b[0;34m\u001b[0m\u001b[0m\n\u001b[0;32m----> 2\u001b[0;31m \u001b[0mpI_example\u001b[0m \u001b[0;34m=\u001b[0m \u001b[0;34m(\u001b[0m\u001b[0mexample_bl\u001b[0m\u001b[0;34m[\u001b[0m\u001b[0;36m0\u001b[0m\u001b[0;34m]\u001b[0m\u001b[0;34m,\u001b[0m \u001b[0mexample_bl\u001b[0m\u001b[0;34m[\u001b[0m\u001b[0;36m1\u001b[0m\u001b[0;34m]\u001b[0m\u001b[0;34m,\u001b[0m \u001b[0;34m'pI'\u001b[0m\u001b[0;34m)\u001b[0m\u001b[0;34m\u001b[0m\u001b[0;34m\u001b[0m\u001b[0m\n\u001b[0m\u001b[1;32m      3\u001b[0m F_res_filt.vis_clean(data=F_res_filt.pseudo_I, flags=F_res_filt.pseudo_I_flags, keys=[pI_example], ax='time', max_frate=5, tol=1e-6, gain=0.9,\n\u001b[1;32m      4\u001b[0m                      window='bh', alpha=0.1, overwrite=True, verbose=True, x=F_res_filt.avg_times*24*3600, output_prefix='pI_xclean')\n\u001b[1;32m      5\u001b[0m F_res_filt.fft_data(data=F_res_filt.pI_xclean_data, keys=[pI_example], assign='pI_xdfft2', ax='both', window=('bh','bh'), \n",
      "\u001b[0;31mNameError\u001b[0m: name 'example_bl' is not defined"
     ]
    }
   ],
   "source": [
    "# Perform CLEANing in time and 2D FFT\n",
    "pI_example = (example_bl[0], example_bl[1], 'pI')\n",
    "F_res_filt.vis_clean(data=F_res_filt.pseudo_I, flags=F_res_filt.pseudo_I_flags, keys=[pI_example], ax='time', max_frate=5, tol=1e-6, gain=0.9,\n",
    "                     window='bh', alpha=0.1, overwrite=True, verbose=True, x=F_res_filt.avg_times*24*3600, output_prefix='pI_xclean')\n",
    "F_res_filt.fft_data(data=F_res_filt.pI_xclean_data, keys=[pI_example], assign='pI_xdfft2', ax='both', window=('bh','bh'), \n",
    "                    edgecut_low=(avg_ect_low, ecf_low), edgecut_hi=(avg_ect_high, ecf_high), overwrite=True)"
   ]
  },
  {
   "cell_type": "code",
   "execution_count": 46,
   "id": "c3b7e3e6",
   "metadata": {
    "ExecuteTime": {
     "start_time": "2022-04-29T19:45:42.861Z"
    },
    "execution": {
     "iopub.execute_input": "2022-05-28T21:45:52.187370Z",
     "iopub.status.busy": "2022-05-28T21:45:52.186542Z",
     "iopub.status.idle": "2022-05-28T21:45:52.399166Z",
     "shell.execute_reply": "2022-05-28T21:45:52.399780Z"
    }
   },
   "outputs": [
    {
     "ename": "AttributeError",
     "evalue": "'FRFilter' object has no attribute 'avg_lsts'",
     "output_type": "error",
     "traceback": [
      "\u001b[0;31m---------------------------------------------------------------------------\u001b[0m",
      "\u001b[0;31mAttributeError\u001b[0m                            Traceback (most recent call last)",
      "\u001b[0;32m/tmp/ipykernel_10595/3384291015.py\u001b[0m in \u001b[0;36m<module>\u001b[0;34m\u001b[0m\n\u001b[1;32m      1\u001b[0m \u001b[0;31m# plot in delay space\u001b[0m\u001b[0;34m\u001b[0m\u001b[0;34m\u001b[0m\u001b[0m\n\u001b[1;32m      2\u001b[0m \u001b[0mfig\u001b[0m\u001b[0;34m,\u001b[0m \u001b[0maxes\u001b[0m \u001b[0;34m=\u001b[0m \u001b[0mplt\u001b[0m\u001b[0;34m.\u001b[0m\u001b[0msubplots\u001b[0m\u001b[0;34m(\u001b[0m\u001b[0;36m1\u001b[0m\u001b[0;34m,\u001b[0m \u001b[0;36m2\u001b[0m\u001b[0;34m,\u001b[0m \u001b[0mfigsize\u001b[0m\u001b[0;34m=\u001b[0m\u001b[0;34m(\u001b[0m\u001b[0;36m14\u001b[0m\u001b[0;34m,\u001b[0m\u001b[0;36m8\u001b[0m\u001b[0;34m)\u001b[0m\u001b[0;34m,\u001b[0m \u001b[0mgridspec_kw\u001b[0m\u001b[0;34m=\u001b[0m\u001b[0;34m{\u001b[0m\u001b[0;34m'width_ratios'\u001b[0m\u001b[0;34m:\u001b[0m \u001b[0;34m[\u001b[0m\u001b[0;36m2\u001b[0m\u001b[0;34m,\u001b[0m \u001b[0;36m1\u001b[0m\u001b[0;34m]\u001b[0m\u001b[0;34m}\u001b[0m\u001b[0;34m,\u001b[0m \u001b[0msharey\u001b[0m\u001b[0;34m=\u001b[0m\u001b[0;32mTrue\u001b[0m\u001b[0;34m)\u001b[0m\u001b[0;34m\u001b[0m\u001b[0;34m\u001b[0m\u001b[0m\n\u001b[0;32m----> 3\u001b[0;31m \u001b[0mavg_lsts_unwrapped\u001b[0m \u001b[0;34m=\u001b[0m \u001b[0mnp\u001b[0m\u001b[0;34m.\u001b[0m\u001b[0mwhere\u001b[0m\u001b[0;34m(\u001b[0m\u001b[0mF_res_filt\u001b[0m\u001b[0;34m.\u001b[0m\u001b[0mavg_lsts\u001b[0m \u001b[0;34m>\u001b[0m \u001b[0mF_res_filt\u001b[0m\u001b[0;34m.\u001b[0m\u001b[0mavg_lsts\u001b[0m\u001b[0;34m[\u001b[0m\u001b[0;34m-\u001b[0m\u001b[0;36m1\u001b[0m\u001b[0;34m]\u001b[0m\u001b[0;34m,\u001b[0m \u001b[0mF_res_filt\u001b[0m\u001b[0;34m.\u001b[0m\u001b[0mavg_lsts\u001b[0m \u001b[0;34m-\u001b[0m \u001b[0;36m2\u001b[0m \u001b[0;34m*\u001b[0m \u001b[0mnp\u001b[0m\u001b[0;34m.\u001b[0m\u001b[0mpi\u001b[0m\u001b[0;34m,\u001b[0m \u001b[0mF_res_filt\u001b[0m\u001b[0;34m.\u001b[0m\u001b[0mavg_lsts\u001b[0m\u001b[0;34m)\u001b[0m \u001b[0;34m*\u001b[0m \u001b[0;36m12\u001b[0m \u001b[0;34m/\u001b[0m \u001b[0mnp\u001b[0m\u001b[0;34m.\u001b[0m\u001b[0mpi\u001b[0m  \u001b[0;31m# in hours\u001b[0m\u001b[0;34m\u001b[0m\u001b[0;34m\u001b[0m\u001b[0m\n\u001b[0m\u001b[1;32m      4\u001b[0m \u001b[0mextent\u001b[0m\u001b[0;34m=\u001b[0m\u001b[0;34m[\u001b[0m\u001b[0mF_res_filt\u001b[0m\u001b[0;34m.\u001b[0m\u001b[0mfreqs\u001b[0m\u001b[0;34m[\u001b[0m\u001b[0;36m0\u001b[0m\u001b[0;34m]\u001b[0m \u001b[0;34m/\u001b[0m \u001b[0;36m1e6\u001b[0m\u001b[0;34m,\u001b[0m \u001b[0mF_res_filt\u001b[0m\u001b[0;34m.\u001b[0m\u001b[0mfreqs\u001b[0m\u001b[0;34m[\u001b[0m\u001b[0;34m-\u001b[0m\u001b[0;36m1\u001b[0m\u001b[0;34m]\u001b[0m \u001b[0;34m/\u001b[0m \u001b[0;36m1e6\u001b[0m\u001b[0;34m,\u001b[0m \u001b[0mlsts_unwrapped\u001b[0m\u001b[0;34m[\u001b[0m\u001b[0;34m-\u001b[0m\u001b[0;36m1\u001b[0m\u001b[0;34m]\u001b[0m\u001b[0;34m,\u001b[0m \u001b[0mlsts_unwrapped\u001b[0m\u001b[0;34m[\u001b[0m\u001b[0;36m0\u001b[0m\u001b[0;34m]\u001b[0m\u001b[0;34m]\u001b[0m\u001b[0;34m\u001b[0m\u001b[0;34m\u001b[0m\u001b[0m\n\u001b[1;32m      5\u001b[0m \u001b[0;34m\u001b[0m\u001b[0m\n",
      "\u001b[0;31mAttributeError\u001b[0m: 'FRFilter' object has no attribute 'avg_lsts'"
     ]
    },
    {
     "data": {
      "image/png": "[encoded data removed]",
      "text/plain": [
       "<Figure size 1008x576 with 2 Axes>"
      ]
     },
     "metadata": {
      "image/png": {
       "height": 469,
       "width": 826
      },
      "needs_background": "light"
     },
     "output_type": "display_data"
    }
   ],
   "source": [
    "# plot in delay space\n",
    "fig, axes = plt.subplots(1, 2, figsize=(14,8), gridspec_kw={'width_ratios': [2, 1]}, sharey=True)\n",
    "avg_lsts_unwrapped = np.where(F_res_filt.avg_lsts > F_res_filt.avg_lsts[-1], F_res_filt.avg_lsts - 2 * np.pi, F_res_filt.avg_lsts) * 12 / np.pi  # in hours\n",
    "extent=[F_res_filt.freqs[0] / 1e6, F_res_filt.freqs[-1] / 1e6, lsts_unwrapped[-1], lsts_unwrapped[0]]\n",
    "\n",
    "to_plot = np.where(F_res_filt.pseudo_I_flags[pI_example], np.nan, np.real(F_res_filt.pseudo_I[pI_example]))\n",
    "im = axes[0].imshow(to_plot, interpolation='none', aspect='auto', cmap='bwr', extent=extent, norm=sym_log_norm(to_plot))\n",
    "plt.colorbar(im, pad=.1, location='bottom', ax=axes[0], label=r'Re$[\\widetilde{V}_{ij}]$ (Jy Hz)')\n",
    "axes[0].set_xlabel('Delay (ns)')\n",
    "axes[0].set_ylabel('LST (hours)')\n",
    "axes[0].set_title(f'Final Calibrated, DPSS Residual, DPSS Crosstalk Filtered,\\nTime Averaged Visibility: {pI_example}')\n",
    "\n",
    "im = axes[1].imshow(np.where(np.all(F_res_filt.pseudo_I_flags[pI_example], axis=1, keepdims=True), np.nan, np.real(F_res_filt.pseudo_I_nsamples[pI_example])),\n",
    "                    interpolation='none', aspect='auto', extent=extent)\n",
    "plt.colorbar(im, pad=.1, location='bottom', ax=axes[1], label=r'Number Samples')\n",
    "axes[1].set_xlabel('Frequency (MHz)')\n",
    "axes[1].set_title(f'Time Averaged Number of Samples: {pI_example}')\n",
    "    \n",
    "plt.tight_layout()"
   ]
  },
  {
   "cell_type": "markdown",
   "id": "17f3b754",
   "metadata": {},
   "source": [
    "### Figure 10a: Real Part of DPSS-Residual Example Waterfall After Crosstalk Filtering, Coherent Time Averaging, and Forming Pseudo-Stokes I"
   ]
  },
  {
   "cell_type": "code",
   "execution_count": 47,
   "id": "b38fcdb4",
   "metadata": {
    "ExecuteTime": {
     "start_time": "2022-04-29T19:45:42.862Z"
    },
    "execution": {
     "iopub.execute_input": "2022-05-28T21:45:52.402787Z",
     "iopub.status.busy": "2022-05-28T21:45:52.401941Z",
     "iopub.status.idle": "2022-05-28T21:45:52.614078Z",
     "shell.execute_reply": "2022-05-28T21:45:52.614693Z"
    }
   },
   "outputs": [
    {
     "ename": "AttributeError",
     "evalue": "'FRFilter' object has no attribute 'avg_lsts'",
     "output_type": "error",
     "traceback": [
      "\u001b[0;31m---------------------------------------------------------------------------\u001b[0m",
      "\u001b[0;31mAttributeError\u001b[0m                            Traceback (most recent call last)",
      "\u001b[0;32m/tmp/ipykernel_10595/389752063.py\u001b[0m in \u001b[0;36m<module>\u001b[0;34m\u001b[0m\n\u001b[1;32m      1\u001b[0m \u001b[0;31m# plot in delay space\u001b[0m\u001b[0;34m\u001b[0m\u001b[0;34m\u001b[0m\u001b[0m\n\u001b[1;32m      2\u001b[0m \u001b[0mfig\u001b[0m\u001b[0;34m,\u001b[0m \u001b[0maxes\u001b[0m \u001b[0;34m=\u001b[0m \u001b[0mplt\u001b[0m\u001b[0;34m.\u001b[0m\u001b[0msubplots\u001b[0m\u001b[0;34m(\u001b[0m\u001b[0;36m1\u001b[0m\u001b[0;34m,\u001b[0m \u001b[0;36m2\u001b[0m\u001b[0;34m,\u001b[0m \u001b[0mfigsize\u001b[0m\u001b[0;34m=\u001b[0m\u001b[0;34m(\u001b[0m\u001b[0;36m14\u001b[0m\u001b[0;34m,\u001b[0m\u001b[0;36m8\u001b[0m\u001b[0;34m)\u001b[0m\u001b[0;34m,\u001b[0m \u001b[0mgridspec_kw\u001b[0m\u001b[0;34m=\u001b[0m\u001b[0;34m{\u001b[0m\u001b[0;34m'width_ratios'\u001b[0m\u001b[0;34m:\u001b[0m \u001b[0;34m[\u001b[0m\u001b[0;36m2\u001b[0m\u001b[0;34m,\u001b[0m \u001b[0;36m1\u001b[0m\u001b[0;34m]\u001b[0m\u001b[0;34m}\u001b[0m\u001b[0;34m,\u001b[0m \u001b[0msharey\u001b[0m\u001b[0;34m=\u001b[0m\u001b[0;32mTrue\u001b[0m\u001b[0;34m)\u001b[0m\u001b[0;34m\u001b[0m\u001b[0;34m\u001b[0m\u001b[0m\n\u001b[0;32m----> 3\u001b[0;31m \u001b[0mavg_lsts_unwrapped\u001b[0m \u001b[0;34m=\u001b[0m \u001b[0mnp\u001b[0m\u001b[0;34m.\u001b[0m\u001b[0mwhere\u001b[0m\u001b[0;34m(\u001b[0m\u001b[0mF_res_filt\u001b[0m\u001b[0;34m.\u001b[0m\u001b[0mavg_lsts\u001b[0m \u001b[0;34m>\u001b[0m \u001b[0mF_res_filt\u001b[0m\u001b[0;34m.\u001b[0m\u001b[0mavg_lsts\u001b[0m\u001b[0;34m[\u001b[0m\u001b[0;34m-\u001b[0m\u001b[0;36m1\u001b[0m\u001b[0;34m]\u001b[0m\u001b[0;34m,\u001b[0m \u001b[0mF_res_filt\u001b[0m\u001b[0;34m.\u001b[0m\u001b[0mavg_lsts\u001b[0m \u001b[0;34m-\u001b[0m \u001b[0;36m2\u001b[0m \u001b[0;34m*\u001b[0m \u001b[0mnp\u001b[0m\u001b[0;34m.\u001b[0m\u001b[0mpi\u001b[0m\u001b[0;34m,\u001b[0m \u001b[0mF_res_filt\u001b[0m\u001b[0;34m.\u001b[0m\u001b[0mavg_lsts\u001b[0m\u001b[0;34m)\u001b[0m \u001b[0;34m*\u001b[0m \u001b[0;36m12\u001b[0m \u001b[0;34m/\u001b[0m \u001b[0mnp\u001b[0m\u001b[0;34m.\u001b[0m\u001b[0mpi\u001b[0m  \u001b[0;31m# in hours\u001b[0m\u001b[0;34m\u001b[0m\u001b[0;34m\u001b[0m\u001b[0m\n\u001b[0m\u001b[1;32m      4\u001b[0m \u001b[0;34m\u001b[0m\u001b[0m\n\u001b[1;32m      5\u001b[0m \u001b[0mto_plot\u001b[0m \u001b[0;34m=\u001b[0m \u001b[0mnp\u001b[0m\u001b[0;34m.\u001b[0m\u001b[0mwhere\u001b[0m\u001b[0;34m(\u001b[0m\u001b[0mnp\u001b[0m\u001b[0;34m.\u001b[0m\u001b[0mall\u001b[0m\u001b[0;34m(\u001b[0m\u001b[0mF_res_filt\u001b[0m\u001b[0;34m.\u001b[0m\u001b[0mpseudo_I_flags\u001b[0m\u001b[0;34m[\u001b[0m\u001b[0mpI_example\u001b[0m\u001b[0;34m]\u001b[0m\u001b[0;34m,\u001b[0m \u001b[0maxis\u001b[0m\u001b[0;34m=\u001b[0m\u001b[0;36m1\u001b[0m\u001b[0;34m,\u001b[0m \u001b[0mkeepdims\u001b[0m\u001b[0;34m=\u001b[0m\u001b[0;32mTrue\u001b[0m\u001b[0;34m)\u001b[0m\u001b[0;34m,\u001b[0m \u001b[0mnp\u001b[0m\u001b[0;34m.\u001b[0m\u001b[0mnan\u001b[0m\u001b[0;34m,\u001b[0m \u001b[0mnp\u001b[0m\u001b[0;34m.\u001b[0m\u001b[0mreal\u001b[0m\u001b[0;34m(\u001b[0m\u001b[0mF_res_filt\u001b[0m\u001b[0;34m.\u001b[0m\u001b[0mpI_dfft\u001b[0m\u001b[0;34m[\u001b[0m\u001b[0mpI_example\u001b[0m\u001b[0;34m]\u001b[0m\u001b[0;34m)\u001b[0m\u001b[0;34m)\u001b[0m\u001b[0;34m\u001b[0m\u001b[0;34m\u001b[0m\u001b[0m\n",
      "\u001b[0;31mAttributeError\u001b[0m: 'FRFilter' object has no attribute 'avg_lsts'"
     ]
    },
    {
     "data": {
      "image/png": "[encoded data removed]",
      "text/plain": [
       "<Figure size 1008x576 with 2 Axes>"
      ]
     },
     "metadata": {
      "image/png": {
       "height": 469,
       "width": 826
      },
      "needs_background": "light"
     },
     "output_type": "display_data"
    }
   ],
   "source": [
    "# plot in delay space\n",
    "fig, axes = plt.subplots(1, 2, figsize=(14,8), gridspec_kw={'width_ratios': [2, 1]}, sharey=True)\n",
    "avg_lsts_unwrapped = np.where(F_res_filt.avg_lsts > F_res_filt.avg_lsts[-1], F_res_filt.avg_lsts - 2 * np.pi, F_res_filt.avg_lsts) * 12 / np.pi  # in hours\n",
    "\n",
    "to_plot = np.where(np.all(F_res_filt.pseudo_I_flags[pI_example], axis=1, keepdims=True), np.nan, np.real(F_res_filt.pI_dfft[pI_example]))\n",
    "im = axes[0].imshow(to_plot, interpolation='none', aspect='auto', cmap='bwr', norm=sym_log_norm(to_plot),\n",
    "                    extent=[F_res_filt.delays[0], F_res_filt.delays[-1], lsts_unwrapped[-1], lsts_unwrapped[0]])\n",
    "plt.colorbar(im, pad=.1, location='bottom', ax=axes[0], label=r'Re$[\\widetilde{V}_{ij}]$ (Jy Hz)')\n",
    "axes[0].set_xlim([-2000, 2000])\n",
    "axes[0].set_xlabel('Delay (ns)')\n",
    "axes[0].set_ylabel('LST (hours)')\n",
    "axes[0].set_title(f'Final Calibrated, DPSS Residual, DPSS Crosstalk Filtered,\\nTime Averaged Visibility: {pI_example}')\n",
    "delay_lines(axes[0], horizons[pI_example], delay_filter_half_width[pI_example])\n",
    "axes[0].legend()\n",
    "\n",
    "im = axes[1].imshow(np.where(np.all(F_res_filt.pseudo_I_flags[pI_example], axis=1, keepdims=True), np.nan, np.real(F_res_filt.pseudo_I_nsamples[pI_example])),\n",
    "                    interpolation='none', aspect='auto', extent=[F_res_filt.freqs[0] / 1e6, F_res_filt.freqs[-1] / 1e6, lsts_unwrapped[-1], lsts_unwrapped[0]])\n",
    "plt.colorbar(im, pad=.1, location='bottom', ax=axes[1], label=r'Number Samples')\n",
    "axes[1].set_xlabel('Frequency (MHz)')\n",
    "axes[1].set_title(f'Time Averaged Number of Samples: {pI_example}')\n",
    "    \n",
    "plt.tight_layout()"
   ]
  },
  {
   "cell_type": "markdown",
   "id": "e0f2fc37",
   "metadata": {},
   "source": [
    "### Figure 10b: Real Part of DPSS-Residual Example Waterfall After Crosstalk Filtering, Coherent Time Averaging, and Forming Pseudo-Stokes I in Delay Space"
   ]
  },
  {
   "cell_type": "code",
   "execution_count": 48,
   "id": "5fa4c576",
   "metadata": {
    "ExecuteTime": {
     "start_time": "2022-04-29T19:45:42.863Z"
    },
    "execution": {
     "iopub.execute_input": "2022-05-28T21:45:52.617437Z",
     "iopub.status.busy": "2022-05-28T21:45:52.616654Z",
     "iopub.status.idle": "2022-05-28T21:45:52.628792Z",
     "shell.execute_reply": "2022-05-28T21:45:52.629359Z"
    }
   },
   "outputs": [
    {
     "ename": "AttributeError",
     "evalue": "'FRFilter' object has no attribute 'avg_times'",
     "output_type": "error",
     "traceback": [
      "\u001b[0;31m---------------------------------------------------------------------------\u001b[0m",
      "\u001b[0;31mAttributeError\u001b[0m                            Traceback (most recent call last)",
      "\u001b[0;32m/tmp/ipykernel_10595/3016957034.py\u001b[0m in \u001b[0;36m<module>\u001b[0;34m\u001b[0m\n\u001b[1;32m      1\u001b[0m \u001b[0;31m# plot in delay space and FR space\u001b[0m\u001b[0;34m\u001b[0m\u001b[0;34m\u001b[0m\u001b[0m\n\u001b[0;32m----> 2\u001b[0;31m \u001b[0mfrates\u001b[0m \u001b[0;34m=\u001b[0m \u001b[0mnp\u001b[0m\u001b[0;34m.\u001b[0m\u001b[0mfft\u001b[0m\u001b[0;34m.\u001b[0m\u001b[0mfftshift\u001b[0m\u001b[0;34m(\u001b[0m\u001b[0mnp\u001b[0m\u001b[0;34m.\u001b[0m\u001b[0mfft\u001b[0m\u001b[0;34m.\u001b[0m\u001b[0mfftfreq\u001b[0m\u001b[0;34m(\u001b[0m\u001b[0mlen\u001b[0m\u001b[0;34m(\u001b[0m\u001b[0mF_res_filt\u001b[0m\u001b[0;34m.\u001b[0m\u001b[0mavg_times\u001b[0m\u001b[0;34m)\u001b[0m\u001b[0;34m,\u001b[0m \u001b[0mnp\u001b[0m\u001b[0;34m.\u001b[0m\u001b[0mmedian\u001b[0m\u001b[0;34m(\u001b[0m\u001b[0mnp\u001b[0m\u001b[0;34m.\u001b[0m\u001b[0mdiff\u001b[0m\u001b[0;34m(\u001b[0m\u001b[0mF_res_filt\u001b[0m\u001b[0;34m.\u001b[0m\u001b[0mavg_times\u001b[0m\u001b[0;34m)\u001b[0m\u001b[0;34m)\u001b[0m \u001b[0;34m*\u001b[0m \u001b[0;36m24\u001b[0m \u001b[0;34m*\u001b[0m \u001b[0;36m3600\u001b[0m\u001b[0;34m)\u001b[0m \u001b[0;34m*\u001b[0m \u001b[0;36m1e3\u001b[0m\u001b[0;34m)\u001b[0m \u001b[0;31m# in mHz\u001b[0m\u001b[0;34m\u001b[0m\u001b[0;34m\u001b[0m\u001b[0m\n\u001b[0m\u001b[1;32m      3\u001b[0m \u001b[0;34m\u001b[0m\u001b[0m\n\u001b[1;32m      4\u001b[0m \u001b[0mextent\u001b[0m \u001b[0;34m=\u001b[0m \u001b[0;34m[\u001b[0m\u001b[0mF_res_filt\u001b[0m\u001b[0;34m.\u001b[0m\u001b[0mdelays\u001b[0m\u001b[0;34m[\u001b[0m\u001b[0;36m0\u001b[0m\u001b[0;34m]\u001b[0m\u001b[0;34m,\u001b[0m \u001b[0mF_res_filt\u001b[0m\u001b[0;34m.\u001b[0m\u001b[0mdelays\u001b[0m\u001b[0;34m[\u001b[0m\u001b[0;34m-\u001b[0m\u001b[0;36m1\u001b[0m\u001b[0;34m]\u001b[0m\u001b[0;34m,\u001b[0m \u001b[0mfrates\u001b[0m\u001b[0;34m[\u001b[0m\u001b[0;34m-\u001b[0m\u001b[0;36m1\u001b[0m\u001b[0;34m]\u001b[0m\u001b[0;34m,\u001b[0m \u001b[0mfrates\u001b[0m\u001b[0;34m[\u001b[0m\u001b[0;36m0\u001b[0m\u001b[0;34m]\u001b[0m\u001b[0;34m]\u001b[0m\u001b[0;34m\u001b[0m\u001b[0;34m\u001b[0m\u001b[0m\n\u001b[1;32m      5\u001b[0m \u001b[0mplt\u001b[0m\u001b[0;34m.\u001b[0m\u001b[0mfigure\u001b[0m\u001b[0;34m(\u001b[0m\u001b[0mfigsize\u001b[0m\u001b[0;34m=\u001b[0m\u001b[0;34m(\u001b[0m\u001b[0;36m14\u001b[0m\u001b[0;34m,\u001b[0m\u001b[0;36m8\u001b[0m\u001b[0;34m)\u001b[0m\u001b[0;34m)\u001b[0m\u001b[0;34m\u001b[0m\u001b[0;34m\u001b[0m\u001b[0m\n",
      "\u001b[0;31mAttributeError\u001b[0m: 'FRFilter' object has no attribute 'avg_times'"
     ]
    }
   ],
   "source": [
    "# plot in delay space and FR space\n",
    "frates = np.fft.fftshift(np.fft.fftfreq(len(F_res_filt.avg_times), np.median(np.diff(F_res_filt.avg_times)) * 24 * 3600) * 1e3) # in mHz\n",
    "\n",
    "extent = [F_res_filt.delays[0], F_res_filt.delays[-1], frates[-1], frates[0]]\n",
    "plt.figure(figsize=(14,8))\n",
    "plt.imshow(np.abs(F_res_filt.pI_xdfft2[pI_example]), aspect='auto', interpolation='none', \n",
    "           norm=matplotlib.colors.LogNorm(), cmap='jet', extent=extent)\n",
    "plt.colorbar(label='$|\\widetilde{V}_{ij}|$ (Jy)')\n",
    "plt.xlabel('Delay (ns)')\n",
    "plt.xlim([-2000, 2000])\n",
    "plt.ylabel('Fringe Rate (mHz)')\n",
    "plt.title(f'Final Calibrated, DPSS Residual, DPSS Crosstalk Filtered, and CLEAN Inpainted (in Time): {pI_example}')\n",
    "delay_lines(plt.gca(), horizons[pI_example], delay_filter_half_width[pI_example])\n",
    "fr_lines(plt.gca(), frf_half_width[pI_example])\n",
    "plt.legend()\n",
    "plt.tight_layout()"
   ]
  },
  {
   "cell_type": "markdown",
   "id": "ffb4f8ec",
   "metadata": {},
   "source": [
    "### Figure 10c: Magnitude of DPSS-Residual Example Waterfall After Crosstalk Filtering, Coherent Time Averaging, and Forming Pseudo-Stokes I in Fringe-Rate / Delay Space"
   ]
  },
  {
   "cell_type": "code",
   "execution_count": 49,
   "id": "aa28bb0a",
   "metadata": {
    "ExecuteTime": {
     "start_time": "2022-04-29T19:45:42.864Z"
    },
    "execution": {
     "iopub.execute_input": "2022-05-28T21:45:52.631891Z",
     "iopub.status.busy": "2022-05-28T21:45:52.631123Z",
     "iopub.status.idle": "2022-05-28T21:45:52.639506Z",
     "shell.execute_reply": "2022-05-28T21:45:52.640070Z"
    }
   },
   "outputs": [
    {
     "ename": "AttributeError",
     "evalue": "'FRFilter' object has no attribute 'pI_dfft'",
     "output_type": "error",
     "traceback": [
      "\u001b[0;31m---------------------------------------------------------------------------\u001b[0m",
      "\u001b[0;31mAttributeError\u001b[0m                            Traceback (most recent call last)",
      "\u001b[0;32m/tmp/ipykernel_10595/958652200.py\u001b[0m in \u001b[0;36m<module>\u001b[0;34m\u001b[0m\n\u001b[1;32m      1\u001b[0m \u001b[0;31m# Calculate incoherently time-averaged delay spectra\u001b[0m\u001b[0;34m\u001b[0m\u001b[0;34m\u001b[0m\u001b[0m\n\u001b[1;32m      2\u001b[0m \u001b[0mavg_norm_filled_spectra\u001b[0m \u001b[0;34m=\u001b[0m \u001b[0mcalculate_avg_norm_spectra\u001b[0m\u001b[0;34m(\u001b[0m\u001b[0mF_filled\u001b[0m\u001b[0;34m.\u001b[0m\u001b[0mpI_dfft\u001b[0m\u001b[0;34m,\u001b[0m \u001b[0mF_filled\u001b[0m\u001b[0;34m.\u001b[0m\u001b[0mpseudo_I_flags\u001b[0m\u001b[0;34m,\u001b[0m \u001b[0mF_filled\u001b[0m\u001b[0;34m.\u001b[0m\u001b[0mpseudo_I_nsamples\u001b[0m\u001b[0;34m)\u001b[0m\u001b[0;34m\u001b[0m\u001b[0;34m\u001b[0m\u001b[0m\n\u001b[0;32m----> 3\u001b[0;31m \u001b[0mavg_norm_res_spectra\u001b[0m \u001b[0;34m=\u001b[0m \u001b[0mcalculate_avg_norm_spectra\u001b[0m\u001b[0;34m(\u001b[0m\u001b[0mF_res\u001b[0m\u001b[0;34m.\u001b[0m\u001b[0mpI_dfft\u001b[0m\u001b[0;34m,\u001b[0m \u001b[0mF_res\u001b[0m\u001b[0;34m.\u001b[0m\u001b[0mpseudo_I_flags\u001b[0m\u001b[0;34m,\u001b[0m \u001b[0mF_res\u001b[0m\u001b[0;34m.\u001b[0m\u001b[0mpseudo_I_nsamples\u001b[0m\u001b[0;34m)\u001b[0m\u001b[0;34m\u001b[0m\u001b[0;34m\u001b[0m\u001b[0m\n\u001b[0m\u001b[1;32m      4\u001b[0m \u001b[0mavg_norm_res_filt_spectra\u001b[0m \u001b[0;34m=\u001b[0m \u001b[0mcalculate_avg_norm_spectra\u001b[0m\u001b[0;34m(\u001b[0m\u001b[0mF_res_filt\u001b[0m\u001b[0;34m.\u001b[0m\u001b[0mpI_dfft\u001b[0m\u001b[0;34m,\u001b[0m \u001b[0mF_res_filt\u001b[0m\u001b[0;34m.\u001b[0m\u001b[0mpseudo_I_flags\u001b[0m\u001b[0;34m,\u001b[0m \u001b[0mF_res_filt\u001b[0m\u001b[0;34m.\u001b[0m\u001b[0mpseudo_I_nsamples\u001b[0m\u001b[0;34m)\u001b[0m\u001b[0;34m\u001b[0m\u001b[0;34m\u001b[0m\u001b[0m\n",
      "\u001b[0;31mAttributeError\u001b[0m: 'FRFilter' object has no attribute 'pI_dfft'"
     ]
    }
   ],
   "source": [
    "# Calculate incoherently time-averaged delay spectra\n",
    "avg_norm_filled_spectra = calculate_avg_norm_spectra(F_filled.pI_dfft, F_filled.pseudo_I_flags, F_filled.pseudo_I_nsamples)\n",
    "avg_norm_res_spectra = calculate_avg_norm_spectra(F_res.pI_dfft, F_res.pseudo_I_flags, F_res.pseudo_I_nsamples)\n",
    "avg_norm_res_filt_spectra = calculate_avg_norm_spectra(F_res_filt.pI_dfft, F_res_filt.pseudo_I_flags, F_res_filt.pseudo_I_nsamples)"
   ]
  },
  {
   "cell_type": "code",
   "execution_count": 50,
   "id": "58c0dd90",
   "metadata": {
    "ExecuteTime": {
     "start_time": "2022-04-29T19:45:42.865Z"
    },
    "execution": {
     "iopub.execute_input": "2022-05-28T21:45:52.642627Z",
     "iopub.status.busy": "2022-05-28T21:45:52.641800Z",
     "iopub.status.idle": "2022-05-28T21:45:53.174563Z",
     "shell.execute_reply": "2022-05-28T21:45:53.175174Z"
    }
   },
   "outputs": [
    {
     "ename": "ValueError",
     "evalue": "zero-size array to reduction operation minimum which has no identity",
     "output_type": "error",
     "traceback": [
      "\u001b[0;31m---------------------------------------------------------------------------\u001b[0m",
      "\u001b[0;31mValueError\u001b[0m                                Traceback (most recent call last)",
      "\u001b[0;32m/tmp/ipykernel_10595/2287054947.py\u001b[0m in \u001b[0;36m<module>\u001b[0;34m\u001b[0m\n\u001b[1;32m      1\u001b[0m \u001b[0;31m# Plot all incoherently time-averaged delay spectra\u001b[0m\u001b[0;34m\u001b[0m\u001b[0;34m\u001b[0m\u001b[0m\n\u001b[1;32m      2\u001b[0m \u001b[0mfig\u001b[0m\u001b[0;34m,\u001b[0m \u001b[0maxes\u001b[0m \u001b[0;34m=\u001b[0m \u001b[0mplt\u001b[0m\u001b[0;34m.\u001b[0m\u001b[0msubplots\u001b[0m\u001b[0;34m(\u001b[0m\u001b[0;36m3\u001b[0m\u001b[0;34m,\u001b[0m \u001b[0;36m2\u001b[0m\u001b[0;34m,\u001b[0m \u001b[0mfigsize\u001b[0m\u001b[0;34m=\u001b[0m\u001b[0;34m(\u001b[0m\u001b[0;36m14\u001b[0m\u001b[0;34m,\u001b[0m\u001b[0;36m12\u001b[0m\u001b[0;34m)\u001b[0m\u001b[0;34m,\u001b[0m \u001b[0msharex\u001b[0m\u001b[0;34m=\u001b[0m\u001b[0;32mTrue\u001b[0m\u001b[0;34m,\u001b[0m \u001b[0msharey\u001b[0m\u001b[0;34m=\u001b[0m\u001b[0;32mTrue\u001b[0m\u001b[0;34m,\u001b[0m \u001b[0mgridspec_kw\u001b[0m\u001b[0;34m=\u001b[0m\u001b[0;34m{\u001b[0m\u001b[0;34m'wspace'\u001b[0m\u001b[0;34m:\u001b[0m \u001b[0;36m0\u001b[0m\u001b[0;34m,\u001b[0m \u001b[0;34m'hspace'\u001b[0m\u001b[0;34m:\u001b[0m \u001b[0;36m0\u001b[0m\u001b[0;34m}\u001b[0m\u001b[0;34m)\u001b[0m\u001b[0;34m\u001b[0m\u001b[0;34m\u001b[0m\u001b[0m\n\u001b[0;32m----> 3\u001b[0;31m ylim = (np.min(np.array(list(avg_norm_filled_spectra.values()))) / 10, \n\u001b[0m\u001b[1;32m      4\u001b[0m         np.max(np.array(list(avg_norm_filled_spectra.values()))) * 2)\n\u001b[1;32m      5\u001b[0m \u001b[0;34m\u001b[0m\u001b[0m\n",
      "\u001b[0;32m<__array_function__ internals>\u001b[0m in \u001b[0;36mamin\u001b[0;34m(*args, **kwargs)\u001b[0m\n",
      "\u001b[0;32m/lustre/aoc/projects/hera/heramgr/anaconda3/envs/h1c_idr3_3/lib/python3.9/site-packages/numpy/core/fromnumeric.py\u001b[0m in \u001b[0;36mamin\u001b[0;34m(a, axis, out, keepdims, initial, where)\u001b[0m\n\u001b[1;32m   2877\u001b[0m     \u001b[0;36m6\u001b[0m\u001b[0;34m\u001b[0m\u001b[0;34m\u001b[0m\u001b[0m\n\u001b[1;32m   2878\u001b[0m     \"\"\"\n\u001b[0;32m-> 2879\u001b[0;31m     return _wrapreduction(a, np.minimum, 'min', axis, None, out,\n\u001b[0m\u001b[1;32m   2880\u001b[0m                           keepdims=keepdims, initial=initial, where=where)\n\u001b[1;32m   2881\u001b[0m \u001b[0;34m\u001b[0m\u001b[0m\n",
      "\u001b[0;32m/lustre/aoc/projects/hera/heramgr/anaconda3/envs/h1c_idr3_3/lib/python3.9/site-packages/numpy/core/fromnumeric.py\u001b[0m in \u001b[0;36m_wrapreduction\u001b[0;34m(obj, ufunc, method, axis, dtype, out, **kwargs)\u001b[0m\n\u001b[1;32m     84\u001b[0m                 \u001b[0;32mreturn\u001b[0m \u001b[0mreduction\u001b[0m\u001b[0;34m(\u001b[0m\u001b[0maxis\u001b[0m\u001b[0;34m=\u001b[0m\u001b[0maxis\u001b[0m\u001b[0;34m,\u001b[0m \u001b[0mout\u001b[0m\u001b[0;34m=\u001b[0m\u001b[0mout\u001b[0m\u001b[0;34m,\u001b[0m \u001b[0;34m**\u001b[0m\u001b[0mpasskwargs\u001b[0m\u001b[0;34m)\u001b[0m\u001b[0;34m\u001b[0m\u001b[0;34m\u001b[0m\u001b[0m\n\u001b[1;32m     85\u001b[0m \u001b[0;34m\u001b[0m\u001b[0m\n\u001b[0;32m---> 86\u001b[0;31m     \u001b[0;32mreturn\u001b[0m \u001b[0mufunc\u001b[0m\u001b[0;34m.\u001b[0m\u001b[0mreduce\u001b[0m\u001b[0;34m(\u001b[0m\u001b[0mobj\u001b[0m\u001b[0;34m,\u001b[0m \u001b[0maxis\u001b[0m\u001b[0;34m,\u001b[0m \u001b[0mdtype\u001b[0m\u001b[0;34m,\u001b[0m \u001b[0mout\u001b[0m\u001b[0;34m,\u001b[0m \u001b[0;34m**\u001b[0m\u001b[0mpasskwargs\u001b[0m\u001b[0;34m)\u001b[0m\u001b[0;34m\u001b[0m\u001b[0;34m\u001b[0m\u001b[0m\n\u001b[0m\u001b[1;32m     87\u001b[0m \u001b[0;34m\u001b[0m\u001b[0m\n\u001b[1;32m     88\u001b[0m \u001b[0;34m\u001b[0m\u001b[0m\n",
      "\u001b[0;31mValueError\u001b[0m: zero-size array to reduction operation minimum which has no identity"
     ]
    },
    {
     "data": {
      "image/png": "[encoded data removed]",
      "text/plain": [
       "<Figure size 1008x864 with 6 Axes>"
      ]
     },
     "metadata": {
      "image/png": {
       "height": 686,
       "width": 826
      },
      "needs_background": "light"
     },
     "output_type": "display_data"
    }
   ],
   "source": [
    "# Plot all incoherently time-averaged delay spectra\n",
    "fig, axes = plt.subplots(3, 2, figsize=(14,12), sharex=True, sharey=True, gridspec_kw={'wspace': 0, 'hspace': 0})\n",
    "ylim = (np.min(np.array(list(avg_norm_filled_spectra.values()))) / 10, \n",
    "        np.max(np.array(list(avg_norm_filled_spectra.values()))) * 2)\n",
    "\n",
    "for i, bl, ax in zip(range(len(avg_norm_filled_spectra)), avg_norm_filled_spectra, axes.flatten()):\n",
    "    ax.semilogy(F_filled.delays, avg_norm_filled_spectra[bl], label='DPSS Filled')\n",
    "    ax.semilogy(F_res.delays, avg_norm_res_spectra[bl], label='DPSS Residual')\n",
    "    ax.semilogy(F_res_filt.delays, avg_norm_res_filt_spectra[bl], label='DPSS Residual &\\nDPSS Crosstalk Filtered')    \n",
    "\n",
    "    ax.set_ylim(ylim)    \n",
    "    ax.set_xlabel('Delay (ns)')\n",
    "    ax.set_xlim([-1999, 1999])\n",
    "    if i % 2 == 0:\n",
    "        ax.set_ylabel('$|\\\\tilde{V}_{ij}|$ (Jy Hz)')    \n",
    "    delay_lines(ax, horizons[bl], delay_filter_half_width[bl])    \n",
    "    ax.legend(loc='upper left', title=bl)\n",
    "plt.tight_layout()"
   ]
  },
  {
   "cell_type": "markdown",
   "id": "09f65eac",
   "metadata": {},
   "source": [
    "### Figure 11: Delay Spectra, Incoherently Averaged Over The Night, of All Baselines at All Three Stages of Filtering After Coherently Time-Averaging and Forming Pseudo-Stokes I"
   ]
  },
  {
   "cell_type": "code",
   "execution_count": 51,
   "id": "33ced951",
   "metadata": {
    "ExecuteTime": {
     "start_time": "2022-04-29T19:45:42.866Z"
    },
    "execution": {
     "iopub.execute_input": "2022-05-28T21:45:53.177928Z",
     "iopub.status.busy": "2022-05-28T21:45:53.177153Z",
     "iopub.status.idle": "2022-05-28T21:45:53.432646Z",
     "shell.execute_reply": "2022-05-28T21:45:53.431649Z"
    }
   },
   "outputs": [
    {
     "name": "stdout",
     "output_type": "stream",
     "text": [
      "\n",
      "------------\n",
      "This file was produced by the function <module>() in 2408815014.py using: \n",
      "    git_branch: increased-filter-control\n",
      "    git_description: v3.0-1854-ge649ef1b\n",
      "    git_hash: e649ef1b980319c68e20d3536e0da97c405846df\n",
      "    git_origin: git@github.com:HERA-Team/hera_cal.git\n",
      "    version: 3.0\n",
      "------------\n",
      "\n"
     ]
    }
   ],
   "source": [
    "from hera_cal import version\n",
    "print(version.history_string())"
   ]
  },
  {
   "cell_type": "code",
   "execution_count": null,
   "id": "9b700196",
   "metadata": {},
   "outputs": [],
   "source": []
  }
 ],
 "metadata": {
  "kernelspec": {
   "display_name": "Python 3 (ipykernel)",
   "language": "python",
   "name": "python3"
  },
  "language_info": {
   "codemirror_mode": {
    "name": "ipython",
    "version": 3
   },
   "file_extension": ".py",
   "mimetype": "text/x-python",
   "name": "python",
   "nbconvert_exporter": "python",
   "pygments_lexer": "ipython3",
   "version": "3.9.7"
  },
  "toc": {
   "base_numbering": 1,
   "nav_menu": {},
   "number_sections": false,
   "sideBar": true,
   "skip_h1_title": false,
   "title_cell": "Table of Contents",
   "title_sidebar": "Contents",
   "toc_cell": false,
   "toc_position": {
    "height": "calc(100% - 180px)",
    "left": "10px",
    "top": "150px",
    "width": "165px"
   },
   "toc_section_display": true,
   "toc_window_display": false
  },
  "varInspector": {
   "cols": {
    "lenName": 16,
    "lenType": 16,
    "lenVar": 40
   },
   "kernels_config": {
    "python": {
     "delete_cmd_postfix": "",
     "delete_cmd_prefix": "del ",
     "library": "var_list.py",
     "varRefreshCmd": "print(var_dic_list())"
    },
    "r": {
     "delete_cmd_postfix": ") ",
     "delete_cmd_prefix": "rm(",
     "library": "var_list.r",
     "varRefreshCmd": "cat(var_dic_list()) "
    }
   },
   "types_to_exclude": [
    "module",
    "function",
    "builtin_function_or_method",
    "instance",
    "_Feature"
   ],
   "window_display": false
  }
 },
 "nbformat": 4,
 "nbformat_minor": 5
}
